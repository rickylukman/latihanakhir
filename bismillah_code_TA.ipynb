{
  "nbformat": 4,
  "nbformat_minor": 0,
  "metadata": {
    "colab": {
      "name": "bismillah code TA",
      "provenance": [],
      "collapsed_sections": []
    },
    "kernelspec": {
      "name": "python3",
      "display_name": "Python 3"
    }
  },
  "cells": [
    {
      "cell_type": "code",
      "metadata": {
        "colab": {
          "base_uri": "https://localhost:8080/"
        },
        "id": "GK82IHpiZxby",
        "outputId": "b5e6ed04-fa7a-4494-f1d5-d3298adce757"
      },
      "source": [
        "from google.colab import drive \r\n",
        "drive.mount('/content/drive')"
      ],
      "execution_count": null,
      "outputs": [
        {
          "output_type": "stream",
          "text": [
            "Mounted at /content/drive\n"
          ],
          "name": "stdout"
        }
      ]
    },
    {
      "cell_type": "code",
      "metadata": {
        "id": "LRFwL8WiaDls",
        "colab": {
          "base_uri": "https://localhost:8080/"
        },
        "outputId": "68ddd38f-a9ad-4420-dfa9-f7debebf7248"
      },
      "source": [
        "import pandas as pd\r\n",
        "import os\r\n",
        "import timeit\r\n",
        "import numpy as np\r\n",
        "from sklearn.feature_extraction.text import TfidfVectorizer\r\n",
        "from sklearn.neighbors import KNeighborsClassifier\r\n",
        "from sklearn.metrics import classification_report, confusion_matrix"
      ],
      "execution_count": null,
      "outputs": [
        {
          "output_type": "stream",
          "text": [
            "/usr/local/lib/python3.6/dist-packages/sklearn/externals/six.py:31: FutureWarning: The module is deprecated in version 0.21 and will be removed in version 0.23 since we've dropped support for Python 2.7. Please rely on the official version of six (https://pypi.org/project/six/).\n",
            "  \"(https://pypi.org/project/six/).\", FutureWarning)\n",
            "/usr/local/lib/python3.6/dist-packages/sklearn/utils/deprecation.py:144: FutureWarning: The sklearn.neighbors.base module is  deprecated in version 0.22 and will be removed in version 0.24. The corresponding classes / functions should instead be imported from sklearn.neighbors. Anything that cannot be imported from sklearn.neighbors is now part of the private API.\n",
            "  warnings.warn(message, FutureWarning)\n"
          ],
          "name": "stderr"
        }
      ]
    },
    {
      "cell_type": "code",
      "metadata": {
        "id": "Lt4SWIPDhece"
      },
      "source": [
        "df = pd.DataFrame(columns=['text','label'])\r\n",
        "folder = ['Budaya','Ekonomi','Entertaiment','Hukum','Kesehatan','Lifestyle',\r\n",
        "          'Otomotif','Pendidikan','Politik','Sport','Tekno','Wisata']"
      ],
      "execution_count": null,
      "outputs": []
    },
    {
      "cell_type": "code",
      "metadata": {
        "id": "Hn5RmxmIfWHu"
      },
      "source": [
        "def savetodf(all_files,folder,label):\r\n",
        "  dfn = pd.DataFrame(columns=['text','label'])\r\n",
        "  for i in range(len(all_files)):\r\n",
        "    path_txt_file = 'drive/MyDrive/AATABISMILLAH/Dataset/'+folder+'/'+all_files[i]\r\n",
        "    text = pd.read_fwf(path_txt_file, sep='\\n', header=None)[0].str.cat()\r\n",
        "    dfn.loc[i] = [text,label]\r\n",
        "  return dfn"
      ],
      "execution_count": null,
      "outputs": []
    },
    {
      "cell_type": "code",
      "metadata": {
        "colab": {
          "base_uri": "https://localhost:8080/"
        },
        "id": "Fqy_vWn-u950",
        "outputId": "098c98ac-c689-4aa8-ff4c-555a9a23c2d0"
      },
      "source": [
        "start = timeit.default_timer()          \r\n",
        "for i in range(len(folder)):\r\n",
        "  all_files = os.listdir(\"drive/MyDrive/AATABISMILLAH/Dataset/\"+folder[i]+\"/\")\r\n",
        "  label = int(i)\r\n",
        "  dfX = savetodf(all_files,folder[i],label)\r\n",
        "  frames = [df, dfX] \r\n",
        "  df = pd.concat(frames).drop_duplicates().reset_index(drop=True)\r\n",
        "stop = timeit.default_timer()\r\n",
        "lama_eksekusi = stop - start\r\n",
        "print(\"Lama eksekusi: \",lama_eksekusi,\"detik\")"
      ],
      "execution_count": null,
      "outputs": [
        {
          "output_type": "stream",
          "text": [
            "Lama eksekusi:  210.520203681 detik\n"
          ],
          "name": "stdout"
        }
      ]
    },
    {
      "cell_type": "code",
      "metadata": {
        "colab": {
          "base_uri": "https://localhost:8080/",
          "height": 204
        },
        "id": "wt6nw2kpavgg",
        "outputId": "e0af11e6-edb1-430c-ff12-e1f6475648ba"
      },
      "source": [
        "df.head()"
      ],
      "execution_count": null,
      "outputs": [
        {
          "output_type": "execute_result",
          "data": {
            "text/html": [
              "<div>\n",
              "<style scoped>\n",
              "    .dataframe tbody tr th:only-of-type {\n",
              "        vertical-align: middle;\n",
              "    }\n",
              "\n",
              "    .dataframe tbody tr th {\n",
              "        vertical-align: top;\n",
              "    }\n",
              "\n",
              "    .dataframe thead th {\n",
              "        text-align: right;\n",
              "    }\n",
              "</style>\n",
              "<table border=\"1\" class=\"dataframe\">\n",
              "  <thead>\n",
              "    <tr style=\"text-align: right;\">\n",
              "      <th></th>\n",
              "      <th>text</th>\n",
              "      <th>label</th>\n",
              "    </tr>\n",
              "  </thead>\n",
              "  <tbody>\n",
              "    <tr>\n",
              "      <th>0</th>\n",
              "      <td>Menpora Dukung Pianis Cilik asal Kendal yang I...</td>\n",
              "      <td>0</td>\n",
              "    </tr>\n",
              "    <tr>\n",
              "      <th>1</th>\n",
              "      <td>Puluhan Seniman Gelar Pameran Bersama �Peradab...</td>\n",
              "      <td>0</td>\n",
              "    </tr>\n",
              "    <tr>\n",
              "      <th>2</th>\n",
              "      <td>Budaya Indonesia Pudar karena Ulah Kita Sendir...</td>\n",
              "      <td>0</td>\n",
              "    </tr>\n",
              "    <tr>\n",
              "      <th>3</th>\n",
              "      <td>Merawat Pusaka TionghoaLie kim in. Tjia Gwan S...</td>\n",
              "      <td>0</td>\n",
              "    </tr>\n",
              "    <tr>\n",
              "      <th>4</th>\n",
              "      <td>Perilaku Berlalu Lintas yang Baik Perlu Dibent...</td>\n",
              "      <td>0</td>\n",
              "    </tr>\n",
              "  </tbody>\n",
              "</table>\n",
              "</div>"
            ],
            "text/plain": [
              "                                                text label\n",
              "0  Menpora Dukung Pianis Cilik asal Kendal yang I...     0\n",
              "1  Puluhan Seniman Gelar Pameran Bersama �Peradab...     0\n",
              "2  Budaya Indonesia Pudar karena Ulah Kita Sendir...     0\n",
              "3  Merawat Pusaka TionghoaLie kim in. Tjia Gwan S...     0\n",
              "4  Perilaku Berlalu Lintas yang Baik Perlu Dibent...     0"
            ]
          },
          "metadata": {
            "tags": []
          },
          "execution_count": 9
        }
      ]
    },
    {
      "cell_type": "code",
      "metadata": {
        "id": "q-Zssqk0jqA7"
      },
      "source": [
        "from sklearn.model_selection import train_test_split\r\n",
        "x_train, x_test, y_train, y_test = train_test_split(df['text'], df['label'], test_size=0.2, shuffle=True)"
      ],
      "execution_count": null,
      "outputs": []
    },
    {
      "cell_type": "code",
      "metadata": {
        "id": "nvO-aorQ0tuz"
      },
      "source": [
        "# Pembentukan tf-idf untuk pembobotan\r\n",
        "vectorizer = TfidfVectorizer()\r\n",
        "x_train = vectorizer.fit_transform(x_train)\r\n",
        "x_test = vectorizer.transform(x_test)"
      ],
      "execution_count": null,
      "outputs": []
    },
    {
      "cell_type": "code",
      "metadata": {
        "colab": {
          "base_uri": "https://localhost:8080/"
        },
        "id": "hsVSX7jk0v3d",
        "outputId": "d5627ec8-0cd1-4dc6-a755-78224831e217"
      },
      "source": [
        "y_train = y_train.astype('int')\r\n",
        "modelknn = KNeighborsClassifier(n_neighbors=5, weights='distance')\r\n",
        "modelknn.fit(x_train,y_train)"
      ],
      "execution_count": null,
      "outputs": [
        {
          "output_type": "execute_result",
          "data": {
            "text/plain": [
              "KNeighborsClassifier(algorithm='auto', leaf_size=30, metric='minkowski',\n",
              "                     metric_params=None, n_jobs=None, n_neighbors=5, p=2,\n",
              "                     weights='distance')"
            ]
          },
          "metadata": {
            "tags": []
          },
          "execution_count": 51
        }
      ]
    },
    {
      "cell_type": "code",
      "metadata": {
        "colab": {
          "base_uri": "https://localhost:8080/"
        },
        "id": "ELR4Xkyq03F8",
        "outputId": "647ec865-e93a-460a-f42f-799e280e9751"
      },
      "source": [
        "y_pred = modelknn.predict(x_test)\r\n",
        "y_pred"
      ],
      "execution_count": null,
      "outputs": [
        {
          "output_type": "execute_result",
          "data": {
            "text/plain": [
              "array([ 6,  2,  5,  6,  7,  3,  7,  0,  1,  8,  7,  3,  0, 10,  3,  0,  6,\n",
              "        5,  8,  8, 11,  5,  4,  4,  1,  4,  6,  2, 10, 10,  1,  7,  2, 11,\n",
              "        4,  9,  1,  7,  8,  9,  7,  9,  8, 10,  6,  1, 11,  6,  1, 11,  8,\n",
              "       11,  3, 10,  4,  9,  8,  0,  8, 11,  4, 11,  6,  2,  6,  4, 11,  8,\n",
              "        3,  8,  9,  4,  9,  0])"
            ]
          },
          "metadata": {
            "tags": []
          },
          "execution_count": 52
        }
      ]
    },
    {
      "cell_type": "code",
      "metadata": {
        "colab": {
          "base_uri": "https://localhost:8080/"
        },
        "id": "C9fVLZjI179n",
        "outputId": "db15fd98-92f6-42cf-90b7-16acbde09260"
      },
      "source": [
        "modelknn.predict_proba(x_test)"
      ],
      "execution_count": null,
      "outputs": [
        {
          "output_type": "execute_result",
          "data": {
            "text/plain": [
              "array([[0.        , 0.        , 0.        , 0.        , 0.        ,\n",
              "        0.        , 1.        , 0.        , 0.        , 0.        ,\n",
              "        0.        , 0.        ],\n",
              "       [0.19595893, 0.        , 0.59001019, 0.        , 0.        ,\n",
              "        0.21403087, 0.        , 0.        , 0.        , 0.        ,\n",
              "        0.        , 0.        ],\n",
              "       [0.        , 0.        , 0.        , 0.        , 0.        ,\n",
              "        0.60047867, 0.        , 0.        , 0.        , 0.        ,\n",
              "        0.19926839, 0.20025294],\n",
              "       [0.        , 0.        , 0.        , 0.19600645, 0.        ,\n",
              "        0.        , 0.60938785, 0.        , 0.        , 0.        ,\n",
              "        0.        , 0.1946057 ],\n",
              "       [0.        , 0.        , 0.        , 0.        , 0.        ,\n",
              "        0.        , 0.        , 0.40232011, 0.        , 0.39847123,\n",
              "        0.19920866, 0.        ],\n",
              "       [0.        , 0.        , 0.        , 0.60414539, 0.        ,\n",
              "        0.        , 0.        , 0.        , 0.        , 0.39585461,\n",
              "        0.        , 0.        ],\n",
              "       [0.        , 0.1981117 , 0.        , 0.19666337, 0.        ,\n",
              "        0.        , 0.        , 0.40152193, 0.        , 0.        ,\n",
              "        0.203703  , 0.        ],\n",
              "       [0.59872687, 0.        , 0.        , 0.        , 0.        ,\n",
              "        0.20227344, 0.        , 0.        , 0.        , 0.        ,\n",
              "        0.        , 0.1989997 ],\n",
              "       [0.        , 0.80813492, 0.        , 0.        , 0.        ,\n",
              "        0.19186508, 0.        , 0.        , 0.        , 0.        ,\n",
              "        0.        , 0.        ],\n",
              "       [0.        , 0.        , 0.        , 0.        , 0.        ,\n",
              "        0.19774206, 0.        , 0.20117181, 0.60108614, 0.        ,\n",
              "        0.        , 0.        ],\n",
              "       [0.20106404, 0.        , 0.        , 0.        , 0.        ,\n",
              "        0.        , 0.        , 0.79893596, 0.        , 0.        ,\n",
              "        0.        , 0.        ],\n",
              "       [0.        , 0.20258065, 0.19787631, 0.20866571, 0.        ,\n",
              "        0.19546708, 0.        , 0.        , 0.        , 0.19541025,\n",
              "        0.        , 0.        ],\n",
              "       [0.40257148, 0.        , 0.39992995, 0.        , 0.        ,\n",
              "        0.        , 0.        , 0.        , 0.19749857, 0.        ,\n",
              "        0.        , 0.        ],\n",
              "       [0.        , 0.        , 0.        , 0.        , 0.        ,\n",
              "        0.        , 0.20157448, 0.        , 0.        , 0.        ,\n",
              "        0.79842552, 0.        ],\n",
              "       [0.19526938, 0.        , 0.        , 0.80473062, 0.        ,\n",
              "        0.        , 0.        , 0.        , 0.        , 0.        ,\n",
              "        0.        , 0.        ],\n",
              "       [0.200422  , 0.        , 0.        , 0.        , 0.        ,\n",
              "        0.        , 0.20004427, 0.20032303, 0.20001526, 0.19919545,\n",
              "        0.        , 0.        ],\n",
              "       [0.        , 0.        , 0.        , 0.        , 0.        ,\n",
              "        0.        , 0.84264502, 0.        , 0.        , 0.15735498,\n",
              "        0.        , 0.        ],\n",
              "       [0.        , 0.        , 0.19947361, 0.        , 0.        ,\n",
              "        0.40036478, 0.        , 0.1997535 , 0.        , 0.        ,\n",
              "        0.20040811, 0.        ],\n",
              "       [0.        , 0.        , 0.21195059, 0.        , 0.        ,\n",
              "        0.        , 0.        , 0.        , 0.78804941, 0.        ,\n",
              "        0.        , 0.        ],\n",
              "       [0.        , 0.        , 0.        , 0.        , 0.        ,\n",
              "        0.        , 0.        , 0.        , 0.60855069, 0.        ,\n",
              "        0.        , 0.39144931],\n",
              "       [0.19884581, 0.        , 0.        , 0.20164442, 0.19738695,\n",
              "        0.        , 0.        , 0.        , 0.        , 0.        ,\n",
              "        0.19958208, 0.20254074],\n",
              "       [0.        , 0.        , 0.        , 0.        , 0.        ,\n",
              "        1.        , 0.        , 0.        , 0.        , 0.        ,\n",
              "        0.        , 0.        ],\n",
              "       [0.        , 0.19397017, 0.        , 0.        , 0.41410785,\n",
              "        0.19483325, 0.        , 0.        , 0.        , 0.        ,\n",
              "        0.        , 0.19708874],\n",
              "       [0.        , 0.        , 0.        , 0.        , 0.80126374,\n",
              "        0.19873626, 0.        , 0.        , 0.        , 0.        ,\n",
              "        0.        , 0.        ],\n",
              "       [0.        , 0.62530656, 0.        , 0.        , 0.        ,\n",
              "        0.18712489, 0.        , 0.        , 0.        , 0.        ,\n",
              "        0.18756854, 0.        ],\n",
              "       [0.        , 0.        , 0.        , 0.        , 0.80137929,\n",
              "        0.19862071, 0.        , 0.        , 0.        , 0.        ,\n",
              "        0.        , 0.        ],\n",
              "       [0.19808991, 0.        , 0.        , 0.        , 0.        ,\n",
              "        0.19816877, 0.60374132, 0.        , 0.        , 0.        ,\n",
              "        0.        , 0.        ],\n",
              "       [0.20444507, 0.        , 0.39830948, 0.        , 0.        ,\n",
              "        0.20022022, 0.        , 0.        , 0.        , 0.        ,\n",
              "        0.19702523, 0.        ],\n",
              "       [0.16884481, 0.        , 0.        , 0.        , 0.        ,\n",
              "        0.        , 0.        , 0.        , 0.16809757, 0.        ,\n",
              "        0.66305762, 0.        ],\n",
              "       [0.18313806, 0.23736778, 0.        , 0.        , 0.        ,\n",
              "        0.        , 0.        , 0.        , 0.        , 0.        ,\n",
              "        0.57949415, 0.        ],\n",
              "       [0.        , 0.40036861, 0.        , 0.        , 0.20077609,\n",
              "        0.        , 0.        , 0.        , 0.        , 0.        ,\n",
              "        0.        , 0.3988553 ],\n",
              "       [0.        , 0.        , 0.        , 0.        , 0.        ,\n",
              "        0.        , 0.        , 1.        , 0.        , 0.        ,\n",
              "        0.        , 0.        ],\n",
              "       [0.19232392, 0.        , 0.80767608, 0.        , 0.        ,\n",
              "        0.        , 0.        , 0.        , 0.        , 0.        ,\n",
              "        0.        , 0.        ],\n",
              "       [0.        , 0.        , 0.        , 0.        , 0.        ,\n",
              "        0.        , 0.        , 0.        , 0.        , 0.        ,\n",
              "        0.        , 1.        ],\n",
              "       [0.19676879, 0.        , 0.        , 0.20588837, 0.3948957 ,\n",
              "        0.20244713, 0.        , 0.        , 0.        , 0.        ,\n",
              "        0.        , 0.        ],\n",
              "       [0.19872282, 0.        , 0.        , 0.        , 0.        ,\n",
              "        0.        , 0.        , 0.20074288, 0.        , 0.40234502,\n",
              "        0.19818928, 0.        ],\n",
              "       [0.19128433, 0.41085374, 0.19573033, 0.        , 0.        ,\n",
              "        0.2021316 , 0.        , 0.        , 0.        , 0.        ,\n",
              "        0.        , 0.        ],\n",
              "       [0.39806165, 0.        , 0.        , 0.        , 0.        ,\n",
              "        0.        , 0.        , 0.40263111, 0.19930724, 0.        ,\n",
              "        0.        , 0.        ],\n",
              "       [0.19983854, 0.        , 0.19946992, 0.        , 0.        ,\n",
              "        0.        , 0.        , 0.        , 0.40139936, 0.19929217,\n",
              "        0.        , 0.        ],\n",
              "       [0.        , 0.19680796, 0.        , 0.        , 0.        ,\n",
              "        0.19339417, 0.        , 0.        , 0.        , 0.60979788,\n",
              "        0.        , 0.        ],\n",
              "       [0.        , 0.        , 0.        , 0.        , 0.19039735,\n",
              "        0.        , 0.        , 0.80960265, 0.        , 0.        ,\n",
              "        0.        , 0.        ],\n",
              "       [0.        , 0.        , 0.        , 0.        , 0.        ,\n",
              "        0.39602242, 0.        , 0.        , 0.        , 0.4037559 ,\n",
              "        0.20022168, 0.        ],\n",
              "       [0.19123017, 0.        , 0.39252834, 0.        , 0.        ,\n",
              "        0.        , 0.        , 0.        , 0.41624149, 0.        ,\n",
              "        0.        , 0.        ],\n",
              "       [0.        , 0.19940878, 0.        , 0.        , 0.20068419,\n",
              "        0.        , 0.        , 0.19779412, 0.        , 0.        ,\n",
              "        0.2041327 , 0.19798021],\n",
              "       [0.        , 0.        , 0.        , 0.        , 0.        ,\n",
              "        0.        , 1.        , 0.        , 0.        , 0.        ,\n",
              "        0.        , 0.        ],\n",
              "       [0.20580486, 0.38628928, 0.        , 0.21762561, 0.        ,\n",
              "        0.        , 0.        , 0.19028024, 0.        , 0.        ,\n",
              "        0.        , 0.        ],\n",
              "       [0.19818049, 0.20331977, 0.        , 0.        , 0.20052596,\n",
              "        0.        , 0.        , 0.        , 0.        , 0.        ,\n",
              "        0.        , 0.39797378],\n",
              "       [0.        , 0.        , 0.        , 0.        , 0.        ,\n",
              "        0.        , 1.        , 0.        , 0.        , 0.        ,\n",
              "        0.        , 0.        ],\n",
              "       [0.        , 0.59861708, 0.        , 0.        , 0.        ,\n",
              "        0.        , 0.19708179, 0.        , 0.        , 0.        ,\n",
              "        0.20430113, 0.        ],\n",
              "       [0.        , 0.        , 0.        , 0.        , 0.        ,\n",
              "        0.        , 0.        , 0.18472295, 0.23220017, 0.        ,\n",
              "        0.        , 0.58307687],\n",
              "       [0.        , 0.        , 0.        , 0.        , 0.        ,\n",
              "        0.        , 0.        , 0.        , 0.56048401, 0.43951599,\n",
              "        0.        , 0.        ],\n",
              "       [0.        , 0.        , 0.        , 0.        , 0.        ,\n",
              "        0.        , 0.        , 0.        , 0.        , 0.        ,\n",
              "        0.1989189 , 0.8010811 ],\n",
              "       [0.        , 0.        , 0.        , 0.600981  , 0.        ,\n",
              "        0.        , 0.20028162, 0.        , 0.        , 0.        ,\n",
              "        0.        , 0.19873738],\n",
              "       [0.        , 0.        , 0.        , 0.        , 0.        ,\n",
              "        0.        , 0.40006612, 0.        , 0.        , 0.19945573,\n",
              "        0.40047815, 0.        ],\n",
              "       [0.        , 0.        , 0.        , 0.        , 0.80601045,\n",
              "        0.        , 0.        , 0.19398955, 0.        , 0.        ,\n",
              "        0.        , 0.        ],\n",
              "       [0.        , 0.        , 0.        , 0.        , 0.        ,\n",
              "        0.        , 0.17201701, 0.        , 0.        , 0.82798299,\n",
              "        0.        , 0.        ],\n",
              "       [0.        , 0.        , 0.        , 0.        , 0.        ,\n",
              "        0.        , 0.        , 0.19903291, 0.80096709, 0.        ,\n",
              "        0.        , 0.        ],\n",
              "       [0.59855998, 0.        , 0.        , 0.        , 0.        ,\n",
              "        0.        , 0.        , 0.        , 0.        , 0.20203616,\n",
              "        0.        , 0.19940386],\n",
              "       [0.19693449, 0.        , 0.        , 0.        , 0.        ,\n",
              "        0.        , 0.        , 0.        , 0.80306551, 0.        ,\n",
              "        0.        , 0.        ],\n",
              "       [0.        , 0.2099027 , 0.        , 0.        , 0.19332798,\n",
              "        0.        , 0.        , 0.        , 0.        , 0.        ,\n",
              "        0.        , 0.59676932],\n",
              "       [0.        , 0.        , 0.        , 0.        , 0.5987046 ,\n",
              "        0.4012954 , 0.        , 0.        , 0.        , 0.        ,\n",
              "        0.        , 0.        ],\n",
              "       [0.19935971, 0.        , 0.39313605, 0.        , 0.        ,\n",
              "        0.        , 0.        , 0.        , 0.        , 0.        ,\n",
              "        0.        , 0.40750424],\n",
              "       [0.        , 0.        , 0.        , 0.        , 0.        ,\n",
              "        0.        , 0.60557512, 0.        , 0.19727171, 0.19715317,\n",
              "        0.        , 0.        ],\n",
              "       [0.        , 0.        , 1.        , 0.        , 0.        ,\n",
              "        0.        , 0.        , 0.        , 0.        , 0.        ,\n",
              "        0.        , 0.        ],\n",
              "       [0.        , 0.        , 0.        , 0.        , 0.        ,\n",
              "        0.        , 0.8049573 , 0.        , 0.        , 0.        ,\n",
              "        0.1950427 , 0.        ],\n",
              "       [0.20000564, 0.        , 0.        , 0.19967618, 0.39851049,\n",
              "        0.20180768, 0.        , 0.        , 0.        , 0.        ,\n",
              "        0.        , 0.        ],\n",
              "       [0.        , 0.19952947, 0.        , 0.        , 0.        ,\n",
              "        0.        , 0.        , 0.        , 0.        , 0.20045594,\n",
              "        0.19964328, 0.4003713 ],\n",
              "       [0.        , 0.37711206, 0.        , 0.18769755, 0.        ,\n",
              "        0.        , 0.        , 0.        , 0.43519039, 0.        ,\n",
              "        0.        , 0.        ],\n",
              "       [0.17402755, 0.        , 0.        , 0.82597245, 0.        ,\n",
              "        0.        , 0.        , 0.        , 0.        , 0.        ,\n",
              "        0.        , 0.        ],\n",
              "       [0.        , 0.        , 0.        , 0.18075952, 0.        ,\n",
              "        0.        , 0.        , 0.        , 0.63518168, 0.        ,\n",
              "        0.1840588 , 0.        ],\n",
              "       [0.        , 0.19808825, 0.        , 0.        , 0.        ,\n",
              "        0.        , 0.22061503, 0.        , 0.        , 0.38855985,\n",
              "        0.        , 0.19273687],\n",
              "       [0.        , 0.19912527, 0.        , 0.        , 0.60400216,\n",
              "        0.        , 0.        , 0.        , 0.        , 0.        ,\n",
              "        0.        , 0.19687257],\n",
              "       [0.        , 0.        , 0.        , 0.        , 0.39882612,\n",
              "        0.        , 0.        , 0.        , 0.        , 0.60117388,\n",
              "        0.        , 0.        ],\n",
              "       [0.39461207, 0.        , 0.        , 0.        , 0.        ,\n",
              "        0.19655405, 0.        , 0.        , 0.21284147, 0.        ,\n",
              "        0.        , 0.19599241]])"
            ]
          },
          "metadata": {
            "tags": []
          },
          "execution_count": 53
        }
      ]
    },
    {
      "cell_type": "code",
      "metadata": {
        "colab": {
          "base_uri": "https://localhost:8080/"
        },
        "id": "eiZfTz7zwepA",
        "outputId": "c661dee3-09cc-4171-aefa-4a553272c09c"
      },
      "source": [
        "y_test"
      ],
      "execution_count": null,
      "outputs": [
        {
          "output_type": "execute_result",
          "data": {
            "text/plain": [
              "42      1\n",
              "75      2\n",
              "150     5\n",
              "209     6\n",
              "293     9\n",
              "       ..\n",
              "265     8\n",
              "181     6\n",
              "345    11\n",
              "135     4\n",
              "355    11\n",
              "Name: label, Length: 74, dtype: object"
            ]
          },
          "metadata": {
            "tags": []
          },
          "execution_count": 54
        }
      ]
    },
    {
      "cell_type": "code",
      "metadata": {
        "colab": {
          "base_uri": "https://localhost:8080/"
        },
        "id": "N7PuX766wyD3",
        "outputId": "b362003f-4860-4f58-dcc2-0cf72921d498"
      },
      "source": [
        "yy = np.array(y_test.values.tolist())\r\n",
        "print(yy)"
      ],
      "execution_count": null,
      "outputs": [
        {
          "output_type": "stream",
          "text": [
            "[ 1  2  5  6  9  3  1  5  1  5  7  2  0 10  8 10  6  4  8  8 11  5  4  4\n",
            "  1  4  6  5 10 10  1  7  2 11  4  9  5  7  8  9  0 10  8 10  6  3 11  6\n",
            " 11  3  9 11  6 10  4  9  8  0  3  1  5  2  6  2  6  4 11  1  3  8  6 11\n",
            "  4 11]\n"
          ],
          "name": "stdout"
        }
      ]
    },
    {
      "cell_type": "code",
      "metadata": {
        "colab": {
          "base_uri": "https://localhost:8080/"
        },
        "id": "-cPKXI9TwhdE",
        "outputId": "fe56c921-3ef5-4dce-beed-e17d5a85ecf6"
      },
      "source": [
        "y_pred"
      ],
      "execution_count": null,
      "outputs": [
        {
          "output_type": "execute_result",
          "data": {
            "text/plain": [
              "array([ 6,  2,  5,  6,  7,  3,  7,  0,  1,  8,  7,  3,  0, 10,  3,  0,  6,\n",
              "        5,  8,  8, 11,  5,  4,  4,  1,  4,  6,  2, 10, 10,  1,  7,  2, 11,\n",
              "        4,  9,  1,  7,  8,  9,  7,  9,  8, 10,  6,  1, 11,  6,  1, 11,  8,\n",
              "       11,  3, 10,  4,  9,  8,  0,  8, 11,  4, 11,  6,  2,  6,  4, 11,  8,\n",
              "        3,  8,  9,  4,  9,  0])"
            ]
          },
          "metadata": {
            "tags": []
          },
          "execution_count": 56
        }
      ]
    },
    {
      "cell_type": "code",
      "metadata": {
        "colab": {
          "base_uri": "https://localhost:8080/"
        },
        "id": "3szWOs2Ff6aD",
        "outputId": "28e75431-b0b7-44f9-c893-f348ae289e91"
      },
      "source": [
        "print(confusion_matrix(yy, y_pred))"
      ],
      "execution_count": null,
      "outputs": [
        {
          "output_type": "stream",
          "text": [
            "[[2 0 0 0 0 0 0 1 0 0 0 0]\n",
            " [0 3 0 0 0 0 1 1 1 0 0 1]\n",
            " [0 0 3 1 0 0 0 0 0 0 0 1]\n",
            " [0 1 0 2 0 0 0 0 1 0 0 1]\n",
            " [0 0 0 0 6 1 0 0 0 1 0 0]\n",
            " [1 1 1 0 1 2 0 0 1 0 0 0]\n",
            " [0 0 0 1 0 0 7 0 0 1 0 0]\n",
            " [0 0 0 0 0 0 0 3 0 0 0 0]\n",
            " [0 0 0 1 0 0 0 0 6 0 0 0]\n",
            " [0 0 0 0 0 0 0 1 1 3 0 0]\n",
            " [1 0 0 0 0 0 0 0 0 1 5 0]\n",
            " [1 1 0 0 1 0 0 0 0 0 0 5]]\n"
          ],
          "name": "stdout"
        }
      ]
    },
    {
      "cell_type": "code",
      "metadata": {
        "colab": {
          "base_uri": "https://localhost:8080/"
        },
        "id": "PTQP8xZqf9vM",
        "outputId": "bb60c5a3-73dc-4047-a9c5-61bae22f516d"
      },
      "source": [
        "print(classification_report(yy,y_pred))"
      ],
      "execution_count": null,
      "outputs": [
        {
          "output_type": "stream",
          "text": [
            "              precision    recall  f1-score   support\n",
            "\n",
            "           0       0.40      0.67      0.50         3\n",
            "           1       0.50      0.43      0.46         7\n",
            "           2       0.75      0.60      0.67         5\n",
            "           3       0.40      0.40      0.40         5\n",
            "           4       0.75      0.75      0.75         8\n",
            "           5       0.67      0.29      0.40         7\n",
            "           6       0.88      0.78      0.82         9\n",
            "           7       0.50      1.00      0.67         3\n",
            "           8       0.60      0.86      0.71         7\n",
            "           9       0.50      0.60      0.55         5\n",
            "          10       1.00      0.71      0.83         7\n",
            "          11       0.62      0.62      0.62         8\n",
            "\n",
            "    accuracy                           0.64        74\n",
            "   macro avg       0.63      0.64      0.61        74\n",
            "weighted avg       0.66      0.64      0.63        74\n",
            "\n"
          ],
          "name": "stdout"
        }
      ]
    },
    {
      "cell_type": "code",
      "metadata": {
        "id": "4ZQ6zW_o2eLn"
      },
      "source": [
        ""
      ],
      "execution_count": null,
      "outputs": []
    }
  ]
}