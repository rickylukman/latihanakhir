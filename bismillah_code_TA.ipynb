{
  "nbformat": 4,
  "nbformat_minor": 0,
  "metadata": {
    "colab": {
      "name": "bismillah code TA",
      "provenance": [],
      "collapsed_sections": [],
      "authorship_tag": "ABX9TyOigGqBezV7nqfTKUuNLtjt",
      "include_colab_link": true
    },
    "kernelspec": {
      "name": "python3",
      "display_name": "Python 3"
    }
  },
  "cells": [
    {
      "cell_type": "markdown",
      "metadata": {
        "id": "view-in-github",
        "colab_type": "text"
      },
      "source": [
        "<a href=\"https://colab.research.google.com/github/rickylukman/latihanakhir/blob/main/bismillah_code_TA.ipynb\" target=\"_parent\"><img src=\"https://colab.research.google.com/assets/colab-badge.svg\" alt=\"Open In Colab\"/></a>"
      ]
    },
    {
      "cell_type": "code",
      "metadata": {
        "colab": {
          "base_uri": "https://localhost:8080/"
        },
        "id": "GK82IHpiZxby",
        "outputId": "c5bbb73c-7534-4e98-d826-44eb6b6ad864"
      },
      "source": [
        "from google.colab import drive \r\n",
        "drive.mount('/content/drive')"
      ],
      "execution_count": null,
      "outputs": [
        {
          "output_type": "stream",
          "text": [
            "Drive already mounted at /content/drive; to attempt to forcibly remount, call drive.mount(\"/content/drive\", force_remount=True).\n"
          ],
          "name": "stdout"
        }
      ]
    },
    {
      "cell_type": "code",
      "metadata": {
        "id": "LRFwL8WiaDls"
      },
      "source": [
        "import pandas as pd\r\n",
        "import os\r\n",
        "import timeit\r\n",
        "import numpy as np\r\n",
        "from sklearn.feature_extraction.text import TfidfVectorizer\r\n",
        "from sklearn.neighbors import KNeighborsClassifier\r\n",
        "from sklearn.metrics import classification_report, confusion_matrix"
      ],
      "execution_count": null,
      "outputs": []
    },
    {
      "cell_type": "code",
      "metadata": {
        "id": "Lt4SWIPDhece"
      },
      "source": [
        "df = pd.DataFrame(columns=['text','label'])\r\n",
        "folder = ['Budaya','Ekonomi','Entertaiment','Hukum','Kesehatan','Lifestyle',\r\n",
        "          'Otomotif','Pendidikan','Politik','Sport','Tekno','Wisata']"
      ],
      "execution_count": null,
      "outputs": []
    },
    {
      "cell_type": "code",
      "metadata": {
        "id": "Hn5RmxmIfWHu"
      },
      "source": [
        "def savetodf(all_files,folder,label):\r\n",
        "  dfn = pd.DataFrame(columns=['text','label'])\r\n",
        "  for i in range(len(all_files)):\r\n",
        "    path_txt_file = 'drive/MyDrive/AATABISMILLAH/Dataset/'+folder+'/'+all_files[i]\r\n",
        "    text = pd.read_fwf(path_txt_file, sep='\\n', header=None)[0].str.cat()\r\n",
        "    dfn.loc[i] = [text,label]\r\n",
        "  return dfn"
      ],
      "execution_count": null,
      "outputs": []
    },
    {
      "cell_type": "code",
      "metadata": {
        "colab": {
          "base_uri": "https://localhost:8080/"
        },
        "id": "Fqy_vWn-u950",
        "outputId": "425015e0-0e1a-4fb0-d19b-ad38264392d2"
      },
      "source": [
        "start = timeit.default_timer()          \r\n",
        "for i in range(len(folder)):\r\n",
        "  all_files = os.listdir(\"drive/MyDrive/AATABISMILLAH/Dataset/\"+folder[i]+\"/\")\r\n",
        "  label = int(i)\r\n",
        "  dfX = savetodf(all_files,folder[i],label)\r\n",
        "  frames = [df, dfX] \r\n",
        "  df = pd.concat(frames).drop_duplicates().reset_index(drop=True)\r\n",
        "stop = timeit.default_timer()\r\n",
        "lama_eksekusi = stop - start\r\n",
        "print(\"Lama eksekusi: \",lama_eksekusi,\"detik\")"
      ],
      "execution_count": null,
      "outputs": [
        {
          "output_type": "stream",
          "text": [
            "Lama eksekusi:  125.90874734200003 detik\n"
          ],
          "name": "stdout"
        }
      ]
    },
    {
      "cell_type": "code",
      "metadata": {
        "colab": {
          "base_uri": "https://localhost:8080/",
          "height": 204
        },
        "id": "wt6nw2kpavgg",
        "outputId": "a9109682-079e-41f6-93ff-2a25c8d837d1"
      },
      "source": [
        "df.head()"
      ],
      "execution_count": null,
      "outputs": [
        {
          "output_type": "execute_result",
          "data": {
            "text/html": [
              "<div>\n",
              "<style scoped>\n",
              "    .dataframe tbody tr th:only-of-type {\n",
              "        vertical-align: middle;\n",
              "    }\n",
              "\n",
              "    .dataframe tbody tr th {\n",
              "        vertical-align: top;\n",
              "    }\n",
              "\n",
              "    .dataframe thead th {\n",
              "        text-align: right;\n",
              "    }\n",
              "</style>\n",
              "<table border=\"1\" class=\"dataframe\">\n",
              "  <thead>\n",
              "    <tr style=\"text-align: right;\">\n",
              "      <th></th>\n",
              "      <th>text</th>\n",
              "      <th>label</th>\n",
              "    </tr>\n",
              "  </thead>\n",
              "  <tbody>\n",
              "    <tr>\n",
              "      <th>0</th>\n",
              "      <td>Menpora Dukung Pianis Cilik asal Kendal yang I...</td>\n",
              "      <td>0</td>\n",
              "    </tr>\n",
              "    <tr>\n",
              "      <th>1</th>\n",
              "      <td>Puluhan Seniman Gelar Pameran Bersama �Peradab...</td>\n",
              "      <td>0</td>\n",
              "    </tr>\n",
              "    <tr>\n",
              "      <th>2</th>\n",
              "      <td>Budaya Indonesia Pudar karena Ulah Kita Sendir...</td>\n",
              "      <td>0</td>\n",
              "    </tr>\n",
              "    <tr>\n",
              "      <th>3</th>\n",
              "      <td>Merawat Pusaka TionghoaLie kim in. Tjia Gwan S...</td>\n",
              "      <td>0</td>\n",
              "    </tr>\n",
              "    <tr>\n",
              "      <th>4</th>\n",
              "      <td>Perilaku Berlalu Lintas yang Baik Perlu Dibent...</td>\n",
              "      <td>0</td>\n",
              "    </tr>\n",
              "  </tbody>\n",
              "</table>\n",
              "</div>"
            ],
            "text/plain": [
              "                                                text label\n",
              "0  Menpora Dukung Pianis Cilik asal Kendal yang I...     0\n",
              "1  Puluhan Seniman Gelar Pameran Bersama �Peradab...     0\n",
              "2  Budaya Indonesia Pudar karena Ulah Kita Sendir...     0\n",
              "3  Merawat Pusaka TionghoaLie kim in. Tjia Gwan S...     0\n",
              "4  Perilaku Berlalu Lintas yang Baik Perlu Dibent...     0"
            ]
          },
          "metadata": {
            "tags": []
          },
          "execution_count": 7
        }
      ]
    },
    {
      "cell_type": "code",
      "metadata": {
        "id": "q-Zssqk0jqA7"
      },
      "source": [
        "from sklearn.model_selection import train_test_split\r\n",
        "x_train, x_test, y_train, y_test = train_test_split(df['text'], df['label'], test_size=0.2, shuffle=True)"
      ],
      "execution_count": null,
      "outputs": []
    },
    {
      "cell_type": "code",
      "metadata": {
        "id": "nvO-aorQ0tuz"
      },
      "source": [
        "# Pembentukan tf-idf untuk pembobotan\r\n",
        "vectorizer = TfidfVectorizer()\r\n",
        "x_train = vectorizer.fit_transform(x_train)\r\n",
        "x_test = vectorizer.transform(x_test)"
      ],
      "execution_count": null,
      "outputs": []
    },
    {
      "cell_type": "code",
      "metadata": {
        "colab": {
          "base_uri": "https://localhost:8080/"
        },
        "id": "hsVSX7jk0v3d",
        "outputId": "e8f35235-669b-478f-b359-e1c2662106e0"
      },
      "source": [
        "y_train = y_train.astype('int')\r\n",
        "modelknn = KNeighborsClassifier(n_neighbors=5, weights='distance')\r\n",
        "modelknn.fit(x_train,y_train)"
      ],
      "execution_count": null,
      "outputs": [
        {
          "output_type": "execute_result",
          "data": {
            "text/plain": [
              "KNeighborsClassifier(algorithm='auto', leaf_size=30, metric='minkowski',\n",
              "                     metric_params=None, n_jobs=None, n_neighbors=5, p=2,\n",
              "                     weights='distance')"
            ]
          },
          "metadata": {
            "tags": []
          },
          "execution_count": 10
        }
      ]
    },
    {
      "cell_type": "code",
      "metadata": {
        "colab": {
          "base_uri": "https://localhost:8080/"
        },
        "id": "ELR4Xkyq03F8",
        "outputId": "e7fea7f0-f9c0-4699-ad4a-21826d149920"
      },
      "source": [
        "y_pred = modelknn.predict(x_test)\r\n",
        "y_pred"
      ],
      "execution_count": null,
      "outputs": [
        {
          "output_type": "execute_result",
          "data": {
            "text/plain": [
              "array([ 8,  6,  7,  1, 11, 10,  6,  6,  5,  5,  4,  5,  8,  4,  5,  0,  8,\n",
              "        4,  9,  3,  2,  6,  9,  4, 11,  0,  3, 11,  6,  5, 10, 10,  1, 11,\n",
              "        8,  2,  9,  5,  1,  2, 10,  6,  7,  8,  8, 11,  5,  0,  7,  1,  2,\n",
              "        9, 11,  3,  7,  9,  8,  4,  7,  7,  5,  6,  7,  7,  2,  8, 11,  7,\n",
              "       11,  8,  7,  6, 11,  3])"
            ]
          },
          "metadata": {
            "tags": []
          },
          "execution_count": 11
        }
      ]
    },
    {
      "cell_type": "code",
      "metadata": {
        "colab": {
          "base_uri": "https://localhost:8080/"
        },
        "id": "C9fVLZjI179n",
        "outputId": "bf9748bf-d084-48a3-f704-b6808e8d8909"
      },
      "source": [
        "modelknn.predict_proba(x_test)"
      ],
      "execution_count": null,
      "outputs": [
        {
          "output_type": "execute_result",
          "data": {
            "text/plain": [
              "array([[0.        , 0.        , 0.        , 0.        , 0.        ,\n",
              "        0.        , 0.        , 0.        , 1.        , 0.        ,\n",
              "        0.        , 0.        ],\n",
              "       [0.        , 0.19836103, 0.        , 0.        , 0.        ,\n",
              "        0.        , 0.41220073, 0.        , 0.        , 0.38943824,\n",
              "        0.        , 0.        ],\n",
              "       [0.        , 0.        , 0.        , 0.        , 0.        ,\n",
              "        0.        , 0.        , 0.80251851, 0.19748149, 0.        ,\n",
              "        0.        , 0.        ],\n",
              "       [0.        , 0.61771876, 0.        , 0.38228124, 0.        ,\n",
              "        0.        , 0.        , 0.        , 0.        , 0.        ,\n",
              "        0.        , 0.        ],\n",
              "       [0.        , 0.        , 0.20292804, 0.        , 0.        ,\n",
              "        0.        , 0.        , 0.        , 0.        , 0.        ,\n",
              "        0.        , 0.79707196],\n",
              "       [0.        , 0.        , 0.        , 0.        , 0.        ,\n",
              "        0.        , 0.20200978, 0.        , 0.        , 0.        ,\n",
              "        0.79799022, 0.        ],\n",
              "       [0.        , 0.        , 0.        , 0.        , 0.        ,\n",
              "        0.        , 1.        , 0.        , 0.        , 0.        ,\n",
              "        0.        , 0.        ],\n",
              "       [0.        , 0.        , 0.        , 0.19764534, 0.19581187,\n",
              "        0.        , 0.41068219, 0.        , 0.        , 0.        ,\n",
              "        0.        , 0.1958606 ],\n",
              "       [0.        , 0.        , 0.19309453, 0.        , 0.        ,\n",
              "        0.60283887, 0.        , 0.2040666 , 0.        , 0.        ,\n",
              "        0.        , 0.        ],\n",
              "       [0.        , 0.        , 0.        , 0.        , 0.        ,\n",
              "        0.82432541, 0.        , 0.        , 0.        , 0.        ,\n",
              "        0.        , 0.17567459],\n",
              "       [0.19696053, 0.        , 0.        , 0.20146169, 0.39745348,\n",
              "        0.2041243 , 0.        , 0.        , 0.        , 0.        ,\n",
              "        0.        , 0.        ],\n",
              "       [0.        , 0.        , 0.        , 0.        , 0.20171167,\n",
              "        0.79828833, 0.        , 0.        , 0.        , 0.        ,\n",
              "        0.        , 0.        ],\n",
              "       [0.        , 0.        , 0.20479857, 0.        , 0.        ,\n",
              "        0.        , 0.        , 0.        , 0.79520143, 0.        ,\n",
              "        0.        , 0.        ],\n",
              "       [0.        , 0.        , 0.        , 0.        , 0.64422671,\n",
              "        0.17926768, 0.        , 0.        , 0.        , 0.        ,\n",
              "        0.        , 0.17650561],\n",
              "       [0.        , 0.39874454, 0.        , 0.        , 0.19915668,\n",
              "        0.40209877, 0.        , 0.        , 0.        , 0.        ,\n",
              "        0.        , 0.        ],\n",
              "       [0.41920986, 0.        , 0.        , 0.        , 0.        ,\n",
              "        0.        , 0.        , 0.19676986, 0.38402028, 0.        ,\n",
              "        0.        , 0.        ],\n",
              "       [0.1996635 , 0.19697526, 0.        , 0.        , 0.        ,\n",
              "        0.200822  , 0.        , 0.        , 0.20492481, 0.        ,\n",
              "        0.19761443, 0.        ],\n",
              "       [0.        , 0.        , 0.        , 0.        , 0.80594213,\n",
              "        0.19405787, 0.        , 0.        , 0.        , 0.        ,\n",
              "        0.        , 0.        ],\n",
              "       [0.        , 0.21820873, 0.        , 0.        , 0.        ,\n",
              "        0.        , 0.        , 0.        , 0.1919039 , 0.39657825,\n",
              "        0.        , 0.19330912],\n",
              "       [0.        , 0.        , 0.        , 0.40517308, 0.39682498,\n",
              "        0.19800194, 0.        , 0.        , 0.        , 0.        ,\n",
              "        0.        , 0.        ],\n",
              "       [0.        , 0.        , 0.20812359, 0.19530452, 0.        ,\n",
              "        0.        , 0.        , 0.19538739, 0.20611495, 0.        ,\n",
              "        0.        , 0.19506955],\n",
              "       [0.        , 0.        , 0.        , 0.        , 0.        ,\n",
              "        0.        , 0.80866343, 0.        , 0.        , 0.19133657,\n",
              "        0.        , 0.        ],\n",
              "       [0.        , 0.18477284, 0.        , 0.        , 0.        ,\n",
              "        0.        , 0.18790648, 0.        , 0.        , 0.62732068,\n",
              "        0.        , 0.        ],\n",
              "       [0.        , 0.        , 0.        , 0.        , 0.61103875,\n",
              "        0.19312648, 0.        , 0.19583477, 0.        , 0.        ,\n",
              "        0.        , 0.        ],\n",
              "       [0.        , 0.        , 0.        , 0.        , 0.        ,\n",
              "        0.        , 0.        , 0.        , 0.        , 0.20095349,\n",
              "        0.        , 0.79904651],\n",
              "       [0.4060896 , 0.        , 0.        , 0.19807146, 0.        ,\n",
              "        0.        , 0.19795984, 0.        , 0.        , 0.        ,\n",
              "        0.        , 0.1978791 ],\n",
              "       [0.        , 0.        , 0.        , 0.79887416, 0.        ,\n",
              "        0.        , 0.20112584, 0.        , 0.        , 0.        ,\n",
              "        0.        , 0.        ],\n",
              "       [0.19877798, 0.        , 0.        , 0.        , 0.        ,\n",
              "        0.        , 0.        , 0.        , 0.        , 0.        ,\n",
              "        0.19907273, 0.60214929],\n",
              "       [0.        , 0.        , 0.        , 0.18956209, 0.        ,\n",
              "        0.        , 0.61889793, 0.        , 0.        , 0.19153998,\n",
              "        0.        , 0.        ],\n",
              "       [0.        , 0.        , 0.20541689, 0.        , 0.        ,\n",
              "        0.79458311, 0.        , 0.        , 0.        , 0.        ,\n",
              "        0.        , 0.        ],\n",
              "       [0.        , 0.        , 0.        , 0.        , 0.        ,\n",
              "        0.        , 0.        , 0.        , 0.        , 0.        ,\n",
              "        1.        , 0.        ],\n",
              "       [0.        , 0.19660206, 0.        , 0.        , 0.        ,\n",
              "        0.        , 0.        , 0.        , 0.        , 0.        ,\n",
              "        0.80339794, 0.        ],\n",
              "       [0.21032932, 0.39595229, 0.        , 0.        , 0.        ,\n",
              "        0.        , 0.        , 0.19689359, 0.        , 0.1968248 ,\n",
              "        0.        , 0.        ],\n",
              "       [0.        , 0.        , 0.        , 0.22859213, 0.        ,\n",
              "        0.        , 0.17747615, 0.        , 0.21801719, 0.        ,\n",
              "        0.        , 0.37591453],\n",
              "       [0.        , 0.        , 0.        , 0.        , 0.19694182,\n",
              "        0.        , 0.        , 0.        , 0.80305818, 0.        ,\n",
              "        0.        , 0.        ],\n",
              "       [0.        , 0.        , 1.        , 0.        , 0.        ,\n",
              "        0.        , 0.        , 0.        , 0.        , 0.        ,\n",
              "        0.        , 0.        ],\n",
              "       [0.        , 0.        , 0.        , 0.        , 0.        ,\n",
              "        0.        , 0.        , 0.        , 0.        , 1.        ,\n",
              "        0.        , 0.        ],\n",
              "       [0.        , 0.        , 0.        , 0.        , 0.20107466,\n",
              "        0.79892534, 0.        , 0.        , 0.        , 0.        ,\n",
              "        0.        , 0.        ],\n",
              "       [0.        , 0.80678871, 0.        , 0.        , 0.        ,\n",
              "        0.19321129, 0.        , 0.        , 0.        , 0.        ,\n",
              "        0.        , 0.        ],\n",
              "       [0.        , 0.        , 1.        , 0.        , 0.        ,\n",
              "        0.        , 0.        , 0.        , 0.        , 0.        ,\n",
              "        0.        , 0.        ],\n",
              "       [0.        , 0.        , 0.        , 0.19933376, 0.19903074,\n",
              "        0.        , 0.        , 0.        , 0.        , 0.19899742,\n",
              "        0.20390649, 0.19873158],\n",
              "       [0.        , 0.19752898, 0.        , 0.2015095 , 0.19587603,\n",
              "        0.        , 0.20936782, 0.        , 0.        , 0.        ,\n",
              "        0.        , 0.19571767],\n",
              "       [0.3950726 , 0.        , 0.        , 0.        , 0.        ,\n",
              "        0.208037  , 0.        , 0.3968904 , 0.        , 0.        ,\n",
              "        0.        , 0.        ],\n",
              "       [0.1995666 , 0.        , 0.19913463, 0.        , 0.        ,\n",
              "        0.        , 0.        , 0.        , 0.40121781, 0.20008096,\n",
              "        0.        , 0.        ],\n",
              "       [0.20252812, 0.        , 0.38263106, 0.        , 0.        ,\n",
              "        0.        , 0.        , 0.        , 0.41484082, 0.        ,\n",
              "        0.        , 0.        ],\n",
              "       [0.        , 0.40812979, 0.        , 0.        , 0.        ,\n",
              "        0.        , 0.        , 0.        , 0.        , 0.        ,\n",
              "        0.        , 0.59187021],\n",
              "       [0.        , 0.        , 0.        , 0.        , 0.20361013,\n",
              "        0.5998091 , 0.        , 0.        , 0.        , 0.        ,\n",
              "        0.        , 0.19658077],\n",
              "       [0.60019451, 0.        , 0.        , 0.        , 0.        ,\n",
              "        0.19946843, 0.        , 0.        , 0.        , 0.        ,\n",
              "        0.        , 0.20033706],\n",
              "       [0.        , 0.19893089, 0.19648843, 0.        , 0.        ,\n",
              "        0.        , 0.19762605, 0.40695463, 0.        , 0.        ,\n",
              "        0.        , 0.        ],\n",
              "       [0.        , 0.62579249, 0.        , 0.        , 0.        ,\n",
              "        0.18687103, 0.        , 0.        , 0.        , 0.        ,\n",
              "        0.18733648, 0.        ],\n",
              "       [0.19994984, 0.        , 0.40077911, 0.        , 0.        ,\n",
              "        0.        , 0.        , 0.39927105, 0.        , 0.        ,\n",
              "        0.        , 0.        ],\n",
              "       [0.        , 0.19857642, 0.        , 0.        , 0.        ,\n",
              "        0.1978168 , 0.        , 0.        , 0.        , 0.40379704,\n",
              "        0.19980974, 0.        ],\n",
              "       [0.        , 0.39635702, 0.        , 0.        , 0.        ,\n",
              "        0.        , 0.        , 0.        , 0.        , 0.        ,\n",
              "        0.20225123, 0.40139175],\n",
              "       [0.        , 0.        , 0.        , 1.        , 0.        ,\n",
              "        0.        , 0.        , 0.        , 0.        , 0.        ,\n",
              "        0.        , 0.        ],\n",
              "       [0.        , 0.18962879, 0.        , 0.        , 0.        ,\n",
              "        0.        , 0.        , 0.42947548, 0.38089574, 0.        ,\n",
              "        0.        , 0.        ],\n",
              "       [0.        , 0.        , 0.37081105, 0.19138592, 0.        ,\n",
              "        0.        , 0.        , 0.        , 0.        , 0.43780303,\n",
              "        0.        , 0.        ],\n",
              "       [0.        , 0.        , 0.        , 0.19947473, 0.        ,\n",
              "        0.1988036 , 0.        , 0.20367589, 0.39804578, 0.        ,\n",
              "        0.        , 0.        ],\n",
              "       [0.        , 0.        , 0.        , 0.        , 0.80242292,\n",
              "        0.19757708, 0.        , 0.        , 0.        , 0.        ,\n",
              "        0.        , 0.        ],\n",
              "       [0.        , 0.        , 0.        , 0.        , 0.        ,\n",
              "        0.        , 0.        , 0.80254014, 0.        , 0.        ,\n",
              "        0.        , 0.19745986],\n",
              "       [0.        , 0.        , 0.        , 0.        , 0.        ,\n",
              "        0.        , 0.        , 1.        , 0.        , 0.        ,\n",
              "        0.        , 0.        ],\n",
              "       [0.        , 0.39946118, 0.        , 0.        , 0.        ,\n",
              "        0.60053882, 0.        , 0.        , 0.        , 0.        ,\n",
              "        0.        , 0.        ],\n",
              "       [0.        , 0.19861643, 0.        , 0.        , 0.        ,\n",
              "        0.        , 0.80138357, 0.        , 0.        , 0.        ,\n",
              "        0.        , 0.        ],\n",
              "       [0.        , 0.20040041, 0.        , 0.19855865, 0.        ,\n",
              "        0.        , 0.        , 0.40220859, 0.19883235, 0.        ,\n",
              "        0.        , 0.        ],\n",
              "       [0.        , 0.        , 0.        , 0.        , 0.        ,\n",
              "        0.20019874, 0.        , 0.39734125, 0.        , 0.20318803,\n",
              "        0.        , 0.19927199],\n",
              "       [0.19956288, 0.19573665, 0.40599599, 0.        , 0.        ,\n",
              "        0.        , 0.        , 0.        , 0.        , 0.        ,\n",
              "        0.        , 0.19870448],\n",
              "       [0.        , 0.        , 0.        , 0.        , 0.        ,\n",
              "        0.20470511, 0.        , 0.19559887, 0.59969601, 0.        ,\n",
              "        0.        , 0.        ],\n",
              "       [0.        , 0.        , 0.        , 0.21857456, 0.        ,\n",
              "        0.        , 0.        , 0.        , 0.1996831 , 0.        ,\n",
              "        0.        , 0.58174234],\n",
              "       [0.        , 0.        , 0.        , 0.        , 0.        ,\n",
              "        0.22681513, 0.        , 0.77318487, 0.        , 0.        ,\n",
              "        0.        , 0.        ],\n",
              "       [0.19764694, 0.        , 0.        , 0.        , 0.        ,\n",
              "        0.        , 0.        , 0.19735276, 0.        , 0.        ,\n",
              "        0.        , 0.6050003 ],\n",
              "       [0.        , 0.        , 0.20965236, 0.        , 0.        ,\n",
              "        0.        , 0.        , 0.        , 0.79034764, 0.        ,\n",
              "        0.        , 0.        ],\n",
              "       [0.        , 0.        , 0.        , 0.        , 0.        ,\n",
              "        0.        , 0.        , 0.79799729, 0.20200271, 0.        ,\n",
              "        0.        , 0.        ],\n",
              "       [0.        , 0.        , 0.        , 0.        , 0.        ,\n",
              "        0.        , 1.        , 0.        , 0.        , 0.        ,\n",
              "        0.        , 0.        ],\n",
              "       [0.        , 0.        , 0.        , 0.        , 0.        ,\n",
              "        0.        , 0.        , 0.        , 0.        , 0.        ,\n",
              "        0.        , 1.        ],\n",
              "       [0.        , 0.        , 0.20137506, 0.40152218, 0.        ,\n",
              "        0.        , 0.        , 0.        , 0.19986974, 0.        ,\n",
              "        0.        , 0.19723302]])"
            ]
          },
          "metadata": {
            "tags": []
          },
          "execution_count": 12
        }
      ]
    },
    {
      "cell_type": "code",
      "metadata": {
        "colab": {
          "base_uri": "https://localhost:8080/"
        },
        "id": "eiZfTz7zwepA",
        "outputId": "d019d259-3b81-4a13-96c4-85cf45bd2922"
      },
      "source": [
        "y_test"
      ],
      "execution_count": null,
      "outputs": [
        {
          "output_type": "execute_result",
          "data": {
            "text/plain": [
              "259    8\n",
              "181    6\n",
              "217    7\n",
              "55     1\n",
              "7      0\n",
              "Name: label, dtype: object"
            ]
          },
          "metadata": {
            "tags": []
          },
          "execution_count": 23
        }
      ]
    },
    {
      "cell_type": "code",
      "metadata": {
        "colab": {
          "base_uri": "https://localhost:8080/"
        },
        "id": "N7PuX766wyD3",
        "outputId": "00b7968a-7f07-458f-9a4f-c3b81dfe19ee"
      },
      "source": [
        "yy = np.array(y_test.values.tolist())\r\n",
        "print(yy)\r\n",
        "# arrcob = []\r\n",
        "# for i in range(len(y_test)):\r\n",
        "#   arrcob.append(y_test.loc[i])\r\n",
        "# print(arrcob)"
      ],
      "execution_count": null,
      "outputs": [
        {
          "output_type": "stream",
          "text": [
            "[ 8  6  7  1  0 10  6  6  5  4  7  5  8  5  5  0  0  4  0  3  0  6  9  4\n",
            " 11  0  3 11  6  2 10  1  1  8  3  2  9  5  1  2 10  6  0  8  8 11  4  5\n",
            "  3  1  7 10 11  3  7  9  4  4  7  7  5  6  7  0  5  8 11  7 11  8  8  6\n",
            " 11  3]\n"
          ],
          "name": "stdout"
        }
      ]
    },
    {
      "cell_type": "code",
      "metadata": {
        "colab": {
          "base_uri": "https://localhost:8080/"
        },
        "id": "-cPKXI9TwhdE",
        "outputId": "03657f86-6049-4ec8-f3a7-0c364118c7e7"
      },
      "source": [
        "y_pred"
      ],
      "execution_count": null,
      "outputs": [
        {
          "output_type": "execute_result",
          "data": {
            "text/plain": [
              "array([ 8,  6,  7,  1, 11, 10,  6,  6,  5,  5,  4,  5,  8,  4,  5,  0,  8,\n",
              "        4,  9,  3,  2,  6,  9,  4, 11,  0,  3, 11,  6,  5, 10, 10,  1, 11,\n",
              "        8,  2,  9,  5,  1,  2, 10,  6,  7,  8,  8, 11,  5,  0,  7,  1,  2,\n",
              "        9, 11,  3,  7,  9,  8,  4,  7,  7,  5,  6,  7,  7,  2,  8, 11,  7,\n",
              "       11,  8,  7,  6, 11,  3])"
            ]
          },
          "metadata": {
            "tags": []
          },
          "execution_count": 15
        }
      ]
    },
    {
      "cell_type": "code",
      "metadata": {
        "colab": {
          "base_uri": "https://localhost:8080/"
        },
        "id": "3szWOs2Ff6aD",
        "outputId": "e08a8cc1-a188-4c3c-b9b9-f6edb10ccc97"
      },
      "source": [
        "print(confusion_matrix(yy, y_pred))"
      ],
      "execution_count": null,
      "outputs": [
        {
          "output_type": "stream",
          "text": [
            "[[2 0 1 0 0 0 0 2 1 1 0 1]\n",
            " [0 4 0 0 0 0 0 0 0 0 1 0]\n",
            " [0 0 2 0 0 1 0 0 0 0 0 0]\n",
            " [0 0 0 4 0 0 0 1 1 0 0 0]\n",
            " [0 0 0 0 3 2 0 0 1 0 0 0]\n",
            " [1 0 1 0 1 5 0 0 0 0 0 0]\n",
            " [0 0 0 0 0 0 8 0 0 0 0 0]\n",
            " [0 0 1 0 1 0 0 6 0 0 0 0]\n",
            " [0 0 0 0 0 0 0 1 6 0 0 1]\n",
            " [0 0 0 0 0 0 0 0 0 3 0 0]\n",
            " [0 0 0 0 0 0 0 0 0 1 3 0]\n",
            " [0 0 0 0 0 0 0 0 0 0 0 7]]\n"
          ],
          "name": "stdout"
        }
      ]
    },
    {
      "cell_type": "code",
      "metadata": {
        "colab": {
          "base_uri": "https://localhost:8080/"
        },
        "id": "PTQP8xZqf9vM",
        "outputId": "f608fa6f-6ab5-49e7-bd89-6a94b444e85c"
      },
      "source": [
        "print(classification_report(yy,y_pred))"
      ],
      "execution_count": null,
      "outputs": [
        {
          "output_type": "stream",
          "text": [
            "              precision    recall  f1-score   support\n",
            "\n",
            "           0       0.67      0.25      0.36         8\n",
            "           1       1.00      0.80      0.89         5\n",
            "           2       0.40      0.67      0.50         3\n",
            "           3       1.00      0.67      0.80         6\n",
            "           4       0.60      0.50      0.55         6\n",
            "           5       0.62      0.62      0.62         8\n",
            "           6       1.00      1.00      1.00         8\n",
            "           7       0.60      0.75      0.67         8\n",
            "           8       0.67      0.75      0.71         8\n",
            "           9       0.60      1.00      0.75         3\n",
            "          10       0.75      0.75      0.75         4\n",
            "          11       0.78      1.00      0.88         7\n",
            "\n",
            "    accuracy                           0.72        74\n",
            "   macro avg       0.72      0.73      0.71        74\n",
            "weighted avg       0.74      0.72      0.71        74\n",
            "\n"
          ],
          "name": "stdout"
        }
      ]
    },
    {
      "cell_type": "code",
      "metadata": {
        "id": "4ZQ6zW_o2eLn"
      },
      "source": [
        ""
      ],
      "execution_count": null,
      "outputs": []
    }
  ]
}