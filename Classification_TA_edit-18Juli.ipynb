{
  "nbformat": 4,
  "nbformat_minor": 0,
  "metadata": {
    "colab": {
      "name": "Classification_TA_edit",
      "provenance": [],
      "collapsed_sections": [
        "blf3NTvY8a_O",
        "4_mcO5zRkpxH"
      ]
    },
    "kernelspec": {
      "display_name": "Python 3",
      "name": "python3"
    },
    "language_info": {
      "name": "python"
    }
  },
  "cells": [
    {
      "cell_type": "code",
      "metadata": {
        "id": "CoRH21HEcsJT"
      },
      "source": [
        "import pandas as pd\n",
        "import time\n",
        "import joblib\n",
        "import matplotlib.pyplot as plt\n",
        "import numpy as np\n",
        "from sklearn.feature_extraction.text import TfidfVectorizer, CountVectorizer, TfidfTransformer\n",
        "from sklearn.feature_selection import SelectKBest, chi2\n",
        "from sklearn.model_selection import train_test_split, KFold, cross_val_score,cross_val_predict\n",
        "from sklearn.neighbors import KNeighborsClassifier, DistanceMetric\n",
        "from sklearn.metrics import classification_report, confusion_matrix, precision_score, recall_score, f1_score\n",
        "import matplotlib.pyplot as plt"
      ],
      "execution_count": null,
      "outputs": []
    },
    {
      "cell_type": "code",
      "metadata": {
        "id": "dd5q5FwXdX33"
      },
      "source": [
        "def split(strt,fnsh,df):\n",
        "    X_test = df['text'].iloc[strt:fnsh+1]\n",
        "    y_test = df['label'].iloc[strt:fnsh+1].astype('int')\n",
        "    df = df.drop(df.index[strt:fnsh])\n",
        "    X_train = df['text']\n",
        "    y_train = df['label'].astype('int')\n",
        "    return X_train, X_test, y_train, y_test"
      ],
      "execution_count": null,
      "outputs": []
    },
    {
      "cell_type": "markdown",
      "metadata": {
        "id": "yzP7ljg9NUb8"
      },
      "source": [
        "## CobaBaru"
      ]
    },
    {
      "cell_type": "code",
      "metadata": {
        "id": "QQO9PhxPOUGG"
      },
      "source": [
        "def cari_conf(cm):\n",
        "  FP = cm.sum(axis=0) - np.diag(cm)  \n",
        "  FN = cm.sum(axis=1) - np.diag(cm)\n",
        "  TP = np.diag(cm)\n",
        "  TN = cm.sum() - (FP + FN + TP)\n",
        "  return TP,FP,FN,TN"
      ],
      "execution_count": null,
      "outputs": []
    },
    {
      "cell_type": "code",
      "metadata": {
        "id": "f1IAhVI5NWBT"
      },
      "source": [
        "def classi_perk(df,distance_name,k_neighbor):\n",
        "  print(\"Nama distance=\",distance_name)\n",
        "  print(\"Jumlah K tetangga=\",k_neighbor)\n",
        "  X = df['text']\n",
        "  y = df['label'].astype('int')\n",
        "  vectorizer = TfidfVectorizer(min_df=3, dtype=np.double, norm='l2', sublinear_tf=True)\n",
        "  X = vectorizer.fit_transform(X)\n",
        "\n",
        "  modelknn = KNeighborsClassifier(n_neighbors=k_neighbor, weights='distance', metric=distance_name)\n",
        "  y_pred = cross_val_predict(modelknn, X, y, cv=10)\n",
        "  conf_mat = confusion_matrix(y, y_pred)\n",
        "  report = classification_report(y, y_pred)\n",
        "  # print(conf_mat)\n",
        "  TP,FP,FN,TN = cari_conf(conf_mat)\n",
        "  # print(\"TP:\",TP,\"TOTAL:\",sum(TP))\n",
        "  # print(\"FP:\",FP,\"TOTAL:\",sum(FP))\n",
        "  # print(\"FN:\",FN,\"TOTAL:\",sum(FN))\n",
        "  # print(\"TN:\",TN,\"TOTAL:\",sum(TN))\n",
        "  akur,presi,rekal = [],[],[]\n",
        "  for i in range(len(TP)):\n",
        "    a = TP[i]/90\n",
        "    bp = TP[i]+FP[i]\n",
        "    if bp != 0:\n",
        "      p = TP[i]/bp\n",
        "    else:\n",
        "      p = 0\n",
        "    br = TP[i]+FN[i]\n",
        "    if br != 0:\n",
        "      r = TP[i]/br\n",
        "    else:\n",
        "      r = 0\n",
        "    akur.append(a)\n",
        "    presi.append(p)\n",
        "    rekal.append(r)\n",
        "  print(report)\n",
        "  a1=sum(akur)/12\n",
        "  p1=sum(presi)/12\n",
        "  r1=sum(rekal)/12\n",
        "  f1=(2*p1*r1)/(p1+r1)\n",
        "  print(\"akurasi=\",\"{:.4f}\".format(a1),\n",
        "        \"presisi=\",\"{:.4f}\".format(p1),\n",
        "        \"recall=\",\"{:.4f}\".format(r1),\n",
        "        \"f1=\",\"{:.4f}\".format(f1))\n",
        "  return a1"
      ],
      "execution_count": null,
      "outputs": []
    },
    {
      "cell_type": "markdown",
      "metadata": {
        "id": "blf3NTvY8a_O"
      },
      "source": [
        "## CLASSIFER"
      ]
    },
    {
      "cell_type": "code",
      "metadata": {
        "id": "kl2zytvvTdql"
      },
      "source": [
        "def get_detail(df_conf_matrix):\n",
        "  a1,p1,r1,f1 = [],[],[],[]\n",
        "  tp,fp,fn,tn = 0,0,0,0\n",
        "  for i in range(df_conf_matrix.shape[0]):\n",
        "      TP = df_conf_matrix.iloc[i,i]\n",
        "      FP = df_conf_matrix.iloc[i,:].sum()- TP\n",
        "      FN = df_conf_matrix.iloc[:,i].sum()- TP\n",
        "      TN = df_conf_matrix.sum().sum()- TP-FP-FN\n",
        "      # print(TP,FP,FN,TN)\n",
        "      tp = tp+TP\n",
        "      fp = fp+FP\n",
        "      fn = fn+FN\n",
        "      tn = tn+TN\n",
        "      Acc = (TP+TN)/df_conf_matrix.sum().sum()\n",
        "      Precision = TP/(TP+FP)\n",
        "      if np.isnan(Precision):\n",
        "        Precision = 0\n",
        "      Recall = TP/(TP+FN)\n",
        "      if np.isnan(Recall):\n",
        "        Recall = 0\n",
        "      F1_score = (2 * Precision *Recall)/(Precision+Recall)\n",
        "      if np.isnan(F1_score):\n",
        "        F1_score = 0\n",
        "      a1.append(Acc)\n",
        "      p1.append(Precision)\n",
        "      r1.append(Recall)\n",
        "      f1.append(F1_score)\n",
        "      # print(df_conf_matrix.index[i],Acc,Precision,Recall,F1_score)\n",
        "  # print(tp,fp,fn,tn)\n",
        "  total_a1 = sum(a1)/12\n",
        "  total_p1 = sum(p1)/12\n",
        "  total_r1 = sum(r1)/12\n",
        "  print(\"perfold=\",total_a1,total_p1,total_r1)\n",
        "  return tp,fp,fn,tn"
      ],
      "execution_count": null,
      "outputs": []
    },
    {
      "cell_type": "code",
      "metadata": {
        "id": "idUkfPnKdb1j"
      },
      "source": [
        "def classifier(df,distance_name,k_neighbor):\n",
        "    print(\"Nama distance=\",distance_name)\n",
        "    print(\"Jumlah K tetangga=\",k_neighbor)\n",
        "    # spl = [0,108,216,324,432,540,648,756,864,972,1080]\n",
        "    # spl = [0,216,432,648,864,1080]\n",
        "    tempspl,acc_score,pre_score,rec_score,f_score = [],[],[],[],[]\n",
        "    TP,FP,FN,TN = [],[],[],[]\n",
        "    i = 0\n",
        "    akurasimax=0\n",
        "    kf = KFold(n_splits=10)\n",
        "    for train_index, test_index in kf.split(df):\n",
        "        dfX = df\n",
        "        X_train, X_test, y_train, y_test = split(test_index[0],test_index[len(test_index)-1],dfX)\n",
        "\n",
        "#     while (i<len(spl)-1):\n",
        "# #         --------------Split-------------------\n",
        "#         if len(spl)-2 != len(tempspl):\n",
        "#             X_train, X_test, y_train, y_test = split(spl[i],spl[i+2],df)\n",
        "#             tempspl.append(spl[i])\n",
        "#     #   ketika array[i+2] == null (looping terakhir)\n",
        "#         elif (len(spl)-len(tempspl)) == 2:\n",
        "#     #       split last and first\n",
        "#             X_test1 = df['text'].iloc[spl[i]:spl[i+1]]\n",
        "#             y_test1 = df['label'].iloc[spl[i]:spl[i+1]].astype('int')\n",
        "#             X_test2 = df['text'].iloc[tempspl[0]:tempspl[1]]\n",
        "#             y_test2 = df['label'].iloc[tempspl[0]:tempspl[1]].astype('int')\n",
        "#     #       concat last and first\n",
        "#             X_test = pd.concat([X_test1, X_test2], axis=0)\n",
        "#             y_test = pd.concat([y_test1, y_test2], axis=0)\n",
        "#     #       split except last and first\n",
        "#             X_train = df['text'].iloc[tempspl[1]:tempspl[len(tempspl)-1]]\n",
        "#             y_train = df['label'].iloc[tempspl[1]:tempspl[len(tempspl)-1]].astype('int')\n",
        "        \n",
        "#         --------------Pembobotan TF-ID-------------------\n",
        "        vectorizer = TfidfVectorizer(min_df=3, dtype=np.double, norm='l2', sublinear_tf=True)\n",
        "        # vectorizer = TfidfVectorizer()\n",
        "        X_train = vectorizer.fit_transform(X_train)\n",
        "        X_test = vectorizer.transform(X_test)\n",
        "\n",
        "#         --------------CLasifier KNN-------------------        \n",
        "        modelknn = KNeighborsClassifier(n_neighbors=k_neighbor, weights='distance', metric=distance_name)\n",
        "        modelknn.fit(X_train,y_train)\n",
        "        y_pred = modelknn.predict(X_test)\n",
        "#         --------------Confusion Matrix----------------\n",
        "        df_conf_matrix = pd.DataFrame(confusion_matrix(y_test, y_pred))\n",
        "        tp,fp,fn,tn = get_detail(df_conf_matrix)\n",
        "        TP.append(tp)\n",
        "        FP.append(fp)\n",
        "        FN.append(fn)\n",
        "        TN.append(tn)\n",
        "\n",
        "        akurasi = modelknn.score(X_test, y_test)\n",
        "        precision = precision_score(y_test,y_pred,average='weighted')\n",
        "        recall = recall_score(y_test, y_pred, average='weighted')\n",
        "        f1score = f1_score(y_test, y_pred, average='weighted')\n",
        "        acc_score.append(akurasi)\n",
        "        pre_score.append(precision)\n",
        "        rec_score.append(recall)\n",
        "        f_score.append(f1score)\n",
        "        print(\"Fold ke-\",i+1,\"Akurasi =\",\"{:.4f}\".format(akurasi),\n",
        "              \"Precision =\",\"{:.4f}\".format(precision),\n",
        "              \"Recall =\",\"{:.4f}\".format(recall),\n",
        "              \"F1-Score =\",\"{:.4f}\".format(f1score))\n",
        "        # if (k_neighbor >= 13):\n",
        "        #   print(classification_report(y_test,y_pred))\n",
        "        if (akurasi >= akurasimax):\n",
        "            akurasimax = akurasi\n",
        "            foldke = i+1\n",
        "        i+=1\n",
        "    avg_acc_score = sum(acc_score)/10\n",
        "    avg_precision_score = sum(pre_score)/10\n",
        "    avg_recall_score = sum(rec_score)/10\n",
        "    avg_f1_score = sum(f_score)/10\n",
        "\n",
        "    akur,presi,rekal = [],[],[]\n",
        "    for i in range(len(TP)):\n",
        "      a = TP[i]/90\n",
        "      bp = TP[i]+FP[i]\n",
        "      p = TP[i]/bp\n",
        "      br = TP[i]+FN[i]\n",
        "      r = TP[i]/br\n",
        "      akur.append(a)\n",
        "      presi.append(p)\n",
        "      rekal.append(r)\n",
        "    print(\"TP:\",TP,\"TOTAL:\",sum(TP))\n",
        "    print(\"FP:\",FP,\"TOTAL:\",sum(FP))\n",
        "    print(\"FN:\",FN,\"TOTAL:\",sum(FN))\n",
        "    print(\"TN:\",TN,\"TOTAL:\",sum(TN))\n",
        "    a1=sum(akur)/12\n",
        "    p1=sum(presi)/10\n",
        "    r1=sum(rekal)/10\n",
        "    f1=(2*p1*r1)/(p1+r1)\n",
        "    print(a1,p1,r1,f1)\n",
        "\n",
        "    # a1 = sum(TP)/1080\n",
        "    # p1 = sum(TP)/(sum(TP)+sum(FP))\n",
        "    # r1 = sum(TP)/(sum(TP)+sum(FN))\n",
        "    # f1 = (2*p1*r1)/(p1+r1)\n",
        "\n",
        "\n",
        "    print(\"Avg accuracyTP =\",\"{:.4f}\".format(a1),\n",
        "          \"Avg accuracy =\",\"{:.4f}\".format(avg_acc_score))\n",
        "    print(\"Avg precisionTP=\",\"{:.4f}\".format(p1),\n",
        "          \"Avg precision=\",\"{:.4f}\".format(avg_precision_score))\n",
        "    print(\"Avg recallTP=\",\"{:.4f}\".format(r1),\n",
        "          \"Avg recall=\",\"{:.4f}\".format(avg_recall_score))\n",
        "    print(\"Avg f1TP=\",\"{:.4f}\".format(f1),\n",
        "          \"Avg f1=\",\"{:.4f}\".format(avg_f1_score))\n",
        "    # print(\"Avg accuracy =\",\"{:.4f}\".format(avg_acc_score),\n",
        "    #       \"Avg precision=\",\"{:.4f}\".format(avg_precision_score),\n",
        "    #       \"Avg recall=\",\"{:.4f}\".format(avg_recall_score),\n",
        "    #       \"Avg f1 Score=\",\"{:.4f}\".format(avg_f1_score))\n",
        "    # print(\"Akurasi terbaik adalah\",akurasimax,\"pada fold ke-\",foldke)\n",
        "    print(\"------------------------------------\")\n",
        "    return avg_acc_score"
      ],
      "execution_count": null,
      "outputs": []
    },
    {
      "cell_type": "markdown",
      "metadata": {
        "id": "N43jAGsF02QA"
      },
      "source": [
        "## sastrawiSW"
      ]
    },
    {
      "cell_type": "code",
      "metadata": {
        "colab": {
          "base_uri": "https://localhost:8080/"
        },
        "id": "yfu9tiJfdg_G",
        "outputId": "8982906c-a8c8-4a99-9b9b-ea1d93c04eb0"
      },
      "source": [
        "%%time\n",
        "df = pd.read_pickle('drive/MyDrive/AATABISMILLAH/NewDataset/preprocess_SWsastrawi_stemming.pkl')\n",
        "dfNo = pd.read_pickle('drive/MyDrive/AATABISMILLAH/NewDataset/preprocess_SWsastrawi_nostemming.pkl')\n",
        "start_time = time.time()\n",
        "dfcount = [df,dfNo]\n",
        "# cosine\n",
        "distancecount = ['euclidean','manhattan','cosine']\n",
        "# distancecount = ['euclidean']\n",
        "kcount = [1,3,5,7,9,11,13,15]\n",
        "# kcount = [11]\n",
        "for x in range(2):\n",
        "    arrd1 = []\n",
        "    arrd2 = []\n",
        "    arrd3 = []\n",
        "    for y in range(len(distancecount)):\n",
        "        maxresult = []\n",
        "        for z in range(len(kcount)):\n",
        "            if x==0:\n",
        "                print('Dengan Stemming')\n",
        "            else:\n",
        "                print('Tanpa Stemming')\n",
        "            tempmax = classi_perk(dfcount[x],distancecount[y],kcount[z])\n",
        "            maxresult.append(tempmax)\n",
        "            if y==0:\n",
        "                arrd1.append(tempmax)\n",
        "            elif y==1:\n",
        "                arrd2.append(tempmax)\n",
        "            elif y==2:\n",
        "                arrd3.append(tempmax)\n",
        "#         tapi fold yang dipakai beda beda\n",
        "#     plt.plot(kcount, arrd1, label = \"euclidean\")\n",
        "#     plt.plot(kcount, arrd2, label = \"manhattan\")\n",
        "#     plt.plot(kcount, arrd3, label = \"cosine\")\n",
        "#     plt.xticks(kcount)\n",
        "#     if x==0:\n",
        "#         plt.title(\"Stemming\")\n",
        "#     else:\n",
        "#         plt.title(\"Tidak Stemming\")\n",
        "#     plt.xlabel('Fold')\n",
        "#     plt.ylabel('Akurasi')\n",
        "#     plt.legend()\n",
        "#     plt.pause(0.05)\n",
        "# plt.show\n",
        "# plt.style.use('seaborn-whitegrid')\n",
        "# print(\"Lama Proses %s seconds\" % (time.time() - start_time))\n",
        "# with open('5000_fitur_SWnltkv2.txt', 'w') as f:\n",
        "#     f.write(cap.stdout)"
      ],
      "execution_count": null,
      "outputs": [
        {
          "output_type": "stream",
          "text": [
            "Dengan Stemming\n",
            "Nama distance= euclidean\n",
            "Jumlah K tetangga= 1\n",
            "              precision    recall  f1-score   support\n",
            "\n",
            "           0       0.50      0.01      0.02        90\n",
            "           1       0.85      0.24      0.38        90\n",
            "           2       0.79      0.30      0.44        90\n",
            "           3       0.84      0.18      0.29        90\n",
            "           4       0.80      0.09      0.16        90\n",
            "           5       0.73      0.12      0.21        90\n",
            "           6       0.92      0.24      0.39        90\n",
            "           7       0.47      0.10      0.17        90\n",
            "           8       0.67      0.18      0.28        90\n",
            "           9       0.10      0.97      0.18        90\n",
            "          10       0.75      0.13      0.23        90\n",
            "          11       0.83      0.21      0.34        90\n",
            "\n",
            "    accuracy                           0.23      1080\n",
            "   macro avg       0.69      0.23      0.26      1080\n",
            "weighted avg       0.69      0.23      0.26      1080\n",
            "\n",
            "akurasi= 0.2315 presisi= 0.6874 recall= 0.2315 f1= 0.3463\n",
            "Dengan Stemming\n",
            "Nama distance= euclidean\n",
            "Jumlah K tetangga= 3\n",
            "              precision    recall  f1-score   support\n",
            "\n",
            "           0       0.82      0.26      0.39        90\n",
            "           1       0.83      0.54      0.66        90\n",
            "           2       0.83      0.63      0.72        90\n",
            "           3       0.76      0.70      0.73        90\n",
            "           4       0.78      0.52      0.63        90\n",
            "           5       0.74      0.47      0.57        90\n",
            "           6       0.97      0.86      0.91        90\n",
            "           7       0.83      0.77      0.80        90\n",
            "           8       0.81      0.47      0.59        90\n",
            "           9       0.21      0.90      0.34        90\n",
            "          10       0.94      0.64      0.76        90\n",
            "          11       0.87      0.60      0.71        90\n",
            "\n",
            "    accuracy                           0.61      1080\n",
            "   macro avg       0.78      0.61      0.65      1080\n",
            "weighted avg       0.78      0.61      0.65      1080\n",
            "\n",
            "akurasi= 0.6130 presisi= 0.7823 recall= 0.6130 f1= 0.6873\n",
            "Dengan Stemming\n",
            "Nama distance= euclidean\n",
            "Jumlah K tetangga= 5\n",
            "              precision    recall  f1-score   support\n",
            "\n",
            "           0       0.68      0.56      0.61        90\n",
            "           1       0.74      0.63      0.68        90\n",
            "           2       0.85      0.74      0.79        90\n",
            "           3       0.72      0.88      0.79        90\n",
            "           4       0.70      0.69      0.70        90\n",
            "           5       0.63      0.59      0.61        90\n",
            "           6       0.92      0.89      0.90        90\n",
            "           7       0.74      0.86      0.79        90\n",
            "           8       0.79      0.69      0.74        90\n",
            "           9       0.58      0.89      0.70        90\n",
            "          10       0.90      0.69      0.78        90\n",
            "          11       0.74      0.76      0.75        90\n",
            "\n",
            "    accuracy                           0.74      1080\n",
            "   macro avg       0.75      0.74      0.74      1080\n",
            "weighted avg       0.75      0.74      0.74      1080\n",
            "\n",
            "akurasi= 0.7380 presisi= 0.7496 recall= 0.7380 f1= 0.7437\n",
            "Dengan Stemming\n",
            "Nama distance= euclidean\n",
            "Jumlah K tetangga= 7\n",
            "              precision    recall  f1-score   support\n",
            "\n",
            "           0       0.75      0.60      0.67        90\n",
            "           1       0.74      0.69      0.71        90\n",
            "           2       0.86      0.77      0.81        90\n",
            "           3       0.70      0.91      0.79        90\n",
            "           4       0.69      0.78      0.73        90\n",
            "           5       0.64      0.59      0.61        90\n",
            "           6       0.94      0.90      0.92        90\n",
            "           7       0.73      0.87      0.79        90\n",
            "           8       0.80      0.70      0.75        90\n",
            "           9       0.78      0.89      0.83        90\n",
            "          10       0.90      0.72      0.80        90\n",
            "          11       0.74      0.78      0.76        90\n",
            "\n",
            "    accuracy                           0.77      1080\n",
            "   macro avg       0.77      0.77      0.76      1080\n",
            "weighted avg       0.77      0.77      0.76      1080\n",
            "\n",
            "akurasi= 0.7657 presisi= 0.7717 recall= 0.7657 f1= 0.7687\n",
            "Dengan Stemming\n",
            "Nama distance= euclidean\n",
            "Jumlah K tetangga= 9\n",
            "              precision    recall  f1-score   support\n",
            "\n",
            "           0       0.76      0.59      0.66        90\n",
            "           1       0.78      0.63      0.70        90\n",
            "           2       0.86      0.76      0.80        90\n",
            "           3       0.67      0.91      0.77        90\n",
            "           4       0.68      0.83      0.75        90\n",
            "           5       0.66      0.56      0.60        90\n",
            "           6       0.92      0.90      0.91        90\n",
            "           7       0.69      0.92      0.79        90\n",
            "           8       0.80      0.68      0.73        90\n",
            "           9       0.84      0.87      0.85        90\n",
            "          10       0.91      0.71      0.80        90\n",
            "          11       0.73      0.82      0.77        90\n",
            "\n",
            "    accuracy                           0.76      1080\n",
            "   macro avg       0.77      0.76      0.76      1080\n",
            "weighted avg       0.77      0.76      0.76      1080\n",
            "\n",
            "akurasi= 0.7648 presisi= 0.7748 recall= 0.7648 f1= 0.7698\n",
            "Dengan Stemming\n",
            "Nama distance= euclidean\n",
            "Jumlah K tetangga= 11\n",
            "              precision    recall  f1-score   support\n",
            "\n",
            "           0       0.76      0.61      0.68        90\n",
            "           1       0.79      0.66      0.72        90\n",
            "           2       0.88      0.80      0.84        90\n",
            "           3       0.66      0.91      0.77        90\n",
            "           4       0.69      0.83      0.75        90\n",
            "           5       0.66      0.57      0.61        90\n",
            "           6       0.90      0.90      0.90        90\n",
            "           7       0.66      0.92      0.77        90\n",
            "           8       0.83      0.66      0.73        90\n",
            "           9       0.92      0.87      0.89        90\n",
            "          10       0.91      0.70      0.79        90\n",
            "          11       0.75      0.83      0.79        90\n",
            "\n",
            "    accuracy                           0.77      1080\n",
            "   macro avg       0.78      0.77      0.77      1080\n",
            "weighted avg       0.78      0.77      0.77      1080\n",
            "\n",
            "akurasi= 0.7713 presisi= 0.7842 recall= 0.7713 f1= 0.7777\n",
            "Dengan Stemming\n",
            "Nama distance= euclidean\n",
            "Jumlah K tetangga= 13\n",
            "              precision    recall  f1-score   support\n",
            "\n",
            "           0       0.72      0.66      0.69        90\n",
            "           1       0.76      0.63      0.69        90\n",
            "           2       0.89      0.76      0.82        90\n",
            "           3       0.64      0.91      0.75        90\n",
            "           4       0.68      0.84      0.76        90\n",
            "           5       0.65      0.62      0.64        90\n",
            "           6       0.93      0.87      0.90        90\n",
            "           7       0.68      0.91      0.78        90\n",
            "           8       0.83      0.63      0.72        90\n",
            "           9       0.95      0.87      0.91        90\n",
            "          10       0.92      0.72      0.81        90\n",
            "          11       0.74      0.79      0.76        90\n",
            "\n",
            "    accuracy                           0.77      1080\n",
            "   macro avg       0.78      0.77      0.77      1080\n",
            "weighted avg       0.78      0.77      0.77      1080\n",
            "\n",
            "akurasi= 0.7676 presisi= 0.7829 recall= 0.7676 f1= 0.7752\n",
            "Dengan Stemming\n",
            "Nama distance= euclidean\n",
            "Jumlah K tetangga= 15\n",
            "              precision    recall  f1-score   support\n",
            "\n",
            "           0       0.74      0.62      0.67        90\n",
            "           1       0.80      0.63      0.71        90\n",
            "           2       0.89      0.76      0.82        90\n",
            "           3       0.65      0.91      0.76        90\n",
            "           4       0.68      0.86      0.75        90\n",
            "           5       0.62      0.57      0.59        90\n",
            "           6       0.90      0.87      0.88        90\n",
            "           7       0.66      0.91      0.77        90\n",
            "           8       0.82      0.66      0.73        90\n",
            "           9       0.95      0.87      0.91        90\n",
            "          10       0.93      0.76      0.83        90\n",
            "          11       0.77      0.82      0.80        90\n",
            "\n",
            "    accuracy                           0.77      1080\n",
            "   macro avg       0.78      0.77      0.77      1080\n",
            "weighted avg       0.78      0.77      0.77      1080\n",
            "\n",
            "akurasi= 0.7685 presisi= 0.7840 recall= 0.7685 f1= 0.7762\n",
            "Dengan Stemming\n",
            "Nama distance= manhattan\n",
            "Jumlah K tetangga= 1\n"
          ],
          "name": "stdout"
        },
        {
          "output_type": "stream",
          "text": [
            "/usr/local/lib/python3.7/dist-packages/sklearn/metrics/_classification.py:1272: UndefinedMetricWarning: Precision and F-score are ill-defined and being set to 0.0 in labels with no predicted samples. Use `zero_division` parameter to control this behavior.\n",
            "  _warn_prf(average, modifier, msg_start, len(result))\n"
          ],
          "name": "stderr"
        },
        {
          "output_type": "stream",
          "text": [
            "              precision    recall  f1-score   support\n",
            "\n",
            "           0       0.00      0.00      0.00        90\n",
            "           1       1.00      0.10      0.18        90\n",
            "           2       1.00      0.14      0.25        90\n",
            "           3       0.80      0.09      0.16        90\n",
            "           4       1.00      0.02      0.04        90\n",
            "           5       1.00      0.07      0.12        90\n",
            "           6       1.00      0.11      0.20        90\n",
            "           7       0.10      0.12      0.11        90\n",
            "           8       0.40      0.02      0.04        90\n",
            "           9       0.09      0.91      0.16        90\n",
            "          10       0.00      0.00      0.00        90\n",
            "          11       1.00      0.02      0.04        90\n",
            "\n",
            "    accuracy                           0.13      1080\n",
            "   macro avg       0.62      0.13      0.11      1080\n",
            "weighted avg       0.62      0.13      0.11      1080\n",
            "\n",
            "akurasi= 0.1343 presisi= 0.6162 recall= 0.1343 f1= 0.2205\n",
            "Dengan Stemming\n",
            "Nama distance= manhattan\n",
            "Jumlah K tetangga= 3\n"
          ],
          "name": "stdout"
        },
        {
          "output_type": "stream",
          "text": [
            "/usr/local/lib/python3.7/dist-packages/sklearn/metrics/_classification.py:1272: UndefinedMetricWarning: Precision and F-score are ill-defined and being set to 0.0 in labels with no predicted samples. Use `zero_division` parameter to control this behavior.\n",
            "  _warn_prf(average, modifier, msg_start, len(result))\n"
          ],
          "name": "stderr"
        },
        {
          "output_type": "stream",
          "text": [
            "              precision    recall  f1-score   support\n",
            "\n",
            "           0       0.00      0.00      0.00        90\n",
            "           1       1.00      0.13      0.24        90\n",
            "           2       1.00      0.17      0.29        90\n",
            "           3       0.88      0.16      0.26        90\n",
            "           4       1.00      0.04      0.09        90\n",
            "           5       0.91      0.11      0.20        90\n",
            "           6       1.00      0.11      0.20        90\n",
            "           7       0.12      0.12      0.12        90\n",
            "           8       0.50      0.03      0.06        90\n",
            "           9       0.09      0.91      0.17        90\n",
            "          10       0.78      0.08      0.14        90\n",
            "          11       1.00      0.02      0.04        90\n",
            "\n",
            "    accuracy                           0.16      1080\n",
            "   macro avg       0.69      0.16      0.15      1080\n",
            "weighted avg       0.69      0.16      0.15      1080\n",
            "\n",
            "akurasi= 0.1574 presisi= 0.6892 recall= 0.1574 f1= 0.2563\n",
            "Dengan Stemming\n",
            "Nama distance= manhattan\n",
            "Jumlah K tetangga= 5\n"
          ],
          "name": "stdout"
        },
        {
          "output_type": "stream",
          "text": [
            "/usr/local/lib/python3.7/dist-packages/sklearn/metrics/_classification.py:1272: UndefinedMetricWarning: Precision and F-score are ill-defined and being set to 0.0 in labels with no predicted samples. Use `zero_division` parameter to control this behavior.\n",
            "  _warn_prf(average, modifier, msg_start, len(result))\n"
          ],
          "name": "stderr"
        },
        {
          "output_type": "stream",
          "text": [
            "              precision    recall  f1-score   support\n",
            "\n",
            "           0       0.00      0.00      0.00        90\n",
            "           1       0.73      0.12      0.21        90\n",
            "           2       1.00      0.12      0.22        90\n",
            "           3       0.94      0.18      0.30        90\n",
            "           4       1.00      0.04      0.09        90\n",
            "           5       0.79      0.21      0.33        90\n",
            "           6       1.00      0.06      0.11        90\n",
            "           7       0.12      0.10      0.11        90\n",
            "           8       0.50      0.02      0.04        90\n",
            "           9       0.09      0.93      0.17        90\n",
            "          10       0.45      0.16      0.23        90\n",
            "          11       1.00      0.02      0.04        90\n",
            "\n",
            "    accuracy                           0.16      1080\n",
            "   macro avg       0.64      0.16      0.15      1080\n",
            "weighted avg       0.64      0.16      0.15      1080\n",
            "\n",
            "akurasi= 0.1639 presisi= 0.6364 recall= 0.1639 f1= 0.2607\n",
            "Dengan Stemming\n",
            "Nama distance= manhattan\n",
            "Jumlah K tetangga= 7\n"
          ],
          "name": "stdout"
        },
        {
          "output_type": "stream",
          "text": [
            "/usr/local/lib/python3.7/dist-packages/sklearn/metrics/_classification.py:1272: UndefinedMetricWarning: Precision and F-score are ill-defined and being set to 0.0 in labels with no predicted samples. Use `zero_division` parameter to control this behavior.\n",
            "  _warn_prf(average, modifier, msg_start, len(result))\n"
          ],
          "name": "stderr"
        },
        {
          "output_type": "stream",
          "text": [
            "              precision    recall  f1-score   support\n",
            "\n",
            "           0       1.00      0.01      0.02        90\n",
            "           1       0.71      0.22      0.34        90\n",
            "           2       1.00      0.13      0.24        90\n",
            "           3       0.93      0.16      0.27        90\n",
            "           4       1.00      0.04      0.09        90\n",
            "           5       0.64      0.32      0.43        90\n",
            "           6       1.00      0.09      0.16        90\n",
            "           7       0.20      0.11      0.14        90\n",
            "           8       0.60      0.03      0.06        90\n",
            "           9       0.10      0.90      0.18        90\n",
            "          10       0.36      0.40      0.38        90\n",
            "          11       0.00      0.00      0.00        90\n",
            "\n",
            "    accuracy                           0.20      1080\n",
            "   macro avg       0.63      0.20      0.19      1080\n",
            "weighted avg       0.63      0.20      0.19      1080\n",
            "\n",
            "akurasi= 0.2019 presisi= 0.6287 recall= 0.2019 f1= 0.3056\n",
            "Dengan Stemming\n",
            "Nama distance= manhattan\n",
            "Jumlah K tetangga= 9\n"
          ],
          "name": "stdout"
        },
        {
          "output_type": "stream",
          "text": [
            "/usr/local/lib/python3.7/dist-packages/sklearn/metrics/_classification.py:1272: UndefinedMetricWarning: Precision and F-score are ill-defined and being set to 0.0 in labels with no predicted samples. Use `zero_division` parameter to control this behavior.\n",
            "  _warn_prf(average, modifier, msg_start, len(result))\n"
          ],
          "name": "stderr"
        },
        {
          "output_type": "stream",
          "text": [
            "              precision    recall  f1-score   support\n",
            "\n",
            "           0       0.00      0.00      0.00        90\n",
            "           1       0.69      0.20      0.31        90\n",
            "           2       1.00      0.10      0.18        90\n",
            "           3       0.87      0.14      0.25        90\n",
            "           4       1.00      0.04      0.09        90\n",
            "           5       0.57      0.31      0.40        90\n",
            "           6       1.00      0.08      0.14        90\n",
            "           7       0.23      0.11      0.15        90\n",
            "           8       0.57      0.04      0.08        90\n",
            "           9       0.10      0.92      0.18        90\n",
            "          10       0.51      0.42      0.46        90\n",
            "          11       0.00      0.00      0.00        90\n",
            "\n",
            "    accuracy                           0.20      1080\n",
            "   macro avg       0.54      0.20      0.19      1080\n",
            "weighted avg       0.54      0.20      0.19      1080\n",
            "\n",
            "akurasi= 0.1981 presisi= 0.5445 recall= 0.1981 f1= 0.2906\n",
            "Dengan Stemming\n",
            "Nama distance= manhattan\n",
            "Jumlah K tetangga= 11\n"
          ],
          "name": "stdout"
        },
        {
          "output_type": "stream",
          "text": [
            "/usr/local/lib/python3.7/dist-packages/sklearn/metrics/_classification.py:1272: UndefinedMetricWarning: Precision and F-score are ill-defined and being set to 0.0 in labels with no predicted samples. Use `zero_division` parameter to control this behavior.\n",
            "  _warn_prf(average, modifier, msg_start, len(result))\n"
          ],
          "name": "stderr"
        },
        {
          "output_type": "stream",
          "text": [
            "              precision    recall  f1-score   support\n",
            "\n",
            "           0       0.00      0.00      0.00        90\n",
            "           1       0.67      0.22      0.33        90\n",
            "           2       1.00      0.09      0.16        90\n",
            "           3       0.94      0.19      0.31        90\n",
            "           4       1.00      0.04      0.09        90\n",
            "           5       0.60      0.37      0.46        90\n",
            "           6       1.00      0.06      0.11        90\n",
            "           7       0.21      0.11      0.15        90\n",
            "           8       0.80      0.04      0.08        90\n",
            "           9       0.10      0.92      0.18        90\n",
            "          10       0.50      0.46      0.48        90\n",
            "          11       0.00      0.00      0.00        90\n",
            "\n",
            "    accuracy                           0.21      1080\n",
            "   macro avg       0.57      0.21      0.20      1080\n",
            "weighted avg       0.57      0.21      0.20      1080\n",
            "\n",
            "akurasi= 0.2083 presisi= 0.5687 recall= 0.2083 f1= 0.3050\n",
            "Dengan Stemming\n",
            "Nama distance= manhattan\n",
            "Jumlah K tetangga= 13\n"
          ],
          "name": "stdout"
        },
        {
          "output_type": "stream",
          "text": [
            "/usr/local/lib/python3.7/dist-packages/sklearn/metrics/_classification.py:1272: UndefinedMetricWarning: Precision and F-score are ill-defined and being set to 0.0 in labels with no predicted samples. Use `zero_division` parameter to control this behavior.\n",
            "  _warn_prf(average, modifier, msg_start, len(result))\n"
          ],
          "name": "stderr"
        },
        {
          "output_type": "stream",
          "text": [
            "              precision    recall  f1-score   support\n",
            "\n",
            "           0       0.00      0.00      0.00        90\n",
            "           1       0.54      0.24      0.34        90\n",
            "           2       1.00      0.08      0.14        90\n",
            "           3       0.94      0.17      0.28        90\n",
            "           4       1.00      0.04      0.09        90\n",
            "           5       0.57      0.42      0.48        90\n",
            "           6       1.00      0.01      0.02        90\n",
            "           7       0.30      0.11      0.16        90\n",
            "           8       1.00      0.04      0.09        90\n",
            "           9       0.10      0.89      0.19        90\n",
            "          10       0.37      0.58      0.45        90\n",
            "          11       0.00      0.00      0.00        90\n",
            "\n",
            "    accuracy                           0.22      1080\n",
            "   macro avg       0.57      0.22      0.19      1080\n",
            "weighted avg       0.57      0.22      0.19      1080\n",
            "\n",
            "akurasi= 0.2157 presisi= 0.5685 recall= 0.2157 f1= 0.3128\n",
            "Dengan Stemming\n",
            "Nama distance= manhattan\n",
            "Jumlah K tetangga= 15\n"
          ],
          "name": "stdout"
        },
        {
          "output_type": "stream",
          "text": [
            "/usr/local/lib/python3.7/dist-packages/sklearn/metrics/_classification.py:1272: UndefinedMetricWarning: Precision and F-score are ill-defined and being set to 0.0 in labels with no predicted samples. Use `zero_division` parameter to control this behavior.\n",
            "  _warn_prf(average, modifier, msg_start, len(result))\n"
          ],
          "name": "stderr"
        },
        {
          "output_type": "stream",
          "text": [
            "              precision    recall  f1-score   support\n",
            "\n",
            "           0       0.00      0.00      0.00        90\n",
            "           1       0.71      0.22      0.34        90\n",
            "           2       1.00      0.07      0.12        90\n",
            "           3       0.94      0.19      0.31        90\n",
            "           4       1.00      0.04      0.09        90\n",
            "           5       0.53      0.54      0.54        90\n",
            "           6       1.00      0.03      0.06        90\n",
            "           7       0.25      0.10      0.14        90\n",
            "           8       0.83      0.06      0.10        90\n",
            "           9       0.12      0.81      0.20        90\n",
            "          10       0.24      0.68      0.36        90\n",
            "          11       0.00      0.00      0.00        90\n",
            "\n",
            "    accuracy                           0.23      1080\n",
            "   macro avg       0.55      0.23      0.19      1080\n",
            "weighted avg       0.55      0.23      0.19      1080\n",
            "\n",
            "akurasi= 0.2287 presisi= 0.5522 recall= 0.2287 f1= 0.3234\n",
            "Dengan Stemming\n",
            "Nama distance= cosine\n",
            "Jumlah K tetangga= 1\n",
            "              precision    recall  f1-score   support\n",
            "\n",
            "           0       0.65      0.53      0.59        90\n",
            "           1       0.68      0.63      0.66        90\n",
            "           2       0.74      0.79      0.76        90\n",
            "           3       0.66      0.72      0.69        90\n",
            "           4       0.65      0.67      0.66        90\n",
            "           5       0.53      0.53      0.53        90\n",
            "           6       0.91      0.91      0.91        90\n",
            "           7       0.69      0.86      0.77        90\n",
            "           8       0.68      0.61      0.64        90\n",
            "           9       0.87      0.86      0.86        90\n",
            "          10       0.81      0.70      0.75        90\n",
            "          11       0.72      0.77      0.74        90\n",
            "\n",
            "    accuracy                           0.71      1080\n",
            "   macro avg       0.72      0.71      0.71      1080\n",
            "weighted avg       0.72      0.71      0.71      1080\n",
            "\n",
            "akurasi= 0.7148 presisi= 0.7154 recall= 0.7148 f1= 0.7151\n",
            "Dengan Stemming\n",
            "Nama distance= cosine\n",
            "Jumlah K tetangga= 3\n",
            "              precision    recall  f1-score   support\n",
            "\n",
            "           0       0.67      0.58      0.62        90\n",
            "           1       0.70      0.66      0.68        90\n",
            "           2       0.78      0.79      0.78        90\n",
            "           3       0.66      0.83      0.74        90\n",
            "           4       0.69      0.71      0.70        90\n",
            "           5       0.58      0.59      0.59        90\n",
            "           6       0.92      0.91      0.92        90\n",
            "           7       0.74      0.84      0.79        90\n",
            "           8       0.76      0.67      0.71        90\n",
            "           9       0.90      0.87      0.88        90\n",
            "          10       0.82      0.70      0.75        90\n",
            "          11       0.74      0.78      0.76        90\n",
            "\n",
            "    accuracy                           0.74      1080\n",
            "   macro avg       0.75      0.74      0.74      1080\n",
            "weighted avg       0.75      0.74      0.74      1080\n",
            "\n",
            "akurasi= 0.7435 presisi= 0.7463 recall= 0.7435 f1= 0.7449\n",
            "Dengan Stemming\n",
            "Nama distance= cosine\n",
            "Jumlah K tetangga= 5\n",
            "              precision    recall  f1-score   support\n",
            "\n",
            "           0       0.71      0.63      0.67        90\n",
            "           1       0.76      0.67      0.71        90\n",
            "           2       0.85      0.83      0.84        90\n",
            "           3       0.71      0.91      0.80        90\n",
            "           4       0.70      0.79      0.74        90\n",
            "           5       0.67      0.61      0.64        90\n",
            "           6       0.90      0.91      0.91        90\n",
            "           7       0.72      0.88      0.79        90\n",
            "           8       0.82      0.71      0.76        90\n",
            "           9       0.93      0.86      0.89        90\n",
            "          10       0.90      0.73      0.81        90\n",
            "          11       0.74      0.82      0.78        90\n",
            "\n",
            "    accuracy                           0.78      1080\n",
            "   macro avg       0.79      0.78      0.78      1080\n",
            "weighted avg       0.79      0.78      0.78      1080\n",
            "\n",
            "akurasi= 0.7796 presisi= 0.7853 recall= 0.7796 f1= 0.7824\n",
            "Dengan Stemming\n",
            "Nama distance= cosine\n",
            "Jumlah K tetangga= 7\n",
            "              precision    recall  f1-score   support\n",
            "\n",
            "           0       0.73      0.60      0.66        90\n",
            "           1       0.79      0.66      0.72        90\n",
            "           2       0.83      0.82      0.83        90\n",
            "           3       0.69      0.92      0.79        90\n",
            "           4       0.69      0.81      0.74        90\n",
            "           5       0.69      0.61      0.65        90\n",
            "           6       0.92      0.90      0.91        90\n",
            "           7       0.71      0.91      0.80        90\n",
            "           8       0.79      0.69      0.74        90\n",
            "           9       0.97      0.84      0.90        90\n",
            "          10       0.90      0.72      0.80        90\n",
            "          11       0.75      0.86      0.80        90\n",
            "\n",
            "    accuracy                           0.78      1080\n",
            "   macro avg       0.79      0.78      0.78      1080\n",
            "weighted avg       0.79      0.78      0.78      1080\n",
            "\n",
            "akurasi= 0.7787 presisi= 0.7881 recall= 0.7787 f1= 0.7834\n",
            "Dengan Stemming\n",
            "Nama distance= cosine\n",
            "Jumlah K tetangga= 9\n",
            "              precision    recall  f1-score   support\n",
            "\n",
            "           0       0.75      0.59      0.66        90\n",
            "           1       0.77      0.63      0.70        90\n",
            "           2       0.85      0.81      0.83        90\n",
            "           3       0.68      0.91      0.78        90\n",
            "           4       0.69      0.83      0.75        90\n",
            "           5       0.67      0.60      0.63        90\n",
            "           6       0.92      0.90      0.91        90\n",
            "           7       0.67      0.92      0.78        90\n",
            "           8       0.81      0.66      0.72        90\n",
            "           9       0.97      0.87      0.92        90\n",
            "          10       0.93      0.72      0.81        90\n",
            "          11       0.74      0.84      0.79        90\n",
            "\n",
            "    accuracy                           0.77      1080\n",
            "   macro avg       0.79      0.77      0.77      1080\n",
            "weighted avg       0.79      0.77      0.77      1080\n",
            "\n",
            "akurasi= 0.7741 presisi= 0.7865 recall= 0.7741 f1= 0.7802\n",
            "Dengan Stemming\n",
            "Nama distance= cosine\n",
            "Jumlah K tetangga= 11\n",
            "              precision    recall  f1-score   support\n",
            "\n",
            "           0       0.77      0.63      0.70        90\n",
            "           1       0.77      0.67      0.71        90\n",
            "           2       0.85      0.84      0.85        90\n",
            "           3       0.67      0.91      0.77        90\n",
            "           4       0.70      0.84      0.76        90\n",
            "           5       0.65      0.59      0.62        90\n",
            "           6       0.91      0.89      0.90        90\n",
            "           7       0.69      0.92      0.79        90\n",
            "           8       0.83      0.66      0.73        90\n",
            "           9       0.97      0.87      0.92        90\n",
            "          10       0.90      0.70      0.79        90\n",
            "          11       0.76      0.81      0.78        90\n",
            "\n",
            "    accuracy                           0.78      1080\n",
            "   macro avg       0.79      0.78      0.78      1080\n",
            "weighted avg       0.79      0.78      0.78      1080\n",
            "\n",
            "akurasi= 0.7778 presisi= 0.7894 recall= 0.7778 f1= 0.7836\n",
            "Dengan Stemming\n",
            "Nama distance= cosine\n",
            "Jumlah K tetangga= 13\n",
            "              precision    recall  f1-score   support\n",
            "\n",
            "           0       0.74      0.62      0.67        90\n",
            "           1       0.80      0.63      0.71        90\n",
            "           2       0.89      0.81      0.85        90\n",
            "           3       0.65      0.91      0.76        90\n",
            "           4       0.70      0.84      0.76        90\n",
            "           5       0.64      0.62      0.63        90\n",
            "           6       0.93      0.91      0.92        90\n",
            "           7       0.66      0.91      0.77        90\n",
            "           8       0.81      0.63      0.71        90\n",
            "           9       0.97      0.86      0.91        90\n",
            "          10       0.91      0.71      0.80        90\n",
            "          11       0.76      0.82      0.79        90\n",
            "\n",
            "    accuracy                           0.77      1080\n",
            "   macro avg       0.79      0.77      0.77      1080\n",
            "weighted avg       0.79      0.77      0.77      1080\n",
            "\n",
            "akurasi= 0.7741 presisi= 0.7894 recall= 0.7741 f1= 0.7817\n",
            "Dengan Stemming\n",
            "Nama distance= cosine\n",
            "Jumlah K tetangga= 15\n",
            "              precision    recall  f1-score   support\n",
            "\n",
            "           0       0.79      0.62      0.70        90\n",
            "           1       0.80      0.63      0.71        90\n",
            "           2       0.90      0.84      0.87        90\n",
            "           3       0.66      0.91      0.77        90\n",
            "           4       0.69      0.84      0.76        90\n",
            "           5       0.63      0.60      0.61        90\n",
            "           6       0.91      0.89      0.90        90\n",
            "           7       0.66      0.92      0.77        90\n",
            "           8       0.80      0.63      0.71        90\n",
            "           9       0.97      0.87      0.92        90\n",
            "          10       0.92      0.76      0.83        90\n",
            "          11       0.78      0.83      0.81        90\n",
            "\n",
            "    accuracy                           0.78      1080\n",
            "   macro avg       0.79      0.78      0.78      1080\n",
            "weighted avg       0.79      0.78      0.78      1080\n",
            "\n",
            "akurasi= 0.7796 presisi= 0.7940 recall= 0.7796 f1= 0.7867\n",
            "Tanpa Stemming\n",
            "Nama distance= euclidean\n",
            "Jumlah K tetangga= 1\n",
            "              precision    recall  f1-score   support\n",
            "\n",
            "           0       0.40      0.02      0.04        90\n",
            "           1       0.80      0.18      0.29        90\n",
            "           2       0.83      0.27      0.40        90\n",
            "           3       0.76      0.14      0.24        90\n",
            "           4       0.73      0.09      0.16        90\n",
            "           5       0.73      0.12      0.21        90\n",
            "           6       0.91      0.22      0.36        90\n",
            "           7       0.53      0.09      0.15        90\n",
            "           8       0.64      0.16      0.25        90\n",
            "           9       0.10      0.97      0.18        90\n",
            "          10       0.69      0.10      0.17        90\n",
            "          11       0.73      0.12      0.21        90\n",
            "\n",
            "    accuracy                           0.21      1080\n",
            "   macro avg       0.65      0.21      0.22      1080\n",
            "weighted avg       0.65      0.21      0.22      1080\n",
            "\n",
            "akurasi= 0.2065 presisi= 0.6545 recall= 0.2065 f1= 0.3139\n",
            "Tanpa Stemming\n",
            "Nama distance= euclidean\n",
            "Jumlah K tetangga= 3\n",
            "              precision    recall  f1-score   support\n",
            "\n",
            "           0       0.79      0.34      0.48        90\n",
            "           1       0.81      0.58      0.68        90\n",
            "           2       0.86      0.70      0.77        90\n",
            "           3       0.81      0.66      0.72        90\n",
            "           4       0.79      0.50      0.61        90\n",
            "           5       0.81      0.49      0.61        90\n",
            "           6       0.96      0.91      0.94        90\n",
            "           7       0.84      0.68      0.75        90\n",
            "           8       0.81      0.53      0.64        90\n",
            "           9       0.22      0.93      0.35        90\n",
            "          10       0.93      0.63      0.75        90\n",
            "          11       0.82      0.51      0.63        90\n",
            "\n",
            "    accuracy                           0.62      1080\n",
            "   macro avg       0.79      0.62      0.66      1080\n",
            "weighted avg       0.79      0.62      0.66      1080\n",
            "\n",
            "akurasi= 0.6222 presisi= 0.7892 recall= 0.6222 f1= 0.6958\n",
            "Tanpa Stemming\n",
            "Nama distance= euclidean\n",
            "Jumlah K tetangga= 5\n",
            "              precision    recall  f1-score   support\n",
            "\n",
            "           0       0.74      0.62      0.67        90\n",
            "           1       0.80      0.71      0.75        90\n",
            "           2       0.87      0.81      0.84        90\n",
            "           3       0.75      0.84      0.79        90\n",
            "           4       0.69      0.71      0.70        90\n",
            "           5       0.66      0.58      0.62        90\n",
            "           6       0.92      0.91      0.92        90\n",
            "           7       0.81      0.88      0.84        90\n",
            "           8       0.77      0.72      0.75        90\n",
            "           9       0.61      0.89      0.72        90\n",
            "          10       0.91      0.71      0.80        90\n",
            "          11       0.74      0.78      0.76        90\n",
            "\n",
            "    accuracy                           0.76      1080\n",
            "   macro avg       0.77      0.76      0.76      1080\n",
            "weighted avg       0.77      0.76      0.76      1080\n",
            "\n",
            "akurasi= 0.7639 presisi= 0.7724 recall= 0.7639 f1= 0.7681\n",
            "Tanpa Stemming\n",
            "Nama distance= euclidean\n",
            "Jumlah K tetangga= 7\n",
            "              precision    recall  f1-score   support\n",
            "\n",
            "           0       0.74      0.61      0.67        90\n",
            "           1       0.79      0.70      0.74        90\n",
            "           2       0.87      0.84      0.86        90\n",
            "           3       0.71      0.88      0.79        90\n",
            "           4       0.70      0.79      0.74        90\n",
            "           5       0.69      0.61      0.65        90\n",
            "           6       0.93      0.91      0.92        90\n",
            "           7       0.73      0.91      0.81        90\n",
            "           8       0.77      0.70      0.73        90\n",
            "           9       0.81      0.87      0.84        90\n",
            "          10       0.93      0.72      0.81        90\n",
            "          11       0.76      0.83      0.79        90\n",
            "\n",
            "    accuracy                           0.78      1080\n",
            "   macro avg       0.79      0.78      0.78      1080\n",
            "weighted avg       0.79      0.78      0.78      1080\n",
            "\n",
            "akurasi= 0.7815 presisi= 0.7864 recall= 0.7815 f1= 0.7840\n",
            "Tanpa Stemming\n",
            "Nama distance= euclidean\n",
            "Jumlah K tetangga= 9\n",
            "              precision    recall  f1-score   support\n",
            "\n",
            "           0       0.77      0.60      0.68        90\n",
            "           1       0.78      0.67      0.72        90\n",
            "           2       0.87      0.79      0.83        90\n",
            "           3       0.65      0.89      0.75        90\n",
            "           4       0.72      0.81      0.76        90\n",
            "           5       0.68      0.62      0.65        90\n",
            "           6       0.92      0.90      0.91        90\n",
            "           7       0.72      0.92      0.81        90\n",
            "           8       0.79      0.66      0.72        90\n",
            "           9       0.88      0.87      0.87        90\n",
            "          10       0.92      0.77      0.84        90\n",
            "          11       0.75      0.86      0.80        90\n",
            "\n",
            "    accuracy                           0.78      1080\n",
            "   macro avg       0.79      0.78      0.78      1080\n",
            "weighted avg       0.79      0.78      0.78      1080\n",
            "\n",
            "akurasi= 0.7787 presisi= 0.7871 recall= 0.7787 f1= 0.7829\n",
            "Tanpa Stemming\n",
            "Nama distance= euclidean\n",
            "Jumlah K tetangga= 11\n",
            "              precision    recall  f1-score   support\n",
            "\n",
            "           0       0.80      0.63      0.71        90\n",
            "           1       0.77      0.68      0.72        90\n",
            "           2       0.88      0.80      0.84        90\n",
            "           3       0.65      0.90      0.76        90\n",
            "           4       0.69      0.83      0.75        90\n",
            "           5       0.73      0.61      0.67        90\n",
            "           6       0.90      0.89      0.89        90\n",
            "           7       0.71      0.93      0.81        90\n",
            "           8       0.78      0.64      0.71        90\n",
            "           9       0.92      0.89      0.90        90\n",
            "          10       0.93      0.74      0.83        90\n",
            "          11       0.77      0.86      0.81        90\n",
            "\n",
            "    accuracy                           0.78      1080\n",
            "   macro avg       0.80      0.78      0.78      1080\n",
            "weighted avg       0.80      0.78      0.78      1080\n",
            "\n",
            "akurasi= 0.7843 presisi= 0.7952 recall= 0.7843 f1= 0.7897\n",
            "Tanpa Stemming\n",
            "Nama distance= euclidean\n",
            "Jumlah K tetangga= 13\n",
            "              precision    recall  f1-score   support\n",
            "\n",
            "           0       0.78      0.67      0.72        90\n",
            "           1       0.79      0.68      0.73        90\n",
            "           2       0.90      0.83      0.87        90\n",
            "           3       0.64      0.91      0.75        90\n",
            "           4       0.67      0.81      0.73        90\n",
            "           5       0.68      0.59      0.63        90\n",
            "           6       0.90      0.88      0.89        90\n",
            "           7       0.74      0.93      0.82        90\n",
            "           8       0.84      0.68      0.75        90\n",
            "           9       0.93      0.89      0.91        90\n",
            "          10       0.93      0.76      0.83        90\n",
            "          11       0.80      0.83      0.82        90\n",
            "\n",
            "    accuracy                           0.79      1080\n",
            "   macro avg       0.80      0.79      0.79      1080\n",
            "weighted avg       0.80      0.79      0.79      1080\n",
            "\n",
            "akurasi= 0.7880 presisi= 0.7996 recall= 0.7880 f1= 0.7937\n",
            "Tanpa Stemming\n",
            "Nama distance= euclidean\n",
            "Jumlah K tetangga= 15\n",
            "              precision    recall  f1-score   support\n",
            "\n",
            "           0       0.76      0.67      0.71        90\n",
            "           1       0.79      0.69      0.74        90\n",
            "           2       0.90      0.81      0.85        90\n",
            "           3       0.65      0.92      0.76        90\n",
            "           4       0.70      0.84      0.77        90\n",
            "           5       0.71      0.61      0.66        90\n",
            "           6       0.90      0.87      0.88        90\n",
            "           7       0.72      0.93      0.82        90\n",
            "           8       0.83      0.69      0.75        90\n",
            "           9       0.93      0.89      0.91        90\n",
            "          10       0.94      0.74      0.83        90\n",
            "          11       0.78      0.82      0.80        90\n",
            "\n",
            "    accuracy                           0.79      1080\n",
            "   macro avg       0.80      0.79      0.79      1080\n",
            "weighted avg       0.80      0.79      0.79      1080\n",
            "\n",
            "akurasi= 0.7907 presisi= 0.8023 recall= 0.7907 f1= 0.7965\n",
            "Tanpa Stemming\n",
            "Nama distance= manhattan\n",
            "Jumlah K tetangga= 1\n"
          ],
          "name": "stdout"
        },
        {
          "output_type": "stream",
          "text": [
            "/usr/local/lib/python3.7/dist-packages/sklearn/metrics/_classification.py:1272: UndefinedMetricWarning: Precision and F-score are ill-defined and being set to 0.0 in labels with no predicted samples. Use `zero_division` parameter to control this behavior.\n",
            "  _warn_prf(average, modifier, msg_start, len(result))\n"
          ],
          "name": "stderr"
        },
        {
          "output_type": "stream",
          "text": [
            "              precision    recall  f1-score   support\n",
            "\n",
            "           0       0.00      0.00      0.00        90\n",
            "           1       1.00      0.09      0.16        90\n",
            "           2       1.00      0.10      0.18        90\n",
            "           3       0.89      0.09      0.16        90\n",
            "           4       1.00      0.02      0.04        90\n",
            "           5       1.00      0.03      0.06        90\n",
            "           6       1.00      0.08      0.14        90\n",
            "           7       0.10      0.12      0.11        90\n",
            "           8       0.00      0.00      0.00        90\n",
            "           9       0.09      0.90      0.16        90\n",
            "          10       0.00      0.00      0.00        90\n",
            "          11       1.00      0.02      0.04        90\n",
            "\n",
            "    accuracy                           0.12      1080\n",
            "   macro avg       0.59      0.12      0.09      1080\n",
            "weighted avg       0.59      0.12      0.09      1080\n",
            "\n",
            "akurasi= 0.1213 presisi= 0.5898 recall= 0.1213 f1= 0.2012\n",
            "Tanpa Stemming\n",
            "Nama distance= manhattan\n",
            "Jumlah K tetangga= 3\n"
          ],
          "name": "stdout"
        },
        {
          "output_type": "stream",
          "text": [
            "/usr/local/lib/python3.7/dist-packages/sklearn/metrics/_classification.py:1272: UndefinedMetricWarning: Precision and F-score are ill-defined and being set to 0.0 in labels with no predicted samples. Use `zero_division` parameter to control this behavior.\n",
            "  _warn_prf(average, modifier, msg_start, len(result))\n"
          ],
          "name": "stderr"
        },
        {
          "output_type": "stream",
          "text": [
            "              precision    recall  f1-score   support\n",
            "\n",
            "           0       0.00      0.00      0.00        90\n",
            "           1       1.00      0.11      0.20        90\n",
            "           2       1.00      0.11      0.20        90\n",
            "           3       0.89      0.09      0.16        90\n",
            "           4       1.00      0.02      0.04        90\n",
            "           5       1.00      0.03      0.06        90\n",
            "           6       1.00      0.08      0.14        90\n",
            "           7       0.11      0.12      0.11        90\n",
            "           8       0.50      0.02      0.04        90\n",
            "           9       0.09      0.90      0.16        90\n",
            "          10       0.60      0.03      0.06        90\n",
            "          11       1.00      0.02      0.04        90\n",
            "\n",
            "    accuracy                           0.13      1080\n",
            "   macro avg       0.68      0.13      0.10      1080\n",
            "weighted avg       0.68      0.13      0.10      1080\n",
            "\n",
            "akurasi= 0.1287 presisi= 0.6820 recall= 0.1287 f1= 0.2165\n",
            "Tanpa Stemming\n",
            "Nama distance= manhattan\n",
            "Jumlah K tetangga= 5\n"
          ],
          "name": "stdout"
        },
        {
          "output_type": "stream",
          "text": [
            "/usr/local/lib/python3.7/dist-packages/sklearn/metrics/_classification.py:1272: UndefinedMetricWarning: Precision and F-score are ill-defined and being set to 0.0 in labels with no predicted samples. Use `zero_division` parameter to control this behavior.\n",
            "  _warn_prf(average, modifier, msg_start, len(result))\n"
          ],
          "name": "stderr"
        },
        {
          "output_type": "stream",
          "text": [
            "              precision    recall  f1-score   support\n",
            "\n",
            "           0       0.00      0.00      0.00        90\n",
            "           1       0.90      0.10      0.18        90\n",
            "           2       1.00      0.12      0.22        90\n",
            "           3       0.93      0.14      0.25        90\n",
            "           4       1.00      0.02      0.04        90\n",
            "           5       0.94      0.19      0.31        90\n",
            "           6       1.00      0.02      0.04        90\n",
            "           7       0.11      0.11      0.11        90\n",
            "           8       0.50      0.02      0.04        90\n",
            "           9       0.09      0.90      0.16        90\n",
            "          10       0.60      0.07      0.12        90\n",
            "          11       1.00      0.01      0.02        90\n",
            "\n",
            "    accuracy                           0.14      1080\n",
            "   macro avg       0.67      0.14      0.13      1080\n",
            "weighted avg       0.67      0.14      0.13      1080\n",
            "\n",
            "akurasi= 0.1426 presisi= 0.6724 recall= 0.1426 f1= 0.2353\n",
            "Tanpa Stemming\n",
            "Nama distance= manhattan\n",
            "Jumlah K tetangga= 7\n"
          ],
          "name": "stdout"
        },
        {
          "output_type": "stream",
          "text": [
            "/usr/local/lib/python3.7/dist-packages/sklearn/metrics/_classification.py:1272: UndefinedMetricWarning: Precision and F-score are ill-defined and being set to 0.0 in labels with no predicted samples. Use `zero_division` parameter to control this behavior.\n",
            "  _warn_prf(average, modifier, msg_start, len(result))\n"
          ],
          "name": "stderr"
        },
        {
          "output_type": "stream",
          "text": [
            "              precision    recall  f1-score   support\n",
            "\n",
            "           0       0.00      0.00      0.00        90\n",
            "           1       0.64      0.16      0.25        90\n",
            "           2       1.00      0.09      0.16        90\n",
            "           3       0.90      0.10      0.18        90\n",
            "           4       1.00      0.02      0.04        90\n",
            "           5       0.84      0.23      0.37        90\n",
            "           6       1.00      0.03      0.06        90\n",
            "           7       0.12      0.11      0.12        90\n",
            "           8       0.50      0.02      0.04        90\n",
            "           9       0.09      0.90      0.16        90\n",
            "          10       0.69      0.12      0.21        90\n",
            "          11       0.00      0.00      0.00        90\n",
            "\n",
            "    accuracy                           0.15      1080\n",
            "   macro avg       0.56      0.15      0.13      1080\n",
            "weighted avg       0.56      0.15      0.13      1080\n",
            "\n",
            "akurasi= 0.1491 presisi= 0.5647 recall= 0.1491 f1= 0.2359\n",
            "Tanpa Stemming\n",
            "Nama distance= manhattan\n",
            "Jumlah K tetangga= 9\n"
          ],
          "name": "stdout"
        },
        {
          "output_type": "stream",
          "text": [
            "/usr/local/lib/python3.7/dist-packages/sklearn/metrics/_classification.py:1272: UndefinedMetricWarning: Precision and F-score are ill-defined and being set to 0.0 in labels with no predicted samples. Use `zero_division` parameter to control this behavior.\n",
            "  _warn_prf(average, modifier, msg_start, len(result))\n"
          ],
          "name": "stderr"
        },
        {
          "output_type": "stream",
          "text": [
            "              precision    recall  f1-score   support\n",
            "\n",
            "           0       0.00      0.00      0.00        90\n",
            "           1       0.62      0.14      0.23        90\n",
            "           2       1.00      0.10      0.18        90\n",
            "           3       0.90      0.10      0.18        90\n",
            "           4       1.00      0.02      0.04        90\n",
            "           5       0.86      0.21      0.34        90\n",
            "           6       1.00      0.03      0.06        90\n",
            "           7       0.11      0.11      0.11        90\n",
            "           8       0.33      0.01      0.02        90\n",
            "           9       0.09      0.89      0.17        90\n",
            "          10       0.70      0.39      0.50        90\n",
            "          11       0.00      0.00      0.00        90\n",
            "\n",
            "    accuracy                           0.17      1080\n",
            "   macro avg       0.55      0.17      0.15      1080\n",
            "weighted avg       0.55      0.17      0.15      1080\n",
            "\n",
            "akurasi= 0.1676 presisi= 0.5517 recall= 0.1676 f1= 0.2571\n",
            "Tanpa Stemming\n",
            "Nama distance= manhattan\n",
            "Jumlah K tetangga= 11\n"
          ],
          "name": "stdout"
        },
        {
          "output_type": "stream",
          "text": [
            "/usr/local/lib/python3.7/dist-packages/sklearn/metrics/_classification.py:1272: UndefinedMetricWarning: Precision and F-score are ill-defined and being set to 0.0 in labels with no predicted samples. Use `zero_division` parameter to control this behavior.\n",
            "  _warn_prf(average, modifier, msg_start, len(result))\n"
          ],
          "name": "stderr"
        },
        {
          "output_type": "stream",
          "text": [
            "              precision    recall  f1-score   support\n",
            "\n",
            "           0       0.00      0.00      0.00        90\n",
            "           1       0.42      0.28      0.33        90\n",
            "           2       1.00      0.10      0.18        90\n",
            "           3       0.92      0.12      0.22        90\n",
            "           4       1.00      0.02      0.04        90\n",
            "           5       0.74      0.31      0.44        90\n",
            "           6       1.00      0.01      0.02        90\n",
            "           7       0.16      0.09      0.11        90\n",
            "           8       1.00      0.01      0.02        90\n",
            "           9       0.10      0.90      0.17        90\n",
            "          10       0.59      0.43      0.50        90\n",
            "          11       0.00      0.00      0.00        90\n",
            "\n",
            "    accuracy                           0.19      1080\n",
            "   macro avg       0.58      0.19      0.17      1080\n",
            "weighted avg       0.58      0.19      0.17      1080\n",
            "\n",
            "akurasi= 0.1898 presisi= 0.5764 recall= 0.1898 f1= 0.2856\n",
            "Tanpa Stemming\n",
            "Nama distance= manhattan\n",
            "Jumlah K tetangga= 13\n"
          ],
          "name": "stdout"
        },
        {
          "output_type": "stream",
          "text": [
            "/usr/local/lib/python3.7/dist-packages/sklearn/metrics/_classification.py:1272: UndefinedMetricWarning: Precision and F-score are ill-defined and being set to 0.0 in labels with no predicted samples. Use `zero_division` parameter to control this behavior.\n",
            "  _warn_prf(average, modifier, msg_start, len(result))\n"
          ],
          "name": "stderr"
        },
        {
          "output_type": "stream",
          "text": [
            "              precision    recall  f1-score   support\n",
            "\n",
            "           0       0.00      0.00      0.00        90\n",
            "           1       0.35      0.30      0.32        90\n",
            "           2       1.00      0.09      0.16        90\n",
            "           3       0.91      0.11      0.20        90\n",
            "           4       1.00      0.02      0.04        90\n",
            "           5       0.65      0.33      0.44        90\n",
            "           6       1.00      0.04      0.09        90\n",
            "           7       0.31      0.10      0.15        90\n",
            "           8       0.67      0.02      0.04        90\n",
            "           9       0.10      0.89      0.17        90\n",
            "          10       0.52      0.39      0.45        90\n",
            "          11       0.00      0.00      0.00        90\n",
            "\n",
            "    accuracy                           0.19      1080\n",
            "   macro avg       0.54      0.19      0.17      1080\n",
            "weighted avg       0.54      0.19      0.17      1080\n",
            "\n",
            "akurasi= 0.1917 presisi= 0.5423 recall= 0.1917 f1= 0.2832\n",
            "Tanpa Stemming\n",
            "Nama distance= manhattan\n",
            "Jumlah K tetangga= 15\n"
          ],
          "name": "stdout"
        },
        {
          "output_type": "stream",
          "text": [
            "/usr/local/lib/python3.7/dist-packages/sklearn/metrics/_classification.py:1272: UndefinedMetricWarning: Precision and F-score are ill-defined and being set to 0.0 in labels with no predicted samples. Use `zero_division` parameter to control this behavior.\n",
            "  _warn_prf(average, modifier, msg_start, len(result))\n"
          ],
          "name": "stderr"
        },
        {
          "output_type": "stream",
          "text": [
            "              precision    recall  f1-score   support\n",
            "\n",
            "           0       0.00      0.00      0.00        90\n",
            "           1       0.47      0.29      0.36        90\n",
            "           2       1.00      0.09      0.16        90\n",
            "           3       0.91      0.11      0.20        90\n",
            "           4       1.00      0.02      0.04        90\n",
            "           5       0.45      0.32      0.38        90\n",
            "           6       1.00      0.02      0.04        90\n",
            "           7       0.29      0.11      0.16        90\n",
            "           8       0.80      0.04      0.08        90\n",
            "           9       0.10      0.89      0.17        90\n",
            "          10       0.51      0.40      0.45        90\n",
            "          11       0.00      0.00      0.00        90\n",
            "\n",
            "    accuracy                           0.19      1080\n",
            "   macro avg       0.54      0.19      0.17      1080\n",
            "weighted avg       0.54      0.19      0.17      1080\n",
            "\n",
            "akurasi= 0.1917 presisi= 0.5444 recall= 0.1917 f1= 0.2835\n",
            "Tanpa Stemming\n",
            "Nama distance= cosine\n",
            "Jumlah K tetangga= 1\n",
            "              precision    recall  f1-score   support\n",
            "\n",
            "           0       0.67      0.59      0.63        90\n",
            "           1       0.67      0.66      0.66        90\n",
            "           2       0.77      0.80      0.78        90\n",
            "           3       0.68      0.70      0.69        90\n",
            "           4       0.66      0.70      0.68        90\n",
            "           5       0.60      0.59      0.59        90\n",
            "           6       0.88      0.91      0.90        90\n",
            "           7       0.72      0.82      0.77        90\n",
            "           8       0.65      0.64      0.65        90\n",
            "           9       0.83      0.86      0.84        90\n",
            "          10       0.83      0.69      0.75        90\n",
            "          11       0.70      0.69      0.69        90\n",
            "\n",
            "    accuracy                           0.72      1080\n",
            "   macro avg       0.72      0.72      0.72      1080\n",
            "weighted avg       0.72      0.72      0.72      1080\n",
            "\n",
            "akurasi= 0.7204 presisi= 0.7206 recall= 0.7204 f1= 0.7205\n",
            "Tanpa Stemming\n",
            "Nama distance= cosine\n",
            "Jumlah K tetangga= 3\n",
            "              precision    recall  f1-score   support\n",
            "\n",
            "           0       0.70      0.61      0.65        90\n",
            "           1       0.75      0.71      0.73        90\n",
            "           2       0.78      0.80      0.79        90\n",
            "           3       0.72      0.84      0.78        90\n",
            "           4       0.65      0.73      0.69        90\n",
            "           5       0.65      0.61      0.63        90\n",
            "           6       0.92      0.93      0.93        90\n",
            "           7       0.76      0.86      0.81        90\n",
            "           8       0.76      0.72      0.74        90\n",
            "           9       0.86      0.87      0.86        90\n",
            "          10       0.89      0.71      0.79        90\n",
            "          11       0.73      0.76      0.74        90\n",
            "\n",
            "    accuracy                           0.76      1080\n",
            "   macro avg       0.77      0.76      0.76      1080\n",
            "weighted avg       0.77      0.76      0.76      1080\n",
            "\n",
            "akurasi= 0.7630 presisi= 0.7652 recall= 0.7630 f1= 0.7641\n",
            "Tanpa Stemming\n",
            "Nama distance= cosine\n",
            "Jumlah K tetangga= 5\n",
            "              precision    recall  f1-score   support\n",
            "\n",
            "           0       0.72      0.62      0.67        90\n",
            "           1       0.79      0.72      0.76        90\n",
            "           2       0.84      0.81      0.82        90\n",
            "           3       0.72      0.87      0.79        90\n",
            "           4       0.67      0.78      0.72        90\n",
            "           5       0.69      0.62      0.65        90\n",
            "           6       0.92      0.92      0.92        90\n",
            "           7       0.77      0.89      0.82        90\n",
            "           8       0.78      0.73      0.75        90\n",
            "           9       0.90      0.87      0.88        90\n",
            "          10       0.91      0.74      0.82        90\n",
            "          11       0.76      0.84      0.80        90\n",
            "\n",
            "    accuracy                           0.79      1080\n",
            "   macro avg       0.79      0.79      0.78      1080\n",
            "weighted avg       0.79      0.79      0.78      1080\n",
            "\n",
            "akurasi= 0.7852 presisi= 0.7889 recall= 0.7852 f1= 0.7870\n",
            "Tanpa Stemming\n",
            "Nama distance= cosine\n",
            "Jumlah K tetangga= 7\n",
            "              precision    recall  f1-score   support\n",
            "\n",
            "           0       0.73      0.61      0.67        90\n",
            "           1       0.79      0.69      0.74        90\n",
            "           2       0.87      0.81      0.84        90\n",
            "           3       0.69      0.90      0.78        90\n",
            "           4       0.71      0.82      0.76        90\n",
            "           5       0.72      0.66      0.69        90\n",
            "           6       0.92      0.90      0.91        90\n",
            "           7       0.74      0.93      0.82        90\n",
            "           8       0.77      0.68      0.72        90\n",
            "           9       0.92      0.87      0.89        90\n",
            "          10       0.93      0.76      0.83        90\n",
            "          11       0.75      0.83      0.79        90\n",
            "\n",
            "    accuracy                           0.79      1080\n",
            "   macro avg       0.80      0.79      0.79      1080\n",
            "weighted avg       0.80      0.79      0.79      1080\n",
            "\n",
            "akurasi= 0.7880 presisi= 0.7953 recall= 0.7880 f1= 0.7916\n",
            "Tanpa Stemming\n",
            "Nama distance= cosine\n",
            "Jumlah K tetangga= 9\n",
            "              precision    recall  f1-score   support\n",
            "\n",
            "           0       0.78      0.66      0.71        90\n",
            "           1       0.74      0.64      0.69        90\n",
            "           2       0.88      0.84      0.86        90\n",
            "           3       0.68      0.90      0.77        90\n",
            "           4       0.71      0.82      0.76        90\n",
            "           5       0.71      0.62      0.66        90\n",
            "           6       0.93      0.90      0.92        90\n",
            "           7       0.72      0.93      0.81        90\n",
            "           8       0.78      0.66      0.71        90\n",
            "           9       0.96      0.87      0.91        90\n",
            "          10       0.93      0.73      0.82        90\n",
            "          11       0.74      0.87      0.80        90\n",
            "\n",
            "    accuracy                           0.79      1080\n",
            "   macro avg       0.80      0.79      0.79      1080\n",
            "weighted avg       0.80      0.79      0.79      1080\n",
            "\n",
            "akurasi= 0.7870 presisi= 0.7966 recall= 0.7870 f1= 0.7918\n",
            "Tanpa Stemming\n",
            "Nama distance= cosine\n",
            "Jumlah K tetangga= 11\n",
            "              precision    recall  f1-score   support\n",
            "\n",
            "           0       0.78      0.68      0.73        90\n",
            "           1       0.79      0.68      0.73        90\n",
            "           2       0.90      0.87      0.88        90\n",
            "           3       0.67      0.91      0.77        90\n",
            "           4       0.71      0.86      0.78        90\n",
            "           5       0.72      0.62      0.67        90\n",
            "           6       0.91      0.90      0.91        90\n",
            "           7       0.75      0.93      0.83        90\n",
            "           8       0.81      0.67      0.73        90\n",
            "           9       0.96      0.88      0.92        90\n",
            "          10       0.93      0.77      0.84        90\n",
            "          11       0.78      0.84      0.81        90\n",
            "\n",
            "    accuracy                           0.80      1080\n",
            "   macro avg       0.81      0.80      0.80      1080\n",
            "weighted avg       0.81      0.80      0.80      1080\n",
            "\n",
            "akurasi= 0.8000 presisi= 0.8092 recall= 0.8000 f1= 0.8046\n",
            "Tanpa Stemming\n",
            "Nama distance= cosine\n",
            "Jumlah K tetangga= 13\n",
            "              precision    recall  f1-score   support\n",
            "\n",
            "           0       0.74      0.67      0.70        90\n",
            "           1       0.80      0.66      0.72        90\n",
            "           2       0.92      0.88      0.90        90\n",
            "           3       0.66      0.91      0.76        90\n",
            "           4       0.70      0.84      0.76        90\n",
            "           5       0.70      0.61      0.65        90\n",
            "           6       0.90      0.90      0.90        90\n",
            "           7       0.73      0.91      0.81        90\n",
            "           8       0.81      0.67      0.73        90\n",
            "           9       0.98      0.88      0.92        90\n",
            "          10       0.93      0.76      0.83        90\n",
            "          11       0.79      0.83      0.81        90\n",
            "\n",
            "    accuracy                           0.79      1080\n",
            "   macro avg       0.80      0.79      0.79      1080\n",
            "weighted avg       0.80      0.79      0.79      1080\n",
            "\n",
            "akurasi= 0.7926 presisi= 0.8032 recall= 0.7926 f1= 0.7979\n",
            "Tanpa Stemming\n",
            "Nama distance= cosine\n",
            "Jumlah K tetangga= 15\n",
            "              precision    recall  f1-score   support\n",
            "\n",
            "           0       0.76      0.70      0.73        90\n",
            "           1       0.80      0.67      0.73        90\n",
            "           2       0.92      0.86      0.89        90\n",
            "           3       0.67      0.90      0.77        90\n",
            "           4       0.71      0.87      0.78        90\n",
            "           5       0.72      0.62      0.67        90\n",
            "           6       0.90      0.89      0.89        90\n",
            "           7       0.75      0.93      0.83        90\n",
            "           8       0.81      0.69      0.74        90\n",
            "           9       0.97      0.87      0.92        90\n",
            "          10       0.94      0.73      0.83        90\n",
            "          11       0.73      0.82      0.77        90\n",
            "\n",
            "    accuracy                           0.80      1080\n",
            "   macro avg       0.81      0.80      0.80      1080\n",
            "weighted avg       0.81      0.80      0.80      1080\n",
            "\n",
            "akurasi= 0.7954 presisi= 0.8064 recall= 0.7954 f1= 0.8008\n",
            "CPU times: user 1min 10s, sys: 369 ms, total: 1min 10s\n",
            "Wall time: 41.5 s\n"
          ],
          "name": "stdout"
        }
      ]
    },
    {
      "cell_type": "markdown",
      "metadata": {
        "id": "mSMetwoB05CL"
      },
      "source": [
        "## nltkSW"
      ]
    },
    {
      "cell_type": "code",
      "metadata": {
        "colab": {
          "base_uri": "https://localhost:8080/",
          "height": 1000
        },
        "id": "wYhc14d91A9f",
        "outputId": "8c5df7f3-bce7-40a4-f8fe-82897bde0e16"
      },
      "source": [
        "%%time\n",
        "df = pd.read_pickle('drive/MyDrive/AATABISMILLAH/NewDataset/preprocess_SWnltk_stemming.pkl')\n",
        "dfNo = pd.read_pickle('drive/MyDrive/AATABISMILLAH/NewDataset/preprocess_SWnltk_nostemming.pkl')\n",
        "# %%capture cap --no-stderr\n",
        "start_time = time.time()\n",
        "dfcount = [df,dfNo]\n",
        "distancecount = ['euclidean','manhattan','cosine']\n",
        "kcount = [1,3,5,7,9,11,13,15]\n",
        "for x in range(2):\n",
        "    arrd1 = []\n",
        "    arrd2 = []\n",
        "    arrd3 = []\n",
        "    for y in range(len(distancecount)):\n",
        "        maxresult = []\n",
        "        for z in range(len(kcount)):\n",
        "            if x==0:\n",
        "                print('Dengan Stemming')\n",
        "            else:\n",
        "                print('Tanpa Stemming')\n",
        "            # tempmax = classifier(dfcount[x],distancecount[y],kcount[z])\n",
        "            tempmax = classi_perk(dfcount[x],distancecount[y],kcount[z])\n",
        "            maxresult.append(tempmax)\n",
        "            if y==0:\n",
        "                arrd1.append(tempmax)\n",
        "            elif y==1:\n",
        "                arrd2.append(tempmax)\n",
        "            elif y==2:\n",
        "                arrd3.append(tempmax)\n",
        "#         tapi fold yang dipakai beda beda\n",
        "    plt.plot(kcount, arrd1, label = \"euclidean\")\n",
        "    plt.plot(kcount, arrd2, label = \"manhattan\")\n",
        "    plt.plot(kcount, arrd3, label = \"cosine\")\n",
        "    plt.xticks(kcount)\n",
        "    if x==0:\n",
        "        plt.title(\"Stemming\")\n",
        "    else:\n",
        "        plt.title(\"Tidak Stemming\")\n",
        "    plt.xlabel('Fold')\n",
        "    plt.ylabel('Akurasi')\n",
        "    plt.legend()\n",
        "    plt.pause(0.05)\n",
        "plt.show\n",
        "plt.style.use('seaborn-whitegrid')\n",
        "print(\"Lama Proses %s seconds\" % (time.time() - start_time))\n",
        "# with open('5000_fitur_SWnltkv2.txt', 'w') as f:\n",
        "#     f.write(cap.stdout)"
      ],
      "execution_count": null,
      "outputs": [
        {
          "output_type": "stream",
          "text": [
            "Dengan Stemming\n",
            "Nama distance= euclidean\n",
            "Jumlah K tetangga= 1\n",
            "              precision    recall  f1-score   support\n",
            "\n",
            "           0       0.40      0.02      0.04        90\n",
            "           1       0.88      0.24      0.38        90\n",
            "           2       0.78      0.32      0.46        90\n",
            "           3       0.86      0.21      0.34        90\n",
            "           4       0.67      0.09      0.16        90\n",
            "           5       0.86      0.13      0.23        90\n",
            "           6       0.92      0.26      0.40        90\n",
            "           7       0.53      0.09      0.15        90\n",
            "           8       0.61      0.19      0.29        90\n",
            "           9       0.10      0.97      0.18        90\n",
            "          10       0.78      0.16      0.26        90\n",
            "          11       0.81      0.24      0.38        90\n",
            "\n",
            "    accuracy                           0.24      1080\n",
            "   macro avg       0.68      0.24      0.27      1080\n",
            "weighted avg       0.68      0.24      0.27      1080\n",
            "\n",
            "akurasi= 0.2435 presisi= 0.6839 recall= 0.2435 f1= 0.3591\n",
            "Dengan Stemming\n",
            "Nama distance= euclidean\n",
            "Jumlah K tetangga= 3\n",
            "              precision    recall  f1-score   support\n",
            "\n",
            "           0       0.76      0.32      0.45        90\n",
            "           1       0.78      0.57      0.66        90\n",
            "           2       0.86      0.68      0.76        90\n",
            "           3       0.78      0.69      0.73        90\n",
            "           4       0.77      0.51      0.61        90\n",
            "           5       0.79      0.50      0.61        90\n",
            "           6       0.94      0.90      0.92        90\n",
            "           7       0.85      0.71      0.78        90\n",
            "           8       0.78      0.51      0.62        90\n",
            "           9       0.23      0.91      0.36        90\n",
            "          10       0.92      0.66      0.77        90\n",
            "          11       0.81      0.58      0.68        90\n",
            "\n",
            "    accuracy                           0.63      1080\n",
            "   macro avg       0.77      0.63      0.66      1080\n",
            "weighted avg       0.77      0.63      0.66      1080\n",
            "\n",
            "akurasi= 0.6278 presisi= 0.7729 recall= 0.6278 f1= 0.6928\n",
            "Dengan Stemming\n",
            "Nama distance= euclidean\n",
            "Jumlah K tetangga= 5\n",
            "              precision    recall  f1-score   support\n",
            "\n",
            "           0       0.71      0.59      0.64        90\n",
            "           1       0.72      0.63      0.67        90\n",
            "           2       0.81      0.76      0.78        90\n",
            "           3       0.70      0.84      0.77        90\n",
            "           4       0.69      0.73      0.71        90\n",
            "           5       0.70      0.57      0.63        90\n",
            "           6       0.90      0.89      0.89        90\n",
            "           7       0.81      0.84      0.83        90\n",
            "           8       0.77      0.71      0.74        90\n",
            "           9       0.61      0.91      0.73        90\n",
            "          10       0.90      0.71      0.80        90\n",
            "          11       0.72      0.76      0.74        90\n",
            "\n",
            "    accuracy                           0.75      1080\n",
            "   macro avg       0.75      0.75      0.74      1080\n",
            "weighted avg       0.75      0.75      0.74      1080\n",
            "\n",
            "akurasi= 0.7454 presisi= 0.7538 recall= 0.7454 f1= 0.7496\n",
            "Dengan Stemming\n",
            "Nama distance= euclidean\n",
            "Jumlah K tetangga= 7\n",
            "              precision    recall  f1-score   support\n",
            "\n",
            "           0       0.73      0.64      0.69        90\n",
            "           1       0.77      0.68      0.72        90\n",
            "           2       0.87      0.81      0.84        90\n",
            "           3       0.71      0.89      0.79        90\n",
            "           4       0.70      0.81      0.75        90\n",
            "           5       0.74      0.60      0.66        90\n",
            "           6       0.90      0.91      0.91        90\n",
            "           7       0.79      0.88      0.83        90\n",
            "           8       0.79      0.71      0.75        90\n",
            "           9       0.78      0.89      0.83        90\n",
            "          10       0.92      0.74      0.82        90\n",
            "          11       0.75      0.83      0.79        90\n",
            "\n",
            "    accuracy                           0.78      1080\n",
            "   macro avg       0.79      0.78      0.78      1080\n",
            "weighted avg       0.79      0.78      0.78      1080\n",
            "\n",
            "akurasi= 0.7833 presisi= 0.7876 recall= 0.7833 f1= 0.7855\n",
            "Dengan Stemming\n",
            "Nama distance= euclidean\n",
            "Jumlah K tetangga= 9\n",
            "              precision    recall  f1-score   support\n",
            "\n",
            "           0       0.79      0.62      0.70        90\n",
            "           1       0.76      0.71      0.74        90\n",
            "           2       0.81      0.76      0.78        90\n",
            "           3       0.69      0.92      0.79        90\n",
            "           4       0.68      0.86      0.75        90\n",
            "           5       0.75      0.58      0.65        90\n",
            "           6       0.91      0.89      0.90        90\n",
            "           7       0.76      0.92      0.83        90\n",
            "           8       0.80      0.71      0.75        90\n",
            "           9       0.89      0.88      0.88        90\n",
            "          10       0.92      0.76      0.83        90\n",
            "          11       0.76      0.82      0.79        90\n",
            "\n",
            "    accuracy                           0.79      1080\n",
            "   macro avg       0.79      0.79      0.78      1080\n",
            "weighted avg       0.79      0.79      0.78      1080\n",
            "\n",
            "akurasi= 0.7852 presisi= 0.7929 recall= 0.7852 f1= 0.7890\n",
            "Dengan Stemming\n",
            "Nama distance= euclidean\n",
            "Jumlah K tetangga= 11\n",
            "              precision    recall  f1-score   support\n",
            "\n",
            "           0       0.76      0.63      0.69        90\n",
            "           1       0.75      0.69      0.72        90\n",
            "           2       0.86      0.79      0.82        90\n",
            "           3       0.68      0.91      0.78        90\n",
            "           4       0.71      0.86      0.78        90\n",
            "           5       0.75      0.62      0.68        90\n",
            "           6       0.91      0.89      0.90        90\n",
            "           7       0.73      0.93      0.82        90\n",
            "           8       0.81      0.70      0.75        90\n",
            "           9       0.92      0.87      0.89        90\n",
            "          10       0.91      0.77      0.83        90\n",
            "          11       0.78      0.81      0.80        90\n",
            "\n",
            "    accuracy                           0.79      1080\n",
            "   macro avg       0.80      0.79      0.79      1080\n",
            "weighted avg       0.80      0.79      0.79      1080\n",
            "\n",
            "akurasi= 0.7889 presisi= 0.7965 recall= 0.7889 f1= 0.7927\n",
            "Dengan Stemming\n",
            "Nama distance= euclidean\n",
            "Jumlah K tetangga= 13\n",
            "              precision    recall  f1-score   support\n",
            "\n",
            "           0       0.76      0.66      0.70        90\n",
            "           1       0.77      0.70      0.73        90\n",
            "           2       0.86      0.80      0.83        90\n",
            "           3       0.66      0.92      0.77        90\n",
            "           4       0.70      0.84      0.76        90\n",
            "           5       0.72      0.59      0.65        90\n",
            "           6       0.91      0.91      0.91        90\n",
            "           7       0.73      0.91      0.81        90\n",
            "           8       0.84      0.70      0.76        90\n",
            "           9       0.94      0.86      0.90        90\n",
            "          10       0.93      0.76      0.83        90\n",
            "          11       0.76      0.80      0.78        90\n",
            "\n",
            "    accuracy                           0.79      1080\n",
            "   macro avg       0.80      0.79      0.79      1080\n",
            "weighted avg       0.80      0.79      0.79      1080\n",
            "\n",
            "akurasi= 0.7870 presisi= 0.7970 recall= 0.7870 f1= 0.7920\n",
            "Dengan Stemming\n",
            "Nama distance= euclidean\n",
            "Jumlah K tetangga= 15\n",
            "              precision    recall  f1-score   support\n",
            "\n",
            "           0       0.71      0.68      0.69        90\n",
            "           1       0.74      0.68      0.71        90\n",
            "           2       0.88      0.78      0.82        90\n",
            "           3       0.65      0.91      0.76        90\n",
            "           4       0.70      0.87      0.78        90\n",
            "           5       0.75      0.58      0.65        90\n",
            "           6       0.89      0.89      0.89        90\n",
            "           7       0.74      0.90      0.81        90\n",
            "           8       0.85      0.70      0.77        90\n",
            "           9       0.94      0.87      0.90        90\n",
            "          10       0.93      0.73      0.82        90\n",
            "          11       0.75      0.82      0.78        90\n",
            "\n",
            "    accuracy                           0.78      1080\n",
            "   macro avg       0.79      0.78      0.78      1080\n",
            "weighted avg       0.79      0.78      0.78      1080\n",
            "\n",
            "akurasi= 0.7833 presisi= 0.7946 recall= 0.7833 f1= 0.7889\n",
            "Dengan Stemming\n",
            "Nama distance= manhattan\n",
            "Jumlah K tetangga= 1\n"
          ],
          "name": "stdout"
        },
        {
          "output_type": "stream",
          "text": [
            "/usr/local/lib/python3.7/dist-packages/sklearn/metrics/_classification.py:1272: UndefinedMetricWarning: Precision and F-score are ill-defined and being set to 0.0 in labels with no predicted samples. Use `zero_division` parameter to control this behavior.\n",
            "  _warn_prf(average, modifier, msg_start, len(result))\n"
          ],
          "name": "stderr"
        },
        {
          "output_type": "stream",
          "text": [
            "              precision    recall  f1-score   support\n",
            "\n",
            "           0       0.00      0.00      0.00        90\n",
            "           1       1.00      0.10      0.18        90\n",
            "           2       1.00      0.16      0.27        90\n",
            "           3       0.77      0.11      0.19        90\n",
            "           4       1.00      0.03      0.06        90\n",
            "           5       1.00      0.07      0.12        90\n",
            "           6       1.00      0.11      0.20        90\n",
            "           7       0.11      0.12      0.11        90\n",
            "           8       0.50      0.03      0.06        90\n",
            "           9       0.09      0.92      0.17        90\n",
            "          10       0.00      0.00      0.00        90\n",
            "          11       1.00      0.04      0.09        90\n",
            "\n",
            "    accuracy                           0.14      1080\n",
            "   macro avg       0.62      0.14      0.12      1080\n",
            "weighted avg       0.62      0.14      0.12      1080\n",
            "\n",
            "akurasi= 0.1417 presisi= 0.6223 recall= 0.1417 f1= 0.2308\n",
            "Dengan Stemming\n",
            "Nama distance= manhattan\n",
            "Jumlah K tetangga= 3\n"
          ],
          "name": "stdout"
        },
        {
          "output_type": "stream",
          "text": [
            "/usr/local/lib/python3.7/dist-packages/sklearn/metrics/_classification.py:1272: UndefinedMetricWarning: Precision and F-score are ill-defined and being set to 0.0 in labels with no predicted samples. Use `zero_division` parameter to control this behavior.\n",
            "  _warn_prf(average, modifier, msg_start, len(result))\n"
          ],
          "name": "stderr"
        },
        {
          "output_type": "stream",
          "text": [
            "              precision    recall  f1-score   support\n",
            "\n",
            "           0       0.00      0.00      0.00        90\n",
            "           1       1.00      0.13      0.24        90\n",
            "           2       1.00      0.17      0.29        90\n",
            "           3       0.85      0.19      0.31        90\n",
            "           4       1.00      0.04      0.09        90\n",
            "           5       0.92      0.13      0.23        90\n",
            "           6       1.00      0.11      0.20        90\n",
            "           7       0.12      0.12      0.12        90\n",
            "           8       0.60      0.03      0.06        90\n",
            "           9       0.09      0.92      0.17        90\n",
            "          10       0.73      0.12      0.21        90\n",
            "          11       1.00      0.06      0.11        90\n",
            "\n",
            "    accuracy                           0.17      1080\n",
            "   macro avg       0.69      0.17      0.17      1080\n",
            "weighted avg       0.69      0.17      0.17      1080\n",
            "\n",
            "akurasi= 0.1694 presisi= 0.6932 recall= 0.1694 f1= 0.2723\n",
            "Dengan Stemming\n",
            "Nama distance= manhattan\n",
            "Jumlah K tetangga= 5\n"
          ],
          "name": "stdout"
        },
        {
          "output_type": "stream",
          "text": [
            "/usr/local/lib/python3.7/dist-packages/sklearn/metrics/_classification.py:1272: UndefinedMetricWarning: Precision and F-score are ill-defined and being set to 0.0 in labels with no predicted samples. Use `zero_division` parameter to control this behavior.\n",
            "  _warn_prf(average, modifier, msg_start, len(result))\n"
          ],
          "name": "stderr"
        },
        {
          "output_type": "stream",
          "text": [
            "              precision    recall  f1-score   support\n",
            "\n",
            "           0       0.00      0.00      0.00        90\n",
            "           1       0.93      0.16      0.27        90\n",
            "           2       1.00      0.12      0.22        90\n",
            "           3       0.95      0.22      0.36        90\n",
            "           4       1.00      0.04      0.09        90\n",
            "           5       0.70      0.21      0.32        90\n",
            "           6       1.00      0.10      0.18        90\n",
            "           7       0.12      0.10      0.11        90\n",
            "           8       0.80      0.04      0.08        90\n",
            "           9       0.09      0.93      0.17        90\n",
            "          10       0.57      0.14      0.23        90\n",
            "          11       1.00      0.03      0.06        90\n",
            "\n",
            "    accuracy                           0.18      1080\n",
            "   macro avg       0.68      0.18      0.17      1080\n",
            "weighted avg       0.68      0.18      0.17      1080\n",
            "\n",
            "akurasi= 0.1759 presisi= 0.6807 recall= 0.1759 f1= 0.2796\n",
            "Dengan Stemming\n",
            "Nama distance= manhattan\n",
            "Jumlah K tetangga= 7\n"
          ],
          "name": "stdout"
        },
        {
          "output_type": "stream",
          "text": [
            "/usr/local/lib/python3.7/dist-packages/sklearn/metrics/_classification.py:1272: UndefinedMetricWarning: Precision and F-score are ill-defined and being set to 0.0 in labels with no predicted samples. Use `zero_division` parameter to control this behavior.\n",
            "  _warn_prf(average, modifier, msg_start, len(result))\n"
          ],
          "name": "stderr"
        },
        {
          "output_type": "stream",
          "text": [
            "              precision    recall  f1-score   support\n",
            "\n",
            "           0       0.00      0.00      0.00        90\n",
            "           1       0.78      0.23      0.36        90\n",
            "           2       1.00      0.16      0.27        90\n",
            "           3       0.86      0.21      0.34        90\n",
            "           4       1.00      0.04      0.09        90\n",
            "           5       0.60      0.39      0.47        90\n",
            "           6       1.00      0.13      0.24        90\n",
            "           7       0.21      0.10      0.14        90\n",
            "           8       0.88      0.08      0.14        90\n",
            "           9       0.11      0.93      0.19        90\n",
            "          10       0.41      0.48      0.44        90\n",
            "          11       1.00      0.01      0.02        90\n",
            "\n",
            "    accuracy                           0.23      1080\n",
            "   macro avg       0.65      0.23      0.22      1080\n",
            "weighted avg       0.65      0.23      0.22      1080\n",
            "\n",
            "akurasi= 0.2306 presisi= 0.6539 recall= 0.2306 f1= 0.3409\n",
            "Dengan Stemming\n",
            "Nama distance= manhattan\n",
            "Jumlah K tetangga= 9\n"
          ],
          "name": "stdout"
        },
        {
          "output_type": "stream",
          "text": [
            "/usr/local/lib/python3.7/dist-packages/sklearn/metrics/_classification.py:1272: UndefinedMetricWarning: Precision and F-score are ill-defined and being set to 0.0 in labels with no predicted samples. Use `zero_division` parameter to control this behavior.\n",
            "  _warn_prf(average, modifier, msg_start, len(result))\n"
          ],
          "name": "stderr"
        },
        {
          "output_type": "stream",
          "text": [
            "              precision    recall  f1-score   support\n",
            "\n",
            "           0       1.00      0.01      0.02        90\n",
            "           1       0.77      0.22      0.34        90\n",
            "           2       1.00      0.13      0.24        90\n",
            "           3       0.82      0.26      0.39        90\n",
            "           4       1.00      0.04      0.09        90\n",
            "           5       0.51      0.46      0.48        90\n",
            "           6       1.00      0.12      0.22        90\n",
            "           7       0.45      0.11      0.18        90\n",
            "           8       0.83      0.06      0.10        90\n",
            "           9       0.10      0.92      0.19        90\n",
            "          10       0.45      0.43      0.44        90\n",
            "          11       0.00      0.00      0.00        90\n",
            "\n",
            "    accuracy                           0.23      1080\n",
            "   macro avg       0.66      0.23      0.22      1080\n",
            "weighted avg       0.66      0.23      0.22      1080\n",
            "\n",
            "akurasi= 0.2306 presisi= 0.6618 recall= 0.2306 f1= 0.3420\n",
            "Dengan Stemming\n",
            "Nama distance= manhattan\n",
            "Jumlah K tetangga= 11\n"
          ],
          "name": "stdout"
        },
        {
          "output_type": "stream",
          "text": [
            "/usr/local/lib/python3.7/dist-packages/sklearn/metrics/_classification.py:1272: UndefinedMetricWarning: Precision and F-score are ill-defined and being set to 0.0 in labels with no predicted samples. Use `zero_division` parameter to control this behavior.\n",
            "  _warn_prf(average, modifier, msg_start, len(result))\n"
          ],
          "name": "stderr"
        },
        {
          "output_type": "stream",
          "text": [
            "              precision    recall  f1-score   support\n",
            "\n",
            "           0       0.00      0.00      0.00        90\n",
            "           1       0.68      0.17      0.27        90\n",
            "           2       1.00      0.11      0.20        90\n",
            "           3       0.88      0.23      0.37        90\n",
            "           4       1.00      0.04      0.09        90\n",
            "           5       0.44      0.48      0.46        90\n",
            "           6       1.00      0.10      0.18        90\n",
            "           7       0.44      0.09      0.15        90\n",
            "           8       0.86      0.07      0.12        90\n",
            "           9       0.10      0.92      0.18        90\n",
            "          10       0.72      0.40      0.51        90\n",
            "          11       0.00      0.00      0.00        90\n",
            "\n",
            "    accuracy                           0.22      1080\n",
            "   macro avg       0.59      0.22      0.21      1080\n",
            "weighted avg       0.59      0.22      0.21      1080\n",
            "\n",
            "akurasi= 0.2176 presisi= 0.5934 recall= 0.2176 f1= 0.3184\n",
            "Dengan Stemming\n",
            "Nama distance= manhattan\n",
            "Jumlah K tetangga= 13\n"
          ],
          "name": "stdout"
        },
        {
          "output_type": "stream",
          "text": [
            "/usr/local/lib/python3.7/dist-packages/sklearn/metrics/_classification.py:1272: UndefinedMetricWarning: Precision and F-score are ill-defined and being set to 0.0 in labels with no predicted samples. Use `zero_division` parameter to control this behavior.\n",
            "  _warn_prf(average, modifier, msg_start, len(result))\n"
          ],
          "name": "stderr"
        },
        {
          "output_type": "stream",
          "text": [
            "              precision    recall  f1-score   support\n",
            "\n",
            "           0       0.00      0.00      0.00        90\n",
            "           1       0.79      0.17      0.28        90\n",
            "           2       1.00      0.07      0.12        90\n",
            "           3       0.84      0.18      0.29        90\n",
            "           4       1.00      0.04      0.09        90\n",
            "           5       0.36      0.43      0.39        90\n",
            "           6       1.00      0.09      0.16        90\n",
            "           7       0.57      0.04      0.08        90\n",
            "           8       1.00      0.06      0.11        90\n",
            "           9       0.10      0.91      0.19        90\n",
            "          10       0.46      0.57      0.51        90\n",
            "          11       0.00      0.00      0.00        90\n",
            "\n",
            "    accuracy                           0.21      1080\n",
            "   macro avg       0.59      0.21      0.18      1080\n",
            "weighted avg       0.59      0.21      0.18      1080\n",
            "\n",
            "akurasi= 0.2130 presisi= 0.5939 recall= 0.2130 f1= 0.3135\n",
            "Dengan Stemming\n",
            "Nama distance= manhattan\n",
            "Jumlah K tetangga= 15\n"
          ],
          "name": "stdout"
        },
        {
          "output_type": "stream",
          "text": [
            "/usr/local/lib/python3.7/dist-packages/sklearn/metrics/_classification.py:1272: UndefinedMetricWarning: Precision and F-score are ill-defined and being set to 0.0 in labels with no predicted samples. Use `zero_division` parameter to control this behavior.\n",
            "  _warn_prf(average, modifier, msg_start, len(result))\n"
          ],
          "name": "stderr"
        },
        {
          "output_type": "stream",
          "text": [
            "              precision    recall  f1-score   support\n",
            "\n",
            "           0       0.00      0.00      0.00        90\n",
            "           1       0.86      0.21      0.34        90\n",
            "           2       1.00      0.07      0.12        90\n",
            "           3       0.87      0.22      0.35        90\n",
            "           4       1.00      0.03      0.06        90\n",
            "           5       0.32      0.52      0.40        90\n",
            "           6       1.00      0.08      0.14        90\n",
            "           7       1.00      0.02      0.04        90\n",
            "           8       1.00      0.08      0.14        90\n",
            "           9       0.13      0.84      0.22        90\n",
            "          10       0.27      0.79      0.40        90\n",
            "          11       0.00      0.00      0.00        90\n",
            "\n",
            "    accuracy                           0.24      1080\n",
            "   macro avg       0.62      0.24      0.19      1080\n",
            "weighted avg       0.62      0.24      0.19      1080\n",
            "\n",
            "akurasi= 0.2389 presisi= 0.6209 recall= 0.2389 f1= 0.3450\n",
            "Dengan Stemming\n",
            "Nama distance= cosine\n",
            "Jumlah K tetangga= 1\n",
            "              precision    recall  f1-score   support\n",
            "\n",
            "           0       0.68      0.54      0.60        90\n",
            "           1       0.64      0.62      0.63        90\n",
            "           2       0.74      0.78      0.76        90\n",
            "           3       0.66      0.70      0.68        90\n",
            "           4       0.65      0.67      0.66        90\n",
            "           5       0.56      0.53      0.55        90\n",
            "           6       0.91      0.91      0.91        90\n",
            "           7       0.71      0.83      0.77        90\n",
            "           8       0.67      0.66      0.66        90\n",
            "           9       0.86      0.87      0.86        90\n",
            "          10       0.81      0.70      0.75        90\n",
            "          11       0.70      0.79      0.74        90\n",
            "\n",
            "    accuracy                           0.72      1080\n",
            "   macro avg       0.72      0.72      0.71      1080\n",
            "weighted avg       0.72      0.72      0.71      1080\n",
            "\n",
            "akurasi= 0.7167 presisi= 0.7166 recall= 0.7167 f1= 0.7166\n",
            "Dengan Stemming\n",
            "Nama distance= cosine\n",
            "Jumlah K tetangga= 3\n",
            "              precision    recall  f1-score   support\n",
            "\n",
            "           0       0.72      0.63      0.67        90\n",
            "           1       0.73      0.68      0.70        90\n",
            "           2       0.80      0.78      0.79        90\n",
            "           3       0.67      0.83      0.74        90\n",
            "           4       0.68      0.73      0.71        90\n",
            "           5       0.66      0.60      0.63        90\n",
            "           6       0.91      0.91      0.91        90\n",
            "           7       0.77      0.84      0.80        90\n",
            "           8       0.76      0.70      0.73        90\n",
            "           9       0.90      0.89      0.89        90\n",
            "          10       0.83      0.72      0.77        90\n",
            "          11       0.73      0.81      0.77        90\n",
            "\n",
            "    accuracy                           0.76      1080\n",
            "   macro avg       0.76      0.76      0.76      1080\n",
            "weighted avg       0.76      0.76      0.76      1080\n",
            "\n",
            "akurasi= 0.7611 presisi= 0.7634 recall= 0.7611 f1= 0.7623\n",
            "Dengan Stemming\n",
            "Nama distance= cosine\n",
            "Jumlah K tetangga= 5\n",
            "              precision    recall  f1-score   support\n",
            "\n",
            "           0       0.75      0.69      0.72        90\n",
            "           1       0.78      0.67      0.72        90\n",
            "           2       0.83      0.81      0.82        90\n",
            "           3       0.69      0.90      0.78        90\n",
            "           4       0.70      0.81      0.75        90\n",
            "           5       0.76      0.62      0.68        90\n",
            "           6       0.89      0.92      0.91        90\n",
            "           7       0.79      0.89      0.84        90\n",
            "           8       0.80      0.73      0.76        90\n",
            "           9       0.93      0.87      0.90        90\n",
            "          10       0.89      0.74      0.81        90\n",
            "          11       0.74      0.83      0.79        90\n",
            "\n",
            "    accuracy                           0.79      1080\n",
            "   macro avg       0.80      0.79      0.79      1080\n",
            "weighted avg       0.80      0.79      0.79      1080\n",
            "\n",
            "akurasi= 0.7907 presisi= 0.7959 recall= 0.7907 f1= 0.7933\n",
            "Dengan Stemming\n",
            "Nama distance= cosine\n",
            "Jumlah K tetangga= 7\n",
            "              precision    recall  f1-score   support\n",
            "\n",
            "           0       0.76      0.64      0.70        90\n",
            "           1       0.76      0.71      0.74        90\n",
            "           2       0.84      0.81      0.82        90\n",
            "           3       0.70      0.91      0.79        90\n",
            "           4       0.72      0.84      0.78        90\n",
            "           5       0.74      0.64      0.69        90\n",
            "           6       0.91      0.90      0.91        90\n",
            "           7       0.77      0.92      0.84        90\n",
            "           8       0.80      0.70      0.75        90\n",
            "           9       0.94      0.88      0.91        90\n",
            "          10       0.93      0.73      0.82        90\n",
            "          11       0.76      0.86      0.81        90\n",
            "\n",
            "    accuracy                           0.80      1080\n",
            "   macro avg       0.80      0.80      0.80      1080\n",
            "weighted avg       0.80      0.80      0.80      1080\n",
            "\n",
            "akurasi= 0.7963 presisi= 0.8028 recall= 0.7963 f1= 0.7996\n",
            "Dengan Stemming\n",
            "Nama distance= cosine\n",
            "Jumlah K tetangga= 9\n",
            "              precision    recall  f1-score   support\n",
            "\n",
            "           0       0.76      0.63      0.69        90\n",
            "           1       0.77      0.69      0.73        90\n",
            "           2       0.83      0.79      0.81        90\n",
            "           3       0.68      0.91      0.78        90\n",
            "           4       0.68      0.81      0.74        90\n",
            "           5       0.72      0.61      0.66        90\n",
            "           6       0.89      0.89      0.89        90\n",
            "           7       0.72      0.92      0.81        90\n",
            "           8       0.85      0.69      0.76        90\n",
            "           9       0.96      0.88      0.92        90\n",
            "          10       0.89      0.76      0.82        90\n",
            "          11       0.78      0.84      0.81        90\n",
            "\n",
            "    accuracy                           0.79      1080\n",
            "   macro avg       0.79      0.79      0.78      1080\n",
            "weighted avg       0.79      0.79      0.78      1080\n",
            "\n",
            "akurasi= 0.7852 presisi= 0.7940 recall= 0.7852 f1= 0.7895\n",
            "Dengan Stemming\n",
            "Nama distance= cosine\n",
            "Jumlah K tetangga= 11\n",
            "              precision    recall  f1-score   support\n",
            "\n",
            "           0       0.74      0.62      0.67        90\n",
            "           1       0.76      0.69      0.72        90\n",
            "           2       0.84      0.82      0.83        90\n",
            "           3       0.68      0.91      0.78        90\n",
            "           4       0.71      0.83      0.77        90\n",
            "           5       0.73      0.62      0.67        90\n",
            "           6       0.90      0.90      0.90        90\n",
            "           7       0.73      0.91      0.81        90\n",
            "           8       0.83      0.71      0.77        90\n",
            "           9       0.97      0.86      0.91        90\n",
            "          10       0.90      0.77      0.83        90\n",
            "          11       0.76      0.81      0.78        90\n",
            "\n",
            "    accuracy                           0.79      1080\n",
            "   macro avg       0.80      0.79      0.79      1080\n",
            "weighted avg       0.80      0.79      0.79      1080\n",
            "\n",
            "akurasi= 0.7880 presisi= 0.7956 recall= 0.7880 f1= 0.7917\n",
            "Dengan Stemming\n",
            "Nama distance= cosine\n",
            "Jumlah K tetangga= 13\n",
            "              precision    recall  f1-score   support\n",
            "\n",
            "           0       0.75      0.64      0.69        90\n",
            "           1       0.76      0.67      0.71        90\n",
            "           2       0.88      0.84      0.86        90\n",
            "           3       0.65      0.92      0.76        90\n",
            "           4       0.71      0.86      0.77        90\n",
            "           5       0.75      0.60      0.67        90\n",
            "           6       0.90      0.92      0.91        90\n",
            "           7       0.73      0.91      0.81        90\n",
            "           8       0.84      0.68      0.75        90\n",
            "           9       0.97      0.86      0.91        90\n",
            "          10       0.91      0.74      0.82        90\n",
            "          11       0.75      0.82      0.78        90\n",
            "\n",
            "    accuracy                           0.79      1080\n",
            "   macro avg       0.80      0.79      0.79      1080\n",
            "weighted avg       0.80      0.79      0.79      1080\n",
            "\n",
            "akurasi= 0.7889 presisi= 0.7998 recall= 0.7889 f1= 0.7943\n",
            "Dengan Stemming\n",
            "Nama distance= cosine\n",
            "Jumlah K tetangga= 15\n",
            "              precision    recall  f1-score   support\n",
            "\n",
            "           0       0.69      0.63      0.66        90\n",
            "           1       0.77      0.63      0.70        90\n",
            "           2       0.88      0.81      0.84        90\n",
            "           3       0.65      0.91      0.76        90\n",
            "           4       0.71      0.89      0.79        90\n",
            "           5       0.78      0.59      0.67        90\n",
            "           6       0.90      0.92      0.91        90\n",
            "           7       0.72      0.90      0.80        90\n",
            "           8       0.84      0.69      0.76        90\n",
            "           9       0.97      0.86      0.91        90\n",
            "          10       0.89      0.74      0.81        90\n",
            "          11       0.75      0.83      0.79        90\n",
            "\n",
            "    accuracy                           0.78      1080\n",
            "   macro avg       0.80      0.78      0.78      1080\n",
            "weighted avg       0.80      0.78      0.78      1080\n",
            "\n",
            "akurasi= 0.7843 presisi= 0.7958 recall= 0.7843 f1= 0.7900\n"
          ],
          "name": "stdout"
        },
        {
          "output_type": "display_data",
          "data": {
            "image/png": "[encoded data removed]",
            "text/plain": [
              "<Figure size 432x288 with 1 Axes>"
            ]
          },
          "metadata": {
            "tags": []
          }
        },
        {
          "output_type": "stream",
          "text": [
            "Tanpa Stemming\n",
            "Nama distance= euclidean\n",
            "Jumlah K tetangga= 1\n",
            "              precision    recall  f1-score   support\n",
            "\n",
            "           0       0.33      0.02      0.04        90\n",
            "           1       0.81      0.19      0.31        90\n",
            "           2       0.81      0.29      0.43        90\n",
            "           3       0.79      0.21      0.33        90\n",
            "           4       1.00      0.09      0.16        90\n",
            "           5       0.88      0.16      0.26        90\n",
            "           6       0.91      0.22      0.36        90\n",
            "           7       0.62      0.09      0.16        90\n",
            "           8       0.62      0.18      0.28        90\n",
            "           9       0.10      0.98      0.18        90\n",
            "          10       0.69      0.10      0.17        90\n",
            "          11       0.77      0.19      0.30        90\n",
            "\n",
            "    accuracy                           0.23      1080\n",
            "   macro avg       0.69      0.23      0.25      1080\n",
            "weighted avg       0.69      0.23      0.25      1080\n",
            "\n",
            "akurasi= 0.2259 presisi= 0.6939 recall= 0.2259 f1= 0.3409\n",
            "Tanpa Stemming\n",
            "Nama distance= euclidean\n",
            "Jumlah K tetangga= 3\n",
            "              precision    recall  f1-score   support\n",
            "\n",
            "           0       0.75      0.37      0.49        90\n",
            "           1       0.78      0.57      0.66        90\n",
            "           2       0.86      0.73      0.79        90\n",
            "           3       0.79      0.66      0.72        90\n",
            "           4       0.87      0.53      0.66        90\n",
            "           5       0.88      0.50      0.64        90\n",
            "           6       0.94      0.88      0.91        90\n",
            "           7       0.89      0.72      0.80        90\n",
            "           8       0.81      0.53      0.64        90\n",
            "           9       0.23      0.94      0.37        90\n",
            "          10       0.94      0.66      0.77        90\n",
            "          11       0.75      0.51      0.61        90\n",
            "\n",
            "    accuracy                           0.63      1080\n",
            "   macro avg       0.79      0.63      0.67      1080\n",
            "weighted avg       0.79      0.63      0.67      1080\n",
            "\n",
            "akurasi= 0.6333 presisi= 0.7914 recall= 0.6333 f1= 0.7036\n",
            "Tanpa Stemming\n",
            "Nama distance= euclidean\n",
            "Jumlah K tetangga= 5\n",
            "              precision    recall  f1-score   support\n",
            "\n",
            "           0       0.75      0.64      0.69        90\n",
            "           1       0.72      0.69      0.70        90\n",
            "           2       0.85      0.81      0.83        90\n",
            "           3       0.71      0.82      0.76        90\n",
            "           4       0.70      0.71      0.71        90\n",
            "           5       0.68      0.58      0.63        90\n",
            "           6       0.91      0.89      0.90        90\n",
            "           7       0.82      0.86      0.84        90\n",
            "           8       0.75      0.70      0.72        90\n",
            "           9       0.61      0.89      0.72        90\n",
            "          10       0.92      0.72      0.81        90\n",
            "          11       0.72      0.73      0.73        90\n",
            "\n",
            "    accuracy                           0.75      1080\n",
            "   macro avg       0.76      0.75      0.75      1080\n",
            "weighted avg       0.76      0.75      0.75      1080\n",
            "\n",
            "akurasi= 0.7537 presisi= 0.7620 recall= 0.7537 f1= 0.7578\n",
            "Tanpa Stemming\n",
            "Nama distance= euclidean\n",
            "Jumlah K tetangga= 7\n",
            "              precision    recall  f1-score   support\n",
            "\n",
            "           0       0.74      0.64      0.69        90\n",
            "           1       0.75      0.71      0.73        90\n",
            "           2       0.84      0.83      0.84        90\n",
            "           3       0.70      0.87      0.78        90\n",
            "           4       0.71      0.77      0.74        90\n",
            "           5       0.71      0.62      0.66        90\n",
            "           6       0.89      0.91      0.90        90\n",
            "           7       0.82      0.89      0.86        90\n",
            "           8       0.77      0.72      0.75        90\n",
            "           9       0.84      0.87      0.85        90\n",
            "          10       0.91      0.78      0.84        90\n",
            "          11       0.74      0.81      0.78        90\n",
            "\n",
            "    accuracy                           0.79      1080\n",
            "   macro avg       0.79      0.79      0.78      1080\n",
            "weighted avg       0.79      0.79      0.78      1080\n",
            "\n",
            "akurasi= 0.7852 presisi= 0.7871 recall= 0.7852 f1= 0.7861\n",
            "Tanpa Stemming\n",
            "Nama distance= euclidean\n",
            "Jumlah K tetangga= 9\n",
            "              precision    recall  f1-score   support\n",
            "\n",
            "           0       0.76      0.67      0.71        90\n",
            "           1       0.75      0.70      0.72        90\n",
            "           2       0.83      0.77      0.80        90\n",
            "           3       0.68      0.90      0.77        90\n",
            "           4       0.73      0.79      0.76        90\n",
            "           5       0.72      0.64      0.68        90\n",
            "           6       0.88      0.90      0.89        90\n",
            "           7       0.81      0.91      0.86        90\n",
            "           8       0.78      0.69      0.73        90\n",
            "           9       0.86      0.88      0.87        90\n",
            "          10       0.92      0.78      0.84        90\n",
            "          11       0.77      0.82      0.80        90\n",
            "\n",
            "    accuracy                           0.79      1080\n",
            "   macro avg       0.79      0.79      0.79      1080\n",
            "weighted avg       0.79      0.79      0.79      1080\n",
            "\n",
            "akurasi= 0.7870 presisi= 0.7910 recall= 0.7870 f1= 0.7890\n",
            "Tanpa Stemming\n",
            "Nama distance= euclidean\n",
            "Jumlah K tetangga= 11\n",
            "              precision    recall  f1-score   support\n",
            "\n",
            "           0       0.80      0.67      0.73        90\n",
            "           1       0.75      0.71      0.73        90\n",
            "           2       0.86      0.79      0.82        90\n",
            "           3       0.66      0.90      0.76        90\n",
            "           4       0.72      0.84      0.78        90\n",
            "           5       0.77      0.64      0.70        90\n",
            "           6       0.86      0.88      0.87        90\n",
            "           7       0.79      0.92      0.85        90\n",
            "           8       0.82      0.69      0.75        90\n",
            "           9       0.91      0.89      0.90        90\n",
            "          10       0.95      0.78      0.85        90\n",
            "          11       0.77      0.86      0.81        90\n",
            "\n",
            "    accuracy                           0.80      1080\n",
            "   macro avg       0.80      0.80      0.80      1080\n",
            "weighted avg       0.80      0.80      0.80      1080\n",
            "\n",
            "akurasi= 0.7972 presisi= 0.8050 recall= 0.7972 f1= 0.8011\n",
            "Tanpa Stemming\n",
            "Nama distance= euclidean\n",
            "Jumlah K tetangga= 13\n",
            "              precision    recall  f1-score   support\n",
            "\n",
            "           0       0.78      0.66      0.71        90\n",
            "           1       0.77      0.70      0.73        90\n",
            "           2       0.84      0.83      0.84        90\n",
            "           3       0.66      0.90      0.76        90\n",
            "           4       0.75      0.86      0.80        90\n",
            "           5       0.74      0.61      0.67        90\n",
            "           6       0.88      0.89      0.88        90\n",
            "           7       0.77      0.91      0.83        90\n",
            "           8       0.82      0.70      0.75        90\n",
            "           9       0.93      0.89      0.91        90\n",
            "          10       0.93      0.78      0.85        90\n",
            "          11       0.77      0.83      0.80        90\n",
            "\n",
            "    accuracy                           0.80      1080\n",
            "   macro avg       0.80      0.80      0.80      1080\n",
            "weighted avg       0.80      0.80      0.80      1080\n",
            "\n",
            "akurasi= 0.7963 presisi= 0.8031 recall= 0.7963 f1= 0.7997\n",
            "Tanpa Stemming\n",
            "Nama distance= euclidean\n",
            "Jumlah K tetangga= 15\n",
            "              precision    recall  f1-score   support\n",
            "\n",
            "           0       0.75      0.68      0.71        90\n",
            "           1       0.76      0.67      0.71        90\n",
            "           2       0.81      0.82      0.82        90\n",
            "           3       0.65      0.89      0.75        90\n",
            "           4       0.71      0.82      0.76        90\n",
            "           5       0.74      0.60      0.66        90\n",
            "           6       0.84      0.88      0.86        90\n",
            "           7       0.79      0.90      0.84        90\n",
            "           8       0.80      0.68      0.73        90\n",
            "           9       0.95      0.89      0.92        90\n",
            "          10       0.93      0.77      0.84        90\n",
            "          11       0.76      0.82      0.79        90\n",
            "\n",
            "    accuracy                           0.78      1080\n",
            "   macro avg       0.79      0.78      0.78      1080\n",
            "weighted avg       0.79      0.78      0.78      1080\n",
            "\n",
            "akurasi= 0.7843 presisi= 0.7914 recall= 0.7843 f1= 0.7878\n",
            "Tanpa Stemming\n",
            "Nama distance= manhattan\n",
            "Jumlah K tetangga= 1\n"
          ],
          "name": "stdout"
        },
        {
          "output_type": "stream",
          "text": [
            "/usr/local/lib/python3.7/dist-packages/sklearn/metrics/_classification.py:1272: UndefinedMetricWarning: Precision and F-score are ill-defined and being set to 0.0 in labels with no predicted samples. Use `zero_division` parameter to control this behavior.\n",
            "  _warn_prf(average, modifier, msg_start, len(result))\n"
          ],
          "name": "stderr"
        },
        {
          "output_type": "stream",
          "text": [
            "              precision    recall  f1-score   support\n",
            "\n",
            "           0       0.00      0.00      0.00        90\n",
            "           1       1.00      0.10      0.18        90\n",
            "           2       1.00      0.16      0.27        90\n",
            "           3       0.89      0.09      0.16        90\n",
            "           4       1.00      0.02      0.04        90\n",
            "           5       1.00      0.06      0.11        90\n",
            "           6       1.00      0.09      0.16        90\n",
            "           7       0.10      0.12      0.11        90\n",
            "           8       0.33      0.01      0.02        90\n",
            "           9       0.09      0.91      0.16        90\n",
            "          10       0.00      0.00      0.00        90\n",
            "          11       1.00      0.04      0.09        90\n",
            "\n",
            "    accuracy                           0.13      1080\n",
            "   macro avg       0.62      0.13      0.11      1080\n",
            "weighted avg       0.62      0.13      0.11      1080\n",
            "\n",
            "akurasi= 0.1333 presisi= 0.6179 recall= 0.1333 f1= 0.2193\n",
            "Tanpa Stemming\n",
            "Nama distance= manhattan\n",
            "Jumlah K tetangga= 3\n"
          ],
          "name": "stdout"
        },
        {
          "output_type": "stream",
          "text": [
            "/usr/local/lib/python3.7/dist-packages/sklearn/metrics/_classification.py:1272: UndefinedMetricWarning: Precision and F-score are ill-defined and being set to 0.0 in labels with no predicted samples. Use `zero_division` parameter to control this behavior.\n",
            "  _warn_prf(average, modifier, msg_start, len(result))\n"
          ],
          "name": "stderr"
        },
        {
          "output_type": "stream",
          "text": [
            "              precision    recall  f1-score   support\n",
            "\n",
            "           0       0.00      0.00      0.00        90\n",
            "           1       1.00      0.12      0.22        90\n",
            "           2       1.00      0.17      0.29        90\n",
            "           3       0.90      0.10      0.18        90\n",
            "           4       1.00      0.02      0.04        90\n",
            "           5       1.00      0.10      0.18        90\n",
            "           6       1.00      0.09      0.16        90\n",
            "           7       0.11      0.12      0.12        90\n",
            "           8       0.40      0.02      0.04        90\n",
            "           9       0.09      0.91      0.16        90\n",
            "          10       1.00      0.08      0.14        90\n",
            "          11       1.00      0.04      0.09        90\n",
            "\n",
            "    accuracy                           0.15      1080\n",
            "   macro avg       0.71      0.15      0.14      1080\n",
            "weighted avg       0.71      0.15      0.14      1080\n",
            "\n",
            "akurasi= 0.1481 presisi= 0.7084 recall= 0.1481 f1= 0.2450\n",
            "Tanpa Stemming\n",
            "Nama distance= manhattan\n",
            "Jumlah K tetangga= 5\n"
          ],
          "name": "stdout"
        },
        {
          "output_type": "stream",
          "text": [
            "/usr/local/lib/python3.7/dist-packages/sklearn/metrics/_classification.py:1272: UndefinedMetricWarning: Precision and F-score are ill-defined and being set to 0.0 in labels with no predicted samples. Use `zero_division` parameter to control this behavior.\n",
            "  _warn_prf(average, modifier, msg_start, len(result))\n"
          ],
          "name": "stderr"
        },
        {
          "output_type": "stream",
          "text": [
            "              precision    recall  f1-score   support\n",
            "\n",
            "           0       0.00      0.00      0.00        90\n",
            "           1       0.93      0.16      0.27        90\n",
            "           2       1.00      0.12      0.22        90\n",
            "           3       0.94      0.19      0.31        90\n",
            "           4       1.00      0.02      0.04        90\n",
            "           5       0.95      0.20      0.33        90\n",
            "           6       1.00      0.07      0.12        90\n",
            "           7       0.11      0.11      0.11        90\n",
            "           8       0.67      0.02      0.04        90\n",
            "           9       0.09      0.91      0.17        90\n",
            "          10       0.88      0.08      0.14        90\n",
            "          11       1.00      0.03      0.06        90\n",
            "\n",
            "    accuracy                           0.16      1080\n",
            "   macro avg       0.71      0.16      0.15      1080\n",
            "weighted avg       0.71      0.16      0.15      1080\n",
            "\n",
            "akurasi= 0.1593 presisi= 0.7137 recall= 0.1593 f1= 0.2604\n",
            "Tanpa Stemming\n",
            "Nama distance= manhattan\n",
            "Jumlah K tetangga= 7\n"
          ],
          "name": "stdout"
        },
        {
          "output_type": "stream",
          "text": [
            "/usr/local/lib/python3.7/dist-packages/sklearn/metrics/_classification.py:1272: UndefinedMetricWarning: Precision and F-score are ill-defined and being set to 0.0 in labels with no predicted samples. Use `zero_division` parameter to control this behavior.\n",
            "  _warn_prf(average, modifier, msg_start, len(result))\n"
          ],
          "name": "stderr"
        },
        {
          "output_type": "stream",
          "text": [
            "              precision    recall  f1-score   support\n",
            "\n",
            "           0       0.00      0.00      0.00        90\n",
            "           1       0.80      0.22      0.35        90\n",
            "           2       1.00      0.10      0.18        90\n",
            "           3       0.92      0.12      0.22        90\n",
            "           4       1.00      0.02      0.04        90\n",
            "           5       0.45      0.29      0.35        90\n",
            "           6       1.00      0.06      0.11        90\n",
            "           7       0.18      0.10      0.13        90\n",
            "           8       0.50      0.02      0.04        90\n",
            "           9       0.09      0.93      0.17        90\n",
            "          10       0.79      0.17      0.28        90\n",
            "          11       0.00      0.00      0.00        90\n",
            "\n",
            "    accuracy                           0.17      1080\n",
            "   macro avg       0.56      0.17      0.16      1080\n",
            "weighted avg       0.56      0.17      0.16      1080\n",
            "\n",
            "akurasi= 0.1694 presisi= 0.5610 recall= 0.1694 f1= 0.2603\n",
            "Tanpa Stemming\n",
            "Nama distance= manhattan\n",
            "Jumlah K tetangga= 9\n"
          ],
          "name": "stdout"
        },
        {
          "output_type": "stream",
          "text": [
            "/usr/local/lib/python3.7/dist-packages/sklearn/metrics/_classification.py:1272: UndefinedMetricWarning: Precision and F-score are ill-defined and being set to 0.0 in labels with no predicted samples. Use `zero_division` parameter to control this behavior.\n",
            "  _warn_prf(average, modifier, msg_start, len(result))\n"
          ],
          "name": "stderr"
        },
        {
          "output_type": "stream",
          "text": [
            "              precision    recall  f1-score   support\n",
            "\n",
            "           0       0.00      0.00      0.00        90\n",
            "           1       0.67      0.16      0.25        90\n",
            "           2       1.00      0.10      0.18        90\n",
            "           3       0.92      0.12      0.22        90\n",
            "           4       1.00      0.03      0.06        90\n",
            "           5       0.45      0.34      0.39        90\n",
            "           6       1.00      0.07      0.12        90\n",
            "           7       0.18      0.09      0.12        90\n",
            "           8       0.60      0.03      0.06        90\n",
            "           9       0.09      0.92      0.17        90\n",
            "          10       0.90      0.21      0.34        90\n",
            "          11       0.00      0.00      0.00        90\n",
            "\n",
            "    accuracy                           0.17      1080\n",
            "   macro avg       0.57      0.17      0.16      1080\n",
            "weighted avg       0.57      0.17      0.16      1080\n",
            "\n",
            "akurasi= 0.1731 presisi= 0.5677 recall= 0.1731 f1= 0.2654\n",
            "Tanpa Stemming\n",
            "Nama distance= manhattan\n",
            "Jumlah K tetangga= 11\n"
          ],
          "name": "stdout"
        },
        {
          "output_type": "stream",
          "text": [
            "/usr/local/lib/python3.7/dist-packages/sklearn/metrics/_classification.py:1272: UndefinedMetricWarning: Precision and F-score are ill-defined and being set to 0.0 in labels with no predicted samples. Use `zero_division` parameter to control this behavior.\n",
            "  _warn_prf(average, modifier, msg_start, len(result))\n"
          ],
          "name": "stderr"
        },
        {
          "output_type": "stream",
          "text": [
            "              precision    recall  f1-score   support\n",
            "\n",
            "           0       0.00      0.00      0.00        90\n",
            "           1       0.74      0.19      0.30        90\n",
            "           2       1.00      0.10      0.18        90\n",
            "           3       0.93      0.14      0.25        90\n",
            "           4       1.00      0.02      0.04        90\n",
            "           5       0.33      0.39      0.36        90\n",
            "           6       1.00      0.07      0.12        90\n",
            "           7       0.33      0.04      0.08        90\n",
            "           8       0.80      0.04      0.08        90\n",
            "           9       0.10      0.91      0.17        90\n",
            "          10       0.79      0.37      0.50        90\n",
            "          11       0.00      0.00      0.00        90\n",
            "\n",
            "    accuracy                           0.19      1080\n",
            "   macro avg       0.58      0.19      0.17      1080\n",
            "weighted avg       0.58      0.19      0.17      1080\n",
            "\n",
            "akurasi= 0.1898 presisi= 0.5841 recall= 0.1898 f1= 0.2865\n",
            "Tanpa Stemming\n",
            "Nama distance= manhattan\n",
            "Jumlah K tetangga= 13\n"
          ],
          "name": "stdout"
        },
        {
          "output_type": "stream",
          "text": [
            "/usr/local/lib/python3.7/dist-packages/sklearn/metrics/_classification.py:1272: UndefinedMetricWarning: Precision and F-score are ill-defined and being set to 0.0 in labels with no predicted samples. Use `zero_division` parameter to control this behavior.\n",
            "  _warn_prf(average, modifier, msg_start, len(result))\n"
          ],
          "name": "stderr"
        },
        {
          "output_type": "stream",
          "text": [
            "              precision    recall  f1-score   support\n",
            "\n",
            "           0       0.00      0.00      0.00        90\n",
            "           1       0.78      0.23      0.36        90\n",
            "           2       1.00      0.09      0.16        90\n",
            "           3       0.92      0.13      0.23        90\n",
            "           4       1.00      0.02      0.04        90\n",
            "           5       0.32      0.41      0.36        90\n",
            "           6       1.00      0.06      0.11        90\n",
            "           7       0.75      0.07      0.12        90\n",
            "           8       1.00      0.04      0.09        90\n",
            "           9       0.10      0.92      0.17        90\n",
            "          10       0.84      0.34      0.49        90\n",
            "          11       0.00      0.00      0.00        90\n",
            "\n",
            "    accuracy                           0.19      1080\n",
            "   macro avg       0.64      0.19      0.18      1080\n",
            "weighted avg       0.64      0.19      0.18      1080\n",
            "\n",
            "akurasi= 0.1935 presisi= 0.6420 recall= 0.1935 f1= 0.2974\n",
            "Tanpa Stemming\n",
            "Nama distance= manhattan\n",
            "Jumlah K tetangga= 15\n"
          ],
          "name": "stdout"
        },
        {
          "output_type": "stream",
          "text": [
            "/usr/local/lib/python3.7/dist-packages/sklearn/metrics/_classification.py:1272: UndefinedMetricWarning: Precision and F-score are ill-defined and being set to 0.0 in labels with no predicted samples. Use `zero_division` parameter to control this behavior.\n",
            "  _warn_prf(average, modifier, msg_start, len(result))\n"
          ],
          "name": "stderr"
        },
        {
          "output_type": "stream",
          "text": [
            "              precision    recall  f1-score   support\n",
            "\n",
            "           0       0.00      0.00      0.00        90\n",
            "           1       0.87      0.22      0.35        90\n",
            "           2       1.00      0.07      0.12        90\n",
            "           3       0.92      0.13      0.23        90\n",
            "           4       1.00      0.02      0.04        90\n",
            "           5       0.28      0.46      0.35        90\n",
            "           6       1.00      0.04      0.09        90\n",
            "           7       1.00      0.02      0.04        90\n",
            "           8       1.00      0.03      0.06        90\n",
            "           9       0.10      0.90      0.18        90\n",
            "          10       0.62      0.44      0.52        90\n",
            "          11       0.00      0.00      0.00        90\n",
            "\n",
            "    accuracy                           0.20      1080\n",
            "   macro avg       0.65      0.20      0.17      1080\n",
            "weighted avg       0.65      0.20      0.17      1080\n",
            "\n",
            "akurasi= 0.1954 presisi= 0.6493 recall= 0.1954 f1= 0.3004\n",
            "Tanpa Stemming\n",
            "Nama distance= cosine\n",
            "Jumlah K tetangga= 1\n",
            "              precision    recall  f1-score   support\n",
            "\n",
            "           0       0.63      0.59      0.61        90\n",
            "           1       0.67      0.68      0.67        90\n",
            "           2       0.74      0.77      0.75        90\n",
            "           3       0.68      0.71      0.70        90\n",
            "           4       0.74      0.71      0.72        90\n",
            "           5       0.67      0.64      0.66        90\n",
            "           6       0.89      0.90      0.90        90\n",
            "           7       0.74      0.83      0.79        90\n",
            "           8       0.66      0.64      0.65        90\n",
            "           9       0.85      0.87      0.86        90\n",
            "          10       0.80      0.74      0.77        90\n",
            "          11       0.67      0.67      0.67        90\n",
            "\n",
            "    accuracy                           0.73      1080\n",
            "   macro avg       0.73      0.73      0.73      1080\n",
            "weighted avg       0.73      0.73      0.73      1080\n",
            "\n",
            "akurasi= 0.7296 presisi= 0.7288 recall= 0.7296 f1= 0.7292\n",
            "Tanpa Stemming\n",
            "Nama distance= cosine\n",
            "Jumlah K tetangga= 3\n",
            "              precision    recall  f1-score   support\n",
            "\n",
            "           0       0.65      0.58      0.61        90\n",
            "           1       0.74      0.70      0.72        90\n",
            "           2       0.76      0.78      0.77        90\n",
            "           3       0.70      0.84      0.76        90\n",
            "           4       0.68      0.70      0.69        90\n",
            "           5       0.67      0.59      0.63        90\n",
            "           6       0.89      0.92      0.91        90\n",
            "           7       0.79      0.83      0.81        90\n",
            "           8       0.73      0.70      0.72        90\n",
            "           9       0.89      0.89      0.89        90\n",
            "          10       0.83      0.77      0.80        90\n",
            "          11       0.71      0.76      0.73        90\n",
            "\n",
            "    accuracy                           0.75      1080\n",
            "   macro avg       0.75      0.75      0.75      1080\n",
            "weighted avg       0.75      0.75      0.75      1080\n",
            "\n",
            "akurasi= 0.7546 presisi= 0.7540 recall= 0.7546 f1= 0.7543\n",
            "Tanpa Stemming\n",
            "Nama distance= cosine\n",
            "Jumlah K tetangga= 5\n",
            "              precision    recall  f1-score   support\n",
            "\n",
            "           0       0.74      0.66      0.69        90\n",
            "           1       0.74      0.71      0.73        90\n",
            "           2       0.84      0.84      0.84        90\n",
            "           3       0.68      0.86      0.76        90\n",
            "           4       0.70      0.77      0.73        90\n",
            "           5       0.73      0.60      0.66        90\n",
            "           6       0.88      0.91      0.90        90\n",
            "           7       0.82      0.88      0.85        90\n",
            "           8       0.78      0.73      0.75        90\n",
            "           9       0.91      0.86      0.88        90\n",
            "          10       0.91      0.79      0.85        90\n",
            "          11       0.73      0.82      0.77        90\n",
            "\n",
            "    accuracy                           0.79      1080\n",
            "   macro avg       0.79      0.79      0.78      1080\n",
            "weighted avg       0.79      0.79      0.78      1080\n",
            "\n",
            "akurasi= 0.7852 presisi= 0.7887 recall= 0.7852 f1= 0.7869\n",
            "Tanpa Stemming\n",
            "Nama distance= cosine\n",
            "Jumlah K tetangga= 7\n",
            "              precision    recall  f1-score   support\n",
            "\n",
            "           0       0.75      0.66      0.70        90\n",
            "           1       0.77      0.70      0.73        90\n",
            "           2       0.83      0.80      0.81        90\n",
            "           3       0.70      0.89      0.78        90\n",
            "           4       0.74      0.81      0.77        90\n",
            "           5       0.73      0.64      0.69        90\n",
            "           6       0.88      0.91      0.90        90\n",
            "           7       0.81      0.92      0.86        90\n",
            "           8       0.78      0.72      0.75        90\n",
            "           9       0.93      0.87      0.90        90\n",
            "          10       0.91      0.78      0.84        90\n",
            "          11       0.75      0.83      0.79        90\n",
            "\n",
            "    accuracy                           0.79      1080\n",
            "   macro avg       0.80      0.79      0.79      1080\n",
            "weighted avg       0.80      0.79      0.79      1080\n",
            "\n",
            "akurasi= 0.7944 presisi= 0.7979 recall= 0.7944 f1= 0.7962\n",
            "Tanpa Stemming\n",
            "Nama distance= cosine\n",
            "Jumlah K tetangga= 9\n",
            "              precision    recall  f1-score   support\n",
            "\n",
            "           0       0.77      0.68      0.72        90\n",
            "           1       0.77      0.71      0.74        90\n",
            "           2       0.85      0.84      0.85        90\n",
            "           3       0.68      0.90      0.78        90\n",
            "           4       0.74      0.84      0.79        90\n",
            "           5       0.77      0.67      0.71        90\n",
            "           6       0.86      0.89      0.87        90\n",
            "           7       0.80      0.91      0.85        90\n",
            "           8       0.81      0.69      0.74        90\n",
            "           9       0.95      0.87      0.91        90\n",
            "          10       0.93      0.78      0.85        90\n",
            "          11       0.77      0.86      0.81        90\n",
            "\n",
            "    accuracy                           0.80      1080\n",
            "   macro avg       0.81      0.80      0.80      1080\n",
            "weighted avg       0.81      0.80      0.80      1080\n",
            "\n",
            "akurasi= 0.8028 presisi= 0.8091 recall= 0.8028 f1= 0.8059\n",
            "Tanpa Stemming\n",
            "Nama distance= cosine\n",
            "Jumlah K tetangga= 11\n",
            "              precision    recall  f1-score   support\n",
            "\n",
            "           0       0.77      0.68      0.72        90\n",
            "           1       0.76      0.71      0.74        90\n",
            "           2       0.86      0.87      0.86        90\n",
            "           3       0.69      0.90      0.78        90\n",
            "           4       0.74      0.86      0.79        90\n",
            "           5       0.75      0.62      0.68        90\n",
            "           6       0.86      0.89      0.87        90\n",
            "           7       0.77      0.91      0.84        90\n",
            "           8       0.81      0.69      0.74        90\n",
            "           9       0.96      0.87      0.91        90\n",
            "          10       0.92      0.77      0.84        90\n",
            "          11       0.77      0.83      0.80        90\n",
            "\n",
            "    accuracy                           0.80      1080\n",
            "   macro avg       0.80      0.80      0.80      1080\n",
            "weighted avg       0.80      0.80      0.80      1080\n",
            "\n",
            "akurasi= 0.7991 presisi= 0.8050 recall= 0.7991 f1= 0.8020\n",
            "Tanpa Stemming\n",
            "Nama distance= cosine\n",
            "Jumlah K tetangga= 13\n",
            "              precision    recall  f1-score   support\n",
            "\n",
            "           0       0.76      0.66      0.70        90\n",
            "           1       0.77      0.69      0.73        90\n",
            "           2       0.84      0.87      0.85        90\n",
            "           3       0.68      0.91      0.78        90\n",
            "           4       0.73      0.83      0.78        90\n",
            "           5       0.73      0.60      0.66        90\n",
            "           6       0.86      0.90      0.88        90\n",
            "           7       0.79      0.91      0.85        90\n",
            "           8       0.81      0.70      0.75        90\n",
            "           9       0.98      0.88      0.92        90\n",
            "          10       0.93      0.77      0.84        90\n",
            "          11       0.75      0.83      0.79        90\n",
            "\n",
            "    accuracy                           0.80      1080\n",
            "   macro avg       0.80      0.80      0.79      1080\n",
            "weighted avg       0.80      0.80      0.79      1080\n",
            "\n",
            "akurasi= 0.7954 presisi= 0.8014 recall= 0.7954 f1= 0.7984\n",
            "Tanpa Stemming\n",
            "Nama distance= cosine\n",
            "Jumlah K tetangga= 15\n",
            "              precision    recall  f1-score   support\n",
            "\n",
            "           0       0.75      0.70      0.72        90\n",
            "           1       0.77      0.67      0.71        90\n",
            "           2       0.83      0.87      0.85        90\n",
            "           3       0.67      0.88      0.76        90\n",
            "           4       0.73      0.87      0.79        90\n",
            "           5       0.76      0.60      0.67        90\n",
            "           6       0.84      0.90      0.87        90\n",
            "           7       0.80      0.91      0.85        90\n",
            "           8       0.81      0.68      0.74        90\n",
            "           9       0.96      0.87      0.91        90\n",
            "          10       0.92      0.76      0.83        90\n",
            "          11       0.74      0.81      0.77        90\n",
            "\n",
            "    accuracy                           0.79      1080\n",
            "   macro avg       0.80      0.79      0.79      1080\n",
            "weighted avg       0.80      0.79      0.79      1080\n",
            "\n",
            "akurasi= 0.7917 presisi= 0.7984 recall= 0.7917 f1= 0.7950\n"
          ],
          "name": "stdout"
        },
        {
          "output_type": "display_data",
          "data": {
            "image/png": "[encoded data removed]",
            "text/plain": [
              "<Figure size 432x288 with 1 Axes>"
            ]
          },
          "metadata": {
            "tags": []
          }
        },
        {
          "output_type": "stream",
          "text": [
            "Lama Proses 30.97262692451477 seconds\n",
            "CPU times: user 52 s, sys: 304 ms, total: 52.3 s\n",
            "Wall time: 31 s\n"
          ],
          "name": "stdout"
        }
      ]
    },
    {
      "cell_type": "code",
      "metadata": {
        "colab": {
          "base_uri": "https://localhost:8080/",
          "height": 1000
        },
        "id": "xmEAAyoqVu-E",
        "outputId": "87b09e84-888f-4e00-a6c9-66cf52640946"
      },
      "source": [
        "%%time\n",
        "df = pd.read_pickle('drive/MyDrive/AATABISMILLAH/NewDataset/preprocess_SWnltk_stemming.pkl')\n",
        "dfNo = pd.read_pickle('drive/MyDrive/AATABISMILLAH/NewDataset/preprocess_SWnltk_nostemming.pkl')\n",
        "# %%capture cap --no-stderr\n",
        "start_time = time.time()\n",
        "dfcount = [df,dfNo]\n",
        "distancecount = ['euclidean','manhattan','cosine']\n",
        "kcount = [1,3,5,7,9,11,13,15]\n",
        "for x in range(2):\n",
        "    arrd1 = []\n",
        "    arrd2 = []\n",
        "    arrd3 = []\n",
        "    for y in range(len(distancecount)):\n",
        "        maxresult = []\n",
        "        for z in range(len(kcount)):\n",
        "            if x==0:\n",
        "                print('Dengan Stemming')\n",
        "            else:\n",
        "                print('Tanpa Stemming')\n",
        "            tempmax = classifier(dfcount[x],distancecount[y],kcount[z])\n",
        "            maxresult.append(tempmax)\n",
        "            if y==0:\n",
        "                arrd1.append(tempmax)\n",
        "            elif y==1:\n",
        "                arrd2.append(tempmax)\n",
        "            elif y==2:\n",
        "                arrd3.append(tempmax)\n",
        "#         tapi fold yang dipakai beda beda\n",
        "    plt.plot(kcount, arrd1, label = \"euclidean\")\n",
        "    plt.plot(kcount, arrd2, label = \"manhattan\")\n",
        "    plt.plot(kcount, arrd3, label = \"cosine\")\n",
        "    plt.xticks(kcount)\n",
        "    if x==0:\n",
        "        plt.title(\"Stemming\")\n",
        "    else:\n",
        "        plt.title(\"Tidak Stemming\")\n",
        "    plt.xlabel('Fold')\n",
        "    plt.ylabel('Akurasi')\n",
        "    plt.legend()\n",
        "    plt.pause(0.05)\n",
        "plt.show\n",
        "plt.style.use('seaborn-whitegrid')\n",
        "print(\"Lama Proses %s seconds\" % (time.time() - start_time))\n",
        "# with open('5000_fitur_SWnltkv2.txt', 'w') as f:\n",
        "#     f.write(cap.stdout)"
      ],
      "execution_count": null,
      "outputs": [
        {
          "output_type": "stream",
          "text": [
            "Dengan Stemming\n",
            "Nama distance= euclidean\n",
            "Jumlah K tetangga= 1\n",
            "perfold= 0.8533950617283951 0.12037037037037036 0.34061488673139156\n",
            "Fold ke- 1 Akurasi = 0.1204 Precision = 0.3406 Recall = 0.1204 F1-Score = 0.0801\n"
          ],
          "name": "stdout"
        },
        {
          "output_type": "stream",
          "text": [
            "/usr/local/lib/python3.7/dist-packages/ipykernel_launcher.py:18: RuntimeWarning: invalid value encountered in long_scalars\n",
            "/usr/local/lib/python3.7/dist-packages/ipykernel_launcher.py:21: RuntimeWarning: invalid value encountered in double_scalars\n",
            "/usr/local/lib/python3.7/dist-packages/sklearn/metrics/_classification.py:1272: UndefinedMetricWarning: Precision is ill-defined and being set to 0.0 in labels with no predicted samples. Use `zero_division` parameter to control this behavior.\n",
            "  _warn_prf(average, modifier, msg_start, len(result))\n",
            "/usr/local/lib/python3.7/dist-packages/ipykernel_launcher.py:18: RuntimeWarning: invalid value encountered in long_scalars\n",
            "/usr/local/lib/python3.7/dist-packages/ipykernel_launcher.py:21: RuntimeWarning: invalid value encountered in double_scalars\n",
            "/usr/local/lib/python3.7/dist-packages/sklearn/metrics/_classification.py:1272: UndefinedMetricWarning: Precision is ill-defined and being set to 0.0 in labels with no predicted samples. Use `zero_division` parameter to control this behavior.\n",
            "  _warn_prf(average, modifier, msg_start, len(result))\n"
          ],
          "name": "stderr"
        },
        {
          "output_type": "stream",
          "text": [
            "perfold= 0.8580246913580246 0.14814814814814817 0.5074257425742574\n",
            "Fold ke- 2 Akurasi = 0.1481 Precision = 0.5074 Recall = 0.1481 F1-Score = 0.1273\n",
            "perfold= 0.9320987654320989 0.5925925925925927 0.6264013764013764\n",
            "Fold ke- 3 Akurasi = 0.5926 Precision = 0.6264 Recall = 0.5926 F1-Score = 0.5768\n",
            "perfold= 0.8672839506172839 0.20370370370370372 0.6579787234042553\n",
            "Fold ke- 4 Akurasi = 0.2037 Precision = 0.6580 Recall = 0.2037 F1-Score = 0.2038\n"
          ],
          "name": "stdout"
        },
        {
          "output_type": "stream",
          "text": [
            "/usr/local/lib/python3.7/dist-packages/ipykernel_launcher.py:18: RuntimeWarning: invalid value encountered in long_scalars\n",
            "/usr/local/lib/python3.7/dist-packages/ipykernel_launcher.py:21: RuntimeWarning: invalid value encountered in double_scalars\n",
            "/usr/local/lib/python3.7/dist-packages/sklearn/metrics/_classification.py:1272: UndefinedMetricWarning: Precision is ill-defined and being set to 0.0 in labels with no predicted samples. Use `zero_division` parameter to control this behavior.\n",
            "  _warn_prf(average, modifier, msg_start, len(result))\n",
            "/usr/local/lib/python3.7/dist-packages/ipykernel_launcher.py:18: RuntimeWarning: invalid value encountered in long_scalars\n",
            "/usr/local/lib/python3.7/dist-packages/ipykernel_launcher.py:21: RuntimeWarning: invalid value encountered in double_scalars\n"
          ],
          "name": "stderr"
        },
        {
          "output_type": "stream",
          "text": [
            "perfold= 0.8719135802469137 0.23148148148148148 0.6471306471306472\n",
            "Fold ke- 5 Akurasi = 0.2315 Precision = 0.6471 Recall = 0.2315 F1-Score = 0.2504\n",
            "perfold= 0.8842592592592594 0.3055555555555556 0.5922619047619048\n"
          ],
          "name": "stdout"
        },
        {
          "output_type": "stream",
          "text": [
            "/usr/local/lib/python3.7/dist-packages/sklearn/metrics/_classification.py:1272: UndefinedMetricWarning: Precision is ill-defined and being set to 0.0 in labels with no predicted samples. Use `zero_division` parameter to control this behavior.\n",
            "  _warn_prf(average, modifier, msg_start, len(result))\n",
            "/usr/local/lib/python3.7/dist-packages/ipykernel_launcher.py:18: RuntimeWarning: invalid value encountered in long_scalars\n",
            "/usr/local/lib/python3.7/dist-packages/ipykernel_launcher.py:21: RuntimeWarning: invalid value encountered in double_scalars\n",
            "/usr/local/lib/python3.7/dist-packages/sklearn/metrics/_classification.py:1272: UndefinedMetricWarning: Precision is ill-defined and being set to 0.0 in labels with no predicted samples. Use `zero_division` parameter to control this behavior.\n",
            "  _warn_prf(average, modifier, msg_start, len(result))\n",
            "/usr/local/lib/python3.7/dist-packages/ipykernel_launcher.py:18: RuntimeWarning: invalid value encountered in long_scalars\n",
            "/usr/local/lib/python3.7/dist-packages/ipykernel_launcher.py:21: RuntimeWarning: invalid value encountered in double_scalars\n",
            "/usr/local/lib/python3.7/dist-packages/sklearn/metrics/_classification.py:1272: UndefinedMetricWarning: Precision is ill-defined and being set to 0.0 in labels with no predicted samples. Use `zero_division` parameter to control this behavior.\n",
            "  _warn_prf(average, modifier, msg_start, len(result))\n"
          ],
          "name": "stderr"
        },
        {
          "output_type": "stream",
          "text": [
            "Fold ke- 6 Akurasi = 0.3056 Precision = 0.5923 Recall = 0.3056 F1-Score = 0.3219\n",
            "perfold= 0.8796296296296297 0.27777777777777785 0.7173694779116465\n",
            "Fold ke- 7 Akurasi = 0.2778 Precision = 0.7174 Recall = 0.2778 F1-Score = 0.3025\n"
          ],
          "name": "stdout"
        },
        {
          "output_type": "stream",
          "text": [
            "/usr/local/lib/python3.7/dist-packages/ipykernel_launcher.py:21: RuntimeWarning: invalid value encountered in double_scalars\n",
            "/usr/local/lib/python3.7/dist-packages/ipykernel_launcher.py:18: RuntimeWarning: invalid value encountered in long_scalars\n",
            "/usr/local/lib/python3.7/dist-packages/sklearn/metrics/_classification.py:1272: UndefinedMetricWarning: Precision is ill-defined and being set to 0.0 in labels with no predicted samples. Use `zero_division` parameter to control this behavior.\n",
            "  _warn_prf(average, modifier, msg_start, len(result))\n"
          ],
          "name": "stderr"
        },
        {
          "output_type": "stream",
          "text": [
            "perfold= 0.8688271604938271 0.212962962962963 0.7026862026862025\n",
            "Fold ke- 8 Akurasi = 0.2130 Precision = 0.7027 Recall = 0.2130 F1-Score = 0.2241\n"
          ],
          "name": "stdout"
        },
        {
          "output_type": "stream",
          "text": [
            "/usr/local/lib/python3.7/dist-packages/ipykernel_launcher.py:18: RuntimeWarning: invalid value encountered in long_scalars\n",
            "/usr/local/lib/python3.7/dist-packages/ipykernel_launcher.py:21: RuntimeWarning: invalid value encountered in double_scalars\n",
            "/usr/local/lib/python3.7/dist-packages/sklearn/metrics/_classification.py:1272: UndefinedMetricWarning: Precision is ill-defined and being set to 0.0 in labels with no predicted samples. Use `zero_division` parameter to control this behavior.\n",
            "  _warn_prf(average, modifier, msg_start, len(result))\n",
            "/usr/local/lib/python3.7/dist-packages/ipykernel_launcher.py:18: RuntimeWarning: invalid value encountered in long_scalars\n",
            "/usr/local/lib/python3.7/dist-packages/ipykernel_launcher.py:21: RuntimeWarning: invalid value encountered in double_scalars\n"
          ],
          "name": "stderr"
        },
        {
          "output_type": "stream",
          "text": [
            "perfold= 0.8672839506172839 0.20370370370370372 0.41084229390681\n",
            "Fold ke- 9 Akurasi = 0.2037 Precision = 0.4108 Recall = 0.2037 F1-Score = 0.1892\n",
            "perfold= 0.868827160493827 0.212962962962963 0.5359299516908212\n"
          ],
          "name": "stdout"
        },
        {
          "output_type": "stream",
          "text": [
            "/usr/local/lib/python3.7/dist-packages/sklearn/metrics/_classification.py:1272: UndefinedMetricWarning: Precision is ill-defined and being set to 0.0 in labels with no predicted samples. Use `zero_division` parameter to control this behavior.\n",
            "  _warn_prf(average, modifier, msg_start, len(result))\n"
          ],
          "name": "stderr"
        },
        {
          "output_type": "stream",
          "text": [
            "Fold ke- 10 Akurasi = 0.2130 Precision = 0.5359 Recall = 0.2130 F1-Score = 0.2116\n",
            "TP: [13, 16, 64, 22, 25, 33, 30, 23, 22, 23] TOTAL: 271\n",
            "FP: [95, 92, 44, 86, 83, 75, 78, 85, 86, 85] TOTAL: 809\n",
            "FN: [95, 92, 44, 86, 83, 75, 78, 85, 86, 85] TOTAL: 809\n",
            "TN: [1093, 1096, 1144, 1102, 1105, 1113, 1110, 1103, 1102, 1103] TOTAL: 11071\n",
            "0.25092592592592594 0.2509259259259259 0.2509259259259259 0.2509259259259259\n",
            "Avg accuracyTP = 0.2509 Avg accuracy = 0.2509\n",
            "Avg precisionTP= 0.2509 Avg precision= 0.5739\n",
            "Avg recallTP= 0.2509 Avg recall= 0.2509\n",
            "Avg f1TP= 0.2509 Avg f1= 0.2488\n",
            "------------------------------------\n",
            "Dengan Stemming\n",
            "Nama distance= euclidean\n",
            "Jumlah K tetangga= 3\n",
            "perfold= 0.9104938271604938 0.462962962962963 0.7095288970288971\n",
            "Fold ke- 1 Akurasi = 0.4630 Precision = 0.7095 Recall = 0.4630 F1-Score = 0.4802\n",
            "perfold= 0.9166666666666666 0.49999999999999994 0.747470238095238\n",
            "Fold ke- 2 Akurasi = 0.5000 Precision = 0.7475 Recall = 0.5000 F1-Score = 0.5441\n",
            "perfold= 0.9444444444444445 0.6666666666666666 0.6809343434343433\n",
            "Fold ke- 3 Akurasi = 0.6667 Precision = 0.6809 Recall = 0.6667 F1-Score = 0.6479\n",
            "perfold= 0.9305555555555555 0.5833333333333334 0.8143849206349206\n",
            "Fold ke- 4 Akurasi = 0.5833 Precision = 0.8144 Recall = 0.5833 F1-Score = 0.6370\n",
            "perfold= 0.947530864197531 0.6851851851851851 0.845670244107744\n",
            "Fold ke- 5 Akurasi = 0.6852 Precision = 0.8457 Recall = 0.6852 F1-Score = 0.7227\n",
            "perfold= 0.9567901234567899 0.7407407407407408 0.8679435483870969\n",
            "Fold ke- 6 Akurasi = 0.7407 Precision = 0.8679 Recall = 0.7407 F1-Score = 0.7523\n",
            "perfold= 0.9537037037037037 0.7222222222222222 0.8772282451717937\n",
            "Fold ke- 7 Akurasi = 0.7222 Precision = 0.8772 Recall = 0.7222 F1-Score = 0.7375\n",
            "perfold= 0.9444444444444443 0.6666666666666666 0.8082341269841269\n",
            "Fold ke- 8 Akurasi = 0.6667 Precision = 0.8082 Recall = 0.6667 F1-Score = 0.6936\n",
            "perfold= 0.9398148148148149 0.6388888888888888 0.7862373737373738\n",
            "Fold ke- 9 Akurasi = 0.6389 Precision = 0.7862 Recall = 0.6389 F1-Score = 0.6619\n",
            "perfold= 0.9367283950617283 0.6203703703703703 0.8247294372294373\n",
            "Fold ke- 10 Akurasi = 0.6204 Precision = 0.8247 Recall = 0.6204 F1-Score = 0.6389\n",
            "TP: [50, 54, 72, 63, 74, 80, 78, 72, 69, 67] TOTAL: 679\n",
            "FP: [58, 54, 36, 45, 34, 28, 30, 36, 39, 41] TOTAL: 401\n",
            "FN: [58, 54, 36, 45, 34, 28, 30, 36, 39, 41] TOTAL: 401\n",
            "TN: [1130, 1134, 1152, 1143, 1154, 1160, 1158, 1152, 1149, 1147] TOTAL: 11479\n",
            "0.6287037037037038 0.6287037037037038 0.6287037037037038 0.6287037037037038\n",
            "Avg accuracyTP = 0.6287 Avg accuracy = 0.6287\n",
            "Avg precisionTP= 0.6287 Avg precision= 0.7962\n",
            "Avg recallTP= 0.6287 Avg recall= 0.6287\n",
            "Avg f1TP= 0.6287 Avg f1= 0.6516\n",
            "------------------------------------\n",
            "Dengan Stemming\n",
            "Nama distance= euclidean\n",
            "Jumlah K tetangga= 5\n",
            "perfold= 0.9459876543209877 0.675925925925926 0.6922032828282828\n",
            "Fold ke- 1 Akurasi = 0.6759 Precision = 0.6922 Recall = 0.6759 F1-Score = 0.6645\n",
            "perfold= 0.9459876543209879 0.6759259259259259 0.7028614903614904\n",
            "Fold ke- 2 Akurasi = 0.6759 Precision = 0.7029 Recall = 0.6759 F1-Score = 0.6703\n",
            "perfold= 0.9475308641975309 0.6851851851851851 0.6811568061568063\n",
            "Fold ke- 3 Akurasi = 0.6852 Precision = 0.6812 Recall = 0.6852 F1-Score = 0.6700\n",
            "perfold= 0.9583333333333335 0.7499999999999999 0.7698750323750324\n",
            "Fold ke- 4 Akurasi = 0.7500 Precision = 0.7699 Recall = 0.7500 F1-Score = 0.7484\n",
            "perfold= 0.9629629629629632 0.7777777777777778 0.794047619047619\n",
            "Fold ke- 5 Akurasi = 0.7778 Precision = 0.7940 Recall = 0.7778 F1-Score = 0.7737\n",
            "perfold= 0.9799382716049382 0.8796296296296297 0.8901785714285714\n",
            "Fold ke- 6 Akurasi = 0.8796 Precision = 0.8902 Recall = 0.8796 F1-Score = 0.8784\n",
            "perfold= 0.9691358024691358 0.8148148148148148 0.8513431013431014\n",
            "Fold ke- 7 Akurasi = 0.8148 Precision = 0.8513 Recall = 0.8148 F1-Score = 0.8085\n",
            "perfold= 0.9552469135802469 0.7314814814814814 0.7449074074074074\n",
            "Fold ke- 8 Akurasi = 0.7315 Precision = 0.7449 Recall = 0.7315 F1-Score = 0.7251\n",
            "perfold= 0.9506172839506172 0.7037037037037038 0.7558961506329926\n",
            "Fold ke- 9 Akurasi = 0.7037 Precision = 0.7559 Recall = 0.7037 F1-Score = 0.7063\n",
            "perfold= 0.9598765432098765 0.7592592592592592 0.794975048100048\n",
            "Fold ke- 10 Akurasi = 0.7593 Precision = 0.7950 Recall = 0.7593 F1-Score = 0.7508\n",
            "TP: [73, 73, 74, 81, 84, 95, 88, 79, 76, 82] TOTAL: 805\n",
            "FP: [35, 35, 34, 27, 24, 13, 20, 29, 32, 26] TOTAL: 275\n",
            "FN: [35, 35, 34, 27, 24, 13, 20, 29, 32, 26] TOTAL: 275\n",
            "TN: [1153, 1153, 1154, 1161, 1164, 1175, 1168, 1159, 1156, 1162] TOTAL: 11605\n",
            "0.7453703703703703 0.7453703703703705 0.7453703703703705 0.7453703703703705\n",
            "Avg accuracyTP = 0.7454 Avg accuracy = 0.7454\n",
            "Avg precisionTP= 0.7454 Avg precision= 0.7677\n",
            "Avg recallTP= 0.7454 Avg recall= 0.7454\n",
            "Avg f1TP= 0.7454 Avg f1= 0.7396\n",
            "------------------------------------\n",
            "Dengan Stemming\n",
            "Nama distance= euclidean\n",
            "Jumlah K tetangga= 7\n",
            "perfold= 0.9614197530864197 0.7685185185185185 0.782839614089614\n",
            "Fold ke- 1 Akurasi = 0.7685 Precision = 0.7828 Recall = 0.7685 F1-Score = 0.7579\n",
            "perfold= 0.947530864197531 0.6851851851851851 0.7003817941317942\n",
            "Fold ke- 2 Akurasi = 0.6852 Precision = 0.7004 Recall = 0.6852 F1-Score = 0.6746\n",
            "perfold= 0.949074074074074 0.6944444444444445 0.6998226310726311\n",
            "Fold ke- 3 Akurasi = 0.6944 Precision = 0.6998 Recall = 0.6944 F1-Score = 0.6860\n",
            "perfold= 0.9629629629629629 0.7777777777777776 0.7968915343915345\n",
            "Fold ke- 4 Akurasi = 0.7778 Precision = 0.7969 Recall = 0.7778 F1-Score = 0.7811\n",
            "perfold= 0.964506172839506 0.7870370370370371 0.8157721907721908\n",
            "Fold ke- 5 Akurasi = 0.7870 Precision = 0.8158 Recall = 0.7870 F1-Score = 0.7866\n",
            "perfold= 0.9845679012345677 0.9074074074074074 0.9178240740740741\n",
            "Fold ke- 6 Akurasi = 0.9074 Precision = 0.9178 Recall = 0.9074 F1-Score = 0.9058\n",
            "perfold= 0.9722222222222222 0.8333333333333334 0.852672558922559\n",
            "Fold ke- 7 Akurasi = 0.8333 Precision = 0.8527 Recall = 0.8333 F1-Score = 0.8280\n",
            "perfold= 0.9660493827160495 0.7962962962962963 0.8155807155807154\n",
            "Fold ke- 8 Akurasi = 0.7963 Precision = 0.8156 Recall = 0.7963 F1-Score = 0.7926\n",
            "perfold= 0.9583333333333334 0.75 0.7924450549450549\n",
            "Fold ke- 9 Akurasi = 0.7500 Precision = 0.7924 Recall = 0.7500 F1-Score = 0.7464\n",
            "perfold= 0.9645061728395062 0.7870370370370371 0.8118536556036555\n",
            "Fold ke- 10 Akurasi = 0.7870 Precision = 0.8119 Recall = 0.7870 F1-Score = 0.7817\n",
            "TP: [83, 74, 75, 84, 85, 98, 90, 86, 81, 85] TOTAL: 841\n",
            "FP: [25, 34, 33, 24, 23, 10, 18, 22, 27, 23] TOTAL: 239\n",
            "FN: [25, 34, 33, 24, 23, 10, 18, 22, 27, 23] TOTAL: 239\n",
            "TN: [1163, 1154, 1155, 1164, 1165, 1178, 1170, 1166, 1161, 1165] TOTAL: 11641\n",
            "0.7787037037037038 0.7787037037037037 0.7787037037037037 0.7787037037037037\n",
            "Avg accuracyTP = 0.7787 Avg accuracy = 0.7787\n",
            "Avg precisionTP= 0.7787 Avg precision= 0.7986\n",
            "Avg recallTP= 0.7787 Avg recall= 0.7787\n",
            "Avg f1TP= 0.7787 Avg f1= 0.7741\n",
            "------------------------------------\n",
            "Dengan Stemming\n",
            "Nama distance= euclidean\n",
            "Jumlah K tetangga= 9\n",
            "perfold= 0.9598765432098765 0.7592592592592592 0.7890847578347578\n",
            "Fold ke- 1 Akurasi = 0.7593 Precision = 0.7891 Recall = 0.7593 F1-Score = 0.7500\n",
            "perfold= 0.9521604938271606 0.7129629629629629 0.7247144059644061\n",
            "Fold ke- 2 Akurasi = 0.7130 Precision = 0.7247 Recall = 0.7130 F1-Score = 0.7021\n",
            "perfold= 0.9444444444444445 0.6666666666666666 0.6593133718133718\n",
            "Fold ke- 3 Akurasi = 0.6667 Precision = 0.6593 Recall = 0.6667 F1-Score = 0.6486\n",
            "perfold= 0.9675925925925926 0.8055555555555555 0.8363275613275613\n",
            "Fold ke- 4 Akurasi = 0.8056 Precision = 0.8363 Recall = 0.8056 F1-Score = 0.8108\n",
            "perfold= 0.9629629629629629 0.7777777777777778 0.8071632071632072\n",
            "Fold ke- 5 Akurasi = 0.7778 Precision = 0.8072 Recall = 0.7778 F1-Score = 0.7768\n",
            "perfold= 0.9799382716049383 0.8796296296296297 0.887022005772006\n",
            "Fold ke- 6 Akurasi = 0.8796 Precision = 0.8870 Recall = 0.8796 F1-Score = 0.8783\n",
            "perfold= 0.9722222222222222 0.8333333333333334 0.8429503367003367\n",
            "Fold ke- 7 Akurasi = 0.8333 Precision = 0.8430 Recall = 0.8333 F1-Score = 0.8219\n",
            "perfold= 0.9660493827160493 0.7962962962962963 0.806926406926407\n",
            "Fold ke- 8 Akurasi = 0.7963 Precision = 0.8069 Recall = 0.7963 F1-Score = 0.7874\n",
            "perfold= 0.9629629629629628 0.7777777777777777 0.8036019536019535\n",
            "Fold ke- 9 Akurasi = 0.7778 Precision = 0.8036 Recall = 0.7778 F1-Score = 0.7743\n",
            "perfold= 0.9660493827160493 0.7962962962962963 0.8157948532948534\n",
            "Fold ke- 10 Akurasi = 0.7963 Precision = 0.8158 Recall = 0.7963 F1-Score = 0.7887\n",
            "TP: [82, 77, 72, 87, 84, 95, 90, 86, 84, 86] TOTAL: 843\n",
            "FP: [26, 31, 36, 21, 24, 13, 18, 22, 24, 22] TOTAL: 237\n",
            "FN: [26, 31, 36, 21, 24, 13, 18, 22, 24, 22] TOTAL: 237\n",
            "TN: [1162, 1157, 1152, 1167, 1164, 1175, 1170, 1166, 1164, 1166] TOTAL: 11643\n",
            "0.7805555555555556 0.7805555555555556 0.7805555555555556 0.7805555555555554\n",
            "Avg accuracyTP = 0.7806 Avg accuracy = 0.7806\n",
            "Avg precisionTP= 0.7806 Avg precision= 0.7973\n",
            "Avg recallTP= 0.7806 Avg recall= 0.7806\n",
            "Avg f1TP= 0.7806 Avg f1= 0.7739\n",
            "------------------------------------\n",
            "Dengan Stemming\n",
            "Nama distance= euclidean\n",
            "Jumlah K tetangga= 11\n",
            "perfold= 0.9598765432098765 0.7592592592592592 0.7919566544566544\n",
            "Fold ke- 1 Akurasi = 0.7593 Precision = 0.7920 Recall = 0.7593 F1-Score = 0.7475\n",
            "perfold= 0.9552469135802469 0.7314814814814814 0.7495775058275059\n",
            "Fold ke- 2 Akurasi = 0.7315 Precision = 0.7496 Recall = 0.7315 F1-Score = 0.7204\n",
            "perfold= 0.9490740740740741 0.6944444444444445 0.6898148148148149\n",
            "Fold ke- 3 Akurasi = 0.6944 Precision = 0.6898 Recall = 0.6944 F1-Score = 0.6801\n",
            "perfold= 0.9675925925925926 0.8055555555555557 0.83481240981241\n",
            "Fold ke- 4 Akurasi = 0.8056 Precision = 0.8348 Recall = 0.8056 F1-Score = 0.8099\n",
            "perfold= 0.9660493827160493 0.7962962962962962 0.8273268398268399\n",
            "Fold ke- 5 Akurasi = 0.7963 Precision = 0.8273 Recall = 0.7963 F1-Score = 0.7964\n",
            "perfold= 0.9783950617283951 0.8703703703703703 0.8781204906204908\n",
            "Fold ke- 6 Akurasi = 0.8704 Precision = 0.8781 Recall = 0.8704 F1-Score = 0.8689\n",
            "perfold= 0.9722222222222222 0.8333333333333334 0.8702546296296297\n",
            "Fold ke- 7 Akurasi = 0.8333 Precision = 0.8703 Recall = 0.8333 F1-Score = 0.8227\n",
            "perfold= 0.9660493827160493 0.7962962962962964 0.8084769397269397\n",
            "Fold ke- 8 Akurasi = 0.7963 Precision = 0.8085 Recall = 0.7963 F1-Score = 0.7892\n",
            "perfold= 0.9675925925925926 0.8055555555555555 0.8332077644577643\n",
            "Fold ke- 9 Akurasi = 0.8056 Precision = 0.8332 Recall = 0.8056 F1-Score = 0.8025\n",
            "perfold= 0.9660493827160493 0.7962962962962963 0.8128186628186628\n",
            "Fold ke- 10 Akurasi = 0.7963 Precision = 0.8128 Recall = 0.7963 F1-Score = 0.7902\n",
            "TP: [82, 79, 75, 87, 86, 94, 90, 86, 87, 86] TOTAL: 852\n",
            "FP: [26, 29, 33, 21, 22, 14, 18, 22, 21, 22] TOTAL: 228\n",
            "FN: [26, 29, 33, 21, 22, 14, 18, 22, 21, 22] TOTAL: 228\n",
            "TN: [1162, 1159, 1155, 1167, 1166, 1174, 1170, 1166, 1167, 1166] TOTAL: 11652\n",
            "0.7888888888888889 0.7888888888888888 0.7888888888888888 0.7888888888888888\n",
            "Avg accuracyTP = 0.7889 Avg accuracy = 0.7889\n",
            "Avg precisionTP= 0.7889 Avg precision= 0.8096\n",
            "Avg recallTP= 0.7889 Avg recall= 0.7889\n",
            "Avg f1TP= 0.7889 Avg f1= 0.7828\n",
            "------------------------------------\n",
            "Dengan Stemming\n",
            "Nama distance= euclidean\n",
            "Jumlah K tetangga= 13\n",
            "perfold= 0.95679012345679 0.7407407407407408 0.7778619528619529\n",
            "Fold ke- 1 Akurasi = 0.7407 Precision = 0.7779 Recall = 0.7407 F1-Score = 0.7363\n",
            "perfold= 0.949074074074074 0.6944444444444445 0.7070640008140008\n",
            "Fold ke- 2 Akurasi = 0.6944 Precision = 0.7071 Recall = 0.6944 F1-Score = 0.6790\n",
            "perfold= 0.9459876543209876 0.6759259259259259 0.6834579772079771\n",
            "Fold ke- 3 Akurasi = 0.6759 Precision = 0.6835 Recall = 0.6759 F1-Score = 0.6544\n",
            "perfold= 0.9706790123456791 0.8240740740740741 0.8526850464350465\n",
            "Fold ke- 4 Akurasi = 0.8241 Precision = 0.8527 Recall = 0.8241 F1-Score = 0.8281\n",
            "perfold= 0.964506172839506 0.7870370370370369 0.8171830484330486\n",
            "Fold ke- 5 Akurasi = 0.7870 Precision = 0.8172 Recall = 0.7870 F1-Score = 0.7863\n",
            "perfold= 0.9799382716049382 0.8796296296296298 0.8920417545417546\n",
            "Fold ke- 6 Akurasi = 0.8796 Precision = 0.8920 Recall = 0.8796 F1-Score = 0.8797\n",
            "perfold= 0.9691358024691357 0.8148148148148149 0.8584237113648879\n",
            "Fold ke- 7 Akurasi = 0.8148 Precision = 0.8584 Recall = 0.8148 F1-Score = 0.8052\n",
            "perfold= 0.9675925925925926 0.8055555555555557 0.819071669071669\n",
            "Fold ke- 8 Akurasi = 0.8056 Precision = 0.8191 Recall = 0.8056 F1-Score = 0.8012\n",
            "perfold= 0.9614197530864197 0.7685185185185185 0.7985847485847485\n",
            "Fold ke- 9 Akurasi = 0.7685 Precision = 0.7986 Recall = 0.7685 F1-Score = 0.7652\n",
            "perfold= 0.9660493827160493 0.7962962962962963 0.8132154882154884\n",
            "Fold ke- 10 Akurasi = 0.7963 Precision = 0.8132 Recall = 0.7963 F1-Score = 0.7870\n",
            "TP: [80, 75, 73, 89, 85, 95, 88, 87, 83, 86] TOTAL: 841\n",
            "FP: [28, 33, 35, 19, 23, 13, 20, 21, 25, 22] TOTAL: 239\n",
            "FN: [28, 33, 35, 19, 23, 13, 20, 21, 25, 22] TOTAL: 239\n",
            "TN: [1160, 1155, 1153, 1169, 1165, 1175, 1168, 1167, 1163, 1166] TOTAL: 11641\n",
            "0.7787037037037038 0.7787037037037037 0.7787037037037037 0.7787037037037037\n",
            "Avg accuracyTP = 0.7787 Avg accuracy = 0.7787\n",
            "Avg precisionTP= 0.7787 Avg precision= 0.8020\n",
            "Avg recallTP= 0.7787 Avg recall= 0.7787\n",
            "Avg f1TP= 0.7787 Avg f1= 0.7722\n",
            "------------------------------------\n",
            "Dengan Stemming\n",
            "Nama distance= euclidean\n",
            "Jumlah K tetangga= 15\n",
            "perfold= 0.9598765432098766 0.7592592592592592 0.816919191919192\n",
            "Fold ke- 1 Akurasi = 0.7593 Precision = 0.8169 Recall = 0.7593 F1-Score = 0.7496\n",
            "perfold= 0.9490740740740741 0.6944444444444445 0.7007631257631258\n",
            "Fold ke- 2 Akurasi = 0.6944 Precision = 0.7008 Recall = 0.6944 F1-Score = 0.6796\n",
            "perfold= 0.9459876543209876 0.675925925925926 0.6836464461464461\n",
            "Fold ke- 3 Akurasi = 0.6759 Precision = 0.6836 Recall = 0.6759 F1-Score = 0.6558\n",
            "perfold= 0.9660493827160493 0.7962962962962963 0.8314729252229253\n",
            "Fold ke- 4 Akurasi = 0.7963 Precision = 0.8315 Recall = 0.7963 F1-Score = 0.8030\n",
            "perfold= 0.9660493827160491 0.7962962962962962 0.8237713675213674\n",
            "Fold ke- 5 Akurasi = 0.7963 Precision = 0.8238 Recall = 0.7963 F1-Score = 0.7938\n",
            "perfold= 0.9783950617283949 0.8703703703703703 0.8848739223739224\n",
            "Fold ke- 6 Akurasi = 0.8704 Precision = 0.8849 Recall = 0.8704 F1-Score = 0.8706\n",
            "perfold= 0.9706790123456791 0.8240740740740741 0.8714324618736384\n",
            "Fold ke- 7 Akurasi = 0.8241 Precision = 0.8714 Recall = 0.8241 F1-Score = 0.8151\n",
            "perfold= 0.9691358024691358 0.8148148148148149 0.8261423761423762\n",
            "Fold ke- 8 Akurasi = 0.8148 Precision = 0.8261 Recall = 0.8148 F1-Score = 0.8090\n",
            "perfold= 0.9629629629629629 0.7777777777777777 0.8166403041403041\n",
            "Fold ke- 9 Akurasi = 0.7778 Precision = 0.8166 Recall = 0.7778 F1-Score = 0.7737\n",
            "perfold= 0.9629629629629629 0.7777777777777778 0.789637445887446\n",
            "Fold ke- 10 Akurasi = 0.7778 Precision = 0.7896 Recall = 0.7778 F1-Score = 0.7643\n",
            "TP: [82, 75, 73, 86, 86, 94, 89, 88, 84, 84] TOTAL: 841\n",
            "FP: [26, 33, 35, 22, 22, 14, 19, 20, 24, 24] TOTAL: 239\n",
            "FN: [26, 33, 35, 22, 22, 14, 19, 20, 24, 24] TOTAL: 239\n",
            "TN: [1162, 1155, 1153, 1166, 1166, 1174, 1169, 1168, 1164, 1164] TOTAL: 11641\n",
            "0.7787037037037038 0.7787037037037037 0.7787037037037037 0.7787037037037037\n",
            "Avg accuracyTP = 0.7787 Avg accuracy = 0.7787\n",
            "Avg precisionTP= 0.7787 Avg precision= 0.8045\n",
            "Avg recallTP= 0.7787 Avg recall= 0.7787\n",
            "Avg f1TP= 0.7787 Avg f1= 0.7714\n",
            "------------------------------------\n",
            "Dengan Stemming\n",
            "Nama distance= manhattan\n",
            "Jumlah K tetangga= 1\n"
          ],
          "name": "stdout"
        },
        {
          "output_type": "stream",
          "text": [
            "/usr/local/lib/python3.7/dist-packages/ipykernel_launcher.py:18: RuntimeWarning: invalid value encountered in long_scalars\n",
            "/usr/local/lib/python3.7/dist-packages/ipykernel_launcher.py:21: RuntimeWarning: invalid value encountered in double_scalars\n",
            "/usr/local/lib/python3.7/dist-packages/sklearn/metrics/_classification.py:1272: UndefinedMetricWarning: Precision is ill-defined and being set to 0.0 in labels with no predicted samples. Use `zero_division` parameter to control this behavior.\n",
            "  _warn_prf(average, modifier, msg_start, len(result))\n"
          ],
          "name": "stderr"
        },
        {
          "output_type": "stream",
          "text": [
            "perfold= 0.8487654320987654 0.0925925925925926 0.09034267912772585\n",
            "Fold ke- 1 Akurasi = 0.0926 Precision = 0.0903 Recall = 0.0926 F1-Score = 0.0296\n"
          ],
          "name": "stdout"
        },
        {
          "output_type": "stream",
          "text": [
            "/usr/local/lib/python3.7/dist-packages/ipykernel_launcher.py:18: RuntimeWarning: invalid value encountered in long_scalars\n",
            "/usr/local/lib/python3.7/dist-packages/ipykernel_launcher.py:21: RuntimeWarning: invalid value encountered in double_scalars\n",
            "/usr/local/lib/python3.7/dist-packages/sklearn/metrics/_classification.py:1272: UndefinedMetricWarning: Precision is ill-defined and being set to 0.0 in labels with no predicted samples. Use `zero_division` parameter to control this behavior.\n",
            "  _warn_prf(average, modifier, msg_start, len(result))\n"
          ],
          "name": "stderr"
        },
        {
          "output_type": "stream",
          "text": [
            "perfold= 0.8503086419753085 0.10185185185185186 0.1737421383647799\n",
            "Fold ke- 2 Akurasi = 0.1019 Precision = 0.1737 Recall = 0.1019 F1-Score = 0.0464\n"
          ],
          "name": "stdout"
        },
        {
          "output_type": "stream",
          "text": [
            "/usr/local/lib/python3.7/dist-packages/ipykernel_launcher.py:18: RuntimeWarning: invalid value encountered in long_scalars\n",
            "/usr/local/lib/python3.7/dist-packages/ipykernel_launcher.py:21: RuntimeWarning: invalid value encountered in double_scalars\n",
            "/usr/local/lib/python3.7/dist-packages/sklearn/metrics/_classification.py:1272: UndefinedMetricWarning: Precision is ill-defined and being set to 0.0 in labels with no predicted samples. Use `zero_division` parameter to control this behavior.\n",
            "  _warn_prf(average, modifier, msg_start, len(result))\n"
          ],
          "name": "stderr"
        },
        {
          "output_type": "stream",
          "text": [
            "perfold= 0.8595679012345679 0.1574074074074074 0.5908333333333333\n",
            "Fold ke- 3 Akurasi = 0.1574 Precision = 0.5908 Recall = 0.1574 F1-Score = 0.1441\n"
          ],
          "name": "stdout"
        },
        {
          "output_type": "stream",
          "text": [
            "/usr/local/lib/python3.7/dist-packages/ipykernel_launcher.py:18: RuntimeWarning: invalid value encountered in long_scalars\n",
            "/usr/local/lib/python3.7/dist-packages/ipykernel_launcher.py:21: RuntimeWarning: invalid value encountered in double_scalars\n",
            "/usr/local/lib/python3.7/dist-packages/sklearn/metrics/_classification.py:1272: UndefinedMetricWarning: Precision is ill-defined and being set to 0.0 in labels with no predicted samples. Use `zero_division` parameter to control this behavior.\n",
            "  _warn_prf(average, modifier, msg_start, len(result))\n"
          ],
          "name": "stderr"
        },
        {
          "output_type": "stream",
          "text": [
            "perfold= 0.8533950617283949 0.12037037037037036 0.3405448717948718\n",
            "Fold ke- 4 Akurasi = 0.1204 Precision = 0.3405 Recall = 0.1204 F1-Score = 0.0799\n"
          ],
          "name": "stdout"
        },
        {
          "output_type": "stream",
          "text": [
            "/usr/local/lib/python3.7/dist-packages/ipykernel_launcher.py:18: RuntimeWarning: invalid value encountered in long_scalars\n",
            "/usr/local/lib/python3.7/dist-packages/ipykernel_launcher.py:21: RuntimeWarning: invalid value encountered in double_scalars\n",
            "/usr/local/lib/python3.7/dist-packages/sklearn/metrics/_classification.py:1272: UndefinedMetricWarning: Precision is ill-defined and being set to 0.0 in labels with no predicted samples. Use `zero_division` parameter to control this behavior.\n",
            "  _warn_prf(average, modifier, msg_start, len(result))\n"
          ],
          "name": "stderr"
        },
        {
          "output_type": "stream",
          "text": [
            "perfold= 0.861111111111111 0.16666666666666666 0.42424242424242425\n",
            "Fold ke- 5 Akurasi = 0.1667 Precision = 0.4242 Recall = 0.1667 F1-Score = 0.1495\n"
          ],
          "name": "stdout"
        },
        {
          "output_type": "stream",
          "text": [
            "/usr/local/lib/python3.7/dist-packages/ipykernel_launcher.py:18: RuntimeWarning: invalid value encountered in long_scalars\n",
            "/usr/local/lib/python3.7/dist-packages/ipykernel_launcher.py:21: RuntimeWarning: invalid value encountered in double_scalars\n",
            "/usr/local/lib/python3.7/dist-packages/sklearn/metrics/_classification.py:1272: UndefinedMetricWarning: Precision is ill-defined and being set to 0.0 in labels with no predicted samples. Use `zero_division` parameter to control this behavior.\n",
            "  _warn_prf(average, modifier, msg_start, len(result))\n"
          ],
          "name": "stderr"
        },
        {
          "output_type": "stream",
          "text": [
            "perfold= 0.8688271604938271 0.212962962962963 0.424645390070922\n",
            "Fold ke- 6 Akurasi = 0.2130 Precision = 0.4246 Recall = 0.2130 F1-Score = 0.1979\n"
          ],
          "name": "stdout"
        },
        {
          "output_type": "stream",
          "text": [
            "/usr/local/lib/python3.7/dist-packages/ipykernel_launcher.py:18: RuntimeWarning: invalid value encountered in long_scalars\n",
            "/usr/local/lib/python3.7/dist-packages/ipykernel_launcher.py:21: RuntimeWarning: invalid value encountered in double_scalars\n",
            "/usr/local/lib/python3.7/dist-packages/sklearn/metrics/_classification.py:1272: UndefinedMetricWarning: Precision is ill-defined and being set to 0.0 in labels with no predicted samples. Use `zero_division` parameter to control this behavior.\n",
            "  _warn_prf(average, modifier, msg_start, len(result))\n"
          ],
          "name": "stderr"
        },
        {
          "output_type": "stream",
          "text": [
            "perfold= 0.8657407407407406 0.19444444444444442 0.5497311827956989\n",
            "Fold ke- 7 Akurasi = 0.1944 Precision = 0.5497 Recall = 0.1944 F1-Score = 0.1889\n"
          ],
          "name": "stdout"
        },
        {
          "output_type": "stream",
          "text": [
            "/usr/local/lib/python3.7/dist-packages/ipykernel_launcher.py:18: RuntimeWarning: invalid value encountered in long_scalars\n",
            "/usr/local/lib/python3.7/dist-packages/ipykernel_launcher.py:21: RuntimeWarning: invalid value encountered in double_scalars\n",
            "/usr/local/lib/python3.7/dist-packages/sklearn/metrics/_classification.py:1272: UndefinedMetricWarning: Precision is ill-defined and being set to 0.0 in labels with no predicted samples. Use `zero_division` parameter to control this behavior.\n",
            "  _warn_prf(average, modifier, msg_start, len(result))\n"
          ],
          "name": "stderr"
        },
        {
          "output_type": "stream",
          "text": [
            "perfold= 0.861111111111111 0.16666666666666666 0.5909863945578232\n",
            "Fold ke- 8 Akurasi = 0.1667 Precision = 0.5910 Recall = 0.1667 F1-Score = 0.1580\n"
          ],
          "name": "stdout"
        },
        {
          "output_type": "stream",
          "text": [
            "/usr/local/lib/python3.7/dist-packages/ipykernel_launcher.py:18: RuntimeWarning: invalid value encountered in long_scalars\n",
            "/usr/local/lib/python3.7/dist-packages/ipykernel_launcher.py:21: RuntimeWarning: invalid value encountered in double_scalars\n",
            "/usr/local/lib/python3.7/dist-packages/sklearn/metrics/_classification.py:1272: UndefinedMetricWarning: Precision is ill-defined and being set to 0.0 in labels with no predicted samples. Use `zero_division` parameter to control this behavior.\n",
            "  _warn_prf(average, modifier, msg_start, len(result))\n"
          ],
          "name": "stderr"
        },
        {
          "output_type": "stream",
          "text": [
            "perfold= 0.8564814814814814 0.1388888888888889 0.42401960784313725\n",
            "Fold ke- 9 Akurasi = 0.1389 Precision = 0.4240 Recall = 0.1389 F1-Score = 0.1105\n"
          ],
          "name": "stdout"
        },
        {
          "output_type": "stream",
          "text": [
            "/usr/local/lib/python3.7/dist-packages/ipykernel_launcher.py:18: RuntimeWarning: invalid value encountered in long_scalars\n",
            "/usr/local/lib/python3.7/dist-packages/ipykernel_launcher.py:21: RuntimeWarning: invalid value encountered in double_scalars\n",
            "/usr/local/lib/python3.7/dist-packages/sklearn/metrics/_classification.py:1272: UndefinedMetricWarning: Precision is ill-defined and being set to 0.0 in labels with no predicted samples. Use `zero_division` parameter to control this behavior.\n",
            "  _warn_prf(average, modifier, msg_start, len(result))\n"
          ],
          "name": "stderr"
        },
        {
          "output_type": "stream",
          "text": [
            "perfold= 0.861111111111111 0.16666666666666666 0.452176403207331\n",
            "Fold ke- 10 Akurasi = 0.1667 Precision = 0.4522 Recall = 0.1667 F1-Score = 0.1523\n",
            "TP: [10, 11, 17, 13, 18, 23, 21, 18, 15, 18] TOTAL: 164\n",
            "FP: [98, 97, 91, 95, 90, 85, 87, 90, 93, 90] TOTAL: 916\n",
            "FN: [98, 97, 91, 95, 90, 85, 87, 90, 93, 90] TOTAL: 916\n",
            "TN: [1090, 1091, 1097, 1093, 1098, 1103, 1101, 1098, 1095, 1098] TOTAL: 10964\n",
            "0.15185185185185185 0.15185185185185185 0.15185185185185185 0.15185185185185185\n",
            "Avg accuracyTP = 0.1519 Avg accuracy = 0.1519\n",
            "Avg precisionTP= 0.1519 Avg precision= 0.4061\n",
            "Avg recallTP= 0.1519 Avg recall= 0.1519\n",
            "Avg f1TP= 0.1519 Avg f1= 0.1257\n",
            "------------------------------------\n",
            "Dengan Stemming\n",
            "Nama distance= manhattan\n",
            "Jumlah K tetangga= 3\n"
          ],
          "name": "stdout"
        },
        {
          "output_type": "stream",
          "text": [
            "/usr/local/lib/python3.7/dist-packages/ipykernel_launcher.py:18: RuntimeWarning: invalid value encountered in long_scalars\n",
            "/usr/local/lib/python3.7/dist-packages/ipykernel_launcher.py:21: RuntimeWarning: invalid value encountered in double_scalars\n",
            "/usr/local/lib/python3.7/dist-packages/sklearn/metrics/_classification.py:1272: UndefinedMetricWarning: Precision is ill-defined and being set to 0.0 in labels with no predicted samples. Use `zero_division` parameter to control this behavior.\n",
            "  _warn_prf(average, modifier, msg_start, len(result))\n"
          ],
          "name": "stderr"
        },
        {
          "output_type": "stream",
          "text": [
            "perfold= 0.8518518518518517 0.11111111111111112 0.2571428571428572\n",
            "Fold ke- 1 Akurasi = 0.1111 Precision = 0.2571 Recall = 0.1111 F1-Score = 0.0632\n"
          ],
          "name": "stdout"
        },
        {
          "output_type": "stream",
          "text": [
            "/usr/local/lib/python3.7/dist-packages/ipykernel_launcher.py:18: RuntimeWarning: invalid value encountered in long_scalars\n",
            "/usr/local/lib/python3.7/dist-packages/ipykernel_launcher.py:21: RuntimeWarning: invalid value encountered in double_scalars\n",
            "/usr/local/lib/python3.7/dist-packages/sklearn/metrics/_classification.py:1272: UndefinedMetricWarning: Precision is ill-defined and being set to 0.0 in labels with no predicted samples. Use `zero_division` parameter to control this behavior.\n",
            "  _warn_prf(average, modifier, msg_start, len(result))\n"
          ],
          "name": "stderr"
        },
        {
          "output_type": "stream",
          "text": [
            "perfold= 0.8518518518518517 0.11111111111111112 0.2571428571428572\n",
            "Fold ke- 2 Akurasi = 0.1111 Precision = 0.2571 Recall = 0.1111 F1-Score = 0.0632\n"
          ],
          "name": "stdout"
        },
        {
          "output_type": "stream",
          "text": [
            "/usr/local/lib/python3.7/dist-packages/ipykernel_launcher.py:18: RuntimeWarning: invalid value encountered in long_scalars\n",
            "/usr/local/lib/python3.7/dist-packages/ipykernel_launcher.py:21: RuntimeWarning: invalid value encountered in double_scalars\n",
            "/usr/local/lib/python3.7/dist-packages/sklearn/metrics/_classification.py:1272: UndefinedMetricWarning: Precision is ill-defined and being set to 0.0 in labels with no predicted samples. Use `zero_division` parameter to control this behavior.\n",
            "  _warn_prf(average, modifier, msg_start, len(result))\n"
          ],
          "name": "stderr"
        },
        {
          "output_type": "stream",
          "text": [
            "perfold= 0.8657407407407406 0.19444444444444442 0.5634502923976608\n",
            "Fold ke- 3 Akurasi = 0.1944 Precision = 0.5635 Recall = 0.1944 F1-Score = 0.1945\n"
          ],
          "name": "stdout"
        },
        {
          "output_type": "stream",
          "text": [
            "/usr/local/lib/python3.7/dist-packages/ipykernel_launcher.py:18: RuntimeWarning: invalid value encountered in long_scalars\n",
            "/usr/local/lib/python3.7/dist-packages/ipykernel_launcher.py:21: RuntimeWarning: invalid value encountered in double_scalars\n",
            "/usr/local/lib/python3.7/dist-packages/sklearn/metrics/_classification.py:1272: UndefinedMetricWarning: Precision is ill-defined and being set to 0.0 in labels with no predicted samples. Use `zero_division` parameter to control this behavior.\n",
            "  _warn_prf(average, modifier, msg_start, len(result))\n"
          ],
          "name": "stderr"
        },
        {
          "output_type": "stream",
          "text": [
            "perfold= 0.8564814814814814 0.1388888888888889 0.5073529411764706\n",
            "Fold ke- 4 Akurasi = 0.1389 Precision = 0.5074 Recall = 0.1389 F1-Score = 0.1135\n"
          ],
          "name": "stdout"
        },
        {
          "output_type": "stream",
          "text": [
            "/usr/local/lib/python3.7/dist-packages/ipykernel_launcher.py:18: RuntimeWarning: invalid value encountered in long_scalars\n",
            "/usr/local/lib/python3.7/dist-packages/ipykernel_launcher.py:21: RuntimeWarning: invalid value encountered in double_scalars\n",
            "/usr/local/lib/python3.7/dist-packages/sklearn/metrics/_classification.py:1272: UndefinedMetricWarning: Precision is ill-defined and being set to 0.0 in labels with no predicted samples. Use `zero_division` parameter to control this behavior.\n",
            "  _warn_prf(average, modifier, msg_start, len(result))\n"
          ],
          "name": "stderr"
        },
        {
          "output_type": "stream",
          "text": [
            "perfold= 0.8657407407407406 0.19444444444444445 0.5911458333333334\n",
            "Fold ke- 5 Akurasi = 0.1944 Precision = 0.5911 Recall = 0.1944 F1-Score = 0.1969\n"
          ],
          "name": "stdout"
        },
        {
          "output_type": "stream",
          "text": [
            "/usr/local/lib/python3.7/dist-packages/ipykernel_launcher.py:18: RuntimeWarning: invalid value encountered in long_scalars\n",
            "/usr/local/lib/python3.7/dist-packages/ipykernel_launcher.py:21: RuntimeWarning: invalid value encountered in double_scalars\n",
            "/usr/local/lib/python3.7/dist-packages/sklearn/metrics/_classification.py:1272: UndefinedMetricWarning: Precision is ill-defined and being set to 0.0 in labels with no predicted samples. Use `zero_division` parameter to control this behavior.\n",
            "  _warn_prf(average, modifier, msg_start, len(result))\n"
          ],
          "name": "stderr"
        },
        {
          "output_type": "stream",
          "text": [
            "perfold= 0.8796296296296298 0.27777777777777785 0.5919540229885057\n",
            "Fold ke- 6 Akurasi = 0.2778 Precision = 0.5920 Recall = 0.2778 F1-Score = 0.2919\n"
          ],
          "name": "stdout"
        },
        {
          "output_type": "stream",
          "text": [
            "/usr/local/lib/python3.7/dist-packages/ipykernel_launcher.py:18: RuntimeWarning: invalid value encountered in long_scalars\n",
            "/usr/local/lib/python3.7/dist-packages/ipykernel_launcher.py:21: RuntimeWarning: invalid value encountered in double_scalars\n",
            "/usr/local/lib/python3.7/dist-packages/sklearn/metrics/_classification.py:1272: UndefinedMetricWarning: Precision is ill-defined and being set to 0.0 in labels with no predicted samples. Use `zero_division` parameter to control this behavior.\n",
            "  _warn_prf(average, modifier, msg_start, len(result))\n"
          ],
          "name": "stderr"
        },
        {
          "output_type": "stream",
          "text": [
            "perfold= 0.8734567901234569 0.24074074074074073 0.6394751082251082\n",
            "Fold ke- 7 Akurasi = 0.2407 Precision = 0.6395 Recall = 0.2407 F1-Score = 0.2511\n"
          ],
          "name": "stdout"
        },
        {
          "output_type": "stream",
          "text": [
            "/usr/local/lib/python3.7/dist-packages/ipykernel_launcher.py:18: RuntimeWarning: invalid value encountered in long_scalars\n",
            "/usr/local/lib/python3.7/dist-packages/ipykernel_launcher.py:21: RuntimeWarning: invalid value encountered in double_scalars\n",
            "/usr/local/lib/python3.7/dist-packages/sklearn/metrics/_classification.py:1272: UndefinedMetricWarning: Precision is ill-defined and being set to 0.0 in labels with no predicted samples. Use `zero_division` parameter to control this behavior.\n",
            "  _warn_prf(average, modifier, msg_start, len(result))\n"
          ],
          "name": "stderr"
        },
        {
          "output_type": "stream",
          "text": [
            "perfold= 0.8641975308641975 0.1851851851851852 0.6743986254295532\n",
            "Fold ke- 8 Akurasi = 0.1852 Precision = 0.6744 Recall = 0.1852 F1-Score = 0.1884\n"
          ],
          "name": "stdout"
        },
        {
          "output_type": "stream",
          "text": [
            "/usr/local/lib/python3.7/dist-packages/ipykernel_launcher.py:18: RuntimeWarning: invalid value encountered in long_scalars\n",
            "/usr/local/lib/python3.7/dist-packages/ipykernel_launcher.py:21: RuntimeWarning: invalid value encountered in double_scalars\n",
            "/usr/local/lib/python3.7/dist-packages/sklearn/metrics/_classification.py:1272: UndefinedMetricWarning: Precision is ill-defined and being set to 0.0 in labels with no predicted samples. Use `zero_division` parameter to control this behavior.\n",
            "  _warn_prf(average, modifier, msg_start, len(result))\n"
          ],
          "name": "stderr"
        },
        {
          "output_type": "stream",
          "text": [
            "perfold= 0.8595679012345679 0.1574074074074074 0.42424242424242425\n",
            "Fold ke- 9 Akurasi = 0.1574 Precision = 0.4242 Recall = 0.1574 F1-Score = 0.1381\n"
          ],
          "name": "stdout"
        },
        {
          "output_type": "stream",
          "text": [
            "/usr/local/lib/python3.7/dist-packages/ipykernel_launcher.py:18: RuntimeWarning: invalid value encountered in long_scalars\n",
            "/usr/local/lib/python3.7/dist-packages/ipykernel_launcher.py:21: RuntimeWarning: invalid value encountered in double_scalars\n",
            "/usr/local/lib/python3.7/dist-packages/sklearn/metrics/_classification.py:1272: UndefinedMetricWarning: Precision is ill-defined and being set to 0.0 in labels with no predicted samples. Use `zero_division` parameter to control this behavior.\n",
            "  _warn_prf(average, modifier, msg_start, len(result))\n"
          ],
          "name": "stderr"
        },
        {
          "output_type": "stream",
          "text": [
            "perfold= 0.8641975308641975 0.1851851851851852 0.5494791666666666\n",
            "Fold ke- 10 Akurasi = 0.1852 Precision = 0.5495 Recall = 0.1852 F1-Score = 0.1817\n",
            "TP: [12, 12, 21, 15, 21, 30, 26, 20, 17, 20] TOTAL: 194\n",
            "FP: [96, 96, 87, 93, 87, 78, 82, 88, 91, 88] TOTAL: 886\n",
            "FN: [96, 96, 87, 93, 87, 78, 82, 88, 91, 88] TOTAL: 886\n",
            "TN: [1092, 1092, 1101, 1095, 1101, 1110, 1106, 1100, 1097, 1100] TOTAL: 10994\n",
            "0.1796296296296296 0.1796296296296296 0.1796296296296296 0.17962962962962958\n",
            "Avg accuracyTP = 0.1796 Avg accuracy = 0.1796\n",
            "Avg precisionTP= 0.1796 Avg precision= 0.5056\n",
            "Avg recallTP= 0.1796 Avg recall= 0.1796\n",
            "Avg f1TP= 0.1796 Avg f1= 0.1682\n",
            "------------------------------------\n",
            "Dengan Stemming\n",
            "Nama distance= manhattan\n",
            "Jumlah K tetangga= 5\n"
          ],
          "name": "stdout"
        },
        {
          "output_type": "stream",
          "text": [
            "/usr/local/lib/python3.7/dist-packages/ipykernel_launcher.py:18: RuntimeWarning: invalid value encountered in long_scalars\n",
            "/usr/local/lib/python3.7/dist-packages/ipykernel_launcher.py:21: RuntimeWarning: invalid value encountered in double_scalars\n",
            "/usr/local/lib/python3.7/dist-packages/sklearn/metrics/_classification.py:1272: UndefinedMetricWarning: Precision is ill-defined and being set to 0.0 in labels with no predicted samples. Use `zero_division` parameter to control this behavior.\n",
            "  _warn_prf(average, modifier, msg_start, len(result))\n"
          ],
          "name": "stderr"
        },
        {
          "output_type": "stream",
          "text": [
            "perfold= 0.8518518518518517 0.11111111111111112 0.2571428571428572\n",
            "Fold ke- 1 Akurasi = 0.1111 Precision = 0.2571 Recall = 0.1111 F1-Score = 0.0632\n"
          ],
          "name": "stdout"
        },
        {
          "output_type": "stream",
          "text": [
            "/usr/local/lib/python3.7/dist-packages/ipykernel_launcher.py:18: RuntimeWarning: invalid value encountered in long_scalars\n",
            "/usr/local/lib/python3.7/dist-packages/ipykernel_launcher.py:21: RuntimeWarning: invalid value encountered in double_scalars\n",
            "/usr/local/lib/python3.7/dist-packages/sklearn/metrics/_classification.py:1272: UndefinedMetricWarning: Precision is ill-defined and being set to 0.0 in labels with no predicted samples. Use `zero_division` parameter to control this behavior.\n",
            "  _warn_prf(average, modifier, msg_start, len(result))\n"
          ],
          "name": "stderr"
        },
        {
          "output_type": "stream",
          "text": [
            "perfold= 0.8503086419753085 0.10185185185185186 0.17380952380952377\n",
            "Fold ke- 2 Akurasi = 0.1019 Precision = 0.1738 Recall = 0.1019 F1-Score = 0.0465\n"
          ],
          "name": "stdout"
        },
        {
          "output_type": "stream",
          "text": [
            "/usr/local/lib/python3.7/dist-packages/ipykernel_launcher.py:18: RuntimeWarning: invalid value encountered in long_scalars\n",
            "/usr/local/lib/python3.7/dist-packages/ipykernel_launcher.py:21: RuntimeWarning: invalid value encountered in double_scalars\n",
            "/usr/local/lib/python3.7/dist-packages/sklearn/metrics/_classification.py:1272: UndefinedMetricWarning: Precision is ill-defined and being set to 0.0 in labels with no predicted samples. Use `zero_division` parameter to control this behavior.\n",
            "  _warn_prf(average, modifier, msg_start, len(result))\n"
          ],
          "name": "stderr"
        },
        {
          "output_type": "stream",
          "text": [
            "perfold= 0.8765432098765432 0.25925925925925924 0.6053240740740741\n",
            "Fold ke- 3 Akurasi = 0.2593 Precision = 0.6053 Recall = 0.2593 F1-Score = 0.2726\n"
          ],
          "name": "stdout"
        },
        {
          "output_type": "stream",
          "text": [
            "/usr/local/lib/python3.7/dist-packages/ipykernel_launcher.py:18: RuntimeWarning: invalid value encountered in long_scalars\n",
            "/usr/local/lib/python3.7/dist-packages/ipykernel_launcher.py:21: RuntimeWarning: invalid value encountered in double_scalars\n",
            "/usr/local/lib/python3.7/dist-packages/sklearn/metrics/_classification.py:1272: UndefinedMetricWarning: Precision is ill-defined and being set to 0.0 in labels with no predicted samples. Use `zero_division` parameter to control this behavior.\n",
            "  _warn_prf(average, modifier, msg_start, len(result))\n"
          ],
          "name": "stderr"
        },
        {
          "output_type": "stream",
          "text": [
            "perfold= 0.8580246913580246 0.14814814814814817 0.5907590759075908\n",
            "Fold ke- 4 Akurasi = 0.1481 Precision = 0.5908 Recall = 0.1481 F1-Score = 0.1303\n"
          ],
          "name": "stdout"
        },
        {
          "output_type": "stream",
          "text": [
            "/usr/local/lib/python3.7/dist-packages/ipykernel_launcher.py:18: RuntimeWarning: invalid value encountered in long_scalars\n",
            "/usr/local/lib/python3.7/dist-packages/ipykernel_launcher.py:21: RuntimeWarning: invalid value encountered in double_scalars\n",
            "/usr/local/lib/python3.7/dist-packages/sklearn/metrics/_classification.py:1272: UndefinedMetricWarning: Precision is ill-defined and being set to 0.0 in labels with no predicted samples. Use `zero_division` parameter to control this behavior.\n",
            "  _warn_prf(average, modifier, msg_start, len(result))\n"
          ],
          "name": "stderr"
        },
        {
          "output_type": "stream",
          "text": [
            "perfold= 0.8703703703703702 0.2222222222222222 0.5913978494623656\n",
            "Fold ke- 5 Akurasi = 0.2222 Precision = 0.5914 Recall = 0.2222 F1-Score = 0.2319\n"
          ],
          "name": "stdout"
        },
        {
          "output_type": "stream",
          "text": [
            "/usr/local/lib/python3.7/dist-packages/ipykernel_launcher.py:18: RuntimeWarning: invalid value encountered in long_scalars\n",
            "/usr/local/lib/python3.7/dist-packages/ipykernel_launcher.py:21: RuntimeWarning: invalid value encountered in double_scalars\n",
            "/usr/local/lib/python3.7/dist-packages/sklearn/metrics/_classification.py:1272: UndefinedMetricWarning: Precision is ill-defined and being set to 0.0 in labels with no predicted samples. Use `zero_division` parameter to control this behavior.\n",
            "  _warn_prf(average, modifier, msg_start, len(result))\n"
          ],
          "name": "stderr"
        },
        {
          "output_type": "stream",
          "text": [
            "perfold= 0.875 0.25 0.5778714107365793\n",
            "Fold ke- 6 Akurasi = 0.2500 Precision = 0.5779 Recall = 0.2500 F1-Score = 0.2600\n"
          ],
          "name": "stdout"
        },
        {
          "output_type": "stream",
          "text": [
            "/usr/local/lib/python3.7/dist-packages/ipykernel_launcher.py:18: RuntimeWarning: invalid value encountered in long_scalars\n",
            "/usr/local/lib/python3.7/dist-packages/ipykernel_launcher.py:21: RuntimeWarning: invalid value encountered in double_scalars\n",
            "/usr/local/lib/python3.7/dist-packages/sklearn/metrics/_classification.py:1272: UndefinedMetricWarning: Precision is ill-defined and being set to 0.0 in labels with no predicted samples. Use `zero_division` parameter to control this behavior.\n",
            "  _warn_prf(average, modifier, msg_start, len(result))\n"
          ],
          "name": "stderr"
        },
        {
          "output_type": "stream",
          "text": [
            "perfold= 0.8780864197530863 0.26851851851851855 0.7419540229885057\n",
            "Fold ke- 7 Akurasi = 0.2685 Precision = 0.7420 Recall = 0.2685 F1-Score = 0.2940\n"
          ],
          "name": "stdout"
        },
        {
          "output_type": "stream",
          "text": [
            "/usr/local/lib/python3.7/dist-packages/ipykernel_launcher.py:18: RuntimeWarning: invalid value encountered in long_scalars\n",
            "/usr/local/lib/python3.7/dist-packages/ipykernel_launcher.py:21: RuntimeWarning: invalid value encountered in double_scalars\n",
            "/usr/local/lib/python3.7/dist-packages/sklearn/metrics/_classification.py:1272: UndefinedMetricWarning: Precision is ill-defined and being set to 0.0 in labels with no predicted samples. Use `zero_division` parameter to control this behavior.\n",
            "  _warn_prf(average, modifier, msg_start, len(result))\n"
          ],
          "name": "stderr"
        },
        {
          "output_type": "stream",
          "text": [
            "perfold= 0.8703703703703703 0.2222222222222222 0.6581521739130435\n",
            "Fold ke- 8 Akurasi = 0.2222 Precision = 0.6582 Recall = 0.2222 F1-Score = 0.2314\n"
          ],
          "name": "stdout"
        },
        {
          "output_type": "stream",
          "text": [
            "/usr/local/lib/python3.7/dist-packages/ipykernel_launcher.py:18: RuntimeWarning: invalid value encountered in long_scalars\n",
            "/usr/local/lib/python3.7/dist-packages/ipykernel_launcher.py:21: RuntimeWarning: invalid value encountered in double_scalars\n",
            "/usr/local/lib/python3.7/dist-packages/sklearn/metrics/_classification.py:1272: UndefinedMetricWarning: Precision is ill-defined and being set to 0.0 in labels with no predicted samples. Use `zero_division` parameter to control this behavior.\n",
            "  _warn_prf(average, modifier, msg_start, len(result))\n"
          ],
          "name": "stderr"
        },
        {
          "output_type": "stream",
          "text": [
            "perfold= 0.8549382716049383 0.12962962962962962 0.25728155339805825\n",
            "Fold ke- 9 Akurasi = 0.1296 Precision = 0.2573 Recall = 0.1296 F1-Score = 0.0907\n"
          ],
          "name": "stdout"
        },
        {
          "output_type": "stream",
          "text": [
            "/usr/local/lib/python3.7/dist-packages/ipykernel_launcher.py:18: RuntimeWarning: invalid value encountered in long_scalars\n",
            "/usr/local/lib/python3.7/dist-packages/ipykernel_launcher.py:21: RuntimeWarning: invalid value encountered in double_scalars\n",
            "/usr/local/lib/python3.7/dist-packages/sklearn/metrics/_classification.py:1272: UndefinedMetricWarning: Precision is ill-defined and being set to 0.0 in labels with no predicted samples. Use `zero_division` parameter to control this behavior.\n",
            "  _warn_prf(average, modifier, msg_start, len(result))\n"
          ],
          "name": "stderr"
        },
        {
          "output_type": "stream",
          "text": [
            "perfold= 0.8657407407407406 0.19444444444444445 0.5078125\n",
            "Fold ke- 10 Akurasi = 0.1944 Precision = 0.5078 Recall = 0.1944 F1-Score = 0.1898\n",
            "TP: [12, 11, 28, 16, 24, 27, 29, 24, 14, 21] TOTAL: 206\n",
            "FP: [96, 97, 80, 92, 84, 81, 79, 84, 94, 87] TOTAL: 874\n",
            "FN: [96, 97, 80, 92, 84, 81, 79, 84, 94, 87] TOTAL: 874\n",
            "TN: [1092, 1091, 1108, 1096, 1104, 1107, 1109, 1104, 1094, 1101] TOTAL: 11006\n",
            "0.19074074074074074 0.19074074074074074 0.19074074074074074 0.19074074074074074\n",
            "Avg accuracyTP = 0.1907 Avg accuracy = 0.1907\n",
            "Avg precisionTP= 0.1907 Avg precision= 0.4962\n",
            "Avg recallTP= 0.1907 Avg recall= 0.1907\n",
            "Avg f1TP= 0.1907 Avg f1= 0.1810\n",
            "------------------------------------\n",
            "Dengan Stemming\n",
            "Nama distance= manhattan\n",
            "Jumlah K tetangga= 7\n"
          ],
          "name": "stdout"
        },
        {
          "output_type": "stream",
          "text": [
            "/usr/local/lib/python3.7/dist-packages/ipykernel_launcher.py:18: RuntimeWarning: invalid value encountered in long_scalars\n",
            "/usr/local/lib/python3.7/dist-packages/ipykernel_launcher.py:21: RuntimeWarning: invalid value encountered in double_scalars\n",
            "/usr/local/lib/python3.7/dist-packages/sklearn/metrics/_classification.py:1272: UndefinedMetricWarning: Precision is ill-defined and being set to 0.0 in labels with no predicted samples. Use `zero_division` parameter to control this behavior.\n",
            "  _warn_prf(average, modifier, msg_start, len(result))\n"
          ],
          "name": "stderr"
        },
        {
          "output_type": "stream",
          "text": [
            "perfold= 0.8549382716049383 0.12962962962962962 0.2873263888888889\n",
            "Fold ke- 1 Akurasi = 0.1296 Precision = 0.2873 Recall = 0.1296 F1-Score = 0.1042\n"
          ],
          "name": "stdout"
        },
        {
          "output_type": "stream",
          "text": [
            "/usr/local/lib/python3.7/dist-packages/ipykernel_launcher.py:18: RuntimeWarning: invalid value encountered in long_scalars\n",
            "/usr/local/lib/python3.7/dist-packages/ipykernel_launcher.py:21: RuntimeWarning: invalid value encountered in double_scalars\n",
            "/usr/local/lib/python3.7/dist-packages/sklearn/metrics/_classification.py:1272: UndefinedMetricWarning: Precision is ill-defined and being set to 0.0 in labels with no predicted samples. Use `zero_division` parameter to control this behavior.\n",
            "  _warn_prf(average, modifier, msg_start, len(result))\n"
          ],
          "name": "stderr"
        },
        {
          "output_type": "stream",
          "text": [
            "perfold= 0.8580246913580246 0.14814814814814817 0.3111501431173562\n",
            "Fold ke- 2 Akurasi = 0.1481 Precision = 0.3112 Recall = 0.1481 F1-Score = 0.0982\n"
          ],
          "name": "stdout"
        },
        {
          "output_type": "stream",
          "text": [
            "/usr/local/lib/python3.7/dist-packages/ipykernel_launcher.py:18: RuntimeWarning: invalid value encountered in long_scalars\n",
            "/usr/local/lib/python3.7/dist-packages/ipykernel_launcher.py:21: RuntimeWarning: invalid value encountered in double_scalars\n",
            "/usr/local/lib/python3.7/dist-packages/sklearn/metrics/_classification.py:1272: UndefinedMetricWarning: Precision is ill-defined and being set to 0.0 in labels with no predicted samples. Use `zero_division` parameter to control this behavior.\n",
            "  _warn_prf(average, modifier, msg_start, len(result))\n"
          ],
          "name": "stderr"
        },
        {
          "output_type": "stream",
          "text": [
            "perfold= 0.8873456790123456 0.32407407407407407 0.5727513227513227\n",
            "Fold ke- 3 Akurasi = 0.3241 Precision = 0.5728 Recall = 0.3241 F1-Score = 0.3012\n"
          ],
          "name": "stdout"
        },
        {
          "output_type": "stream",
          "text": [
            "/usr/local/lib/python3.7/dist-packages/ipykernel_launcher.py:18: RuntimeWarning: invalid value encountered in long_scalars\n",
            "/usr/local/lib/python3.7/dist-packages/ipykernel_launcher.py:21: RuntimeWarning: invalid value encountered in double_scalars\n",
            "/usr/local/lib/python3.7/dist-packages/sklearn/metrics/_classification.py:1272: UndefinedMetricWarning: Precision is ill-defined and being set to 0.0 in labels with no predicted samples. Use `zero_division` parameter to control this behavior.\n",
            "  _warn_prf(average, modifier, msg_start, len(result))\n"
          ],
          "name": "stderr"
        },
        {
          "output_type": "stream",
          "text": [
            "perfold= 0.8657407407407408 0.19444444444444445 0.53125\n",
            "Fold ke- 4 Akurasi = 0.1944 Precision = 0.5312 Recall = 0.1944 F1-Score = 0.1814\n"
          ],
          "name": "stdout"
        },
        {
          "output_type": "stream",
          "text": [
            "/usr/local/lib/python3.7/dist-packages/ipykernel_launcher.py:18: RuntimeWarning: invalid value encountered in long_scalars\n",
            "/usr/local/lib/python3.7/dist-packages/ipykernel_launcher.py:21: RuntimeWarning: invalid value encountered in double_scalars\n",
            "/usr/local/lib/python3.7/dist-packages/sklearn/metrics/_classification.py:1272: UndefinedMetricWarning: Precision is ill-defined and being set to 0.0 in labels with no predicted samples. Use `zero_division` parameter to control this behavior.\n",
            "  _warn_prf(average, modifier, msg_start, len(result))\n"
          ],
          "name": "stderr"
        },
        {
          "output_type": "stream",
          "text": [
            "perfold= 0.8734567901234568 0.24074074074074073 0.6031653746770026\n",
            "Fold ke- 5 Akurasi = 0.2407 Precision = 0.6032 Recall = 0.2407 F1-Score = 0.2493\n"
          ],
          "name": "stdout"
        },
        {
          "output_type": "stream",
          "text": [
            "/usr/local/lib/python3.7/dist-packages/ipykernel_launcher.py:18: RuntimeWarning: invalid value encountered in long_scalars\n",
            "/usr/local/lib/python3.7/dist-packages/ipykernel_launcher.py:21: RuntimeWarning: invalid value encountered in double_scalars\n",
            "/usr/local/lib/python3.7/dist-packages/sklearn/metrics/_classification.py:1272: UndefinedMetricWarning: Precision is ill-defined and being set to 0.0 in labels with no predicted samples. Use `zero_division` parameter to control this behavior.\n",
            "  _warn_prf(average, modifier, msg_start, len(result))\n"
          ],
          "name": "stderr"
        },
        {
          "output_type": "stream",
          "text": [
            "perfold= 0.8888888888888888 0.3333333333333333 0.5233772657181927\n",
            "Fold ke- 6 Akurasi = 0.3333 Precision = 0.5234 Recall = 0.3333 F1-Score = 0.3047\n"
          ],
          "name": "stdout"
        },
        {
          "output_type": "stream",
          "text": [
            "/usr/local/lib/python3.7/dist-packages/ipykernel_launcher.py:18: RuntimeWarning: invalid value encountered in long_scalars\n",
            "/usr/local/lib/python3.7/dist-packages/ipykernel_launcher.py:21: RuntimeWarning: invalid value encountered in double_scalars\n",
            "/usr/local/lib/python3.7/dist-packages/sklearn/metrics/_classification.py:1272: UndefinedMetricWarning: Precision is ill-defined and being set to 0.0 in labels with no predicted samples. Use `zero_division` parameter to control this behavior.\n",
            "  _warn_prf(average, modifier, msg_start, len(result))\n"
          ],
          "name": "stderr"
        },
        {
          "output_type": "stream",
          "text": [
            "perfold= 0.888888888888889 0.3333333333333333 0.599411231884058\n",
            "Fold ke- 7 Akurasi = 0.3333 Precision = 0.5994 Recall = 0.3333 F1-Score = 0.3121\n"
          ],
          "name": "stdout"
        },
        {
          "output_type": "stream",
          "text": [
            "/usr/local/lib/python3.7/dist-packages/ipykernel_launcher.py:18: RuntimeWarning: invalid value encountered in long_scalars\n",
            "/usr/local/lib/python3.7/dist-packages/ipykernel_launcher.py:21: RuntimeWarning: invalid value encountered in double_scalars\n",
            "/usr/local/lib/python3.7/dist-packages/sklearn/metrics/_classification.py:1272: UndefinedMetricWarning: Precision is ill-defined and being set to 0.0 in labels with no predicted samples. Use `zero_division` parameter to control this behavior.\n",
            "  _warn_prf(average, modifier, msg_start, len(result))\n"
          ],
          "name": "stderr"
        },
        {
          "output_type": "stream",
          "text": [
            "perfold= 0.8811728395061729 0.28703703703703703 0.625\n",
            "Fold ke- 8 Akurasi = 0.2870 Precision = 0.6250 Recall = 0.2870 F1-Score = 0.2879\n"
          ],
          "name": "stdout"
        },
        {
          "output_type": "stream",
          "text": [
            "/usr/local/lib/python3.7/dist-packages/ipykernel_launcher.py:18: RuntimeWarning: invalid value encountered in long_scalars\n",
            "/usr/local/lib/python3.7/dist-packages/ipykernel_launcher.py:21: RuntimeWarning: invalid value encountered in double_scalars\n",
            "/usr/local/lib/python3.7/dist-packages/sklearn/metrics/_classification.py:1272: UndefinedMetricWarning: Precision is ill-defined and being set to 0.0 in labels with no predicted samples. Use `zero_division` parameter to control this behavior.\n",
            "  _warn_prf(average, modifier, msg_start, len(result))\n"
          ],
          "name": "stderr"
        },
        {
          "output_type": "stream",
          "text": [
            "perfold= 0.8796296296296297 0.2777777777777778 0.446969696969697\n",
            "Fold ke- 9 Akurasi = 0.2778 Precision = 0.4470 Recall = 0.2778 F1-Score = 0.2305\n"
          ],
          "name": "stdout"
        },
        {
          "output_type": "stream",
          "text": [
            "/usr/local/lib/python3.7/dist-packages/ipykernel_launcher.py:18: RuntimeWarning: invalid value encountered in long_scalars\n",
            "/usr/local/lib/python3.7/dist-packages/ipykernel_launcher.py:21: RuntimeWarning: invalid value encountered in double_scalars\n",
            "/usr/local/lib/python3.7/dist-packages/sklearn/metrics/_classification.py:1272: UndefinedMetricWarning: Precision is ill-defined and being set to 0.0 in labels with no predicted samples. Use `zero_division` parameter to control this behavior.\n",
            "  _warn_prf(average, modifier, msg_start, len(result))\n"
          ],
          "name": "stderr"
        },
        {
          "output_type": "stream",
          "text": [
            "perfold= 0.8780864197530867 0.2685185185185185 0.631054131054131\n",
            "Fold ke- 10 Akurasi = 0.2685 Precision = 0.6311 Recall = 0.2685 F1-Score = 0.2697\n",
            "TP: [14, 16, 35, 21, 26, 36, 36, 31, 30, 29] TOTAL: 274\n",
            "FP: [94, 92, 73, 87, 82, 72, 72, 77, 78, 79] TOTAL: 806\n",
            "FN: [94, 92, 73, 87, 82, 72, 72, 77, 78, 79] TOTAL: 806\n",
            "TN: [1094, 1096, 1115, 1101, 1106, 1116, 1116, 1111, 1110, 1109] TOTAL: 11074\n",
            "0.2537037037037037 0.25370370370370365 0.25370370370370365 0.25370370370370365\n",
            "Avg accuracyTP = 0.2537 Avg accuracy = 0.2537\n",
            "Avg precisionTP= 0.2537 Avg precision= 0.5131\n",
            "Avg recallTP= 0.2537 Avg recall= 0.2537\n",
            "Avg f1TP= 0.2537 Avg f1= 0.2339\n",
            "------------------------------------\n",
            "Dengan Stemming\n",
            "Nama distance= manhattan\n",
            "Jumlah K tetangga= 9\n"
          ],
          "name": "stdout"
        },
        {
          "output_type": "stream",
          "text": [
            "/usr/local/lib/python3.7/dist-packages/ipykernel_launcher.py:18: RuntimeWarning: invalid value encountered in long_scalars\n",
            "/usr/local/lib/python3.7/dist-packages/ipykernel_launcher.py:21: RuntimeWarning: invalid value encountered in double_scalars\n",
            "/usr/local/lib/python3.7/dist-packages/sklearn/metrics/_classification.py:1272: UndefinedMetricWarning: Precision is ill-defined and being set to 0.0 in labels with no predicted samples. Use `zero_division` parameter to control this behavior.\n",
            "  _warn_prf(average, modifier, msg_start, len(result))\n"
          ],
          "name": "stderr"
        },
        {
          "output_type": "stream",
          "text": [
            "perfold= 0.8533950617283951 0.12037037037037039 0.21493399339933994\n",
            "Fold ke- 1 Akurasi = 0.1204 Precision = 0.2149 Recall = 0.1204 F1-Score = 0.0847\n"
          ],
          "name": "stdout"
        },
        {
          "output_type": "stream",
          "text": [
            "/usr/local/lib/python3.7/dist-packages/ipykernel_launcher.py:18: RuntimeWarning: invalid value encountered in long_scalars\n",
            "/usr/local/lib/python3.7/dist-packages/ipykernel_launcher.py:21: RuntimeWarning: invalid value encountered in double_scalars\n",
            "/usr/local/lib/python3.7/dist-packages/sklearn/metrics/_classification.py:1272: UndefinedMetricWarning: Precision is ill-defined and being set to 0.0 in labels with no predicted samples. Use `zero_division` parameter to control this behavior.\n",
            "  _warn_prf(average, modifier, msg_start, len(result))\n"
          ],
          "name": "stderr"
        },
        {
          "output_type": "stream",
          "text": [
            "perfold= 0.8549382716049383 0.12962962962962962 0.31138392857142855\n",
            "Fold ke- 2 Akurasi = 0.1296 Precision = 0.3114 Recall = 0.1296 F1-Score = 0.0899\n"
          ],
          "name": "stdout"
        },
        {
          "output_type": "stream",
          "text": [
            "/usr/local/lib/python3.7/dist-packages/ipykernel_launcher.py:18: RuntimeWarning: invalid value encountered in long_scalars\n",
            "/usr/local/lib/python3.7/dist-packages/ipykernel_launcher.py:21: RuntimeWarning: invalid value encountered in double_scalars\n",
            "/usr/local/lib/python3.7/dist-packages/sklearn/metrics/_classification.py:1272: UndefinedMetricWarning: Precision is ill-defined and being set to 0.0 in labels with no predicted samples. Use `zero_division` parameter to control this behavior.\n",
            "  _warn_prf(average, modifier, msg_start, len(result))\n"
          ],
          "name": "stderr"
        },
        {
          "output_type": "stream",
          "text": [
            "perfold= 0.888888888888889 0.3333333333333333 0.572654173312068\n",
            "Fold ke- 3 Akurasi = 0.3333 Precision = 0.5727 Recall = 0.3333 F1-Score = 0.3130\n"
          ],
          "name": "stdout"
        },
        {
          "output_type": "stream",
          "text": [
            "/usr/local/lib/python3.7/dist-packages/ipykernel_launcher.py:18: RuntimeWarning: invalid value encountered in long_scalars\n",
            "/usr/local/lib/python3.7/dist-packages/ipykernel_launcher.py:21: RuntimeWarning: invalid value encountered in double_scalars\n",
            "/usr/local/lib/python3.7/dist-packages/sklearn/metrics/_classification.py:1272: UndefinedMetricWarning: Precision is ill-defined and being set to 0.0 in labels with no predicted samples. Use `zero_division` parameter to control this behavior.\n",
            "  _warn_prf(average, modifier, msg_start, len(result))\n"
          ],
          "name": "stderr"
        },
        {
          "output_type": "stream",
          "text": [
            "perfold= 0.8657407407407408 0.19444444444444445 0.45009363295880145\n",
            "Fold ke- 4 Akurasi = 0.1944 Precision = 0.4501 Recall = 0.1944 F1-Score = 0.1732\n"
          ],
          "name": "stdout"
        },
        {
          "output_type": "stream",
          "text": [
            "/usr/local/lib/python3.7/dist-packages/ipykernel_launcher.py:18: RuntimeWarning: invalid value encountered in long_scalars\n",
            "/usr/local/lib/python3.7/dist-packages/ipykernel_launcher.py:21: RuntimeWarning: invalid value encountered in double_scalars\n",
            "/usr/local/lib/python3.7/dist-packages/sklearn/metrics/_classification.py:1272: UndefinedMetricWarning: Precision is ill-defined and being set to 0.0 in labels with no predicted samples. Use `zero_division` parameter to control this behavior.\n",
            "  _warn_prf(average, modifier, msg_start, len(result))\n"
          ],
          "name": "stderr"
        },
        {
          "output_type": "stream",
          "text": [
            "perfold= 0.8780864197530863 0.2685185185185185 0.5170267489711934\n",
            "Fold ke- 5 Akurasi = 0.2685 Precision = 0.5170 Recall = 0.2685 F1-Score = 0.2775\n"
          ],
          "name": "stdout"
        },
        {
          "output_type": "stream",
          "text": [
            "/usr/local/lib/python3.7/dist-packages/ipykernel_launcher.py:18: RuntimeWarning: invalid value encountered in long_scalars\n",
            "/usr/local/lib/python3.7/dist-packages/ipykernel_launcher.py:21: RuntimeWarning: invalid value encountered in double_scalars\n",
            "/usr/local/lib/python3.7/dist-packages/sklearn/metrics/_classification.py:1272: UndefinedMetricWarning: Precision is ill-defined and being set to 0.0 in labels with no predicted samples. Use `zero_division` parameter to control this behavior.\n",
            "  _warn_prf(average, modifier, msg_start, len(result))\n"
          ],
          "name": "stderr"
        },
        {
          "output_type": "stream",
          "text": [
            "perfold= 0.8842592592592592 0.3055555555555555 0.4381944444444444\n",
            "Fold ke- 6 Akurasi = 0.3056 Precision = 0.4382 Recall = 0.3056 F1-Score = 0.2729\n"
          ],
          "name": "stdout"
        },
        {
          "output_type": "stream",
          "text": [
            "/usr/local/lib/python3.7/dist-packages/ipykernel_launcher.py:18: RuntimeWarning: invalid value encountered in long_scalars\n",
            "/usr/local/lib/python3.7/dist-packages/ipykernel_launcher.py:21: RuntimeWarning: invalid value encountered in double_scalars\n",
            "/usr/local/lib/python3.7/dist-packages/sklearn/metrics/_classification.py:1272: UndefinedMetricWarning: Precision is ill-defined and being set to 0.0 in labels with no predicted samples. Use `zero_division` parameter to control this behavior.\n",
            "  _warn_prf(average, modifier, msg_start, len(result))\n"
          ],
          "name": "stderr"
        },
        {
          "output_type": "stream",
          "text": [
            "perfold= 0.8904320987654323 0.34259259259259256 0.680077030812325\n",
            "Fold ke- 7 Akurasi = 0.3426 Precision = 0.6801 Recall = 0.3426 F1-Score = 0.3271\n"
          ],
          "name": "stdout"
        },
        {
          "output_type": "stream",
          "text": [
            "/usr/local/lib/python3.7/dist-packages/ipykernel_launcher.py:18: RuntimeWarning: invalid value encountered in long_scalars\n",
            "/usr/local/lib/python3.7/dist-packages/ipykernel_launcher.py:21: RuntimeWarning: invalid value encountered in double_scalars\n",
            "/usr/local/lib/python3.7/dist-packages/sklearn/metrics/_classification.py:1272: UndefinedMetricWarning: Precision is ill-defined and being set to 0.0 in labels with no predicted samples. Use `zero_division` parameter to control this behavior.\n",
            "  _warn_prf(average, modifier, msg_start, len(result))\n"
          ],
          "name": "stderr"
        },
        {
          "output_type": "stream",
          "text": [
            "perfold= 0.8734567901234568 0.24074074074074073 0.6158637873754153\n",
            "Fold ke- 8 Akurasi = 0.2407 Precision = 0.6159 Recall = 0.2407 F1-Score = 0.2461\n"
          ],
          "name": "stdout"
        },
        {
          "output_type": "stream",
          "text": [
            "/usr/local/lib/python3.7/dist-packages/ipykernel_launcher.py:18: RuntimeWarning: invalid value encountered in long_scalars\n",
            "/usr/local/lib/python3.7/dist-packages/ipykernel_launcher.py:21: RuntimeWarning: invalid value encountered in double_scalars\n",
            "/usr/local/lib/python3.7/dist-packages/sklearn/metrics/_classification.py:1272: UndefinedMetricWarning: Precision is ill-defined and being set to 0.0 in labels with no predicted samples. Use `zero_division` parameter to control this behavior.\n",
            "  _warn_prf(average, modifier, msg_start, len(result))\n"
          ],
          "name": "stderr"
        },
        {
          "output_type": "stream",
          "text": [
            "perfold= 0.8780864197530863 0.2685185185185185 0.454312865497076\n",
            "Fold ke- 9 Akurasi = 0.2685 Precision = 0.4543 Recall = 0.2685 F1-Score = 0.2459\n"
          ],
          "name": "stdout"
        },
        {
          "output_type": "stream",
          "text": [
            "/usr/local/lib/python3.7/dist-packages/ipykernel_launcher.py:18: RuntimeWarning: invalid value encountered in long_scalars\n",
            "/usr/local/lib/python3.7/dist-packages/ipykernel_launcher.py:21: RuntimeWarning: invalid value encountered in double_scalars\n",
            "/usr/local/lib/python3.7/dist-packages/sklearn/metrics/_classification.py:1272: UndefinedMetricWarning: Precision is ill-defined and being set to 0.0 in labels with no predicted samples. Use `zero_division` parameter to control this behavior.\n",
            "  _warn_prf(average, modifier, msg_start, len(result))\n"
          ],
          "name": "stderr"
        },
        {
          "output_type": "stream",
          "text": [
            "perfold= 0.8750000000000001 0.25000000000000006 0.5468073593073592\n",
            "Fold ke- 10 Akurasi = 0.2500 Precision = 0.5468 Recall = 0.2500 F1-Score = 0.2447\n",
            "TP: [13, 14, 36, 21, 29, 33, 37, 26, 29, 27] TOTAL: 265\n",
            "FP: [95, 94, 72, 87, 79, 75, 71, 82, 79, 81] TOTAL: 815\n",
            "FN: [95, 94, 72, 87, 79, 75, 71, 82, 79, 81] TOTAL: 815\n",
            "TN: [1093, 1094, 1116, 1101, 1109, 1113, 1117, 1106, 1109, 1107] TOTAL: 11065\n",
            "0.24537037037037035 0.24537037037037038 0.24537037037037038 0.24537037037037038\n",
            "Avg accuracyTP = 0.2454 Avg accuracy = 0.2454\n",
            "Avg precisionTP= 0.2454 Avg precision= 0.4801\n",
            "Avg recallTP= 0.2454 Avg recall= 0.2454\n",
            "Avg f1TP= 0.2454 Avg f1= 0.2275\n",
            "------------------------------------\n",
            "Dengan Stemming\n",
            "Nama distance= manhattan\n",
            "Jumlah K tetangga= 11\n"
          ],
          "name": "stdout"
        },
        {
          "output_type": "stream",
          "text": [
            "/usr/local/lib/python3.7/dist-packages/ipykernel_launcher.py:18: RuntimeWarning: invalid value encountered in long_scalars\n",
            "/usr/local/lib/python3.7/dist-packages/ipykernel_launcher.py:21: RuntimeWarning: invalid value encountered in double_scalars\n",
            "/usr/local/lib/python3.7/dist-packages/sklearn/metrics/_classification.py:1272: UndefinedMetricWarning: Precision is ill-defined and being set to 0.0 in labels with no predicted samples. Use `zero_division` parameter to control this behavior.\n",
            "  _warn_prf(average, modifier, msg_start, len(result))\n"
          ],
          "name": "stderr"
        },
        {
          "output_type": "stream",
          "text": [
            "perfold= 0.8549382716049383 0.12962962962962962 0.2047895189003436\n",
            "Fold ke- 1 Akurasi = 0.1296 Precision = 0.2048 Recall = 0.1296 F1-Score = 0.0890\n"
          ],
          "name": "stdout"
        },
        {
          "output_type": "stream",
          "text": [
            "/usr/local/lib/python3.7/dist-packages/ipykernel_launcher.py:18: RuntimeWarning: invalid value encountered in long_scalars\n",
            "/usr/local/lib/python3.7/dist-packages/ipykernel_launcher.py:21: RuntimeWarning: invalid value encountered in double_scalars\n",
            "/usr/local/lib/python3.7/dist-packages/sklearn/metrics/_classification.py:1272: UndefinedMetricWarning: Precision is ill-defined and being set to 0.0 in labels with no predicted samples. Use `zero_division` parameter to control this behavior.\n",
            "  _warn_prf(average, modifier, msg_start, len(result))\n"
          ],
          "name": "stderr"
        },
        {
          "output_type": "stream",
          "text": [
            "perfold= 0.8533950617283951 0.12037037037037036 0.29916666666666664\n",
            "Fold ke- 2 Akurasi = 0.1204 Precision = 0.2992 Recall = 0.1204 F1-Score = 0.0789\n"
          ],
          "name": "stdout"
        },
        {
          "output_type": "stream",
          "text": [
            "/usr/local/lib/python3.7/dist-packages/ipykernel_launcher.py:18: RuntimeWarning: invalid value encountered in long_scalars\n",
            "/usr/local/lib/python3.7/dist-packages/ipykernel_launcher.py:21: RuntimeWarning: invalid value encountered in double_scalars\n",
            "/usr/local/lib/python3.7/dist-packages/sklearn/metrics/_classification.py:1272: UndefinedMetricWarning: Precision is ill-defined and being set to 0.0 in labels with no predicted samples. Use `zero_division` parameter to control this behavior.\n",
            "  _warn_prf(average, modifier, msg_start, len(result))\n"
          ],
          "name": "stderr"
        },
        {
          "output_type": "stream",
          "text": [
            "perfold= 0.8858024691358025 0.3148148148148148 0.46789378729237224\n",
            "Fold ke- 3 Akurasi = 0.3148 Precision = 0.4679 Recall = 0.3148 F1-Score = 0.2884\n"
          ],
          "name": "stdout"
        },
        {
          "output_type": "stream",
          "text": [
            "/usr/local/lib/python3.7/dist-packages/ipykernel_launcher.py:18: RuntimeWarning: invalid value encountered in long_scalars\n",
            "/usr/local/lib/python3.7/dist-packages/ipykernel_launcher.py:21: RuntimeWarning: invalid value encountered in double_scalars\n",
            "/usr/local/lib/python3.7/dist-packages/sklearn/metrics/_classification.py:1272: UndefinedMetricWarning: Precision is ill-defined and being set to 0.0 in labels with no predicted samples. Use `zero_division` parameter to control this behavior.\n",
            "  _warn_prf(average, modifier, msg_start, len(result))\n"
          ],
          "name": "stderr"
        },
        {
          "output_type": "stream",
          "text": [
            "perfold= 0.8672839506172839 0.20370370370370372 0.5580645161290322\n",
            "Fold ke- 4 Akurasi = 0.2037 Precision = 0.5581 Recall = 0.2037 F1-Score = 0.1987\n"
          ],
          "name": "stdout"
        },
        {
          "output_type": "stream",
          "text": [
            "/usr/local/lib/python3.7/dist-packages/ipykernel_launcher.py:18: RuntimeWarning: invalid value encountered in long_scalars\n",
            "/usr/local/lib/python3.7/dist-packages/ipykernel_launcher.py:21: RuntimeWarning: invalid value encountered in double_scalars\n",
            "/usr/local/lib/python3.7/dist-packages/sklearn/metrics/_classification.py:1272: UndefinedMetricWarning: Precision is ill-defined and being set to 0.0 in labels with no predicted samples. Use `zero_division` parameter to control this behavior.\n",
            "  _warn_prf(average, modifier, msg_start, len(result))\n"
          ],
          "name": "stderr"
        },
        {
          "output_type": "stream",
          "text": [
            "perfold= 0.8719135802469135 0.23148148148148148 0.5352684144818977\n",
            "Fold ke- 5 Akurasi = 0.2315 Precision = 0.5353 Recall = 0.2315 F1-Score = 0.2449\n"
          ],
          "name": "stdout"
        },
        {
          "output_type": "stream",
          "text": [
            "/usr/local/lib/python3.7/dist-packages/ipykernel_launcher.py:18: RuntimeWarning: invalid value encountered in long_scalars\n",
            "/usr/local/lib/python3.7/dist-packages/ipykernel_launcher.py:21: RuntimeWarning: invalid value encountered in double_scalars\n",
            "/usr/local/lib/python3.7/dist-packages/sklearn/metrics/_classification.py:1272: UndefinedMetricWarning: Precision is ill-defined and being set to 0.0 in labels with no predicted samples. Use `zero_division` parameter to control this behavior.\n",
            "  _warn_prf(average, modifier, msg_start, len(result))\n"
          ],
          "name": "stderr"
        },
        {
          "output_type": "stream",
          "text": [
            "perfold= 0.8811728395061729 0.28703703703703703 0.4606614929785662\n",
            "Fold ke- 6 Akurasi = 0.2870 Precision = 0.4607 Recall = 0.2870 F1-Score = 0.2671\n"
          ],
          "name": "stdout"
        },
        {
          "output_type": "stream",
          "text": [
            "/usr/local/lib/python3.7/dist-packages/ipykernel_launcher.py:18: RuntimeWarning: invalid value encountered in long_scalars\n",
            "/usr/local/lib/python3.7/dist-packages/ipykernel_launcher.py:21: RuntimeWarning: invalid value encountered in double_scalars\n",
            "/usr/local/lib/python3.7/dist-packages/sklearn/metrics/_classification.py:1272: UndefinedMetricWarning: Precision is ill-defined and being set to 0.0 in labels with no predicted samples. Use `zero_division` parameter to control this behavior.\n",
            "  _warn_prf(average, modifier, msg_start, len(result))\n"
          ],
          "name": "stderr"
        },
        {
          "output_type": "stream",
          "text": [
            "perfold= 0.8827160493827161 0.2962962962962963 0.632771164021164\n",
            "Fold ke- 7 Akurasi = 0.2963 Precision = 0.6328 Recall = 0.2963 F1-Score = 0.2844\n"
          ],
          "name": "stdout"
        },
        {
          "output_type": "stream",
          "text": [
            "/usr/local/lib/python3.7/dist-packages/ipykernel_launcher.py:18: RuntimeWarning: invalid value encountered in long_scalars\n",
            "/usr/local/lib/python3.7/dist-packages/ipykernel_launcher.py:21: RuntimeWarning: invalid value encountered in double_scalars\n",
            "/usr/local/lib/python3.7/dist-packages/sklearn/metrics/_classification.py:1272: UndefinedMetricWarning: Precision is ill-defined and being set to 0.0 in labels with no predicted samples. Use `zero_division` parameter to control this behavior.\n",
            "  _warn_prf(average, modifier, msg_start, len(result))\n"
          ],
          "name": "stderr"
        },
        {
          "output_type": "stream",
          "text": [
            "perfold= 0.875 0.25 0.6418560606060606\n",
            "Fold ke- 8 Akurasi = 0.2500 Precision = 0.6419 Recall = 0.2500 F1-Score = 0.2607\n"
          ],
          "name": "stdout"
        },
        {
          "output_type": "stream",
          "text": [
            "/usr/local/lib/python3.7/dist-packages/ipykernel_launcher.py:18: RuntimeWarning: invalid value encountered in long_scalars\n",
            "/usr/local/lib/python3.7/dist-packages/ipykernel_launcher.py:21: RuntimeWarning: invalid value encountered in double_scalars\n",
            "/usr/local/lib/python3.7/dist-packages/sklearn/metrics/_classification.py:1272: UndefinedMetricWarning: Precision is ill-defined and being set to 0.0 in labels with no predicted samples. Use `zero_division` parameter to control this behavior.\n",
            "  _warn_prf(average, modifier, msg_start, len(result))\n"
          ],
          "name": "stderr"
        },
        {
          "output_type": "stream",
          "text": [
            "perfold= 0.8734567901234569 0.24074074074074073 0.47280844155844154\n",
            "Fold ke- 9 Akurasi = 0.2407 Precision = 0.4728 Recall = 0.2407 F1-Score = 0.2387\n"
          ],
          "name": "stdout"
        },
        {
          "output_type": "stream",
          "text": [
            "/usr/local/lib/python3.7/dist-packages/ipykernel_launcher.py:18: RuntimeWarning: invalid value encountered in long_scalars\n",
            "/usr/local/lib/python3.7/dist-packages/ipykernel_launcher.py:21: RuntimeWarning: invalid value encountered in double_scalars\n",
            "/usr/local/lib/python3.7/dist-packages/sklearn/metrics/_classification.py:1272: UndefinedMetricWarning: Precision is ill-defined and being set to 0.0 in labels with no predicted samples. Use `zero_division` parameter to control this behavior.\n",
            "  _warn_prf(average, modifier, msg_start, len(result))\n"
          ],
          "name": "stderr"
        },
        {
          "output_type": "stream",
          "text": [
            "perfold= 0.8734567901234569 0.24074074074074073 0.6512841091492777\n",
            "Fold ke- 10 Akurasi = 0.2407 Precision = 0.6513 Recall = 0.2407 F1-Score = 0.2477\n",
            "TP: [14, 13, 34, 22, 25, 31, 32, 27, 26, 26] TOTAL: 250\n",
            "FP: [94, 95, 74, 86, 83, 77, 76, 81, 82, 82] TOTAL: 830\n",
            "FN: [94, 95, 74, 86, 83, 77, 76, 81, 82, 82] TOTAL: 830\n",
            "TN: [1094, 1093, 1114, 1102, 1105, 1111, 1112, 1107, 1106, 1106] TOTAL: 11050\n",
            "0.23148148148148148 0.23148148148148148 0.23148148148148148 0.23148148148148148\n",
            "Avg accuracyTP = 0.2315 Avg accuracy = 0.2315\n",
            "Avg precisionTP= 0.2315 Avg precision= 0.4925\n",
            "Avg recallTP= 0.2315 Avg recall= 0.2315\n",
            "Avg f1TP= 0.2315 Avg f1= 0.2198\n",
            "------------------------------------\n",
            "Dengan Stemming\n",
            "Nama distance= manhattan\n",
            "Jumlah K tetangga= 13\n"
          ],
          "name": "stdout"
        },
        {
          "output_type": "stream",
          "text": [
            "/usr/local/lib/python3.7/dist-packages/ipykernel_launcher.py:18: RuntimeWarning: invalid value encountered in long_scalars\n",
            "/usr/local/lib/python3.7/dist-packages/ipykernel_launcher.py:21: RuntimeWarning: invalid value encountered in double_scalars\n",
            "/usr/local/lib/python3.7/dist-packages/sklearn/metrics/_classification.py:1272: UndefinedMetricWarning: Precision is ill-defined and being set to 0.0 in labels with no predicted samples. Use `zero_division` parameter to control this behavior.\n",
            "  _warn_prf(average, modifier, msg_start, len(result))\n"
          ],
          "name": "stderr"
        },
        {
          "output_type": "stream",
          "text": [
            "perfold= 0.8580246913580248 0.14814814814814814 0.19112903225806455\n",
            "Fold ke- 1 Akurasi = 0.1481 Precision = 0.1911 Recall = 0.1481 F1-Score = 0.0867\n"
          ],
          "name": "stdout"
        },
        {
          "output_type": "stream",
          "text": [
            "/usr/local/lib/python3.7/dist-packages/ipykernel_launcher.py:18: RuntimeWarning: invalid value encountered in long_scalars\n",
            "/usr/local/lib/python3.7/dist-packages/ipykernel_launcher.py:21: RuntimeWarning: invalid value encountered in double_scalars\n",
            "/usr/local/lib/python3.7/dist-packages/sklearn/metrics/_classification.py:1272: UndefinedMetricWarning: Precision is ill-defined and being set to 0.0 in labels with no predicted samples. Use `zero_division` parameter to control this behavior.\n",
            "  _warn_prf(average, modifier, msg_start, len(result))\n"
          ],
          "name": "stderr"
        },
        {
          "output_type": "stream",
          "text": [
            "perfold= 0.8564814814814814 0.1388888888888889 0.2391251221896383\n",
            "Fold ke- 2 Akurasi = 0.1389 Precision = 0.2391 Recall = 0.1389 F1-Score = 0.0882\n"
          ],
          "name": "stdout"
        },
        {
          "output_type": "stream",
          "text": [
            "/usr/local/lib/python3.7/dist-packages/ipykernel_launcher.py:18: RuntimeWarning: invalid value encountered in long_scalars\n",
            "/usr/local/lib/python3.7/dist-packages/ipykernel_launcher.py:21: RuntimeWarning: invalid value encountered in double_scalars\n",
            "/usr/local/lib/python3.7/dist-packages/sklearn/metrics/_classification.py:1272: UndefinedMetricWarning: Precision is ill-defined and being set to 0.0 in labels with no predicted samples. Use `zero_division` parameter to control this behavior.\n",
            "  _warn_prf(average, modifier, msg_start, len(result))\n"
          ],
          "name": "stderr"
        },
        {
          "output_type": "stream",
          "text": [
            "perfold= 0.8811728395061729 0.28703703703703703 0.5114459752519455\n",
            "Fold ke- 3 Akurasi = 0.2870 Precision = 0.5114 Recall = 0.2870 F1-Score = 0.2831\n"
          ],
          "name": "stdout"
        },
        {
          "output_type": "stream",
          "text": [
            "/usr/local/lib/python3.7/dist-packages/ipykernel_launcher.py:18: RuntimeWarning: invalid value encountered in long_scalars\n",
            "/usr/local/lib/python3.7/dist-packages/ipykernel_launcher.py:21: RuntimeWarning: invalid value encountered in double_scalars\n",
            "/usr/local/lib/python3.7/dist-packages/sklearn/metrics/_classification.py:1272: UndefinedMetricWarning: Precision is ill-defined and being set to 0.0 in labels with no predicted samples. Use `zero_division` parameter to control this behavior.\n",
            "  _warn_prf(average, modifier, msg_start, len(result))\n"
          ],
          "name": "stderr"
        },
        {
          "output_type": "stream",
          "text": [
            "perfold= 0.8595679012345677 0.1574074074074074 0.38273195876288657\n",
            "Fold ke- 4 Akurasi = 0.1574 Precision = 0.3827 Recall = 0.1574 F1-Score = 0.1278\n"
          ],
          "name": "stdout"
        },
        {
          "output_type": "stream",
          "text": [
            "/usr/local/lib/python3.7/dist-packages/ipykernel_launcher.py:18: RuntimeWarning: invalid value encountered in long_scalars\n",
            "/usr/local/lib/python3.7/dist-packages/ipykernel_launcher.py:21: RuntimeWarning: invalid value encountered in double_scalars\n",
            "/usr/local/lib/python3.7/dist-packages/sklearn/metrics/_classification.py:1272: UndefinedMetricWarning: Precision is ill-defined and being set to 0.0 in labels with no predicted samples. Use `zero_division` parameter to control this behavior.\n",
            "  _warn_prf(average, modifier, msg_start, len(result))\n"
          ],
          "name": "stderr"
        },
        {
          "output_type": "stream",
          "text": [
            "perfold= 0.8734567901234568 0.24074074074074073 0.5770202020202021\n",
            "Fold ke- 5 Akurasi = 0.2407 Precision = 0.5770 Recall = 0.2407 F1-Score = 0.2602\n"
          ],
          "name": "stdout"
        },
        {
          "output_type": "stream",
          "text": [
            "/usr/local/lib/python3.7/dist-packages/ipykernel_launcher.py:18: RuntimeWarning: invalid value encountered in long_scalars\n",
            "/usr/local/lib/python3.7/dist-packages/ipykernel_launcher.py:21: RuntimeWarning: invalid value encountered in double_scalars\n",
            "/usr/local/lib/python3.7/dist-packages/sklearn/metrics/_classification.py:1272: UndefinedMetricWarning: Precision is ill-defined and being set to 0.0 in labels with no predicted samples. Use `zero_division` parameter to control this behavior.\n",
            "  _warn_prf(average, modifier, msg_start, len(result))\n"
          ],
          "name": "stderr"
        },
        {
          "output_type": "stream",
          "text": [
            "perfold= 0.8765432098765432 0.25925925925925924 0.48481116584564865\n",
            "Fold ke- 6 Akurasi = 0.2593 Precision = 0.4848 Recall = 0.2593 F1-Score = 0.2401\n"
          ],
          "name": "stdout"
        },
        {
          "output_type": "stream",
          "text": [
            "/usr/local/lib/python3.7/dist-packages/ipykernel_launcher.py:18: RuntimeWarning: invalid value encountered in long_scalars\n",
            "/usr/local/lib/python3.7/dist-packages/ipykernel_launcher.py:21: RuntimeWarning: invalid value encountered in double_scalars\n",
            "/usr/local/lib/python3.7/dist-packages/sklearn/metrics/_classification.py:1272: UndefinedMetricWarning: Precision is ill-defined and being set to 0.0 in labels with no predicted samples. Use `zero_division` parameter to control this behavior.\n",
            "  _warn_prf(average, modifier, msg_start, len(result))\n"
          ],
          "name": "stderr"
        },
        {
          "output_type": "stream",
          "text": [
            "perfold= 0.8842592592592592 0.3055555555555555 0.6319940476190476\n",
            "Fold ke- 7 Akurasi = 0.3056 Precision = 0.6320 Recall = 0.3056 F1-Score = 0.2875\n"
          ],
          "name": "stdout"
        },
        {
          "output_type": "stream",
          "text": [
            "/usr/local/lib/python3.7/dist-packages/ipykernel_launcher.py:18: RuntimeWarning: invalid value encountered in long_scalars\n",
            "/usr/local/lib/python3.7/dist-packages/ipykernel_launcher.py:21: RuntimeWarning: invalid value encountered in double_scalars\n",
            "/usr/local/lib/python3.7/dist-packages/sklearn/metrics/_classification.py:1272: UndefinedMetricWarning: Precision is ill-defined and being set to 0.0 in labels with no predicted samples. Use `zero_division` parameter to control this behavior.\n",
            "  _warn_prf(average, modifier, msg_start, len(result))\n"
          ],
          "name": "stderr"
        },
        {
          "output_type": "stream",
          "text": [
            "perfold= 0.8842592592592592 0.3055555555555555 0.6414381153305203\n",
            "Fold ke- 8 Akurasi = 0.3056 Precision = 0.6414 Recall = 0.3056 F1-Score = 0.2989\n"
          ],
          "name": "stdout"
        },
        {
          "output_type": "stream",
          "text": [
            "/usr/local/lib/python3.7/dist-packages/ipykernel_launcher.py:18: RuntimeWarning: invalid value encountered in long_scalars\n",
            "/usr/local/lib/python3.7/dist-packages/ipykernel_launcher.py:21: RuntimeWarning: invalid value encountered in double_scalars\n",
            "/usr/local/lib/python3.7/dist-packages/sklearn/metrics/_classification.py:1272: UndefinedMetricWarning: Precision is ill-defined and being set to 0.0 in labels with no predicted samples. Use `zero_division` parameter to control this behavior.\n",
            "  _warn_prf(average, modifier, msg_start, len(result))\n"
          ],
          "name": "stderr"
        },
        {
          "output_type": "stream",
          "text": [
            "perfold= 0.8765432098765432 0.25925925925925924 0.4785204991087344\n",
            "Fold ke- 9 Akurasi = 0.2593 Precision = 0.4785 Recall = 0.2593 F1-Score = 0.2445\n"
          ],
          "name": "stdout"
        },
        {
          "output_type": "stream",
          "text": [
            "/usr/local/lib/python3.7/dist-packages/ipykernel_launcher.py:18: RuntimeWarning: invalid value encountered in long_scalars\n",
            "/usr/local/lib/python3.7/dist-packages/ipykernel_launcher.py:21: RuntimeWarning: invalid value encountered in double_scalars\n",
            "/usr/local/lib/python3.7/dist-packages/sklearn/metrics/_classification.py:1272: UndefinedMetricWarning: Precision is ill-defined and being set to 0.0 in labels with no predicted samples. Use `zero_division` parameter to control this behavior.\n",
            "  _warn_prf(average, modifier, msg_start, len(result))\n"
          ],
          "name": "stderr"
        },
        {
          "output_type": "stream",
          "text": [
            "perfold= 0.8719135802469137 0.2314814814814815 0.5776862026862026\n",
            "Fold ke- 10 Akurasi = 0.2315 Precision = 0.5777 Recall = 0.2315 F1-Score = 0.2342\n",
            "TP: [16, 15, 31, 17, 26, 28, 33, 33, 28, 25] TOTAL: 252\n",
            "FP: [92, 93, 77, 91, 82, 80, 75, 75, 80, 83] TOTAL: 828\n",
            "FN: [92, 93, 77, 91, 82, 80, 75, 75, 80, 83] TOTAL: 828\n",
            "TN: [1096, 1095, 1111, 1097, 1106, 1108, 1113, 1113, 1108, 1105] TOTAL: 11052\n",
            "0.2333333333333333 0.2333333333333333 0.2333333333333333 0.2333333333333333\n",
            "Avg accuracyTP = 0.2333 Avg accuracy = 0.2333\n",
            "Avg precisionTP= 0.2333 Avg precision= 0.4716\n",
            "Avg recallTP= 0.2333 Avg recall= 0.2333\n",
            "Avg f1TP= 0.2333 Avg f1= 0.2151\n",
            "------------------------------------\n",
            "Dengan Stemming\n",
            "Nama distance= manhattan\n",
            "Jumlah K tetangga= 15\n"
          ],
          "name": "stdout"
        },
        {
          "output_type": "stream",
          "text": [
            "/usr/local/lib/python3.7/dist-packages/ipykernel_launcher.py:18: RuntimeWarning: invalid value encountered in long_scalars\n",
            "/usr/local/lib/python3.7/dist-packages/ipykernel_launcher.py:21: RuntimeWarning: invalid value encountered in double_scalars\n",
            "/usr/local/lib/python3.7/dist-packages/sklearn/metrics/_classification.py:1272: UndefinedMetricWarning: Precision is ill-defined and being set to 0.0 in labels with no predicted samples. Use `zero_division` parameter to control this behavior.\n",
            "  _warn_prf(average, modifier, msg_start, len(result))\n"
          ],
          "name": "stderr"
        },
        {
          "output_type": "stream",
          "text": [
            "perfold= 0.8611111111111112 0.16666666666666666 0.19531778228532792\n",
            "Fold ke- 1 Akurasi = 0.1667 Precision = 0.1953 Recall = 0.1667 F1-Score = 0.0940\n"
          ],
          "name": "stdout"
        },
        {
          "output_type": "stream",
          "text": [
            "/usr/local/lib/python3.7/dist-packages/ipykernel_launcher.py:18: RuntimeWarning: invalid value encountered in long_scalars\n",
            "/usr/local/lib/python3.7/dist-packages/ipykernel_launcher.py:21: RuntimeWarning: invalid value encountered in double_scalars\n",
            "/usr/local/lib/python3.7/dist-packages/sklearn/metrics/_classification.py:1272: UndefinedMetricWarning: Precision is ill-defined and being set to 0.0 in labels with no predicted samples. Use `zero_division` parameter to control this behavior.\n",
            "  _warn_prf(average, modifier, msg_start, len(result))\n"
          ],
          "name": "stderr"
        },
        {
          "output_type": "stream",
          "text": [
            "perfold= 0.861111111111111 0.16666666666666666 0.2333333333333333\n",
            "Fold ke- 2 Akurasi = 0.1667 Precision = 0.2333 Recall = 0.1667 F1-Score = 0.0906\n"
          ],
          "name": "stdout"
        },
        {
          "output_type": "stream",
          "text": [
            "/usr/local/lib/python3.7/dist-packages/ipykernel_launcher.py:18: RuntimeWarning: invalid value encountered in long_scalars\n",
            "/usr/local/lib/python3.7/dist-packages/ipykernel_launcher.py:21: RuntimeWarning: invalid value encountered in double_scalars\n",
            "/usr/local/lib/python3.7/dist-packages/sklearn/metrics/_classification.py:1272: UndefinedMetricWarning: Precision is ill-defined and being set to 0.0 in labels with no predicted samples. Use `zero_division` parameter to control this behavior.\n",
            "  _warn_prf(average, modifier, msg_start, len(result))\n"
          ],
          "name": "stderr"
        },
        {
          "output_type": "stream",
          "text": [
            "perfold= 0.8749999999999999 0.24999999999999997 0.5254842731108554\n",
            "Fold ke- 3 Akurasi = 0.2500 Precision = 0.5255 Recall = 0.2500 F1-Score = 0.2550\n"
          ],
          "name": "stdout"
        },
        {
          "output_type": "stream",
          "text": [
            "/usr/local/lib/python3.7/dist-packages/ipykernel_launcher.py:18: RuntimeWarning: invalid value encountered in long_scalars\n",
            "/usr/local/lib/python3.7/dist-packages/ipykernel_launcher.py:21: RuntimeWarning: invalid value encountered in double_scalars\n",
            "/usr/local/lib/python3.7/dist-packages/sklearn/metrics/_classification.py:1272: UndefinedMetricWarning: Precision is ill-defined and being set to 0.0 in labels with no predicted samples. Use `zero_division` parameter to control this behavior.\n",
            "  _warn_prf(average, modifier, msg_start, len(result))\n"
          ],
          "name": "stderr"
        },
        {
          "output_type": "stream",
          "text": [
            "perfold= 0.8719135802469137 0.2314814814814815 0.5102007961597003\n",
            "Fold ke- 4 Akurasi = 0.2315 Precision = 0.5102 Recall = 0.2315 F1-Score = 0.1839\n"
          ],
          "name": "stdout"
        },
        {
          "output_type": "stream",
          "text": [
            "/usr/local/lib/python3.7/dist-packages/ipykernel_launcher.py:18: RuntimeWarning: invalid value encountered in long_scalars\n",
            "/usr/local/lib/python3.7/dist-packages/ipykernel_launcher.py:21: RuntimeWarning: invalid value encountered in double_scalars\n",
            "/usr/local/lib/python3.7/dist-packages/sklearn/metrics/_classification.py:1272: UndefinedMetricWarning: Precision is ill-defined and being set to 0.0 in labels with no predicted samples. Use `zero_division` parameter to control this behavior.\n",
            "  _warn_prf(average, modifier, msg_start, len(result))\n"
          ],
          "name": "stderr"
        },
        {
          "output_type": "stream",
          "text": [
            "perfold= 0.8780864197530863 0.2685185185185185 0.5766828336272781\n",
            "Fold ke- 5 Akurasi = 0.2685 Precision = 0.5767 Recall = 0.2685 F1-Score = 0.2797\n"
          ],
          "name": "stdout"
        },
        {
          "output_type": "stream",
          "text": [
            "/usr/local/lib/python3.7/dist-packages/ipykernel_launcher.py:18: RuntimeWarning: invalid value encountered in long_scalars\n",
            "/usr/local/lib/python3.7/dist-packages/ipykernel_launcher.py:21: RuntimeWarning: invalid value encountered in double_scalars\n",
            "/usr/local/lib/python3.7/dist-packages/sklearn/metrics/_classification.py:1272: UndefinedMetricWarning: Precision is ill-defined and being set to 0.0 in labels with no predicted samples. Use `zero_division` parameter to control this behavior.\n",
            "  _warn_prf(average, modifier, msg_start, len(result))\n"
          ],
          "name": "stderr"
        },
        {
          "output_type": "stream",
          "text": [
            "perfold= 0.881172839506173 0.28703703703703703 0.45444444444444443\n",
            "Fold ke- 6 Akurasi = 0.2870 Precision = 0.4544 Recall = 0.2870 F1-Score = 0.2353\n"
          ],
          "name": "stdout"
        },
        {
          "output_type": "stream",
          "text": [
            "/usr/local/lib/python3.7/dist-packages/ipykernel_launcher.py:18: RuntimeWarning: invalid value encountered in long_scalars\n",
            "/usr/local/lib/python3.7/dist-packages/ipykernel_launcher.py:21: RuntimeWarning: invalid value encountered in double_scalars\n",
            "/usr/local/lib/python3.7/dist-packages/sklearn/metrics/_classification.py:1272: UndefinedMetricWarning: Precision is ill-defined and being set to 0.0 in labels with no predicted samples. Use `zero_division` parameter to control this behavior.\n",
            "  _warn_prf(average, modifier, msg_start, len(result))\n"
          ],
          "name": "stderr"
        },
        {
          "output_type": "stream",
          "text": [
            "perfold= 0.8873456790123456 0.32407407407407407 0.5926801384254109\n",
            "Fold ke- 7 Akurasi = 0.3241 Precision = 0.5927 Recall = 0.3241 F1-Score = 0.2742\n"
          ],
          "name": "stdout"
        },
        {
          "output_type": "stream",
          "text": [
            "/usr/local/lib/python3.7/dist-packages/ipykernel_launcher.py:18: RuntimeWarning: invalid value encountered in long_scalars\n",
            "/usr/local/lib/python3.7/dist-packages/ipykernel_launcher.py:21: RuntimeWarning: invalid value encountered in double_scalars\n",
            "/usr/local/lib/python3.7/dist-packages/sklearn/metrics/_classification.py:1272: UndefinedMetricWarning: Precision is ill-defined and being set to 0.0 in labels with no predicted samples. Use `zero_division` parameter to control this behavior.\n",
            "  _warn_prf(average, modifier, msg_start, len(result))\n"
          ],
          "name": "stderr"
        },
        {
          "output_type": "stream",
          "text": [
            "perfold= 0.8842592592592592 0.3055555555555555 0.617652329749104\n",
            "Fold ke- 8 Akurasi = 0.3056 Precision = 0.6177 Recall = 0.3056 F1-Score = 0.2743\n"
          ],
          "name": "stdout"
        },
        {
          "output_type": "stream",
          "text": [
            "/usr/local/lib/python3.7/dist-packages/ipykernel_launcher.py:18: RuntimeWarning: invalid value encountered in long_scalars\n",
            "/usr/local/lib/python3.7/dist-packages/ipykernel_launcher.py:21: RuntimeWarning: invalid value encountered in double_scalars\n",
            "/usr/local/lib/python3.7/dist-packages/sklearn/metrics/_classification.py:1272: UndefinedMetricWarning: Precision is ill-defined and being set to 0.0 in labels with no predicted samples. Use `zero_division` parameter to control this behavior.\n",
            "  _warn_prf(average, modifier, msg_start, len(result))\n"
          ],
          "name": "stderr"
        },
        {
          "output_type": "stream",
          "text": [
            "perfold= 0.8873456790123457 0.32407407407407407 0.5400362318840579\n",
            "Fold ke- 9 Akurasi = 0.3241 Precision = 0.5400 Recall = 0.3241 F1-Score = 0.2986\n"
          ],
          "name": "stdout"
        },
        {
          "output_type": "stream",
          "text": [
            "/usr/local/lib/python3.7/dist-packages/ipykernel_launcher.py:18: RuntimeWarning: invalid value encountered in long_scalars\n",
            "/usr/local/lib/python3.7/dist-packages/ipykernel_launcher.py:21: RuntimeWarning: invalid value encountered in double_scalars\n",
            "/usr/local/lib/python3.7/dist-packages/sklearn/metrics/_classification.py:1272: UndefinedMetricWarning: Precision is ill-defined and being set to 0.0 in labels with no predicted samples. Use `zero_division` parameter to control this behavior.\n",
            "  _warn_prf(average, modifier, msg_start, len(result))\n"
          ],
          "name": "stderr"
        },
        {
          "output_type": "stream",
          "text": [
            "perfold= 0.8780864197530865 0.26851851851851855 0.6212462462462462\n",
            "Fold ke- 10 Akurasi = 0.2685 Precision = 0.6212 Recall = 0.2685 F1-Score = 0.2469\n",
            "TP: [18, 18, 27, 25, 29, 31, 35, 33, 35, 29] TOTAL: 280\n",
            "FP: [90, 90, 81, 83, 79, 77, 73, 75, 73, 79] TOTAL: 800\n",
            "FN: [90, 90, 81, 83, 79, 77, 73, 75, 73, 79] TOTAL: 800\n",
            "TN: [1098, 1098, 1107, 1105, 1109, 1111, 1115, 1113, 1115, 1109] TOTAL: 11080\n",
            "0.25925925925925924 0.25925925925925924 0.25925925925925924 0.25925925925925924\n",
            "Avg accuracyTP = 0.2593 Avg accuracy = 0.2593\n",
            "Avg precisionTP= 0.2593 Avg precision= 0.4867\n",
            "Avg recallTP= 0.2593 Avg recall= 0.2593\n",
            "Avg f1TP= 0.2593 Avg f1= 0.2232\n",
            "------------------------------------\n",
            "Dengan Stemming\n",
            "Nama distance= cosine\n",
            "Jumlah K tetangga= 1\n",
            "perfold= 0.9382716049382714 0.6296296296296297 0.6531204906204906\n",
            "Fold ke- 1 Akurasi = 0.6296 Precision = 0.6531 Recall = 0.6296 F1-Score = 0.6190\n",
            "perfold= 0.933641975308642 0.601851851851852 0.6079982517482517\n",
            "Fold ke- 2 Akurasi = 0.6019 Precision = 0.6080 Recall = 0.6019 F1-Score = 0.5981\n",
            "perfold= 0.9320987654320988 0.5925925925925927 0.6274114774114773\n",
            "Fold ke- 3 Akurasi = 0.5926 Precision = 0.6274 Recall = 0.5926 F1-Score = 0.5784\n",
            "perfold= 0.9459876543209876 0.6759259259259259 0.7220023032523032\n",
            "Fold ke- 4 Akurasi = 0.6759 Precision = 0.7220 Recall = 0.6759 F1-Score = 0.6743\n",
            "perfold= 0.9552469135802469 0.7314814814814814 0.7475281662781662\n",
            "Fold ke- 5 Akurasi = 0.7315 Precision = 0.7475 Recall = 0.7315 F1-Score = 0.7305\n",
            "perfold= 0.9814814814814813 0.888888888888889 0.9051039238539239\n",
            "Fold ke- 6 Akurasi = 0.8889 Precision = 0.9051 Recall = 0.8889 F1-Score = 0.8893\n",
            "perfold= 0.9645061728395062 0.7870370370370371 0.7930886243386244\n",
            "Fold ke- 7 Akurasi = 0.7870 Precision = 0.7931 Recall = 0.7870 F1-Score = 0.7767\n",
            "perfold= 0.9583333333333334 0.75 0.7553985366485366\n",
            "Fold ke- 8 Akurasi = 0.7500 Precision = 0.7554 Recall = 0.7500 F1-Score = 0.7379\n",
            "perfold= 0.9537037037037037 0.7222222222222223 0.741452528952529\n",
            "Fold ke- 9 Akurasi = 0.7222 Precision = 0.7415 Recall = 0.7222 F1-Score = 0.7158\n",
            "perfold= 0.9552469135802469 0.7314814814814815 0.7718126780626781\n",
            "Fold ke- 10 Akurasi = 0.7315 Precision = 0.7718 Recall = 0.7315 F1-Score = 0.7128\n",
            "TP: [68, 65, 64, 73, 79, 96, 85, 81, 78, 79] TOTAL: 768\n",
            "FP: [40, 43, 44, 35, 29, 12, 23, 27, 30, 29] TOTAL: 312\n",
            "FN: [40, 43, 44, 35, 29, 12, 23, 27, 30, 29] TOTAL: 312\n",
            "TN: [1148, 1145, 1144, 1153, 1159, 1176, 1165, 1161, 1158, 1159] TOTAL: 11568\n",
            "0.7111111111111112 0.7111111111111111 0.7111111111111111 0.7111111111111111\n",
            "Avg accuracyTP = 0.7111 Avg accuracy = 0.7111\n",
            "Avg precisionTP= 0.7111 Avg precision= 0.7325\n",
            "Avg recallTP= 0.7111 Avg recall= 0.7111\n",
            "Avg f1TP= 0.7111 Avg f1= 0.7033\n",
            "------------------------------------\n",
            "Dengan Stemming\n",
            "Nama distance= cosine\n",
            "Jumlah K tetangga= 3\n",
            "perfold= 0.949074074074074 0.6944444444444443 0.7117798867798868\n",
            "Fold ke- 1 Akurasi = 0.6944 Precision = 0.7118 Recall = 0.6944 F1-Score = 0.6882\n",
            "perfold= 0.9490740740740741 0.6944444444444445 0.7138798701298702\n",
            "Fold ke- 2 Akurasi = 0.6944 Precision = 0.7139 Recall = 0.6944 F1-Score = 0.6951\n",
            "perfold= 0.9444444444444445 0.6666666666666666 0.6714646464646464\n",
            "Fold ke- 3 Akurasi = 0.6667 Precision = 0.6715 Recall = 0.6667 F1-Score = 0.6494\n",
            "perfold= 0.9552469135802469 0.7314814814814815 0.7560057997557997\n",
            "Fold ke- 4 Akurasi = 0.7315 Precision = 0.7560 Recall = 0.7315 F1-Score = 0.7340\n",
            "perfold= 0.9629629629629632 0.7777777777777778 0.7963443963443962\n",
            "Fold ke- 5 Akurasi = 0.7778 Precision = 0.7963 Recall = 0.7778 F1-Score = 0.7736\n",
            "perfold= 0.9814814814814814 0.8888888888888892 0.8995904558404559\n",
            "Fold ke- 6 Akurasi = 0.8889 Precision = 0.8996 Recall = 0.8889 F1-Score = 0.8893\n",
            "perfold= 0.9675925925925926 0.8055555555555555 0.8225799663299663\n",
            "Fold ke- 7 Akurasi = 0.8056 Precision = 0.8226 Recall = 0.8056 F1-Score = 0.7991\n",
            "perfold= 0.9645061728395062 0.7870370370370371 0.7998887686387687\n",
            "Fold ke- 8 Akurasi = 0.7870 Precision = 0.7999 Recall = 0.7870 F1-Score = 0.7781\n",
            "perfold= 0.95679012345679 0.7407407407407408 0.7570489695489696\n",
            "Fold ke- 9 Akurasi = 0.7407 Precision = 0.7570 Recall = 0.7407 F1-Score = 0.7342\n",
            "perfold= 0.9629629629629629 0.7777777777777777 0.8011363636363636\n",
            "Fold ke- 10 Akurasi = 0.7778 Precision = 0.8011 Recall = 0.7778 F1-Score = 0.7643\n",
            "TP: [75, 75, 72, 79, 84, 96, 87, 85, 80, 84] TOTAL: 817\n",
            "FP: [33, 33, 36, 29, 24, 12, 21, 23, 28, 24] TOTAL: 263\n",
            "FN: [33, 33, 36, 29, 24, 12, 21, 23, 28, 24] TOTAL: 263\n",
            "TN: [1155, 1155, 1152, 1159, 1164, 1176, 1167, 1165, 1160, 1164] TOTAL: 11617\n",
            "0.7564814814814814 0.7564814814814814 0.7564814814814814 0.7564814814814814\n",
            "Avg accuracyTP = 0.7565 Avg accuracy = 0.7565\n",
            "Avg precisionTP= 0.7565 Avg precision= 0.7730\n",
            "Avg recallTP= 0.7565 Avg recall= 0.7565\n",
            "Avg f1TP= 0.7565 Avg f1= 0.7505\n",
            "------------------------------------\n",
            "Dengan Stemming\n",
            "Nama distance= cosine\n",
            "Jumlah K tetangga= 5\n",
            "perfold= 0.9583333333333331 0.7500000000000001 0.7788854663854665\n",
            "Fold ke- 1 Akurasi = 0.7500 Precision = 0.7789 Recall = 0.7500 F1-Score = 0.7425\n",
            "perfold= 0.9506172839506174 0.7037037037037038 0.7060018685018684\n",
            "Fold ke- 2 Akurasi = 0.7037 Precision = 0.7060 Recall = 0.7037 F1-Score = 0.6932\n",
            "perfold= 0.9475308641975309 0.6851851851851851 0.6811568061568063\n",
            "Fold ke- 3 Akurasi = 0.6852 Precision = 0.6812 Recall = 0.6852 F1-Score = 0.6700\n",
            "perfold= 0.9629629629629629 0.7777777777777777 0.7993811743811743\n",
            "Fold ke- 4 Akurasi = 0.7778 Precision = 0.7994 Recall = 0.7778 F1-Score = 0.7808\n",
            "perfold= 0.9645061728395062 0.7870370370370371 0.8257409257409257\n",
            "Fold ke- 5 Akurasi = 0.7870 Precision = 0.8257 Recall = 0.7870 F1-Score = 0.7839\n",
            "perfold= 0.9876543209876543 0.925925925925926 0.9344907407407407\n",
            "Fold ke- 6 Akurasi = 0.9259 Precision = 0.9345 Recall = 0.9259 F1-Score = 0.9258\n",
            "perfold= 0.9722222222222222 0.8333333333333334 0.85385101010101\n",
            "Fold ke- 7 Akurasi = 0.8333 Precision = 0.8539 Recall = 0.8333 F1-Score = 0.8284\n",
            "perfold= 0.9706790123456789 0.8240740740740741 0.8321511821511821\n",
            "Fold ke- 8 Akurasi = 0.8241 Precision = 0.8322 Recall = 0.8241 F1-Score = 0.8158\n",
            "perfold= 0.9614197530864197 0.7685185185185185 0.801602564102564\n",
            "Fold ke- 9 Akurasi = 0.7685 Precision = 0.8016 Recall = 0.7685 F1-Score = 0.7662\n",
            "perfold= 0.9645061728395062 0.7870370370370369 0.8214530839530839\n",
            "Fold ke- 10 Akurasi = 0.7870 Precision = 0.8215 Recall = 0.7870 F1-Score = 0.7837\n",
            "TP: [81, 76, 74, 84, 85, 100, 90, 89, 83, 85] TOTAL: 847\n",
            "FP: [27, 32, 34, 24, 23, 8, 18, 19, 25, 23] TOTAL: 233\n",
            "FN: [27, 32, 34, 24, 23, 8, 18, 19, 25, 23] TOTAL: 233\n",
            "TN: [1161, 1156, 1154, 1164, 1165, 1180, 1170, 1169, 1163, 1165] TOTAL: 11647\n",
            "0.7842592592592593 0.7842592592592592 0.7842592592592592 0.7842592592592592\n",
            "Avg accuracyTP = 0.7843 Avg accuracy = 0.7843\n",
            "Avg precisionTP= 0.7843 Avg precision= 0.8035\n",
            "Avg recallTP= 0.7843 Avg recall= 0.7843\n",
            "Avg f1TP= 0.7843 Avg f1= 0.7790\n",
            "------------------------------------\n",
            "Dengan Stemming\n",
            "Nama distance= cosine\n",
            "Jumlah K tetangga= 7\n",
            "perfold= 0.9629629629629628 0.7777777777777778 0.7952117327117327\n",
            "Fold ke- 1 Akurasi = 0.7778 Precision = 0.7952 Recall = 0.7778 F1-Score = 0.7670\n",
            "perfold= 0.9537037037037037 0.7222222222222222 0.734111952861953\n",
            "Fold ke- 2 Akurasi = 0.7222 Precision = 0.7341 Recall = 0.7222 F1-Score = 0.7121\n",
            "perfold= 0.949074074074074 0.6944444444444445 0.6998226310726311\n",
            "Fold ke- 3 Akurasi = 0.6944 Precision = 0.6998 Recall = 0.6944 F1-Score = 0.6860\n",
            "perfold= 0.9660493827160493 0.7962962962962963 0.8292633292633292\n",
            "Fold ke- 4 Akurasi = 0.7963 Precision = 0.8293 Recall = 0.7963 F1-Score = 0.8017\n",
            "perfold= 0.9629629629629629 0.7777777777777777 0.8103008103008104\n",
            "Fold ke- 5 Akurasi = 0.7778 Precision = 0.8103 Recall = 0.7778 F1-Score = 0.7767\n",
            "perfold= 0.9799382716049382 0.8796296296296299 0.8853114478114478\n",
            "Fold ke- 6 Akurasi = 0.8796 Precision = 0.8853 Recall = 0.8796 F1-Score = 0.8792\n",
            "perfold= 0.9706790123456791 0.8240740740740741 0.8435290404040404\n",
            "Fold ke- 7 Akurasi = 0.8241 Precision = 0.8435 Recall = 0.8241 F1-Score = 0.8153\n",
            "perfold= 0.972222222222222 0.8333333333333334 0.843214886964887\n",
            "Fold ke- 8 Akurasi = 0.8333 Precision = 0.8432 Recall = 0.8333 F1-Score = 0.8285\n",
            "perfold= 0.9675925925925924 0.8055555555555555 0.8299517612017611\n",
            "Fold ke- 9 Akurasi = 0.8056 Precision = 0.8300 Recall = 0.8056 F1-Score = 0.8014\n",
            "perfold= 0.9706790123456788 0.824074074074074 0.8517440892440892\n",
            "Fold ke- 10 Akurasi = 0.8241 Precision = 0.8517 Recall = 0.8241 F1-Score = 0.8203\n",
            "TP: [84, 78, 75, 86, 84, 95, 89, 90, 87, 89] TOTAL: 857\n",
            "FP: [24, 30, 33, 22, 24, 13, 19, 18, 21, 19] TOTAL: 223\n",
            "FN: [24, 30, 33, 22, 24, 13, 19, 18, 21, 19] TOTAL: 223\n",
            "TN: [1164, 1158, 1155, 1166, 1164, 1175, 1169, 1170, 1167, 1169] TOTAL: 11657\n",
            "0.7935185185185185 0.7935185185185185 0.7935185185185185 0.7935185185185186\n",
            "Avg accuracyTP = 0.7935 Avg accuracy = 0.7935\n",
            "Avg precisionTP= 0.7935 Avg precision= 0.8122\n",
            "Avg recallTP= 0.7935 Avg recall= 0.7935\n",
            "Avg f1TP= 0.7935 Avg f1= 0.7888\n",
            "------------------------------------\n",
            "Dengan Stemming\n",
            "Nama distance= cosine\n",
            "Jumlah K tetangga= 9\n",
            "perfold= 0.9537037037037036 0.7222222222222222 0.7573322510822512\n",
            "Fold ke- 1 Akurasi = 0.7222 Precision = 0.7573 Recall = 0.7222 F1-Score = 0.7126\n",
            "perfold= 0.947530864197531 0.6851851851851852 0.7004238816738817\n",
            "Fold ke- 2 Akurasi = 0.6852 Precision = 0.7004 Recall = 0.6852 F1-Score = 0.6709\n",
            "perfold= 0.9444444444444445 0.6666666666666666 0.6689287564287564\n",
            "Fold ke- 3 Akurasi = 0.6667 Precision = 0.6689 Recall = 0.6667 F1-Score = 0.6470\n",
            "perfold= 0.9675925925925926 0.8055555555555555 0.8418475043475042\n",
            "Fold ke- 4 Akurasi = 0.8056 Precision = 0.8418 Recall = 0.8056 F1-Score = 0.8127\n",
            "perfold= 0.9645061728395062 0.7870370370370371 0.821981721981722\n",
            "Fold ke- 5 Akurasi = 0.7870 Precision = 0.8220 Recall = 0.7870 F1-Score = 0.7865\n",
            "perfold= 0.9783950617283951 0.8703703703703703 0.8777627465127466\n",
            "Fold ke- 6 Akurasi = 0.8704 Precision = 0.8778 Recall = 0.8704 F1-Score = 0.8696\n",
            "perfold= 0.9737654320987654 0.8425925925925927 0.8770938552188552\n",
            "Fold ke- 7 Akurasi = 0.8426 Precision = 0.8771 Recall = 0.8426 F1-Score = 0.8318\n",
            "perfold= 0.9706790123456789 0.8240740740740741 0.8326388888888889\n",
            "Fold ke- 8 Akurasi = 0.8241 Precision = 0.8326 Recall = 0.8241 F1-Score = 0.8165\n",
            "perfold= 0.9675925925925926 0.8055555555555555 0.8213504088504089\n",
            "Fold ke- 9 Akurasi = 0.8056 Precision = 0.8214 Recall = 0.8056 F1-Score = 0.8018\n",
            "perfold= 0.9691358024691357 0.8148148148148148 0.8319654882154882\n",
            "Fold ke- 10 Akurasi = 0.8148 Precision = 0.8320 Recall = 0.8148 F1-Score = 0.8106\n",
            "TP: [78, 74, 72, 87, 85, 94, 91, 89, 87, 88] TOTAL: 845\n",
            "FP: [30, 34, 36, 21, 23, 14, 17, 19, 21, 20] TOTAL: 235\n",
            "FN: [30, 34, 36, 21, 23, 14, 17, 19, 21, 20] TOTAL: 235\n",
            "TN: [1158, 1154, 1152, 1167, 1165, 1174, 1171, 1169, 1167, 1168] TOTAL: 11645\n",
            "0.7824074074074074 0.7824074074074074 0.7824074074074074 0.7824074074074074\n",
            "Avg accuracyTP = 0.7824 Avg accuracy = 0.7824\n",
            "Avg precisionTP= 0.7824 Avg precision= 0.8031\n",
            "Avg recallTP= 0.7824 Avg recall= 0.7824\n",
            "Avg f1TP= 0.7824 Avg f1= 0.7760\n",
            "------------------------------------\n",
            "Dengan Stemming\n",
            "Nama distance= cosine\n",
            "Jumlah K tetangga= 11\n",
            "perfold= 0.95679012345679 0.7407407407407408 0.7970441595441594\n",
            "Fold ke- 1 Akurasi = 0.7407 Precision = 0.7970 Recall = 0.7407 F1-Score = 0.7305\n",
            "perfold= 0.9521604938271605 0.7129629629629629 0.7397366522366523\n",
            "Fold ke- 2 Akurasi = 0.7130 Precision = 0.7397 Recall = 0.7130 F1-Score = 0.7028\n",
            "perfold= 0.9490740740740741 0.6944444444444445 0.6986531986531986\n",
            "Fold ke- 3 Akurasi = 0.6944 Precision = 0.6987 Recall = 0.6944 F1-Score = 0.6782\n",
            "perfold= 0.9706790123456791 0.8240740740740741 0.8531625781625783\n",
            "Fold ke- 4 Akurasi = 0.8241 Precision = 0.8532 Recall = 0.8241 F1-Score = 0.8284\n",
            "perfold= 0.964506172839506 0.7870370370370369 0.8143939393939394\n",
            "Fold ke- 5 Akurasi = 0.7870 Precision = 0.8144 Recall = 0.7870 F1-Score = 0.7871\n",
            "perfold= 0.9783950617283951 0.8703703703703703 0.880441317941318\n",
            "Fold ke- 6 Akurasi = 0.8704 Precision = 0.8804 Recall = 0.8704 F1-Score = 0.8691\n",
            "perfold= 0.9722222222222222 0.8333333333333334 0.8702546296296297\n",
            "Fold ke- 7 Akurasi = 0.8333 Precision = 0.8703 Recall = 0.8333 F1-Score = 0.8227\n",
            "perfold= 0.9706790123456788 0.8240740740740741 0.830582611832612\n",
            "Fold ke- 8 Akurasi = 0.8241 Precision = 0.8306 Recall = 0.8241 F1-Score = 0.8185\n",
            "perfold= 0.964506172839506 0.7870370370370369 0.8194587819587819\n",
            "Fold ke- 9 Akurasi = 0.7870 Precision = 0.8195 Recall = 0.7870 F1-Score = 0.7842\n",
            "perfold= 0.9706790123456789 0.8240740740740741 0.8421566859066859\n",
            "Fold ke- 10 Akurasi = 0.8241 Precision = 0.8422 Recall = 0.8241 F1-Score = 0.8208\n",
            "TP: [80, 77, 75, 89, 85, 94, 90, 89, 85, 89] TOTAL: 853\n",
            "FP: [28, 31, 33, 19, 23, 14, 18, 19, 23, 19] TOTAL: 227\n",
            "FN: [28, 31, 33, 19, 23, 14, 18, 19, 23, 19] TOTAL: 227\n",
            "TN: [1160, 1157, 1155, 1169, 1165, 1174, 1170, 1169, 1165, 1169] TOTAL: 11653\n",
            "0.7898148148148149 0.7898148148148149 0.7898148148148149 0.7898148148148149\n",
            "Avg accuracyTP = 0.7898 Avg accuracy = 0.7898\n",
            "Avg precisionTP= 0.7898 Avg precision= 0.8146\n",
            "Avg recallTP= 0.7898 Avg recall= 0.7898\n",
            "Avg f1TP= 0.7898 Avg f1= 0.7842\n",
            "------------------------------------\n",
            "Dengan Stemming\n",
            "Nama distance= cosine\n",
            "Jumlah K tetangga= 13\n",
            "perfold= 0.9583333333333334 0.75 0.8045033670033671\n",
            "Fold ke- 1 Akurasi = 0.7500 Precision = 0.8045 Recall = 0.7500 F1-Score = 0.7397\n",
            "perfold= 0.9552469135802469 0.7314814814814815 0.7628968253968255\n",
            "Fold ke- 2 Akurasi = 0.7315 Precision = 0.7629 Recall = 0.7315 F1-Score = 0.7181\n",
            "perfold= 0.9459876543209874 0.6759259259259259 0.6830001017501018\n",
            "Fold ke- 3 Akurasi = 0.6759 Precision = 0.6830 Recall = 0.6759 F1-Score = 0.6541\n",
            "perfold= 0.9691358024691358 0.8148148148148148 0.8496547434047433\n",
            "Fold ke- 4 Akurasi = 0.8148 Precision = 0.8497 Recall = 0.8148 F1-Score = 0.8213\n",
            "perfold= 0.9675925925925924 0.8055555555555555 0.8305631868131867\n",
            "Fold ke- 5 Akurasi = 0.8056 Precision = 0.8306 Recall = 0.8056 F1-Score = 0.8040\n",
            "perfold= 0.9799382716049382 0.8796296296296298 0.8862373737373738\n",
            "Fold ke- 6 Akurasi = 0.8796 Precision = 0.8862 Recall = 0.8796 F1-Score = 0.8776\n",
            "perfold= 0.9722222222222223 0.8333333333333334 0.8771142800554564\n",
            "Fold ke- 7 Akurasi = 0.8333 Precision = 0.8771 Recall = 0.8333 F1-Score = 0.8249\n",
            "perfold= 0.9691358024691357 0.8148148148148149 0.8244378306878306\n",
            "Fold ke- 8 Akurasi = 0.8148 Precision = 0.8244 Recall = 0.8148 F1-Score = 0.8104\n",
            "perfold= 0.9629629629629629 0.7777777777777777 0.8106217856217856\n",
            "Fold ke- 9 Akurasi = 0.7778 Precision = 0.8106 Recall = 0.7778 F1-Score = 0.7744\n",
            "perfold= 0.9722222222222222 0.8333333333333334 0.8530303030303031\n",
            "Fold ke- 10 Akurasi = 0.8333 Precision = 0.8530 Recall = 0.8333 F1-Score = 0.8240\n",
            "TP: [81, 79, 73, 88, 87, 95, 90, 88, 84, 90] TOTAL: 855\n",
            "FP: [27, 29, 35, 20, 21, 13, 18, 20, 24, 18] TOTAL: 225\n",
            "FN: [27, 29, 35, 20, 21, 13, 18, 20, 24, 18] TOTAL: 225\n",
            "TN: [1161, 1159, 1153, 1168, 1167, 1175, 1170, 1168, 1164, 1170] TOTAL: 11655\n",
            "0.7916666666666666 0.7916666666666666 0.7916666666666666 0.7916666666666666\n",
            "Avg accuracyTP = 0.7917 Avg accuracy = 0.7917\n",
            "Avg precisionTP= 0.7917 Avg precision= 0.8182\n",
            "Avg recallTP= 0.7917 Avg recall= 0.7917\n",
            "Avg f1TP= 0.7917 Avg f1= 0.7848\n",
            "------------------------------------\n",
            "Dengan Stemming\n",
            "Nama distance= cosine\n",
            "Jumlah K tetangga= 15\n",
            "perfold= 0.9598765432098765 0.7592592592592592 0.81741452991453\n",
            "Fold ke- 1 Akurasi = 0.7593 Precision = 0.8174 Recall = 0.7593 F1-Score = 0.7494\n",
            "perfold= 0.9552469135802468 0.7314814814814815 0.7583638583638583\n",
            "Fold ke- 2 Akurasi = 0.7315 Precision = 0.7584 Recall = 0.7315 F1-Score = 0.7211\n",
            "perfold= 0.9459876543209876 0.675925925925926 0.6812960187960188\n",
            "Fold ke- 3 Akurasi = 0.6759 Precision = 0.6813 Recall = 0.6759 F1-Score = 0.6552\n",
            "perfold= 0.9629629629629631 0.7777777777777777 0.8172323047323048\n",
            "Fold ke- 4 Akurasi = 0.7778 Precision = 0.8172 Recall = 0.7778 F1-Score = 0.7815\n",
            "perfold= 0.9645061728395062 0.7870370370370371 0.8297040922040922\n",
            "Fold ke- 5 Akurasi = 0.7870 Precision = 0.8297 Recall = 0.7870 F1-Score = 0.7846\n",
            "perfold= 0.9814814814814814 0.888888888888889 0.8986381673881674\n",
            "Fold ke- 6 Akurasi = 0.8889 Precision = 0.8986 Recall = 0.8889 F1-Score = 0.8888\n",
            "perfold= 0.9722222222222223 0.8333333333333334 0.8771142800554564\n",
            "Fold ke- 7 Akurasi = 0.8333 Precision = 0.8771 Recall = 0.8333 F1-Score = 0.8241\n",
            "perfold= 0.9691358024691357 0.8148148148148149 0.8323021885521885\n",
            "Fold ke- 8 Akurasi = 0.8148 Precision = 0.8323 Recall = 0.8148 F1-Score = 0.8096\n",
            "perfold= 0.964506172839506 0.7870370370370369 0.8268000518000517\n",
            "Fold ke- 9 Akurasi = 0.7870 Precision = 0.8268 Recall = 0.7870 F1-Score = 0.7830\n",
            "perfold= 0.9722222222222222 0.8333333333333334 0.8529040404040403\n",
            "Fold ke- 10 Akurasi = 0.8333 Precision = 0.8529 Recall = 0.8333 F1-Score = 0.8216\n",
            "TP: [82, 79, 73, 84, 85, 96, 90, 88, 85, 90] TOTAL: 852\n",
            "FP: [26, 29, 35, 24, 23, 12, 18, 20, 23, 18] TOTAL: 228\n",
            "FN: [26, 29, 35, 24, 23, 12, 18, 20, 23, 18] TOTAL: 228\n",
            "TN: [1162, 1159, 1153, 1164, 1165, 1176, 1170, 1168, 1165, 1170] TOTAL: 11652\n",
            "0.7888888888888889 0.7888888888888889 0.7888888888888889 0.7888888888888889\n",
            "Avg accuracyTP = 0.7889 Avg accuracy = 0.7889\n",
            "Avg precisionTP= 0.7889 Avg precision= 0.8192\n",
            "Avg recallTP= 0.7889 Avg recall= 0.7889\n",
            "Avg f1TP= 0.7889 Avg f1= 0.7819\n",
            "------------------------------------\n"
          ],
          "name": "stdout"
        },
        {
          "output_type": "display_data",
          "data": {
            "image/png": "[encoded data removed]",
            "text/plain": [
              "<Figure size 432x288 with 1 Axes>"
            ]
          },
          "metadata": {
            "tags": []
          }
        },
        {
          "output_type": "stream",
          "text": [
            "Tanpa Stemming\n",
            "Nama distance= euclidean\n",
            "Jumlah K tetangga= 1\n",
            "perfold= 0.8503086419753085 0.10185185185185186 0.1737421383647799\n"
          ],
          "name": "stdout"
        },
        {
          "output_type": "stream",
          "text": [
            "/usr/local/lib/python3.7/dist-packages/ipykernel_launcher.py:18: RuntimeWarning: invalid value encountered in long_scalars\n",
            "/usr/local/lib/python3.7/dist-packages/ipykernel_launcher.py:21: RuntimeWarning: invalid value encountered in double_scalars\n",
            "/usr/local/lib/python3.7/dist-packages/sklearn/metrics/_classification.py:1272: UndefinedMetricWarning: Precision is ill-defined and being set to 0.0 in labels with no predicted samples. Use `zero_division` parameter to control this behavior.\n",
            "  _warn_prf(average, modifier, msg_start, len(result))\n"
          ],
          "name": "stderr"
        },
        {
          "output_type": "stream",
          "text": [
            "Fold ke- 1 Akurasi = 0.1019 Precision = 0.1737 Recall = 0.1019 F1-Score = 0.0464\n",
            "perfold= 0.8533950617283951 0.12037037037037036 0.3405448717948718"
          ],
          "name": "stdout"
        },
        {
          "output_type": "stream",
          "text": [
            "/usr/local/lib/python3.7/dist-packages/ipykernel_launcher.py:18: RuntimeWarning: invalid value encountered in long_scalars\n",
            "/usr/local/lib/python3.7/dist-packages/ipykernel_launcher.py:21: RuntimeWarning: invalid value encountered in double_scalars\n",
            "/usr/local/lib/python3.7/dist-packages/sklearn/metrics/_classification.py:1272: UndefinedMetricWarning: Precision is ill-defined and being set to 0.0 in labels with no predicted samples. Use `zero_division` parameter to control this behavior.\n",
            "  _warn_prf(average, modifier, msg_start, len(result))\n"
          ],
          "name": "stderr"
        },
        {
          "output_type": "stream",
          "text": [
            "\n",
            "Fold ke- 2 Akurasi = 0.1204 Precision = 0.3405 Recall = 0.1204 F1-Score = 0.0799\n",
            "perfold= 0.9351851851851855 0.6111111111111112 0.6375712658800894\n",
            "Fold ke- 3 Akurasi = 0.6111 Precision = 0.6376 Recall = 0.6111 F1-Score = 0.6007\n"
          ],
          "name": "stdout"
        },
        {
          "output_type": "stream",
          "text": [
            "/usr/local/lib/python3.7/dist-packages/ipykernel_launcher.py:18: RuntimeWarning: invalid value encountered in long_scalars\n",
            "/usr/local/lib/python3.7/dist-packages/ipykernel_launcher.py:21: RuntimeWarning: invalid value encountered in double_scalars\n",
            "/usr/local/lib/python3.7/dist-packages/sklearn/metrics/_classification.py:1272: UndefinedMetricWarning: Precision is ill-defined and being set to 0.0 in labels with no predicted samples. Use `zero_division` parameter to control this behavior.\n",
            "  _warn_prf(average, modifier, msg_start, len(result))\n",
            "/usr/local/lib/python3.7/dist-packages/ipykernel_launcher.py:18: RuntimeWarning: invalid value encountered in long_scalars\n",
            "/usr/local/lib/python3.7/dist-packages/ipykernel_launcher.py:21: RuntimeWarning: invalid value encountered in double_scalars\n"
          ],
          "name": "stderr"
        },
        {
          "output_type": "stream",
          "text": [
            "perfold= 0.8641975308641975 0.1851851851851852 0.5744791666666667\n",
            "Fold ke- 4 Akurasi = 0.1852 Precision = 0.5745 Recall = 0.1852 F1-Score = 0.1755\n"
          ],
          "name": "stdout"
        },
        {
          "output_type": "stream",
          "text": [
            "/usr/local/lib/python3.7/dist-packages/sklearn/metrics/_classification.py:1272: UndefinedMetricWarning: Precision is ill-defined and being set to 0.0 in labels with no predicted samples. Use `zero_division` parameter to control this behavior.\n",
            "  _warn_prf(average, modifier, msg_start, len(result))\n",
            "/usr/local/lib/python3.7/dist-packages/ipykernel_launcher.py:18: RuntimeWarning: invalid value encountered in long_scalars\n",
            "/usr/local/lib/python3.7/dist-packages/ipykernel_launcher.py:21: RuntimeWarning: invalid value encountered in double_scalars\n"
          ],
          "name": "stderr"
        },
        {
          "output_type": "stream",
          "text": [
            "perfold= 0.8703703703703702 0.22222222222222224 0.563707729468599\n",
            "Fold ke- 5 Akurasi = 0.2222 Precision = 0.5637 Recall = 0.2222 F1-Score = 0.2318\n",
            "perfold= 0.8765432098765432 0.2592592592592593 0.5084269662921348\n",
            "Fold ke- 6 Akurasi = 0.2593 Precision = 0.5084 Recall = 0.2593 F1-Score = 0.2636\n"
          ],
          "name": "stdout"
        },
        {
          "output_type": "stream",
          "text": [
            "/usr/local/lib/python3.7/dist-packages/sklearn/metrics/_classification.py:1272: UndefinedMetricWarning: Precision is ill-defined and being set to 0.0 in labels with no predicted samples. Use `zero_division` parameter to control this behavior.\n",
            "  _warn_prf(average, modifier, msg_start, len(result))\n",
            "/usr/local/lib/python3.7/dist-packages/ipykernel_launcher.py:18: RuntimeWarning: invalid value encountered in long_scalars\n",
            "/usr/local/lib/python3.7/dist-packages/ipykernel_launcher.py:21: RuntimeWarning: invalid value encountered in double_scalars\n",
            "/usr/local/lib/python3.7/dist-packages/sklearn/metrics/_classification.py:1272: UndefinedMetricWarning: Precision is ill-defined and being set to 0.0 in labels with no predicted samples. Use `zero_division` parameter to control this behavior.\n",
            "  _warn_prf(average, modifier, msg_start, len(result))\n"
          ],
          "name": "stderr"
        },
        {
          "output_type": "stream",
          "text": [
            "perfold= 0.8719135802469137 0.2314814814814815 0.6393793472445157\n",
            "Fold ke- 7 Akurasi = 0.2315 Precision = 0.6394 Recall = 0.2315 F1-Score = 0.2395\n"
          ],
          "name": "stdout"
        },
        {
          "output_type": "stream",
          "text": [
            "/usr/local/lib/python3.7/dist-packages/ipykernel_launcher.py:21: RuntimeWarning: invalid value encountered in double_scalars\n",
            "/usr/local/lib/python3.7/dist-packages/ipykernel_launcher.py:18: RuntimeWarning: invalid value encountered in long_scalars\n",
            "/usr/local/lib/python3.7/dist-packages/sklearn/metrics/_classification.py:1272: UndefinedMetricWarning: Precision is ill-defined and being set to 0.0 in labels with no predicted samples. Use `zero_division` parameter to control this behavior.\n",
            "  _warn_prf(average, modifier, msg_start, len(result))\n"
          ],
          "name": "stderr"
        },
        {
          "output_type": "stream",
          "text": [
            "perfold= 0.8657407407407408 0.19444444444444445 0.6329787234042553\n",
            "Fold ke- 8 Akurasi = 0.1944 Precision = 0.6330 Recall = 0.1944 F1-Score = 0.1987\n"
          ],
          "name": "stdout"
        },
        {
          "output_type": "stream",
          "text": [
            "/usr/local/lib/python3.7/dist-packages/ipykernel_launcher.py:18: RuntimeWarning: invalid value encountered in long_scalars\n",
            "/usr/local/lib/python3.7/dist-packages/ipykernel_launcher.py:21: RuntimeWarning: invalid value encountered in double_scalars\n",
            "/usr/local/lib/python3.7/dist-packages/sklearn/metrics/_classification.py:1272: UndefinedMetricWarning: Precision is ill-defined and being set to 0.0 in labels with no predicted samples. Use `zero_division` parameter to control this behavior.\n",
            "  _warn_prf(average, modifier, msg_start, len(result))\n"
          ],
          "name": "stderr"
        },
        {
          "output_type": "stream",
          "text": [
            "perfold= 0.8657407407407408 0.19444444444444442 0.4245614035087719\n",
            "Fold ke- 9 Akurasi = 0.1944 Precision = 0.4246 Recall = 0.1944 F1-Score = 0.1792\n"
          ],
          "name": "stdout"
        },
        {
          "output_type": "stream",
          "text": [
            "/usr/local/lib/python3.7/dist-packages/ipykernel_launcher.py:18: RuntimeWarning: invalid value encountered in long_scalars\n",
            "/usr/local/lib/python3.7/dist-packages/ipykernel_launcher.py:21: RuntimeWarning: invalid value encountered in double_scalars\n",
            "/usr/local/lib/python3.7/dist-packages/sklearn/metrics/_classification.py:1272: UndefinedMetricWarning: Precision is ill-defined and being set to 0.0 in labels with no predicted samples. Use `zero_division` parameter to control this behavior.\n",
            "  _warn_prf(average, modifier, msg_start, len(result))\n"
          ],
          "name": "stderr"
        },
        {
          "output_type": "stream",
          "text": [
            "perfold= 0.8657407407407406 0.19444444444444445 0.5357565011820331\n",
            "Fold ke- 10 Akurasi = 0.1944 Precision = 0.5358 Recall = 0.1944 F1-Score = 0.1903\n",
            "TP: [11, 13, 66, 20, 24, 28, 25, 21, 21, 21] TOTAL: 250\n",
            "FP: [97, 95, 42, 88, 84, 80, 83, 87, 87, 87] TOTAL: 830\n",
            "FN: [97, 95, 42, 88, 84, 80, 83, 87, 87, 87] TOTAL: 830\n",
            "TN: [1091, 1093, 1146, 1100, 1104, 1108, 1105, 1101, 1101, 1101] TOTAL: 11050\n",
            "0.2314814814814815 0.23148148148148154 0.23148148148148154 0.23148148148148154\n",
            "Avg accuracyTP = 0.2315 Avg accuracy = 0.2315\n",
            "Avg precisionTP= 0.2315 Avg precision= 0.5031\n",
            "Avg recallTP= 0.2315 Avg recall= 0.2315\n",
            "Avg f1TP= 0.2315 Avg f1= 0.2206\n",
            "------------------------------------\n",
            "Tanpa Stemming\n",
            "Nama distance= euclidean\n",
            "Jumlah K tetangga= 3\n"
          ],
          "name": "stdout"
        },
        {
          "output_type": "stream",
          "text": [
            "/usr/local/lib/python3.7/dist-packages/ipykernel_launcher.py:18: RuntimeWarning: invalid value encountered in long_scalars\n",
            "/usr/local/lib/python3.7/dist-packages/ipykernel_launcher.py:21: RuntimeWarning: invalid value encountered in double_scalars\n",
            "/usr/local/lib/python3.7/dist-packages/sklearn/metrics/_classification.py:1272: UndefinedMetricWarning: Precision is ill-defined and being set to 0.0 in labels with no predicted samples. Use `zero_division` parameter to control this behavior.\n",
            "  _warn_prf(average, modifier, msg_start, len(result))\n"
          ],
          "name": "stderr"
        },
        {
          "output_type": "stream",
          "text": [
            "perfold= 0.9182098765432101 0.5092592592592592 0.6881258111210942\n",
            "Fold ke- 1 Akurasi = 0.5093 Precision = 0.6881 Recall = 0.5093 F1-Score = 0.5259\n",
            "perfold= 0.9243827160493828 0.5462962962962962 0.7381613756613756\n",
            "Fold ke- 2 Akurasi = 0.5463 Precision = 0.7382 Recall = 0.5463 F1-Score = 0.5768\n",
            "perfold= 0.9429012345679012 0.6574074074074073 0.6625666000666001\n",
            "Fold ke- 3 Akurasi = 0.6574 Precision = 0.6626 Recall = 0.6574 F1-Score = 0.6424\n",
            "perfold= 0.9351851851851852 0.6111111111111112 0.8130926943426943\n",
            "Fold ke- 4 Akurasi = 0.6111 Precision = 0.8131 Recall = 0.6111 F1-Score = 0.6467\n",
            "perfold= 0.947530864197531 0.6851851851851851 0.8461309523809523\n",
            "Fold ke- 5 Akurasi = 0.6852 Precision = 0.8461 Recall = 0.6852 F1-Score = 0.7280\n",
            "perfold= 0.9506172839506172 0.7037037037037037 0.8699074074074075\n",
            "Fold ke- 6 Akurasi = 0.7037 Precision = 0.8699 Recall = 0.7037 F1-Score = 0.7361\n",
            "perfold= 0.9537037037037037 0.7222222222222222 0.8883769586894587\n",
            "Fold ke- 7 Akurasi = 0.7222 Precision = 0.8884 Recall = 0.7222 F1-Score = 0.7419\n",
            "perfold= 0.9429012345679012 0.6574074074074073 0.8319622507122507\n",
            "Fold ke- 8 Akurasi = 0.6574 Precision = 0.8320 Recall = 0.6574 F1-Score = 0.6924\n",
            "perfold= 0.9444444444444443 0.6666666666666666 0.8433479532163743\n",
            "Fold ke- 9 Akurasi = 0.6667 Precision = 0.8433 Recall = 0.6667 F1-Score = 0.7037\n",
            "perfold= 0.933641975308642 0.6018518518518519 0.8708618273835663\n",
            "Fold ke- 10 Akurasi = 0.6019 Precision = 0.8709 Recall = 0.6019 F1-Score = 0.6344\n",
            "TP: [55, 59, 71, 66, 74, 76, 78, 71, 72, 65] TOTAL: 687\n",
            "FP: [53, 49, 37, 42, 34, 32, 30, 37, 36, 43] TOTAL: 393\n",
            "FN: [53, 49, 37, 42, 34, 32, 30, 37, 36, 43] TOTAL: 393\n",
            "TN: [1135, 1139, 1151, 1146, 1154, 1156, 1158, 1151, 1152, 1145] TOTAL: 11487\n",
            "0.636111111111111 0.6361111111111112 0.6361111111111112 0.6361111111111112\n",
            "Avg accuracyTP = 0.6361 Avg accuracy = 0.6361\n",
            "Avg precisionTP= 0.6361 Avg precision= 0.8053\n",
            "Avg recallTP= 0.6361 Avg recall= 0.6361\n",
            "Avg f1TP= 0.6361 Avg f1= 0.6628\n",
            "------------------------------------\n",
            "Tanpa Stemming\n",
            "Nama distance= euclidean\n",
            "Jumlah K tetangga= 5\n",
            "perfold= 0.9521604938271605 0.7129629629629631 0.7139510952010952\n",
            "Fold ke- 1 Akurasi = 0.7130 Precision = 0.7140 Recall = 0.7130 F1-Score = 0.6913\n",
            "perfold= 0.9490740740740741 0.6944444444444443 0.7181788119288118\n",
            "Fold ke- 2 Akurasi = 0.6944 Precision = 0.7182 Recall = 0.6944 F1-Score = 0.6959\n",
            "perfold= 0.9382716049382718 0.6296296296296297 0.6260727698227698\n",
            "Fold ke- 3 Akurasi = 0.6296 Precision = 0.6261 Recall = 0.6296 F1-Score = 0.6107\n",
            "perfold= 0.95679012345679 0.7407407407407406 0.7710648148148147\n",
            "Fold ke- 4 Akurasi = 0.7407 Precision = 0.7711 Recall = 0.7407 F1-Score = 0.7432\n",
            "perfold= 0.9614197530864197 0.7685185185185185 0.7903984903984904\n",
            "Fold ke- 5 Akurasi = 0.7685 Precision = 0.7904 Recall = 0.7685 F1-Score = 0.7695\n",
            "perfold= 0.9783950617283951 0.8703703703703706 0.8827651515151514\n",
            "Fold ke- 6 Akurasi = 0.8704 Precision = 0.8828 Recall = 0.8704 F1-Score = 0.8714\n",
            "perfold= 0.9691358024691358 0.8148148148148148 0.8349807599807599\n",
            "Fold ke- 7 Akurasi = 0.8148 Precision = 0.8350 Recall = 0.8148 F1-Score = 0.8080\n",
            "perfold= 0.9629629629629629 0.7777777777777778 0.8057975589225589\n",
            "Fold ke- 8 Akurasi = 0.7778 Precision = 0.8058 Recall = 0.7778 F1-Score = 0.7733\n",
            "perfold= 0.9598765432098765 0.7592592592592592 0.7981851073762839\n",
            "Fold ke- 9 Akurasi = 0.7593 Precision = 0.7982 Recall = 0.7593 F1-Score = 0.7604\n",
            "perfold= 0.9645061728395062 0.7870370370370369 0.8372234247234247\n",
            "Fold ke- 10 Akurasi = 0.7870 Precision = 0.8372 Recall = 0.7870 F1-Score = 0.7827\n",
            "TP: [77, 75, 68, 80, 83, 94, 88, 84, 82, 85] TOTAL: 816\n",
            "FP: [31, 33, 40, 28, 25, 14, 20, 24, 26, 23] TOTAL: 264\n",
            "FN: [31, 33, 40, 28, 25, 14, 20, 24, 26, 23] TOTAL: 264\n",
            "TN: [1157, 1155, 1148, 1160, 1163, 1174, 1168, 1164, 1162, 1165] TOTAL: 11616\n",
            "0.7555555555555555 0.7555555555555556 0.7555555555555556 0.7555555555555556\n",
            "Avg accuracyTP = 0.7556 Avg accuracy = 0.7556\n",
            "Avg precisionTP= 0.7556 Avg precision= 0.7779\n",
            "Avg recallTP= 0.7556 Avg recall= 0.7556\n",
            "Avg f1TP= 0.7556 Avg f1= 0.7507\n",
            "------------------------------------\n",
            "Tanpa Stemming\n",
            "Nama distance= euclidean\n",
            "Jumlah K tetangga= 7\n",
            "perfold= 0.9583333333333331 0.7500000000000001 0.7872414622414622\n",
            "Fold ke- 1 Akurasi = 0.7500 Precision = 0.7872 Recall = 0.7500 F1-Score = 0.7332\n",
            "perfold= 0.9490740740740741 0.6944444444444443 0.6987648925148925\n",
            "Fold ke- 2 Akurasi = 0.6944 Precision = 0.6988 Recall = 0.6944 F1-Score = 0.6868\n",
            "perfold= 0.939814814814815 0.638888888888889 0.63505846005846\n",
            "Fold ke- 3 Akurasi = 0.6389 Precision = 0.6351 Recall = 0.6389 F1-Score = 0.6191\n",
            "perfold= 0.9645061728395062 0.7870370370370369 0.8043895918895919\n",
            "Fold ke- 4 Akurasi = 0.7870 Precision = 0.8044 Recall = 0.7870 F1-Score = 0.7888\n",
            "perfold= 0.9614197530864197 0.7685185185185186 0.7939694564694565\n",
            "Fold ke- 5 Akurasi = 0.7685 Precision = 0.7940 Recall = 0.7685 F1-Score = 0.7687\n",
            "perfold= 0.986111111111111 0.9166666666666666 0.9272690272690274\n",
            "Fold ke- 6 Akurasi = 0.9167 Precision = 0.9273 Recall = 0.9167 F1-Score = 0.9165\n",
            "perfold= 0.9737654320987654 0.8425925925925926 0.8591540404040404\n",
            "Fold ke- 7 Akurasi = 0.8426 Precision = 0.8592 Recall = 0.8426 F1-Score = 0.8363\n",
            "perfold= 0.9629629629629629 0.7777777777777778 0.7950780700780702\n",
            "Fold ke- 8 Akurasi = 0.7778 Precision = 0.7951 Recall = 0.7778 F1-Score = 0.7681\n",
            "perfold= 0.9598765432098767 0.7592592592592592 0.7934371184371183\n",
            "Fold ke- 9 Akurasi = 0.7593 Precision = 0.7934 Recall = 0.7593 F1-Score = 0.7559\n",
            "perfold= 0.9691358024691358 0.8148148148148149 0.8452448014948014\n",
            "Fold ke- 10 Akurasi = 0.8148 Precision = 0.8452 Recall = 0.8148 F1-Score = 0.8067\n",
            "TP: [81, 75, 69, 85, 83, 99, 91, 84, 82, 88] TOTAL: 837\n",
            "FP: [27, 33, 39, 23, 25, 9, 17, 24, 26, 20] TOTAL: 243\n",
            "FN: [27, 33, 39, 23, 25, 9, 17, 24, 26, 20] TOTAL: 243\n",
            "TN: [1161, 1155, 1149, 1165, 1163, 1179, 1171, 1164, 1162, 1168] TOTAL: 11637\n",
            "0.775 0.775 0.775 0.775\n",
            "Avg accuracyTP = 0.7750 Avg accuracy = 0.7750\n",
            "Avg precisionTP= 0.7750 Avg precision= 0.7940\n",
            "Avg recallTP= 0.7750 Avg recall= 0.7750\n",
            "Avg f1TP= 0.7750 Avg f1= 0.7680\n",
            "------------------------------------\n",
            "Tanpa Stemming\n",
            "Nama distance= euclidean\n",
            "Jumlah K tetangga= 9\n",
            "perfold= 0.9598765432098765 0.7592592592592594 0.8012566137566138\n",
            "Fold ke- 1 Akurasi = 0.7593 Precision = 0.8013 Recall = 0.7593 F1-Score = 0.7503\n",
            "perfold= 0.9490740740740741 0.6944444444444445 0.6929503367003367\n",
            "Fold ke- 2 Akurasi = 0.6944 Precision = 0.6930 Recall = 0.6944 F1-Score = 0.6786\n",
            "perfold= 0.9444444444444446 0.6666666666666669 0.6719336219336219\n",
            "Fold ke- 3 Akurasi = 0.6667 Precision = 0.6719 Recall = 0.6667 F1-Score = 0.6564\n",
            "perfold= 0.9660493827160493 0.7962962962962962 0.8254960317460318\n",
            "Fold ke- 4 Akurasi = 0.7963 Precision = 0.8255 Recall = 0.7963 F1-Score = 0.8039\n",
            "perfold= 0.9660493827160493 0.7962962962962963 0.8217863155363155\n",
            "Fold ke- 5 Akurasi = 0.7963 Precision = 0.8218 Recall = 0.7963 F1-Score = 0.7942\n",
            "perfold= 0.9799382716049382 0.8796296296296297 0.8900252525252527\n",
            "Fold ke- 6 Akurasi = 0.8796 Precision = 0.8900 Recall = 0.8796 F1-Score = 0.8786\n",
            "perfold= 0.9737654320987654 0.8425925925925926 0.8770938552188552\n",
            "Fold ke- 7 Akurasi = 0.8426 Precision = 0.8771 Recall = 0.8426 F1-Score = 0.8324\n",
            "perfold= 0.9614197530864197 0.7685185185185185 0.7784077034077034\n",
            "Fold ke- 8 Akurasi = 0.7685 Precision = 0.7784 Recall = 0.7685 F1-Score = 0.7553\n",
            "perfold= 0.9583333333333334 0.75 0.7761116198616199\n",
            "Fold ke- 9 Akurasi = 0.7500 Precision = 0.7761 Recall = 0.7500 F1-Score = 0.7495\n",
            "perfold= 0.9706790123456791 0.8240740740740741 0.8568662818662819\n",
            "Fold ke- 10 Akurasi = 0.8241 Precision = 0.8569 Recall = 0.8241 F1-Score = 0.8198\n",
            "TP: [82, 75, 72, 86, 86, 95, 91, 83, 81, 89] TOTAL: 840\n",
            "FP: [26, 33, 36, 22, 22, 13, 17, 25, 27, 19] TOTAL: 240\n",
            "FN: [26, 33, 36, 22, 22, 13, 17, 25, 27, 19] TOTAL: 240\n",
            "TN: [1162, 1155, 1152, 1166, 1166, 1175, 1171, 1163, 1161, 1169] TOTAL: 11640\n",
            "0.7777777777777778 0.7777777777777778 0.7777777777777778 0.7777777777777778\n",
            "Avg accuracyTP = 0.7778 Avg accuracy = 0.7778\n",
            "Avg precisionTP= 0.7778 Avg precision= 0.7992\n",
            "Avg recallTP= 0.7778 Avg recall= 0.7778\n",
            "Avg f1TP= 0.7778 Avg f1= 0.7719\n",
            "------------------------------------\n",
            "Tanpa Stemming\n",
            "Nama distance= euclidean\n",
            "Jumlah K tetangga= 11\n",
            "perfold= 0.9583333333333334 0.75 0.7977423039923041\n",
            "Fold ke- 1 Akurasi = 0.7500 Precision = 0.7977 Recall = 0.7500 F1-Score = 0.7426\n",
            "perfold= 0.9567901234567903 0.7407407407407406 0.7576395826395826\n",
            "Fold ke- 2 Akurasi = 0.7407 Precision = 0.7576 Recall = 0.7407 F1-Score = 0.7289\n",
            "perfold= 0.9475308641975309 0.6851851851851852 0.7126086876086877\n",
            "Fold ke- 3 Akurasi = 0.6852 Precision = 0.7126 Recall = 0.6852 F1-Score = 0.6726\n",
            "perfold= 0.9722222222222222 0.8333333333333334 0.8489598364598364\n",
            "Fold ke- 4 Akurasi = 0.8333 Precision = 0.8490 Recall = 0.8333 F1-Score = 0.8367\n",
            "perfold= 0.9691358024691358 0.8148148148148148 0.8338804713804714\n",
            "Fold ke- 5 Akurasi = 0.8148 Precision = 0.8339 Recall = 0.8148 F1-Score = 0.8128\n",
            "perfold= 0.9814814814814814 0.888888888888889 0.8956860269360271\n",
            "Fold ke- 6 Akurasi = 0.8889 Precision = 0.8957 Recall = 0.8889 F1-Score = 0.8883\n",
            "perfold= 0.9737654320987654 0.8425925925925926 0.8835957615369381\n",
            "Fold ke- 7 Akurasi = 0.8426 Precision = 0.8836 Recall = 0.8426 F1-Score = 0.8338\n",
            "perfold= 0.964506172839506 0.7870370370370371 0.8080026455026456\n",
            "Fold ke- 8 Akurasi = 0.7870 Precision = 0.8080 Recall = 0.7870 F1-Score = 0.7804\n",
            "perfold= 0.9614197530864198 0.7685185185185185 0.7938519813519812\n",
            "Fold ke- 9 Akurasi = 0.7685 Precision = 0.7939 Recall = 0.7685 F1-Score = 0.7665\n",
            "perfold= 0.9675925925925926 0.8055555555555555 0.8344780219780219\n",
            "Fold ke- 10 Akurasi = 0.8056 Precision = 0.8345 Recall = 0.8056 F1-Score = 0.8017\n",
            "TP: [81, 80, 74, 90, 88, 96, 91, 85, 83, 87] TOTAL: 855\n",
            "FP: [27, 28, 34, 18, 20, 12, 17, 23, 25, 21] TOTAL: 225\n",
            "FN: [27, 28, 34, 18, 20, 12, 17, 23, 25, 21] TOTAL: 225\n",
            "TN: [1161, 1160, 1154, 1170, 1168, 1176, 1171, 1165, 1163, 1167] TOTAL: 11655\n",
            "0.7916666666666666 0.7916666666666667 0.7916666666666667 0.7916666666666667\n",
            "Avg accuracyTP = 0.7917 Avg accuracy = 0.7917\n",
            "Avg precisionTP= 0.7917 Avg precision= 0.8166\n",
            "Avg recallTP= 0.7917 Avg recall= 0.7917\n",
            "Avg f1TP= 0.7917 Avg f1= 0.7864\n",
            "------------------------------------\n",
            "Tanpa Stemming\n",
            "Nama distance= euclidean\n",
            "Jumlah K tetangga= 13\n",
            "perfold= 0.9629629629629629 0.7777777777777778 0.8196632071632073\n",
            "Fold ke- 1 Akurasi = 0.7778 Precision = 0.8197 Recall = 0.7778 F1-Score = 0.7683\n",
            "perfold= 0.9552469135802468 0.7314814814814814 0.7641000203500203\n",
            "Fold ke- 2 Akurasi = 0.7315 Precision = 0.7641 Recall = 0.7315 F1-Score = 0.7135\n",
            "perfold= 0.9506172839506172 0.7037037037037037 0.7379363691863693\n",
            "Fold ke- 3 Akurasi = 0.7037 Precision = 0.7379 Recall = 0.7037 F1-Score = 0.6913\n",
            "perfold= 0.9660493827160495 0.7962962962962963 0.8237288174788175\n",
            "Fold ke- 4 Akurasi = 0.7963 Precision = 0.8237 Recall = 0.7963 F1-Score = 0.8001\n",
            "perfold= 0.9675925925925926 0.8055555555555555 0.8242116679616679\n",
            "Fold ke- 5 Akurasi = 0.8056 Precision = 0.8242 Recall = 0.8056 F1-Score = 0.8027\n",
            "perfold= 0.9814814814814815 0.8888888888888892 0.8987373737373737\n",
            "Fold ke- 6 Akurasi = 0.8889 Precision = 0.8987 Recall = 0.8889 F1-Score = 0.8894\n",
            "perfold= 0.9722222222222222 0.8333333333333334 0.8724846504258269\n",
            "Fold ke- 7 Akurasi = 0.8333 Precision = 0.8725 Recall = 0.8333 F1-Score = 0.8236\n",
            "perfold= 0.9691358024691358 0.8148148148148149 0.8292073667073668\n",
            "Fold ke- 8 Akurasi = 0.8148 Precision = 0.8292 Recall = 0.8148 F1-Score = 0.8070\n",
            "perfold= 0.9629629629629629 0.7777777777777777 0.8030837218337218\n",
            "Fold ke- 9 Akurasi = 0.7778 Precision = 0.8031 Recall = 0.7778 F1-Score = 0.7736\n",
            "perfold= 0.9753086419753085 0.851851851851852 0.8612854737854739\n",
            "Fold ke- 10 Akurasi = 0.8519 Precision = 0.8613 Recall = 0.8519 F1-Score = 0.8500\n",
            "TP: [84, 79, 76, 86, 87, 96, 90, 88, 84, 92] TOTAL: 862\n",
            "FP: [24, 29, 32, 22, 21, 12, 18, 20, 24, 16] TOTAL: 218\n",
            "FN: [24, 29, 32, 22, 21, 12, 18, 20, 24, 16] TOTAL: 218\n",
            "TN: [1164, 1159, 1156, 1166, 1167, 1176, 1170, 1168, 1164, 1172] TOTAL: 11662\n",
            "0.7981481481481482 0.7981481481481482 0.7981481481481482 0.7981481481481482\n",
            "Avg accuracyTP = 0.7981 Avg accuracy = 0.7981\n",
            "Avg precisionTP= 0.7981 Avg precision= 0.8234\n",
            "Avg recallTP= 0.7981 Avg recall= 0.7981\n",
            "Avg f1TP= 0.7981 Avg f1= 0.7919\n",
            "------------------------------------\n",
            "Tanpa Stemming\n",
            "Nama distance= euclidean\n",
            "Jumlah K tetangga= 15\n",
            "perfold= 0.9598765432098765 0.7592592592592594 0.8101228632478632\n",
            "Fold ke- 1 Akurasi = 0.7593 Precision = 0.8101 Recall = 0.7593 F1-Score = 0.7507\n",
            "perfold= 0.9552469135802468 0.7314814814814814 0.7587165149665149\n",
            "Fold ke- 2 Akurasi = 0.7315 Precision = 0.7587 Recall = 0.7315 F1-Score = 0.7194\n",
            "perfold= 0.9506172839506172 0.7037037037037037 0.743494930994931\n",
            "Fold ke- 3 Akurasi = 0.7037 Precision = 0.7435 Recall = 0.7037 F1-Score = 0.6950\n",
            "perfold= 0.9629629629629629 0.7777777777777777 0.8214285714285715\n",
            "Fold ke- 4 Akurasi = 0.7778 Precision = 0.8214 Recall = 0.7778 F1-Score = 0.7840\n",
            "perfold= 0.9691358024691357 0.8148148148148148 0.8325870888370889\n",
            "Fold ke- 5 Akurasi = 0.8148 Precision = 0.8326 Recall = 0.8148 F1-Score = 0.8122\n",
            "perfold= 0.9783950617283951 0.8703703703703706 0.8806397306397308\n",
            "Fold ke- 6 Akurasi = 0.8704 Precision = 0.8806 Recall = 0.8704 F1-Score = 0.8713\n",
            "perfold= 0.9722222222222223 0.8333333333333334 0.8743365022776789\n",
            "Fold ke- 7 Akurasi = 0.8333 Precision = 0.8743 Recall = 0.8333 F1-Score = 0.8245\n",
            "perfold= 0.9675925925925926 0.8055555555555557 0.8208867521367519\n",
            "Fold ke- 8 Akurasi = 0.8056 Precision = 0.8209 Recall = 0.8056 F1-Score = 0.8005\n",
            "perfold= 0.9614197530864197 0.7685185185185185 0.8003059440559439\n",
            "Fold ke- 9 Akurasi = 0.7685 Precision = 0.8003 Recall = 0.7685 F1-Score = 0.7666\n",
            "perfold= 0.9722222222222222 0.8333333333333335 0.8494588744588745\n",
            "Fold ke- 10 Akurasi = 0.8333 Precision = 0.8495 Recall = 0.8333 F1-Score = 0.8318\n",
            "TP: [82, 79, 76, 84, 88, 94, 90, 87, 83, 90] TOTAL: 853\n",
            "FP: [26, 29, 32, 24, 20, 14, 18, 21, 25, 18] TOTAL: 227\n",
            "FN: [26, 29, 32, 24, 20, 14, 18, 21, 25, 18] TOTAL: 227\n",
            "TN: [1162, 1159, 1156, 1164, 1168, 1174, 1170, 1167, 1163, 1170] TOTAL: 11653\n",
            "0.7898148148148149 0.7898148148148147 0.7898148148148147 0.7898148148148147\n",
            "Avg accuracyTP = 0.7898 Avg accuracy = 0.7898\n",
            "Avg precisionTP= 0.7898 Avg precision= 0.8192\n",
            "Avg recallTP= 0.7898 Avg recall= 0.7898\n",
            "Avg f1TP= 0.7898 Avg f1= 0.7856\n",
            "------------------------------------\n",
            "Tanpa Stemming\n",
            "Nama distance= manhattan\n",
            "Jumlah K tetangga= 1\n"
          ],
          "name": "stdout"
        },
        {
          "output_type": "stream",
          "text": [
            "/usr/local/lib/python3.7/dist-packages/ipykernel_launcher.py:18: RuntimeWarning: invalid value encountered in long_scalars\n",
            "/usr/local/lib/python3.7/dist-packages/ipykernel_launcher.py:21: RuntimeWarning: invalid value encountered in double_scalars\n",
            "/usr/local/lib/python3.7/dist-packages/sklearn/metrics/_classification.py:1272: UndefinedMetricWarning: Precision is ill-defined and being set to 0.0 in labels with no predicted samples. Use `zero_division` parameter to control this behavior.\n",
            "  _warn_prf(average, modifier, msg_start, len(result))\n"
          ],
          "name": "stderr"
        },
        {
          "output_type": "stream",
          "text": [
            "perfold= 0.8487654320987654 0.0925925925925926 0.09034267912772585\n",
            "Fold ke- 1 Akurasi = 0.0926 Precision = 0.0903 Recall = 0.0926 F1-Score = 0.0296\n"
          ],
          "name": "stdout"
        },
        {
          "output_type": "stream",
          "text": [
            "/usr/local/lib/python3.7/dist-packages/ipykernel_launcher.py:18: RuntimeWarning: invalid value encountered in long_scalars\n",
            "/usr/local/lib/python3.7/dist-packages/ipykernel_launcher.py:21: RuntimeWarning: invalid value encountered in double_scalars\n",
            "/usr/local/lib/python3.7/dist-packages/sklearn/metrics/_classification.py:1272: UndefinedMetricWarning: Precision is ill-defined and being set to 0.0 in labels with no predicted samples. Use `zero_division` parameter to control this behavior.\n",
            "  _warn_prf(average, modifier, msg_start, len(result))\n"
          ],
          "name": "stderr"
        },
        {
          "output_type": "stream",
          "text": [
            "perfold= 0.8503086419753085 0.10185185185185186 0.1737421383647799\n",
            "Fold ke- 2 Akurasi = 0.1019 Precision = 0.1737 Recall = 0.1019 F1-Score = 0.0464\n"
          ],
          "name": "stdout"
        },
        {
          "output_type": "stream",
          "text": [
            "/usr/local/lib/python3.7/dist-packages/ipykernel_launcher.py:18: RuntimeWarning: invalid value encountered in long_scalars\n",
            "/usr/local/lib/python3.7/dist-packages/ipykernel_launcher.py:21: RuntimeWarning: invalid value encountered in double_scalars\n",
            "/usr/local/lib/python3.7/dist-packages/sklearn/metrics/_classification.py:1272: UndefinedMetricWarning: Precision is ill-defined and being set to 0.0 in labels with no predicted samples. Use `zero_division` parameter to control this behavior.\n",
            "  _warn_prf(average, modifier, msg_start, len(result))\n"
          ],
          "name": "stderr"
        },
        {
          "output_type": "stream",
          "text": [
            "perfold= 0.8549382716049383 0.12962962962962965 0.42401960784313725\n",
            "Fold ke- 3 Akurasi = 0.1296 Precision = 0.4240 Recall = 0.1296 F1-Score = 0.0968\n"
          ],
          "name": "stdout"
        },
        {
          "output_type": "stream",
          "text": [
            "/usr/local/lib/python3.7/dist-packages/ipykernel_launcher.py:18: RuntimeWarning: invalid value encountered in long_scalars\n",
            "/usr/local/lib/python3.7/dist-packages/ipykernel_launcher.py:21: RuntimeWarning: invalid value encountered in double_scalars\n",
            "/usr/local/lib/python3.7/dist-packages/sklearn/metrics/_classification.py:1272: UndefinedMetricWarning: Precision is ill-defined and being set to 0.0 in labels with no predicted samples. Use `zero_division` parameter to control this behavior.\n",
            "  _warn_prf(average, modifier, msg_start, len(result))\n"
          ],
          "name": "stderr"
        },
        {
          "output_type": "stream",
          "text": [
            "perfold= 0.8533950617283949 0.12037037037037036 0.3405448717948718\n",
            "Fold ke- 4 Akurasi = 0.1204 Precision = 0.3405 Recall = 0.1204 F1-Score = 0.0799\n"
          ],
          "name": "stdout"
        },
        {
          "output_type": "stream",
          "text": [
            "/usr/local/lib/python3.7/dist-packages/ipykernel_launcher.py:18: RuntimeWarning: invalid value encountered in long_scalars\n",
            "/usr/local/lib/python3.7/dist-packages/ipykernel_launcher.py:21: RuntimeWarning: invalid value encountered in double_scalars\n",
            "/usr/local/lib/python3.7/dist-packages/sklearn/metrics/_classification.py:1272: UndefinedMetricWarning: Precision is ill-defined and being set to 0.0 in labels with no predicted samples. Use `zero_division` parameter to control this behavior.\n",
            "  _warn_prf(average, modifier, msg_start, len(result))\n"
          ],
          "name": "stderr"
        },
        {
          "output_type": "stream",
          "text": [
            "perfold= 0.8595679012345677 0.1574074074074074 0.42416666666666664\n",
            "Fold ke- 5 Akurasi = 0.1574 Precision = 0.4242 Recall = 0.1574 F1-Score = 0.1380\n"
          ],
          "name": "stdout"
        },
        {
          "output_type": "stream",
          "text": [
            "/usr/local/lib/python3.7/dist-packages/ipykernel_launcher.py:18: RuntimeWarning: invalid value encountered in long_scalars\n",
            "/usr/local/lib/python3.7/dist-packages/ipykernel_launcher.py:21: RuntimeWarning: invalid value encountered in double_scalars\n",
            "/usr/local/lib/python3.7/dist-packages/sklearn/metrics/_classification.py:1272: UndefinedMetricWarning: Precision is ill-defined and being set to 0.0 in labels with no predicted samples. Use `zero_division` parameter to control this behavior.\n",
            "  _warn_prf(average, modifier, msg_start, len(result))\n"
          ],
          "name": "stderr"
        },
        {
          "output_type": "stream",
          "text": [
            "perfold= 0.8672839506172839 0.20370370370370372 0.4245614035087719\n",
            "Fold ke- 6 Akurasi = 0.2037 Precision = 0.4246 Recall = 0.2037 F1-Score = 0.1906\n"
          ],
          "name": "stdout"
        },
        {
          "output_type": "stream",
          "text": [
            "/usr/local/lib/python3.7/dist-packages/ipykernel_launcher.py:18: RuntimeWarning: invalid value encountered in long_scalars\n",
            "/usr/local/lib/python3.7/dist-packages/ipykernel_launcher.py:21: RuntimeWarning: invalid value encountered in double_scalars\n",
            "/usr/local/lib/python3.7/dist-packages/sklearn/metrics/_classification.py:1272: UndefinedMetricWarning: Precision is ill-defined and being set to 0.0 in labels with no predicted samples. Use `zero_division` parameter to control this behavior.\n",
            "  _warn_prf(average, modifier, msg_start, len(result))\n"
          ],
          "name": "stderr"
        },
        {
          "output_type": "stream",
          "text": [
            "perfold= 0.8626543209876543 0.17592592592592593 0.5493986254295532\n",
            "Fold ke- 7 Akurasi = 0.1759 Precision = 0.5494 Recall = 0.1759 F1-Score = 0.1702\n"
          ],
          "name": "stdout"
        },
        {
          "output_type": "stream",
          "text": [
            "/usr/local/lib/python3.7/dist-packages/ipykernel_launcher.py:18: RuntimeWarning: invalid value encountered in long_scalars\n",
            "/usr/local/lib/python3.7/dist-packages/ipykernel_launcher.py:21: RuntimeWarning: invalid value encountered in double_scalars\n",
            "/usr/local/lib/python3.7/dist-packages/sklearn/metrics/_classification.py:1272: UndefinedMetricWarning: Precision is ill-defined and being set to 0.0 in labels with no predicted samples. Use `zero_division` parameter to control this behavior.\n",
            "  _warn_prf(average, modifier, msg_start, len(result))\n"
          ],
          "name": "stderr"
        },
        {
          "output_type": "stream",
          "text": [
            "perfold= 0.861111111111111 0.16666666666666666 0.5909090909090909\n",
            "Fold ke- 8 Akurasi = 0.1667 Precision = 0.5909 Recall = 0.1667 F1-Score = 0.1578\n"
          ],
          "name": "stdout"
        },
        {
          "output_type": "stream",
          "text": [
            "/usr/local/lib/python3.7/dist-packages/ipykernel_launcher.py:18: RuntimeWarning: invalid value encountered in long_scalars\n",
            "/usr/local/lib/python3.7/dist-packages/ipykernel_launcher.py:21: RuntimeWarning: invalid value encountered in double_scalars\n",
            "/usr/local/lib/python3.7/dist-packages/sklearn/metrics/_classification.py:1272: UndefinedMetricWarning: Precision is ill-defined and being set to 0.0 in labels with no predicted samples. Use `zero_division` parameter to control this behavior.\n",
            "  _warn_prf(average, modifier, msg_start, len(result))\n"
          ],
          "name": "stderr"
        },
        {
          "output_type": "stream",
          "text": [
            "perfold= 0.8564814814814814 0.1388888888888889 0.42401960784313725\n",
            "Fold ke- 9 Akurasi = 0.1389 Precision = 0.4240 Recall = 0.1389 F1-Score = 0.1105\n"
          ],
          "name": "stdout"
        },
        {
          "output_type": "stream",
          "text": [
            "/usr/local/lib/python3.7/dist-packages/ipykernel_launcher.py:18: RuntimeWarning: invalid value encountered in long_scalars\n",
            "/usr/local/lib/python3.7/dist-packages/ipykernel_launcher.py:21: RuntimeWarning: invalid value encountered in double_scalars\n",
            "/usr/local/lib/python3.7/dist-packages/sklearn/metrics/_classification.py:1272: UndefinedMetricWarning: Precision is ill-defined and being set to 0.0 in labels with no predicted samples. Use `zero_division` parameter to control this behavior.\n",
            "  _warn_prf(average, modifier, msg_start, len(result))\n"
          ],
          "name": "stderr"
        },
        {
          "output_type": "stream",
          "text": [
            "perfold= 0.8564814814814814 0.1388888888888889 0.3408333333333333\n",
            "Fold ke- 10 Akurasi = 0.1389 Precision = 0.3408 Recall = 0.1389 F1-Score = 0.1077\n",
            "TP: [10, 11, 14, 13, 17, 22, 19, 18, 15, 15] TOTAL: 154\n",
            "FP: [98, 97, 94, 95, 91, 86, 89, 90, 93, 93] TOTAL: 926\n",
            "FN: [98, 97, 94, 95, 91, 86, 89, 90, 93, 93] TOTAL: 926\n",
            "TN: [1090, 1091, 1094, 1093, 1097, 1102, 1099, 1098, 1095, 1095] TOTAL: 10954\n",
            "0.1425925925925926 0.14259259259259258 0.14259259259259258 0.14259259259259258\n",
            "Avg accuracyTP = 0.1426 Avg accuracy = 0.1426\n",
            "Avg precisionTP= 0.1426 Avg precision= 0.3783\n",
            "Avg recallTP= 0.1426 Avg recall= 0.1426\n",
            "Avg f1TP= 0.1426 Avg f1= 0.1128\n",
            "------------------------------------\n",
            "Tanpa Stemming\n",
            "Nama distance= manhattan\n",
            "Jumlah K tetangga= 3\n"
          ],
          "name": "stdout"
        },
        {
          "output_type": "stream",
          "text": [
            "/usr/local/lib/python3.7/dist-packages/ipykernel_launcher.py:18: RuntimeWarning: invalid value encountered in long_scalars\n",
            "/usr/local/lib/python3.7/dist-packages/ipykernel_launcher.py:21: RuntimeWarning: invalid value encountered in double_scalars\n",
            "/usr/local/lib/python3.7/dist-packages/sklearn/metrics/_classification.py:1272: UndefinedMetricWarning: Precision is ill-defined and being set to 0.0 in labels with no predicted samples. Use `zero_division` parameter to control this behavior.\n",
            "  _warn_prf(average, modifier, msg_start, len(result))\n"
          ],
          "name": "stderr"
        },
        {
          "output_type": "stream",
          "text": [
            "perfold= 0.8487654320987654 0.0925925925925926 0.09034267912772585\n",
            "Fold ke- 1 Akurasi = 0.0926 Precision = 0.0903 Recall = 0.0926 F1-Score = 0.0296\n"
          ],
          "name": "stdout"
        },
        {
          "output_type": "stream",
          "text": [
            "/usr/local/lib/python3.7/dist-packages/ipykernel_launcher.py:18: RuntimeWarning: invalid value encountered in long_scalars\n",
            "/usr/local/lib/python3.7/dist-packages/ipykernel_launcher.py:21: RuntimeWarning: invalid value encountered in double_scalars\n",
            "/usr/local/lib/python3.7/dist-packages/sklearn/metrics/_classification.py:1272: UndefinedMetricWarning: Precision is ill-defined and being set to 0.0 in labels with no predicted samples. Use `zero_division` parameter to control this behavior.\n",
            "  _warn_prf(average, modifier, msg_start, len(result))\n"
          ],
          "name": "stderr"
        },
        {
          "output_type": "stream",
          "text": [
            "perfold= 0.8503086419753085 0.10185185185185186 0.1737421383647799\n",
            "Fold ke- 2 Akurasi = 0.1019 Precision = 0.1737 Recall = 0.1019 F1-Score = 0.0464\n"
          ],
          "name": "stdout"
        },
        {
          "output_type": "stream",
          "text": [
            "/usr/local/lib/python3.7/dist-packages/ipykernel_launcher.py:18: RuntimeWarning: invalid value encountered in long_scalars\n",
            "/usr/local/lib/python3.7/dist-packages/ipykernel_launcher.py:21: RuntimeWarning: invalid value encountered in double_scalars\n",
            "/usr/local/lib/python3.7/dist-packages/sklearn/metrics/_classification.py:1272: UndefinedMetricWarning: Precision is ill-defined and being set to 0.0 in labels with no predicted samples. Use `zero_division` parameter to control this behavior.\n",
            "  _warn_prf(average, modifier, msg_start, len(result))\n"
          ],
          "name": "stderr"
        },
        {
          "output_type": "stream",
          "text": [
            "perfold= 0.8657407407407408 0.19444444444444445 0.5495614035087719\n",
            "Fold ke- 3 Akurasi = 0.1944 Precision = 0.5496 Recall = 0.1944 F1-Score = 0.1955\n"
          ],
          "name": "stdout"
        },
        {
          "output_type": "stream",
          "text": [
            "/usr/local/lib/python3.7/dist-packages/ipykernel_launcher.py:18: RuntimeWarning: invalid value encountered in long_scalars\n",
            "/usr/local/lib/python3.7/dist-packages/ipykernel_launcher.py:21: RuntimeWarning: invalid value encountered in double_scalars\n",
            "/usr/local/lib/python3.7/dist-packages/sklearn/metrics/_classification.py:1272: UndefinedMetricWarning: Precision is ill-defined and being set to 0.0 in labels with no predicted samples. Use `zero_division` parameter to control this behavior.\n",
            "  _warn_prf(average, modifier, msg_start, len(result))\n"
          ],
          "name": "stderr"
        },
        {
          "output_type": "stream",
          "text": [
            "perfold= 0.8549382716049382 0.12962962962962962 0.4239482200647249\n",
            "Fold ke- 4 Akurasi = 0.1296 Precision = 0.4239 Recall = 0.1296 F1-Score = 0.0967\n"
          ],
          "name": "stdout"
        },
        {
          "output_type": "stream",
          "text": [
            "/usr/local/lib/python3.7/dist-packages/ipykernel_launcher.py:18: RuntimeWarning: invalid value encountered in long_scalars\n",
            "/usr/local/lib/python3.7/dist-packages/ipykernel_launcher.py:21: RuntimeWarning: invalid value encountered in double_scalars\n",
            "/usr/local/lib/python3.7/dist-packages/sklearn/metrics/_classification.py:1272: UndefinedMetricWarning: Precision is ill-defined and being set to 0.0 in labels with no predicted samples. Use `zero_division` parameter to control this behavior.\n",
            "  _warn_prf(average, modifier, msg_start, len(result))\n"
          ],
          "name": "stderr"
        },
        {
          "output_type": "stream",
          "text": [
            "perfold= 0.861111111111111 0.16666666666666666 0.42424242424242425\n",
            "Fold ke- 5 Akurasi = 0.1667 Precision = 0.4242 Recall = 0.1667 F1-Score = 0.1495\n"
          ],
          "name": "stdout"
        },
        {
          "output_type": "stream",
          "text": [
            "/usr/local/lib/python3.7/dist-packages/ipykernel_launcher.py:18: RuntimeWarning: invalid value encountered in long_scalars\n",
            "/usr/local/lib/python3.7/dist-packages/ipykernel_launcher.py:21: RuntimeWarning: invalid value encountered in double_scalars\n",
            "/usr/local/lib/python3.7/dist-packages/sklearn/metrics/_classification.py:1272: UndefinedMetricWarning: Precision is ill-defined and being set to 0.0 in labels with no predicted samples. Use `zero_division` parameter to control this behavior.\n",
            "  _warn_prf(average, modifier, msg_start, len(result))\n"
          ],
          "name": "stderr"
        },
        {
          "output_type": "stream",
          "text": [
            "perfold= 0.8719135802469135 0.2314814814814815 0.5081521739130435\n",
            "Fold ke- 6 Akurasi = 0.2315 Precision = 0.5082 Recall = 0.2315 F1-Score = 0.2350\n"
          ],
          "name": "stdout"
        },
        {
          "output_type": "stream",
          "text": [
            "/usr/local/lib/python3.7/dist-packages/ipykernel_launcher.py:18: RuntimeWarning: invalid value encountered in long_scalars\n",
            "/usr/local/lib/python3.7/dist-packages/ipykernel_launcher.py:21: RuntimeWarning: invalid value encountered in double_scalars\n",
            "/usr/local/lib/python3.7/dist-packages/sklearn/metrics/_classification.py:1272: UndefinedMetricWarning: Precision is ill-defined and being set to 0.0 in labels with no predicted samples. Use `zero_division` parameter to control this behavior.\n",
            "  _warn_prf(average, modifier, msg_start, len(result))\n"
          ],
          "name": "stderr"
        },
        {
          "output_type": "stream",
          "text": [
            "perfold= 0.8688271604938271 0.212962962962963 0.6469534050179211\n",
            "Fold ke- 7 Akurasi = 0.2130 Precision = 0.6470 Recall = 0.2130 F1-Score = 0.2251\n"
          ],
          "name": "stdout"
        },
        {
          "output_type": "stream",
          "text": [
            "/usr/local/lib/python3.7/dist-packages/ipykernel_launcher.py:18: RuntimeWarning: invalid value encountered in long_scalars\n",
            "/usr/local/lib/python3.7/dist-packages/ipykernel_launcher.py:21: RuntimeWarning: invalid value encountered in double_scalars\n",
            "/usr/local/lib/python3.7/dist-packages/sklearn/metrics/_classification.py:1272: UndefinedMetricWarning: Precision is ill-defined and being set to 0.0 in labels with no predicted samples. Use `zero_division` parameter to control this behavior.\n",
            "  _warn_prf(average, modifier, msg_start, len(result))\n"
          ],
          "name": "stderr"
        },
        {
          "output_type": "stream",
          "text": [
            "perfold= 0.861111111111111 0.16666666666666666 0.5909090909090909\n",
            "Fold ke- 8 Akurasi = 0.1667 Precision = 0.5909 Recall = 0.1667 F1-Score = 0.1578\n"
          ],
          "name": "stdout"
        },
        {
          "output_type": "stream",
          "text": [
            "/usr/local/lib/python3.7/dist-packages/ipykernel_launcher.py:18: RuntimeWarning: invalid value encountered in long_scalars\n",
            "/usr/local/lib/python3.7/dist-packages/ipykernel_launcher.py:21: RuntimeWarning: invalid value encountered in double_scalars\n",
            "/usr/local/lib/python3.7/dist-packages/sklearn/metrics/_classification.py:1272: UndefinedMetricWarning: Precision is ill-defined and being set to 0.0 in labels with no predicted samples. Use `zero_division` parameter to control this behavior.\n",
            "  _warn_prf(average, modifier, msg_start, len(result))\n"
          ],
          "name": "stderr"
        },
        {
          "output_type": "stream",
          "text": [
            "perfold= 0.8564814814814814 0.1388888888888889 0.42401960784313725\n",
            "Fold ke- 9 Akurasi = 0.1389 Precision = 0.4240 Recall = 0.1389 F1-Score = 0.1105\n"
          ],
          "name": "stdout"
        },
        {
          "output_type": "stream",
          "text": [
            "/usr/local/lib/python3.7/dist-packages/ipykernel_launcher.py:18: RuntimeWarning: invalid value encountered in long_scalars\n",
            "/usr/local/lib/python3.7/dist-packages/ipykernel_launcher.py:21: RuntimeWarning: invalid value encountered in double_scalars\n",
            "/usr/local/lib/python3.7/dist-packages/sklearn/metrics/_classification.py:1272: UndefinedMetricWarning: Precision is ill-defined and being set to 0.0 in labels with no predicted samples. Use `zero_division` parameter to control this behavior.\n",
            "  _warn_prf(average, modifier, msg_start, len(result))\n"
          ],
          "name": "stderr"
        },
        {
          "output_type": "stream",
          "text": [
            "perfold= 0.8580246913580246 0.14814814814814817 0.3408333333333333\n",
            "Fold ke- 10 Akurasi = 0.1481 Precision = 0.3408 Recall = 0.1481 F1-Score = 0.1191\n",
            "TP: [10, 11, 21, 14, 18, 25, 23, 18, 15, 16] TOTAL: 171\n",
            "FP: [98, 97, 87, 94, 90, 83, 85, 90, 93, 92] TOTAL: 909\n",
            "FN: [98, 97, 87, 94, 90, 83, 85, 90, 93, 92] TOTAL: 909\n",
            "TN: [1090, 1091, 1101, 1094, 1098, 1105, 1103, 1098, 1095, 1096] TOTAL: 10971\n",
            "0.15833333333333335 0.15833333333333333 0.15833333333333333 0.15833333333333333\n",
            "Avg accuracyTP = 0.1583 Avg accuracy = 0.1583\n",
            "Avg precisionTP= 0.1583 Avg precision= 0.4173\n",
            "Avg recallTP= 0.1583 Avg recall= 0.1583\n",
            "Avg f1TP= 0.1583 Avg f1= 0.1365\n",
            "------------------------------------\n",
            "Tanpa Stemming\n",
            "Nama distance= manhattan\n",
            "Jumlah K tetangga= 5\n"
          ],
          "name": "stdout"
        },
        {
          "output_type": "stream",
          "text": [
            "/usr/local/lib/python3.7/dist-packages/ipykernel_launcher.py:18: RuntimeWarning: invalid value encountered in long_scalars\n",
            "/usr/local/lib/python3.7/dist-packages/ipykernel_launcher.py:21: RuntimeWarning: invalid value encountered in double_scalars\n",
            "/usr/local/lib/python3.7/dist-packages/sklearn/metrics/_classification.py:1272: UndefinedMetricWarning: Precision is ill-defined and being set to 0.0 in labels with no predicted samples. Use `zero_division` parameter to control this behavior.\n",
            "  _warn_prf(average, modifier, msg_start, len(result))\n"
          ],
          "name": "stderr"
        },
        {
          "output_type": "stream",
          "text": [
            "perfold= 0.8503086419753085 0.10185185185185186 0.1737421383647799\n",
            "Fold ke- 1 Akurasi = 0.1019 Precision = 0.1737 Recall = 0.1019 F1-Score = 0.0464\n"
          ],
          "name": "stdout"
        },
        {
          "output_type": "stream",
          "text": [
            "/usr/local/lib/python3.7/dist-packages/ipykernel_launcher.py:18: RuntimeWarning: invalid value encountered in long_scalars\n",
            "/usr/local/lib/python3.7/dist-packages/ipykernel_launcher.py:21: RuntimeWarning: invalid value encountered in double_scalars\n",
            "/usr/local/lib/python3.7/dist-packages/sklearn/metrics/_classification.py:1272: UndefinedMetricWarning: Precision is ill-defined and being set to 0.0 in labels with no predicted samples. Use `zero_division` parameter to control this behavior.\n",
            "  _warn_prf(average, modifier, msg_start, len(result))\n"
          ],
          "name": "stderr"
        },
        {
          "output_type": "stream",
          "text": [
            "perfold= 0.8503086419753085 0.10185185185185186 0.17380952380952377\n",
            "Fold ke- 2 Akurasi = 0.1019 Precision = 0.1738 Recall = 0.1019 F1-Score = 0.0465\n"
          ],
          "name": "stdout"
        },
        {
          "output_type": "stream",
          "text": [
            "/usr/local/lib/python3.7/dist-packages/ipykernel_launcher.py:18: RuntimeWarning: invalid value encountered in long_scalars\n",
            "/usr/local/lib/python3.7/dist-packages/ipykernel_launcher.py:21: RuntimeWarning: invalid value encountered in double_scalars\n",
            "/usr/local/lib/python3.7/dist-packages/sklearn/metrics/_classification.py:1272: UndefinedMetricWarning: Precision is ill-defined and being set to 0.0 in labels with no predicted samples. Use `zero_division` parameter to control this behavior.\n",
            "  _warn_prf(average, modifier, msg_start, len(result))\n"
          ],
          "name": "stderr"
        },
        {
          "output_type": "stream",
          "text": [
            "perfold= 0.8719135802469135 0.2314814814814815 0.6125936329588014\n",
            "Fold ke- 3 Akurasi = 0.2315 Precision = 0.6126 Recall = 0.2315 F1-Score = 0.2430\n"
          ],
          "name": "stdout"
        },
        {
          "output_type": "stream",
          "text": [
            "/usr/local/lib/python3.7/dist-packages/ipykernel_launcher.py:18: RuntimeWarning: invalid value encountered in long_scalars\n",
            "/usr/local/lib/python3.7/dist-packages/ipykernel_launcher.py:21: RuntimeWarning: invalid value encountered in double_scalars\n",
            "/usr/local/lib/python3.7/dist-packages/sklearn/metrics/_classification.py:1272: UndefinedMetricWarning: Precision is ill-defined and being set to 0.0 in labels with no predicted samples. Use `zero_division` parameter to control this behavior.\n",
            "  _warn_prf(average, modifier, msg_start, len(result))\n"
          ],
          "name": "stderr"
        },
        {
          "output_type": "stream",
          "text": [
            "perfold= 0.8549382716049382 0.12962962962962962 0.4239482200647249\n",
            "Fold ke- 4 Akurasi = 0.1296 Precision = 0.4239 Recall = 0.1296 F1-Score = 0.0967\n"
          ],
          "name": "stdout"
        },
        {
          "output_type": "stream",
          "text": [
            "/usr/local/lib/python3.7/dist-packages/ipykernel_launcher.py:18: RuntimeWarning: invalid value encountered in long_scalars\n",
            "/usr/local/lib/python3.7/dist-packages/ipykernel_launcher.py:21: RuntimeWarning: invalid value encountered in double_scalars\n",
            "/usr/local/lib/python3.7/dist-packages/sklearn/metrics/_classification.py:1272: UndefinedMetricWarning: Precision is ill-defined and being set to 0.0 in labels with no predicted samples. Use `zero_division` parameter to control this behavior.\n",
            "  _warn_prf(average, modifier, msg_start, len(result))\n"
          ],
          "name": "stderr"
        },
        {
          "output_type": "stream",
          "text": [
            "perfold= 0.8626543209876543 0.17592592592592593 0.5076530612244898\n",
            "Fold ke- 5 Akurasi = 0.1759 Precision = 0.5077 Recall = 0.1759 F1-Score = 0.1663\n"
          ],
          "name": "stdout"
        },
        {
          "output_type": "stream",
          "text": [
            "/usr/local/lib/python3.7/dist-packages/ipykernel_launcher.py:18: RuntimeWarning: invalid value encountered in long_scalars\n",
            "/usr/local/lib/python3.7/dist-packages/ipykernel_launcher.py:21: RuntimeWarning: invalid value encountered in double_scalars\n",
            "/usr/local/lib/python3.7/dist-packages/sklearn/metrics/_classification.py:1272: UndefinedMetricWarning: Precision is ill-defined and being set to 0.0 in labels with no predicted samples. Use `zero_division` parameter to control this behavior.\n",
            "  _warn_prf(average, modifier, msg_start, len(result))\n"
          ],
          "name": "stderr"
        },
        {
          "output_type": "stream",
          "text": [
            "perfold= 0.8719135802469135 0.2314814814814815 0.5081521739130435\n",
            "Fold ke- 6 Akurasi = 0.2315 Precision = 0.5082 Recall = 0.2315 F1-Score = 0.2332\n"
          ],
          "name": "stdout"
        },
        {
          "output_type": "stream",
          "text": [
            "/usr/local/lib/python3.7/dist-packages/ipykernel_launcher.py:18: RuntimeWarning: invalid value encountered in long_scalars\n",
            "/usr/local/lib/python3.7/dist-packages/ipykernel_launcher.py:21: RuntimeWarning: invalid value encountered in double_scalars\n",
            "/usr/local/lib/python3.7/dist-packages/sklearn/metrics/_classification.py:1272: UndefinedMetricWarning: Precision is ill-defined and being set to 0.0 in labels with no predicted samples. Use `zero_division` parameter to control this behavior.\n",
            "  _warn_prf(average, modifier, msg_start, len(result))\n"
          ],
          "name": "stderr"
        },
        {
          "output_type": "stream",
          "text": [
            "perfold= 0.8734567901234568 0.24074074074074078 0.6583333333333333\n",
            "Fold ke- 7 Akurasi = 0.2407 Precision = 0.6583 Recall = 0.2407 F1-Score = 0.2496\n"
          ],
          "name": "stdout"
        },
        {
          "output_type": "stream",
          "text": [
            "/usr/local/lib/python3.7/dist-packages/ipykernel_launcher.py:18: RuntimeWarning: invalid value encountered in long_scalars\n",
            "/usr/local/lib/python3.7/dist-packages/ipykernel_launcher.py:21: RuntimeWarning: invalid value encountered in double_scalars\n",
            "/usr/local/lib/python3.7/dist-packages/sklearn/metrics/_classification.py:1272: UndefinedMetricWarning: Precision is ill-defined and being set to 0.0 in labels with no predicted samples. Use `zero_division` parameter to control this behavior.\n",
            "  _warn_prf(average, modifier, msg_start, len(result))\n"
          ],
          "name": "stderr"
        },
        {
          "output_type": "stream",
          "text": [
            "perfold= 0.8641975308641975 0.1851851851851852 0.6743986254295532\n",
            "Fold ke- 8 Akurasi = 0.1852 Precision = 0.6744 Recall = 0.1852 F1-Score = 0.1861\n"
          ],
          "name": "stdout"
        },
        {
          "output_type": "stream",
          "text": [
            "/usr/local/lib/python3.7/dist-packages/ipykernel_launcher.py:18: RuntimeWarning: invalid value encountered in long_scalars\n",
            "/usr/local/lib/python3.7/dist-packages/ipykernel_launcher.py:21: RuntimeWarning: invalid value encountered in double_scalars\n",
            "/usr/local/lib/python3.7/dist-packages/sklearn/metrics/_classification.py:1272: UndefinedMetricWarning: Precision is ill-defined and being set to 0.0 in labels with no predicted samples. Use `zero_division` parameter to control this behavior.\n",
            "  _warn_prf(average, modifier, msg_start, len(result))\n"
          ],
          "name": "stderr"
        },
        {
          "output_type": "stream",
          "text": [
            "perfold= 0.8549382716049383 0.12962962962962962 0.25728155339805825\n",
            "Fold ke- 9 Akurasi = 0.1296 Precision = 0.2573 Recall = 0.1296 F1-Score = 0.0907\n"
          ],
          "name": "stdout"
        },
        {
          "output_type": "stream",
          "text": [
            "/usr/local/lib/python3.7/dist-packages/ipykernel_launcher.py:18: RuntimeWarning: invalid value encountered in long_scalars\n",
            "/usr/local/lib/python3.7/dist-packages/ipykernel_launcher.py:21: RuntimeWarning: invalid value encountered in double_scalars\n",
            "/usr/local/lib/python3.7/dist-packages/sklearn/metrics/_classification.py:1272: UndefinedMetricWarning: Precision is ill-defined and being set to 0.0 in labels with no predicted samples. Use `zero_division` parameter to control this behavior.\n",
            "  _warn_prf(average, modifier, msg_start, len(result))\n"
          ],
          "name": "stderr"
        },
        {
          "output_type": "stream",
          "text": [
            "perfold= 0.8595679012345677 0.1574074074074074 0.42416666666666664\n",
            "Fold ke- 10 Akurasi = 0.1574 Precision = 0.4242 Recall = 0.1574 F1-Score = 0.1317\n",
            "TP: [11, 11, 25, 14, 19, 25, 26, 20, 14, 17] TOTAL: 182\n",
            "FP: [97, 97, 83, 94, 89, 83, 82, 88, 94, 91] TOTAL: 898\n",
            "FN: [97, 97, 83, 94, 89, 83, 82, 88, 94, 91] TOTAL: 898\n",
            "TN: [1091, 1091, 1105, 1094, 1099, 1105, 1106, 1100, 1094, 1097] TOTAL: 10982\n",
            "0.1685185185185185 0.1685185185185185 0.1685185185185185 0.1685185185185185\n",
            "Avg accuracyTP = 0.1685 Avg accuracy = 0.1685\n",
            "Avg precisionTP= 0.1685 Avg precision= 0.4414\n",
            "Avg recallTP= 0.1685 Avg recall= 0.1685\n",
            "Avg f1TP= 0.1685 Avg f1= 0.1490\n",
            "------------------------------------\n",
            "Tanpa Stemming\n",
            "Nama distance= manhattan\n",
            "Jumlah K tetangga= 7\n"
          ],
          "name": "stdout"
        },
        {
          "output_type": "stream",
          "text": [
            "/usr/local/lib/python3.7/dist-packages/ipykernel_launcher.py:18: RuntimeWarning: invalid value encountered in long_scalars\n",
            "/usr/local/lib/python3.7/dist-packages/ipykernel_launcher.py:21: RuntimeWarning: invalid value encountered in double_scalars\n",
            "/usr/local/lib/python3.7/dist-packages/sklearn/metrics/_classification.py:1272: UndefinedMetricWarning: Precision is ill-defined and being set to 0.0 in labels with no predicted samples. Use `zero_division` parameter to control this behavior.\n",
            "  _warn_prf(average, modifier, msg_start, len(result))\n"
          ],
          "name": "stderr"
        },
        {
          "output_type": "stream",
          "text": [
            "perfold= 0.8518518518518517 0.11111111111111112 0.17380952380952377\n",
            "Fold ke- 1 Akurasi = 0.1111 Precision = 0.1738 Recall = 0.1111 F1-Score = 0.0601\n"
          ],
          "name": "stdout"
        },
        {
          "output_type": "stream",
          "text": [
            "/usr/local/lib/python3.7/dist-packages/ipykernel_launcher.py:18: RuntimeWarning: invalid value encountered in long_scalars\n",
            "/usr/local/lib/python3.7/dist-packages/ipykernel_launcher.py:21: RuntimeWarning: invalid value encountered in double_scalars\n",
            "/usr/local/lib/python3.7/dist-packages/sklearn/metrics/_classification.py:1272: UndefinedMetricWarning: Precision is ill-defined and being set to 0.0 in labels with no predicted samples. Use `zero_division` parameter to control this behavior.\n",
            "  _warn_prf(average, modifier, msg_start, len(result))\n"
          ],
          "name": "stderr"
        },
        {
          "output_type": "stream",
          "text": [
            "perfold= 0.8487654320987654 0.0925925925925926 0.09034267912772585\n",
            "Fold ke- 2 Akurasi = 0.0926 Precision = 0.0903 Recall = 0.0926 F1-Score = 0.0296\n"
          ],
          "name": "stdout"
        },
        {
          "output_type": "stream",
          "text": [
            "/usr/local/lib/python3.7/dist-packages/ipykernel_launcher.py:18: RuntimeWarning: invalid value encountered in long_scalars\n",
            "/usr/local/lib/python3.7/dist-packages/ipykernel_launcher.py:21: RuntimeWarning: invalid value encountered in double_scalars\n",
            "/usr/local/lib/python3.7/dist-packages/sklearn/metrics/_classification.py:1272: UndefinedMetricWarning: Precision is ill-defined and being set to 0.0 in labels with no predicted samples. Use `zero_division` parameter to control this behavior.\n",
            "  _warn_prf(average, modifier, msg_start, len(result))\n"
          ],
          "name": "stderr"
        },
        {
          "output_type": "stream",
          "text": [
            "perfold= 0.8796296296296297 0.27777777777777785 0.5132936507936509\n",
            "Fold ke- 3 Akurasi = 0.2778 Precision = 0.5133 Recall = 0.2778 F1-Score = 0.2623\n"
          ],
          "name": "stdout"
        },
        {
          "output_type": "stream",
          "text": [
            "/usr/local/lib/python3.7/dist-packages/ipykernel_launcher.py:18: RuntimeWarning: invalid value encountered in long_scalars\n",
            "/usr/local/lib/python3.7/dist-packages/ipykernel_launcher.py:21: RuntimeWarning: invalid value encountered in double_scalars\n",
            "/usr/local/lib/python3.7/dist-packages/sklearn/metrics/_classification.py:1272: UndefinedMetricWarning: Precision is ill-defined and being set to 0.0 in labels with no predicted samples. Use `zero_division` parameter to control this behavior.\n",
            "  _warn_prf(average, modifier, msg_start, len(result))\n"
          ],
          "name": "stderr"
        },
        {
          "output_type": "stream",
          "text": [
            "perfold= 0.8564814814814814 0.1388888888888889 0.5073529411764706\n",
            "Fold ke- 4 Akurasi = 0.1389 Precision = 0.5074 Recall = 0.1389 F1-Score = 0.1135\n"
          ],
          "name": "stdout"
        },
        {
          "output_type": "stream",
          "text": [
            "/usr/local/lib/python3.7/dist-packages/ipykernel_launcher.py:18: RuntimeWarning: invalid value encountered in long_scalars\n",
            "/usr/local/lib/python3.7/dist-packages/ipykernel_launcher.py:21: RuntimeWarning: invalid value encountered in double_scalars\n",
            "/usr/local/lib/python3.7/dist-packages/sklearn/metrics/_classification.py:1272: UndefinedMetricWarning: Precision is ill-defined and being set to 0.0 in labels with no predicted samples. Use `zero_division` parameter to control this behavior.\n",
            "  _warn_prf(average, modifier, msg_start, len(result))\n"
          ],
          "name": "stderr"
        },
        {
          "output_type": "stream",
          "text": [
            "perfold= 0.8657407407407406 0.19444444444444445 0.5078125\n",
            "Fold ke- 5 Akurasi = 0.1944 Precision = 0.5078 Recall = 0.1944 F1-Score = 0.1893\n"
          ],
          "name": "stdout"
        },
        {
          "output_type": "stream",
          "text": [
            "/usr/local/lib/python3.7/dist-packages/ipykernel_launcher.py:18: RuntimeWarning: invalid value encountered in long_scalars\n",
            "/usr/local/lib/python3.7/dist-packages/ipykernel_launcher.py:21: RuntimeWarning: invalid value encountered in double_scalars\n",
            "/usr/local/lib/python3.7/dist-packages/sklearn/metrics/_classification.py:1272: UndefinedMetricWarning: Precision is ill-defined and being set to 0.0 in labels with no predicted samples. Use `zero_division` parameter to control this behavior.\n",
            "  _warn_prf(average, modifier, msg_start, len(result))\n"
          ],
          "name": "stderr"
        },
        {
          "output_type": "stream",
          "text": [
            "perfold= 0.8734567901234568 0.24074074074074078 0.406575114440283\n",
            "Fold ke- 6 Akurasi = 0.2407 Precision = 0.4066 Recall = 0.2407 F1-Score = 0.2218\n"
          ],
          "name": "stdout"
        },
        {
          "output_type": "stream",
          "text": [
            "/usr/local/lib/python3.7/dist-packages/ipykernel_launcher.py:18: RuntimeWarning: invalid value encountered in long_scalars\n",
            "/usr/local/lib/python3.7/dist-packages/ipykernel_launcher.py:21: RuntimeWarning: invalid value encountered in double_scalars\n",
            "/usr/local/lib/python3.7/dist-packages/sklearn/metrics/_classification.py:1272: UndefinedMetricWarning: Precision is ill-defined and being set to 0.0 in labels with no predicted samples. Use `zero_division` parameter to control this behavior.\n",
            "  _warn_prf(average, modifier, msg_start, len(result))\n"
          ],
          "name": "stderr"
        },
        {
          "output_type": "stream",
          "text": [
            "perfold= 0.875 0.25 0.6473158551810236\n",
            "Fold ke- 7 Akurasi = 0.2500 Precision = 0.6473 Recall = 0.2500 F1-Score = 0.2662\n"
          ],
          "name": "stdout"
        },
        {
          "output_type": "stream",
          "text": [
            "/usr/local/lib/python3.7/dist-packages/ipykernel_launcher.py:18: RuntimeWarning: invalid value encountered in long_scalars\n",
            "/usr/local/lib/python3.7/dist-packages/ipykernel_launcher.py:21: RuntimeWarning: invalid value encountered in double_scalars\n",
            "/usr/local/lib/python3.7/dist-packages/sklearn/metrics/_classification.py:1272: UndefinedMetricWarning: Precision is ill-defined and being set to 0.0 in labels with no predicted samples. Use `zero_division` parameter to control this behavior.\n",
            "  _warn_prf(average, modifier, msg_start, len(result))\n"
          ],
          "name": "stderr"
        },
        {
          "output_type": "stream",
          "text": [
            "perfold= 0.8657407407407408 0.19444444444444445 0.6744791666666666\n",
            "Fold ke- 8 Akurasi = 0.1944 Precision = 0.6745 Recall = 0.1944 F1-Score = 0.1959\n"
          ],
          "name": "stdout"
        },
        {
          "output_type": "stream",
          "text": [
            "/usr/local/lib/python3.7/dist-packages/ipykernel_launcher.py:18: RuntimeWarning: invalid value encountered in long_scalars\n",
            "/usr/local/lib/python3.7/dist-packages/ipykernel_launcher.py:21: RuntimeWarning: invalid value encountered in double_scalars\n",
            "/usr/local/lib/python3.7/dist-packages/sklearn/metrics/_classification.py:1272: UndefinedMetricWarning: Precision is ill-defined and being set to 0.0 in labels with no predicted samples. Use `zero_division` parameter to control this behavior.\n",
            "  _warn_prf(average, modifier, msg_start, len(result))\n"
          ],
          "name": "stderr"
        },
        {
          "output_type": "stream",
          "text": [
            "perfold= 0.8564814814814815 0.1388888888888889 0.4240924092409241\n",
            "Fold ke- 9 Akurasi = 0.1389 Precision = 0.4241 Recall = 0.1389 F1-Score = 0.1106\n"
          ],
          "name": "stdout"
        },
        {
          "output_type": "stream",
          "text": [
            "/usr/local/lib/python3.7/dist-packages/ipykernel_launcher.py:18: RuntimeWarning: invalid value encountered in long_scalars\n",
            "/usr/local/lib/python3.7/dist-packages/ipykernel_launcher.py:21: RuntimeWarning: invalid value encountered in double_scalars\n",
            "/usr/local/lib/python3.7/dist-packages/sklearn/metrics/_classification.py:1272: UndefinedMetricWarning: Precision is ill-defined and being set to 0.0 in labels with no predicted samples. Use `zero_division` parameter to control this behavior.\n",
            "  _warn_prf(average, modifier, msg_start, len(result))\n"
          ],
          "name": "stderr"
        },
        {
          "output_type": "stream",
          "text": [
            "perfold= 0.8626543209876543 0.17592592592592593 0.5076530612244898\n",
            "Fold ke- 10 Akurasi = 0.1759 Precision = 0.5077 Recall = 0.1759 F1-Score = 0.1663\n",
            "TP: [12, 10, 30, 15, 21, 26, 27, 21, 15, 19] TOTAL: 196\n",
            "FP: [96, 98, 78, 93, 87, 82, 81, 87, 93, 89] TOTAL: 884\n",
            "FN: [96, 98, 78, 93, 87, 82, 81, 87, 93, 89] TOTAL: 884\n",
            "TN: [1092, 1090, 1110, 1095, 1101, 1106, 1107, 1101, 1095, 1099] TOTAL: 10996\n",
            "0.1814814814814815 0.1814814814814815 0.1814814814814815 0.18148148148148152\n",
            "Avg accuracyTP = 0.1815 Avg accuracy = 0.1815\n",
            "Avg precisionTP= 0.1815 Avg precision= 0.4453\n",
            "Avg recallTP= 0.1815 Avg recall= 0.1815\n",
            "Avg f1TP= 0.1815 Avg f1= 0.1616\n",
            "------------------------------------\n",
            "Tanpa Stemming\n",
            "Nama distance= manhattan\n",
            "Jumlah K tetangga= 9\n"
          ],
          "name": "stdout"
        },
        {
          "output_type": "stream",
          "text": [
            "/usr/local/lib/python3.7/dist-packages/ipykernel_launcher.py:18: RuntimeWarning: invalid value encountered in long_scalars\n",
            "/usr/local/lib/python3.7/dist-packages/ipykernel_launcher.py:21: RuntimeWarning: invalid value encountered in double_scalars\n",
            "/usr/local/lib/python3.7/dist-packages/sklearn/metrics/_classification.py:1272: UndefinedMetricWarning: Precision is ill-defined and being set to 0.0 in labels with no predicted samples. Use `zero_division` parameter to control this behavior.\n",
            "  _warn_prf(average, modifier, msg_start, len(result))\n"
          ],
          "name": "stderr"
        },
        {
          "output_type": "stream",
          "text": [
            "perfold= 0.8518518518518517 0.11111111111111112 0.17380952380952377\n",
            "Fold ke- 1 Akurasi = 0.1111 Precision = 0.1738 Recall = 0.1111 F1-Score = 0.0601\n"
          ],
          "name": "stdout"
        },
        {
          "output_type": "stream",
          "text": [
            "/usr/local/lib/python3.7/dist-packages/ipykernel_launcher.py:18: RuntimeWarning: invalid value encountered in long_scalars\n",
            "/usr/local/lib/python3.7/dist-packages/ipykernel_launcher.py:21: RuntimeWarning: invalid value encountered in double_scalars\n",
            "/usr/local/lib/python3.7/dist-packages/sklearn/metrics/_classification.py:1272: UndefinedMetricWarning: Precision is ill-defined and being set to 0.0 in labels with no predicted samples. Use `zero_division` parameter to control this behavior.\n",
            "  _warn_prf(average, modifier, msg_start, len(result))\n"
          ],
          "name": "stderr"
        },
        {
          "output_type": "stream",
          "text": [
            "perfold= 0.8487654320987654 0.0925925925925926 0.09034267912772585\n",
            "Fold ke- 2 Akurasi = 0.0926 Precision = 0.0903 Recall = 0.0926 F1-Score = 0.0296\n"
          ],
          "name": "stdout"
        },
        {
          "output_type": "stream",
          "text": [
            "/usr/local/lib/python3.7/dist-packages/ipykernel_launcher.py:18: RuntimeWarning: invalid value encountered in long_scalars\n",
            "/usr/local/lib/python3.7/dist-packages/ipykernel_launcher.py:21: RuntimeWarning: invalid value encountered in double_scalars\n",
            "/usr/local/lib/python3.7/dist-packages/sklearn/metrics/_classification.py:1272: UndefinedMetricWarning: Precision is ill-defined and being set to 0.0 in labels with no predicted samples. Use `zero_division` parameter to control this behavior.\n",
            "  _warn_prf(average, modifier, msg_start, len(result))\n"
          ],
          "name": "stderr"
        },
        {
          "output_type": "stream",
          "text": [
            "perfold= 0.8811728395061728 0.28703703703703703 0.5636443803110469\n",
            "Fold ke- 3 Akurasi = 0.2870 Precision = 0.5636 Recall = 0.2870 F1-Score = 0.2885\n"
          ],
          "name": "stdout"
        },
        {
          "output_type": "stream",
          "text": [
            "/usr/local/lib/python3.7/dist-packages/ipykernel_launcher.py:18: RuntimeWarning: invalid value encountered in long_scalars\n",
            "/usr/local/lib/python3.7/dist-packages/ipykernel_launcher.py:21: RuntimeWarning: invalid value encountered in double_scalars\n",
            "/usr/local/lib/python3.7/dist-packages/sklearn/metrics/_classification.py:1272: UndefinedMetricWarning: Precision is ill-defined and being set to 0.0 in labels with no predicted samples. Use `zero_division` parameter to control this behavior.\n",
            "  _warn_prf(average, modifier, msg_start, len(result))\n"
          ],
          "name": "stderr"
        },
        {
          "output_type": "stream",
          "text": [
            "perfold= 0.8580246913580246 0.14814814814814814 0.5074257425742574\n",
            "Fold ke- 4 Akurasi = 0.1481 Precision = 0.5074 Recall = 0.1481 F1-Score = 0.1273\n"
          ],
          "name": "stdout"
        },
        {
          "output_type": "stream",
          "text": [
            "/usr/local/lib/python3.7/dist-packages/ipykernel_launcher.py:18: RuntimeWarning: invalid value encountered in long_scalars\n",
            "/usr/local/lib/python3.7/dist-packages/ipykernel_launcher.py:21: RuntimeWarning: invalid value encountered in double_scalars\n",
            "/usr/local/lib/python3.7/dist-packages/sklearn/metrics/_classification.py:1272: UndefinedMetricWarning: Precision is ill-defined and being set to 0.0 in labels with no predicted samples. Use `zero_division` parameter to control this behavior.\n",
            "  _warn_prf(average, modifier, msg_start, len(result))\n"
          ],
          "name": "stderr"
        },
        {
          "output_type": "stream",
          "text": [
            "perfold= 0.867283950617284 0.20370370370370372 0.5078947368421053\n",
            "Fold ke- 5 Akurasi = 0.2037 Precision = 0.5079 Recall = 0.2037 F1-Score = 0.2013\n"
          ],
          "name": "stdout"
        },
        {
          "output_type": "stream",
          "text": [
            "/usr/local/lib/python3.7/dist-packages/ipykernel_launcher.py:18: RuntimeWarning: invalid value encountered in long_scalars\n",
            "/usr/local/lib/python3.7/dist-packages/ipykernel_launcher.py:21: RuntimeWarning: invalid value encountered in double_scalars\n",
            "/usr/local/lib/python3.7/dist-packages/sklearn/metrics/_classification.py:1272: UndefinedMetricWarning: Precision is ill-defined and being set to 0.0 in labels with no predicted samples. Use `zero_division` parameter to control this behavior.\n",
            "  _warn_prf(average, modifier, msg_start, len(result))\n"
          ],
          "name": "stderr"
        },
        {
          "output_type": "stream",
          "text": [
            "perfold= 0.8734567901234569 0.24074074074074073 0.4249084249084249\n",
            "Fold ke- 6 Akurasi = 0.2407 Precision = 0.4249 Recall = 0.2407 F1-Score = 0.2278\n"
          ],
          "name": "stdout"
        },
        {
          "output_type": "stream",
          "text": [
            "/usr/local/lib/python3.7/dist-packages/ipykernel_launcher.py:18: RuntimeWarning: invalid value encountered in long_scalars\n",
            "/usr/local/lib/python3.7/dist-packages/ipykernel_launcher.py:21: RuntimeWarning: invalid value encountered in double_scalars\n",
            "/usr/local/lib/python3.7/dist-packages/sklearn/metrics/_classification.py:1272: UndefinedMetricWarning: Precision is ill-defined and being set to 0.0 in labels with no predicted samples. Use `zero_division` parameter to control this behavior.\n",
            "  _warn_prf(average, modifier, msg_start, len(result))\n"
          ],
          "name": "stderr"
        },
        {
          "output_type": "stream",
          "text": [
            "perfold= 0.8734567901234568 0.24074074074074073 0.5638888888888888\n",
            "Fold ke- 7 Akurasi = 0.2407 Precision = 0.5639 Recall = 0.2407 F1-Score = 0.2423\n"
          ],
          "name": "stdout"
        },
        {
          "output_type": "stream",
          "text": [
            "/usr/local/lib/python3.7/dist-packages/ipykernel_launcher.py:18: RuntimeWarning: invalid value encountered in long_scalars\n",
            "/usr/local/lib/python3.7/dist-packages/ipykernel_launcher.py:21: RuntimeWarning: invalid value encountered in double_scalars\n",
            "/usr/local/lib/python3.7/dist-packages/sklearn/metrics/_classification.py:1272: UndefinedMetricWarning: Precision is ill-defined and being set to 0.0 in labels with no predicted samples. Use `zero_division` parameter to control this behavior.\n",
            "  _warn_prf(average, modifier, msg_start, len(result))\n"
          ],
          "name": "stderr"
        },
        {
          "output_type": "stream",
          "text": [
            "perfold= 0.867283950617284 0.20370370370370372 0.6745614035087719\n",
            "Fold ke- 8 Akurasi = 0.2037 Precision = 0.6746 Recall = 0.2037 F1-Score = 0.2096\n"
          ],
          "name": "stdout"
        },
        {
          "output_type": "stream",
          "text": [
            "/usr/local/lib/python3.7/dist-packages/ipykernel_launcher.py:18: RuntimeWarning: invalid value encountered in long_scalars\n",
            "/usr/local/lib/python3.7/dist-packages/ipykernel_launcher.py:21: RuntimeWarning: invalid value encountered in double_scalars\n",
            "/usr/local/lib/python3.7/dist-packages/sklearn/metrics/_classification.py:1272: UndefinedMetricWarning: Precision is ill-defined and being set to 0.0 in labels with no predicted samples. Use `zero_division` parameter to control this behavior.\n",
            "  _warn_prf(average, modifier, msg_start, len(result))\n"
          ],
          "name": "stderr"
        },
        {
          "output_type": "stream",
          "text": [
            "perfold= 0.8611111111111112 0.16666666666666666 0.5076530612244898\n",
            "Fold ke- 9 Akurasi = 0.1667 Precision = 0.5077 Recall = 0.1667 F1-Score = 0.1549\n"
          ],
          "name": "stdout"
        },
        {
          "output_type": "stream",
          "text": [
            "/usr/local/lib/python3.7/dist-packages/ipykernel_launcher.py:18: RuntimeWarning: invalid value encountered in long_scalars\n",
            "/usr/local/lib/python3.7/dist-packages/ipykernel_launcher.py:21: RuntimeWarning: invalid value encountered in double_scalars\n",
            "/usr/local/lib/python3.7/dist-packages/sklearn/metrics/_classification.py:1272: UndefinedMetricWarning: Precision is ill-defined and being set to 0.0 in labels with no predicted samples. Use `zero_division` parameter to control this behavior.\n",
            "  _warn_prf(average, modifier, msg_start, len(result))\n"
          ],
          "name": "stderr"
        },
        {
          "output_type": "stream",
          "text": [
            "perfold= 0.867283950617284 0.20370370370370372 0.5912280701754385\n",
            "Fold ke- 10 Akurasi = 0.2037 Precision = 0.5912 Recall = 0.2037 F1-Score = 0.2061\n",
            "TP: [12, 10, 31, 16, 22, 26, 26, 22, 18, 22] TOTAL: 205\n",
            "FP: [96, 98, 77, 92, 86, 82, 82, 86, 90, 86] TOTAL: 875\n",
            "FN: [96, 98, 77, 92, 86, 82, 82, 86, 90, 86] TOTAL: 875\n",
            "TN: [1092, 1090, 1111, 1096, 1102, 1106, 1106, 1102, 1098, 1102] TOTAL: 11005\n",
            "0.1898148148148148 0.18981481481481483 0.18981481481481483 0.18981481481481483\n",
            "Avg accuracyTP = 0.1898 Avg accuracy = 0.1898\n",
            "Avg precisionTP= 0.1898 Avg precision= 0.4605\n",
            "Avg recallTP= 0.1898 Avg recall= 0.1898\n",
            "Avg f1TP= 0.1898 Avg f1= 0.1748\n",
            "------------------------------------\n",
            "Tanpa Stemming\n",
            "Nama distance= manhattan\n",
            "Jumlah K tetangga= 11\n"
          ],
          "name": "stdout"
        },
        {
          "output_type": "stream",
          "text": [
            "/usr/local/lib/python3.7/dist-packages/ipykernel_launcher.py:18: RuntimeWarning: invalid value encountered in long_scalars\n",
            "/usr/local/lib/python3.7/dist-packages/ipykernel_launcher.py:21: RuntimeWarning: invalid value encountered in double_scalars\n",
            "/usr/local/lib/python3.7/dist-packages/sklearn/metrics/_classification.py:1272: UndefinedMetricWarning: Precision is ill-defined and being set to 0.0 in labels with no predicted samples. Use `zero_division` parameter to control this behavior.\n",
            "  _warn_prf(average, modifier, msg_start, len(result))\n"
          ],
          "name": "stderr"
        },
        {
          "output_type": "stream",
          "text": [
            "perfold= 0.8533950617283951 0.12037037037037039 0.2572115384615385\n",
            "Fold ke- 1 Akurasi = 0.1204 Precision = 0.2572 Recall = 0.1204 F1-Score = 0.0769\n"
          ],
          "name": "stdout"
        },
        {
          "output_type": "stream",
          "text": [
            "/usr/local/lib/python3.7/dist-packages/ipykernel_launcher.py:18: RuntimeWarning: invalid value encountered in long_scalars\n",
            "/usr/local/lib/python3.7/dist-packages/ipykernel_launcher.py:21: RuntimeWarning: invalid value encountered in double_scalars\n",
            "/usr/local/lib/python3.7/dist-packages/sklearn/metrics/_classification.py:1272: UndefinedMetricWarning: Precision is ill-defined and being set to 0.0 in labels with no predicted samples. Use `zero_division` parameter to control this behavior.\n",
            "  _warn_prf(average, modifier, msg_start, len(result))\n"
          ],
          "name": "stderr"
        },
        {
          "output_type": "stream",
          "text": [
            "perfold= 0.8533950617283952 0.12037037037037036 0.29901960784313725\n",
            "Fold ke- 2 Akurasi = 0.1204 Precision = 0.2990 Recall = 0.1204 F1-Score = 0.0787\n"
          ],
          "name": "stdout"
        },
        {
          "output_type": "stream",
          "text": [
            "/usr/local/lib/python3.7/dist-packages/ipykernel_launcher.py:18: RuntimeWarning: invalid value encountered in long_scalars\n",
            "/usr/local/lib/python3.7/dist-packages/ipykernel_launcher.py:21: RuntimeWarning: invalid value encountered in double_scalars\n",
            "/usr/local/lib/python3.7/dist-packages/sklearn/metrics/_classification.py:1272: UndefinedMetricWarning: Precision is ill-defined and being set to 0.0 in labels with no predicted samples. Use `zero_division` parameter to control this behavior.\n",
            "  _warn_prf(average, modifier, msg_start, len(result))\n"
          ],
          "name": "stderr"
        },
        {
          "output_type": "stream",
          "text": [
            "perfold= 0.875 0.25000000000000006 0.5903985507246378\n",
            "Fold ke- 3 Akurasi = 0.2500 Precision = 0.5904 Recall = 0.2500 F1-Score = 0.2597\n"
          ],
          "name": "stdout"
        },
        {
          "output_type": "stream",
          "text": [
            "/usr/local/lib/python3.7/dist-packages/ipykernel_launcher.py:18: RuntimeWarning: invalid value encountered in long_scalars\n",
            "/usr/local/lib/python3.7/dist-packages/ipykernel_launcher.py:21: RuntimeWarning: invalid value encountered in double_scalars\n",
            "/usr/local/lib/python3.7/dist-packages/sklearn/metrics/_classification.py:1272: UndefinedMetricWarning: Precision is ill-defined and being set to 0.0 in labels with no predicted samples. Use `zero_division` parameter to control this behavior.\n",
            "  _warn_prf(average, modifier, msg_start, len(result))\n"
          ],
          "name": "stderr"
        },
        {
          "output_type": "stream",
          "text": [
            "perfold= 0.8595679012345679 0.1574074074074074 0.4522569444444444\n",
            "Fold ke- 4 Akurasi = 0.1574 Precision = 0.4523 Recall = 0.1574 F1-Score = 0.1335\n"
          ],
          "name": "stdout"
        },
        {
          "output_type": "stream",
          "text": [
            "/usr/local/lib/python3.7/dist-packages/ipykernel_launcher.py:18: RuntimeWarning: invalid value encountered in long_scalars\n",
            "/usr/local/lib/python3.7/dist-packages/ipykernel_launcher.py:21: RuntimeWarning: invalid value encountered in double_scalars\n",
            "/usr/local/lib/python3.7/dist-packages/sklearn/metrics/_classification.py:1272: UndefinedMetricWarning: Precision is ill-defined and being set to 0.0 in labels with no predicted samples. Use `zero_division` parameter to control this behavior.\n",
            "  _warn_prf(average, modifier, msg_start, len(result))\n"
          ],
          "name": "stderr"
        },
        {
          "output_type": "stream",
          "text": [
            "perfold= 0.8765432098765432 0.25925925925925924 0.575189393939394\n",
            "Fold ke- 5 Akurasi = 0.2593 Precision = 0.5752 Recall = 0.2593 F1-Score = 0.2696\n"
          ],
          "name": "stdout"
        },
        {
          "output_type": "stream",
          "text": [
            "/usr/local/lib/python3.7/dist-packages/ipykernel_launcher.py:18: RuntimeWarning: invalid value encountered in long_scalars\n",
            "/usr/local/lib/python3.7/dist-packages/ipykernel_launcher.py:21: RuntimeWarning: invalid value encountered in double_scalars\n",
            "/usr/local/lib/python3.7/dist-packages/sklearn/metrics/_classification.py:1272: UndefinedMetricWarning: Precision is ill-defined and being set to 0.0 in labels with no predicted samples. Use `zero_division` parameter to control this behavior.\n",
            "  _warn_prf(average, modifier, msg_start, len(result))\n"
          ],
          "name": "stderr"
        },
        {
          "output_type": "stream",
          "text": [
            "perfold= 0.8765432098765434 0.25925925925925924 0.4159301346801347\n",
            "Fold ke- 6 Akurasi = 0.2593 Precision = 0.4159 Recall = 0.2593 F1-Score = 0.2377\n"
          ],
          "name": "stdout"
        },
        {
          "output_type": "stream",
          "text": [
            "/usr/local/lib/python3.7/dist-packages/ipykernel_launcher.py:18: RuntimeWarning: invalid value encountered in long_scalars\n",
            "/usr/local/lib/python3.7/dist-packages/ipykernel_launcher.py:21: RuntimeWarning: invalid value encountered in double_scalars\n",
            "/usr/local/lib/python3.7/dist-packages/sklearn/metrics/_classification.py:1272: UndefinedMetricWarning: Precision is ill-defined and being set to 0.0 in labels with no predicted samples. Use `zero_division` parameter to control this behavior.\n",
            "  _warn_prf(average, modifier, msg_start, len(result))\n"
          ],
          "name": "stderr"
        },
        {
          "output_type": "stream",
          "text": [
            "perfold= 0.8780864197530863 0.26851851851851855 0.6475095785440613\n",
            "Fold ke- 7 Akurasi = 0.2685 Precision = 0.6475 Recall = 0.2685 F1-Score = 0.2737\n"
          ],
          "name": "stdout"
        },
        {
          "output_type": "stream",
          "text": [
            "/usr/local/lib/python3.7/dist-packages/ipykernel_launcher.py:18: RuntimeWarning: invalid value encountered in long_scalars\n",
            "/usr/local/lib/python3.7/dist-packages/ipykernel_launcher.py:21: RuntimeWarning: invalid value encountered in double_scalars\n",
            "/usr/local/lib/python3.7/dist-packages/sklearn/metrics/_classification.py:1272: UndefinedMetricWarning: Precision is ill-defined and being set to 0.0 in labels with no predicted samples. Use `zero_division` parameter to control this behavior.\n",
            "  _warn_prf(average, modifier, msg_start, len(result))\n"
          ],
          "name": "stderr"
        },
        {
          "output_type": "stream",
          "text": [
            "perfold= 0.8703703703703703 0.2222222222222222 0.6471306471306472\n",
            "Fold ke- 8 Akurasi = 0.2222 Precision = 0.6471 Recall = 0.2222 F1-Score = 0.2244\n"
          ],
          "name": "stdout"
        },
        {
          "output_type": "stream",
          "text": [
            "/usr/local/lib/python3.7/dist-packages/ipykernel_launcher.py:18: RuntimeWarning: invalid value encountered in long_scalars\n",
            "/usr/local/lib/python3.7/dist-packages/ipykernel_launcher.py:21: RuntimeWarning: invalid value encountered in double_scalars\n",
            "/usr/local/lib/python3.7/dist-packages/sklearn/metrics/_classification.py:1272: UndefinedMetricWarning: Precision is ill-defined and being set to 0.0 in labels with no predicted samples. Use `zero_division` parameter to control this behavior.\n",
            "  _warn_prf(average, modifier, msg_start, len(result))\n"
          ],
          "name": "stderr"
        },
        {
          "output_type": "stream",
          "text": [
            "perfold= 0.8688271604938271 0.212962962962963 0.49417562724014336\n",
            "Fold ke- 9 Akurasi = 0.2130 Precision = 0.4942 Recall = 0.2130 F1-Score = 0.2059\n"
          ],
          "name": "stdout"
        },
        {
          "output_type": "stream",
          "text": [
            "/usr/local/lib/python3.7/dist-packages/ipykernel_launcher.py:18: RuntimeWarning: invalid value encountered in long_scalars\n",
            "/usr/local/lib/python3.7/dist-packages/ipykernel_launcher.py:21: RuntimeWarning: invalid value encountered in double_scalars\n",
            "/usr/local/lib/python3.7/dist-packages/sklearn/metrics/_classification.py:1272: UndefinedMetricWarning: Precision is ill-defined and being set to 0.0 in labels with no predicted samples. Use `zero_division` parameter to control this behavior.\n",
            "  _warn_prf(average, modifier, msg_start, len(result))\n"
          ],
          "name": "stderr"
        },
        {
          "output_type": "stream",
          "text": [
            "perfold= 0.8719135802469137 0.2314814814814815 0.5914855072463768\n",
            "Fold ke- 10 Akurasi = 0.2315 Precision = 0.5915 Recall = 0.2315 F1-Score = 0.2434\n",
            "TP: [13, 13, 27, 17, 28, 28, 29, 24, 23, 25] TOTAL: 227\n",
            "FP: [95, 95, 81, 91, 80, 80, 79, 84, 85, 83] TOTAL: 853\n",
            "FN: [95, 95, 81, 91, 80, 80, 79, 84, 85, 83] TOTAL: 853\n",
            "TN: [1093, 1093, 1107, 1097, 1108, 1108, 1109, 1104, 1103, 1105] TOTAL: 11027\n",
            "0.21018518518518517 0.2101851851851852 0.2101851851851852 0.21018518518518522\n",
            "Avg accuracyTP = 0.2102 Avg accuracy = 0.2102\n",
            "Avg precisionTP= 0.2102 Avg precision= 0.4970\n",
            "Avg recallTP= 0.2102 Avg recall= 0.2102\n",
            "Avg f1TP= 0.2102 Avg f1= 0.2003\n",
            "------------------------------------\n",
            "Tanpa Stemming\n",
            "Nama distance= manhattan\n",
            "Jumlah K tetangga= 13\n"
          ],
          "name": "stdout"
        },
        {
          "output_type": "stream",
          "text": [
            "/usr/local/lib/python3.7/dist-packages/ipykernel_launcher.py:18: RuntimeWarning: invalid value encountered in long_scalars\n",
            "/usr/local/lib/python3.7/dist-packages/ipykernel_launcher.py:21: RuntimeWarning: invalid value encountered in double_scalars\n",
            "/usr/local/lib/python3.7/dist-packages/sklearn/metrics/_classification.py:1272: UndefinedMetricWarning: Precision is ill-defined and being set to 0.0 in labels with no predicted samples. Use `zero_division` parameter to control this behavior.\n",
            "  _warn_prf(average, modifier, msg_start, len(result))\n"
          ],
          "name": "stderr"
        },
        {
          "output_type": "stream",
          "text": [
            "perfold= 0.8564814814814814 0.1388888888888889 0.23674242424242423\n",
            "Fold ke- 1 Akurasi = 0.1389 Precision = 0.2367 Recall = 0.1389 F1-Score = 0.0993\n"
          ],
          "name": "stdout"
        },
        {
          "output_type": "stream",
          "text": [
            "/usr/local/lib/python3.7/dist-packages/ipykernel_launcher.py:18: RuntimeWarning: invalid value encountered in long_scalars\n",
            "/usr/local/lib/python3.7/dist-packages/ipykernel_launcher.py:21: RuntimeWarning: invalid value encountered in double_scalars\n",
            "/usr/local/lib/python3.7/dist-packages/sklearn/metrics/_classification.py:1272: UndefinedMetricWarning: Precision is ill-defined and being set to 0.0 in labels with no predicted samples. Use `zero_division` parameter to control this behavior.\n",
            "  _warn_prf(average, modifier, msg_start, len(result))\n"
          ],
          "name": "stderr"
        },
        {
          "output_type": "stream",
          "text": [
            "perfold= 0.8564814814814815 0.1388888888888889 0.38242574257425743\n",
            "Fold ke- 2 Akurasi = 0.1389 Precision = 0.3824 Recall = 0.1389 F1-Score = 0.1091\n"
          ],
          "name": "stdout"
        },
        {
          "output_type": "stream",
          "text": [
            "/usr/local/lib/python3.7/dist-packages/ipykernel_launcher.py:18: RuntimeWarning: invalid value encountered in long_scalars\n",
            "/usr/local/lib/python3.7/dist-packages/ipykernel_launcher.py:21: RuntimeWarning: invalid value encountered in double_scalars\n",
            "/usr/local/lib/python3.7/dist-packages/sklearn/metrics/_classification.py:1272: UndefinedMetricWarning: Precision is ill-defined and being set to 0.0 in labels with no predicted samples. Use `zero_division` parameter to control this behavior.\n",
            "  _warn_prf(average, modifier, msg_start, len(result))\n"
          ],
          "name": "stderr"
        },
        {
          "output_type": "stream",
          "text": [
            "perfold= 0.8734567901234568 0.24074074074074078 0.5017821285140562\n",
            "Fold ke- 3 Akurasi = 0.2407 Precision = 0.5018 Recall = 0.2407 F1-Score = 0.2449\n"
          ],
          "name": "stdout"
        },
        {
          "output_type": "stream",
          "text": [
            "/usr/local/lib/python3.7/dist-packages/ipykernel_launcher.py:18: RuntimeWarning: invalid value encountered in long_scalars\n",
            "/usr/local/lib/python3.7/dist-packages/ipykernel_launcher.py:21: RuntimeWarning: invalid value encountered in double_scalars\n",
            "/usr/local/lib/python3.7/dist-packages/sklearn/metrics/_classification.py:1272: UndefinedMetricWarning: Precision is ill-defined and being set to 0.0 in labels with no predicted samples. Use `zero_division` parameter to control this behavior.\n",
            "  _warn_prf(average, modifier, msg_start, len(result))\n"
          ],
          "name": "stderr"
        },
        {
          "output_type": "stream",
          "text": [
            "perfold= 0.8595679012345677 0.1574074074074074 0.5075\n",
            "Fold ke- 4 Akurasi = 0.1574 Precision = 0.5075 Recall = 0.1574 F1-Score = 0.1410\n"
          ],
          "name": "stdout"
        },
        {
          "output_type": "stream",
          "text": [
            "/usr/local/lib/python3.7/dist-packages/ipykernel_launcher.py:18: RuntimeWarning: invalid value encountered in long_scalars\n",
            "/usr/local/lib/python3.7/dist-packages/ipykernel_launcher.py:21: RuntimeWarning: invalid value encountered in double_scalars\n",
            "/usr/local/lib/python3.7/dist-packages/sklearn/metrics/_classification.py:1272: UndefinedMetricWarning: Precision is ill-defined and being set to 0.0 in labels with no predicted samples. Use `zero_division` parameter to control this behavior.\n",
            "  _warn_prf(average, modifier, msg_start, len(result))\n"
          ],
          "name": "stderr"
        },
        {
          "output_type": "stream",
          "text": [
            "perfold= 0.8719135802469137 0.23148148148148148 0.49642857142857144\n",
            "Fold ke- 5 Akurasi = 0.2315 Precision = 0.4964 Recall = 0.2315 F1-Score = 0.2246\n"
          ],
          "name": "stdout"
        },
        {
          "output_type": "stream",
          "text": [
            "/usr/local/lib/python3.7/dist-packages/ipykernel_launcher.py:18: RuntimeWarning: invalid value encountered in long_scalars\n",
            "/usr/local/lib/python3.7/dist-packages/ipykernel_launcher.py:21: RuntimeWarning: invalid value encountered in double_scalars\n",
            "/usr/local/lib/python3.7/dist-packages/sklearn/metrics/_classification.py:1272: UndefinedMetricWarning: Precision is ill-defined and being set to 0.0 in labels with no predicted samples. Use `zero_division` parameter to control this behavior.\n",
            "  _warn_prf(average, modifier, msg_start, len(result))\n"
          ],
          "name": "stderr"
        },
        {
          "output_type": "stream",
          "text": [
            "perfold= 0.8734567901234569 0.24074074074074078 0.41574074074074074\n",
            "Fold ke- 6 Akurasi = 0.2407 Precision = 0.4157 Recall = 0.2407 F1-Score = 0.2195\n"
          ],
          "name": "stdout"
        },
        {
          "output_type": "stream",
          "text": [
            "/usr/local/lib/python3.7/dist-packages/ipykernel_launcher.py:18: RuntimeWarning: invalid value encountered in long_scalars\n",
            "/usr/local/lib/python3.7/dist-packages/ipykernel_launcher.py:21: RuntimeWarning: invalid value encountered in double_scalars\n",
            "/usr/local/lib/python3.7/dist-packages/sklearn/metrics/_classification.py:1272: UndefinedMetricWarning: Precision is ill-defined and being set to 0.0 in labels with no predicted samples. Use `zero_division` parameter to control this behavior.\n",
            "  _warn_prf(average, modifier, msg_start, len(result))\n"
          ],
          "name": "stderr"
        },
        {
          "output_type": "stream",
          "text": [
            "perfold= 0.8811728395061729 0.28703703703703703 0.6359126984126983\n",
            "Fold ke- 7 Akurasi = 0.2870 Precision = 0.6359 Recall = 0.2870 F1-Score = 0.2950\n"
          ],
          "name": "stdout"
        },
        {
          "output_type": "stream",
          "text": [
            "/usr/local/lib/python3.7/dist-packages/ipykernel_launcher.py:18: RuntimeWarning: invalid value encountered in long_scalars\n",
            "/usr/local/lib/python3.7/dist-packages/ipykernel_launcher.py:21: RuntimeWarning: invalid value encountered in double_scalars\n",
            "/usr/local/lib/python3.7/dist-packages/sklearn/metrics/_classification.py:1272: UndefinedMetricWarning: Precision is ill-defined and being set to 0.0 in labels with no predicted samples. Use `zero_division` parameter to control this behavior.\n",
            "  _warn_prf(average, modifier, msg_start, len(result))\n"
          ],
          "name": "stderr"
        },
        {
          "output_type": "stream",
          "text": [
            "perfold= 0.8719135802469137 0.2314814814814815 0.6511904761904762\n",
            "Fold ke- 8 Akurasi = 0.2315 Precision = 0.6512 Recall = 0.2315 F1-Score = 0.2322\n"
          ],
          "name": "stdout"
        },
        {
          "output_type": "stream",
          "text": [
            "/usr/local/lib/python3.7/dist-packages/ipykernel_launcher.py:18: RuntimeWarning: invalid value encountered in long_scalars\n",
            "/usr/local/lib/python3.7/dist-packages/ipykernel_launcher.py:21: RuntimeWarning: invalid value encountered in double_scalars\n",
            "/usr/local/lib/python3.7/dist-packages/sklearn/metrics/_classification.py:1272: UndefinedMetricWarning: Precision is ill-defined and being set to 0.0 in labels with no predicted samples. Use `zero_division` parameter to control this behavior.\n",
            "  _warn_prf(average, modifier, msg_start, len(result))\n"
          ],
          "name": "stderr"
        },
        {
          "output_type": "stream",
          "text": [
            "perfold= 0.875 0.25000000000000006 0.5916666666666667\n",
            "Fold ke- 9 Akurasi = 0.2500 Precision = 0.5917 Recall = 0.2500 F1-Score = 0.2575\n"
          ],
          "name": "stdout"
        },
        {
          "output_type": "stream",
          "text": [
            "/usr/local/lib/python3.7/dist-packages/ipykernel_launcher.py:18: RuntimeWarning: invalid value encountered in long_scalars\n",
            "/usr/local/lib/python3.7/dist-packages/ipykernel_launcher.py:21: RuntimeWarning: invalid value encountered in double_scalars\n",
            "/usr/local/lib/python3.7/dist-packages/sklearn/metrics/_classification.py:1272: UndefinedMetricWarning: Precision is ill-defined and being set to 0.0 in labels with no predicted samples. Use `zero_division` parameter to control this behavior.\n",
            "  _warn_prf(average, modifier, msg_start, len(result))\n"
          ],
          "name": "stderr"
        },
        {
          "output_type": "stream",
          "text": [
            "perfold= 0.8719135802469137 0.2314814814814815 0.5914855072463768\n",
            "Fold ke- 10 Akurasi = 0.2315 Precision = 0.5915 Recall = 0.2315 F1-Score = 0.2434\n",
            "TP: [15, 15, 26, 17, 25, 26, 31, 25, 27, 25] TOTAL: 232\n",
            "FP: [93, 93, 82, 91, 83, 82, 77, 83, 81, 83] TOTAL: 848\n",
            "FN: [93, 93, 82, 91, 83, 82, 77, 83, 81, 83] TOTAL: 848\n",
            "TN: [1095, 1095, 1106, 1097, 1105, 1106, 1111, 1105, 1107, 1105] TOTAL: 11032\n",
            "0.2148148148148148 0.2148148148148148 0.2148148148148148 0.2148148148148148\n",
            "Avg accuracyTP = 0.2148 Avg accuracy = 0.2148\n",
            "Avg precisionTP= 0.2148 Avg precision= 0.5011\n",
            "Avg recallTP= 0.2148 Avg recall= 0.2148\n",
            "Avg f1TP= 0.2148 Avg f1= 0.2067\n",
            "------------------------------------\n",
            "Tanpa Stemming\n",
            "Nama distance= manhattan\n",
            "Jumlah K tetangga= 15\n"
          ],
          "name": "stdout"
        },
        {
          "output_type": "stream",
          "text": [
            "/usr/local/lib/python3.7/dist-packages/ipykernel_launcher.py:18: RuntimeWarning: invalid value encountered in long_scalars\n",
            "/usr/local/lib/python3.7/dist-packages/ipykernel_launcher.py:21: RuntimeWarning: invalid value encountered in double_scalars\n",
            "/usr/local/lib/python3.7/dist-packages/sklearn/metrics/_classification.py:1272: UndefinedMetricWarning: Precision is ill-defined and being set to 0.0 in labels with no predicted samples. Use `zero_division` parameter to control this behavior.\n",
            "  _warn_prf(average, modifier, msg_start, len(result))\n"
          ],
          "name": "stderr"
        },
        {
          "output_type": "stream",
          "text": [
            "perfold= 0.8611111111111112 0.16666666666666666 0.2056372549019608\n",
            "Fold ke- 1 Akurasi = 0.1667 Precision = 0.2056 Recall = 0.1667 F1-Score = 0.1138\n"
          ],
          "name": "stdout"
        },
        {
          "output_type": "stream",
          "text": [
            "/usr/local/lib/python3.7/dist-packages/ipykernel_launcher.py:18: RuntimeWarning: invalid value encountered in long_scalars\n",
            "/usr/local/lib/python3.7/dist-packages/ipykernel_launcher.py:21: RuntimeWarning: invalid value encountered in double_scalars\n",
            "/usr/local/lib/python3.7/dist-packages/sklearn/metrics/_classification.py:1272: UndefinedMetricWarning: Precision is ill-defined and being set to 0.0 in labels with no predicted samples. Use `zero_division` parameter to control this behavior.\n",
            "  _warn_prf(average, modifier, msg_start, len(result))\n"
          ],
          "name": "stderr"
        },
        {
          "output_type": "stream",
          "text": [
            "perfold= 0.8533950617283951 0.12037037037037039 0.20209750566893425\n",
            "Fold ke- 2 Akurasi = 0.1204 Precision = 0.2021 Recall = 0.1204 F1-Score = 0.0696\n"
          ],
          "name": "stdout"
        },
        {
          "output_type": "stream",
          "text": [
            "/usr/local/lib/python3.7/dist-packages/ipykernel_launcher.py:18: RuntimeWarning: invalid value encountered in long_scalars\n",
            "/usr/local/lib/python3.7/dist-packages/ipykernel_launcher.py:21: RuntimeWarning: invalid value encountered in double_scalars\n",
            "/usr/local/lib/python3.7/dist-packages/sklearn/metrics/_classification.py:1272: UndefinedMetricWarning: Precision is ill-defined and being set to 0.0 in labels with no predicted samples. Use `zero_division` parameter to control this behavior.\n",
            "  _warn_prf(average, modifier, msg_start, len(result))\n"
          ],
          "name": "stderr"
        },
        {
          "output_type": "stream",
          "text": [
            "perfold= 0.8688271604938271 0.212962962962963 0.5214646464646465\n",
            "Fold ke- 3 Akurasi = 0.2130 Precision = 0.5215 Recall = 0.2130 F1-Score = 0.2123\n"
          ],
          "name": "stdout"
        },
        {
          "output_type": "stream",
          "text": [
            "/usr/local/lib/python3.7/dist-packages/ipykernel_launcher.py:18: RuntimeWarning: invalid value encountered in long_scalars\n",
            "/usr/local/lib/python3.7/dist-packages/ipykernel_launcher.py:21: RuntimeWarning: invalid value encountered in double_scalars\n",
            "/usr/local/lib/python3.7/dist-packages/sklearn/metrics/_classification.py:1272: UndefinedMetricWarning: Precision is ill-defined and being set to 0.0 in labels with no predicted samples. Use `zero_division` parameter to control this behavior.\n",
            "  _warn_prf(average, modifier, msg_start, len(result))\n"
          ],
          "name": "stderr"
        },
        {
          "output_type": "stream",
          "text": [
            "perfold= 0.861111111111111 0.16666666666666666 0.4743986254295532\n",
            "Fold ke- 4 Akurasi = 0.1667 Precision = 0.4744 Recall = 0.1667 F1-Score = 0.1468\n"
          ],
          "name": "stdout"
        },
        {
          "output_type": "stream",
          "text": [
            "/usr/local/lib/python3.7/dist-packages/ipykernel_launcher.py:18: RuntimeWarning: invalid value encountered in long_scalars\n",
            "/usr/local/lib/python3.7/dist-packages/ipykernel_launcher.py:21: RuntimeWarning: invalid value encountered in double_scalars\n",
            "/usr/local/lib/python3.7/dist-packages/sklearn/metrics/_classification.py:1272: UndefinedMetricWarning: Precision is ill-defined and being set to 0.0 in labels with no predicted samples. Use `zero_division` parameter to control this behavior.\n",
            "  _warn_prf(average, modifier, msg_start, len(result))\n"
          ],
          "name": "stderr"
        },
        {
          "output_type": "stream",
          "text": [
            "perfold= 0.867283950617284 0.20370370370370372 0.5078947368421053\n",
            "Fold ke- 5 Akurasi = 0.2037 Precision = 0.5079 Recall = 0.2037 F1-Score = 0.2013\n"
          ],
          "name": "stdout"
        },
        {
          "output_type": "stream",
          "text": [
            "/usr/local/lib/python3.7/dist-packages/ipykernel_launcher.py:18: RuntimeWarning: invalid value encountered in long_scalars\n",
            "/usr/local/lib/python3.7/dist-packages/ipykernel_launcher.py:21: RuntimeWarning: invalid value encountered in double_scalars\n",
            "/usr/local/lib/python3.7/dist-packages/sklearn/metrics/_classification.py:1272: UndefinedMetricWarning: Precision is ill-defined and being set to 0.0 in labels with no predicted samples. Use `zero_division` parameter to control this behavior.\n",
            "  _warn_prf(average, modifier, msg_start, len(result))\n"
          ],
          "name": "stderr"
        },
        {
          "output_type": "stream",
          "text": [
            "perfold= 0.8734567901234569 0.24074074074074073 0.41111111111111115\n",
            "Fold ke- 6 Akurasi = 0.2407 Precision = 0.4111 Recall = 0.2407 F1-Score = 0.2186\n"
          ],
          "name": "stdout"
        },
        {
          "output_type": "stream",
          "text": [
            "/usr/local/lib/python3.7/dist-packages/ipykernel_launcher.py:18: RuntimeWarning: invalid value encountered in long_scalars\n",
            "/usr/local/lib/python3.7/dist-packages/ipykernel_launcher.py:21: RuntimeWarning: invalid value encountered in double_scalars\n",
            "/usr/local/lib/python3.7/dist-packages/sklearn/metrics/_classification.py:1272: UndefinedMetricWarning: Precision is ill-defined and being set to 0.0 in labels with no predicted samples. Use `zero_division` parameter to control this behavior.\n",
            "  _warn_prf(average, modifier, msg_start, len(result))\n"
          ],
          "name": "stderr"
        },
        {
          "output_type": "stream",
          "text": [
            "perfold= 0.8858024691358025 0.3148148148148148 0.6325997314921366\n",
            "Fold ke- 7 Akurasi = 0.3148 Precision = 0.6326 Recall = 0.3148 F1-Score = 0.3068\n"
          ],
          "name": "stdout"
        },
        {
          "output_type": "stream",
          "text": [
            "/usr/local/lib/python3.7/dist-packages/ipykernel_launcher.py:18: RuntimeWarning: invalid value encountered in long_scalars\n",
            "/usr/local/lib/python3.7/dist-packages/ipykernel_launcher.py:21: RuntimeWarning: invalid value encountered in double_scalars\n",
            "/usr/local/lib/python3.7/dist-packages/sklearn/metrics/_classification.py:1272: UndefinedMetricWarning: Precision is ill-defined and being set to 0.0 in labels with no predicted samples. Use `zero_division` parameter to control this behavior.\n",
            "  _warn_prf(average, modifier, msg_start, len(result))\n"
          ],
          "name": "stderr"
        },
        {
          "output_type": "stream",
          "text": [
            "perfold= 0.8749999999999999 0.25 0.6420542635658915\n",
            "Fold ke- 8 Akurasi = 0.2500 Precision = 0.6421 Recall = 0.2500 F1-Score = 0.2416\n"
          ],
          "name": "stdout"
        },
        {
          "output_type": "stream",
          "text": [
            "/usr/local/lib/python3.7/dist-packages/ipykernel_launcher.py:18: RuntimeWarning: invalid value encountered in long_scalars\n",
            "/usr/local/lib/python3.7/dist-packages/ipykernel_launcher.py:21: RuntimeWarning: invalid value encountered in double_scalars\n",
            "/usr/local/lib/python3.7/dist-packages/sklearn/metrics/_classification.py:1272: UndefinedMetricWarning: Precision is ill-defined and being set to 0.0 in labels with no predicted samples. Use `zero_division` parameter to control this behavior.\n",
            "  _warn_prf(average, modifier, msg_start, len(result))\n"
          ],
          "name": "stderr"
        },
        {
          "output_type": "stream",
          "text": [
            "perfold= 0.8780864197530863 0.26851851851851855 0.5540674603174603\n",
            "Fold ke- 9 Akurasi = 0.2685 Precision = 0.5541 Recall = 0.2685 F1-Score = 0.2509\n"
          ],
          "name": "stdout"
        },
        {
          "output_type": "stream",
          "text": [
            "/usr/local/lib/python3.7/dist-packages/ipykernel_launcher.py:18: RuntimeWarning: invalid value encountered in long_scalars\n",
            "/usr/local/lib/python3.7/dist-packages/ipykernel_launcher.py:21: RuntimeWarning: invalid value encountered in double_scalars\n",
            "/usr/local/lib/python3.7/dist-packages/sklearn/metrics/_classification.py:1272: UndefinedMetricWarning: Precision is ill-defined and being set to 0.0 in labels with no predicted samples. Use `zero_division` parameter to control this behavior.\n",
            "  _warn_prf(average, modifier, msg_start, len(result))\n"
          ],
          "name": "stderr"
        },
        {
          "output_type": "stream",
          "text": [
            "perfold= 0.8734567901234569 0.24074074074074073 0.5915750915750916\n",
            "Fold ke- 10 Akurasi = 0.2407 Precision = 0.5916 Recall = 0.2407 F1-Score = 0.2518\n",
            "TP: [18, 13, 23, 18, 22, 26, 34, 27, 29, 26] TOTAL: 236\n",
            "FP: [90, 95, 85, 90, 86, 82, 74, 81, 79, 82] TOTAL: 844\n",
            "FN: [90, 95, 85, 90, 86, 82, 74, 81, 79, 82] TOTAL: 844\n",
            "TN: [1098, 1093, 1103, 1098, 1102, 1106, 1114, 1107, 1109, 1106] TOTAL: 11036\n",
            "0.21851851851851853 0.21851851851851856 0.21851851851851856 0.21851851851851856\n",
            "Avg accuracyTP = 0.2185 Avg accuracy = 0.2185\n",
            "Avg precisionTP= 0.2185 Avg precision= 0.4743\n",
            "Avg recallTP= 0.2185 Avg recall= 0.2185\n",
            "Avg f1TP= 0.2185 Avg f1= 0.2014\n",
            "------------------------------------\n",
            "Tanpa Stemming\n",
            "Nama distance= cosine\n",
            "Jumlah K tetangga= 1\n",
            "perfold= 0.9382716049382717 0.6296296296296297 0.6393909331409331\n",
            "Fold ke- 1 Akurasi = 0.6296 Precision = 0.6394 Recall = 0.6296 F1-Score = 0.6189\n",
            "perfold= 0.9506172839506174 0.7037037037037037 0.7147269397269397\n",
            "Fold ke- 2 Akurasi = 0.7037 Precision = 0.7147 Recall = 0.7037 F1-Score = 0.6994\n",
            "perfold= 0.9351851851851855 0.6111111111111112 0.6380672976261211\n",
            "Fold ke- 3 Akurasi = 0.6111 Precision = 0.6381 Recall = 0.6111 F1-Score = 0.6027\n",
            "perfold= 0.9506172839506174 0.7037037037037037 0.7513558201058199\n",
            "Fold ke- 4 Akurasi = 0.7037 Precision = 0.7514 Recall = 0.7037 F1-Score = 0.7023\n",
            "perfold= 0.9598765432098766 0.7592592592592592 0.7672979797979798\n",
            "Fold ke- 5 Akurasi = 0.7593 Precision = 0.7673 Recall = 0.7593 F1-Score = 0.7571\n",
            "perfold= 0.9737654320987654 0.8425925925925926 0.8607015669515671\n",
            "Fold ke- 6 Akurasi = 0.8426 Precision = 0.8607 Recall = 0.8426 F1-Score = 0.8409\n",
            "perfold= 0.9691358024691358 0.8148148148148148 0.8353708791208793\n",
            "Fold ke- 7 Akurasi = 0.8148 Precision = 0.8354 Recall = 0.8148 F1-Score = 0.8064\n",
            "perfold= 0.9583333333333334 0.75 0.7428985366485367\n",
            "Fold ke- 8 Akurasi = 0.7500 Precision = 0.7429 Recall = 0.7500 F1-Score = 0.7338\n",
            "perfold= 0.9583333333333335 0.7500000000000001 0.7649584212084212\n",
            "Fold ke- 9 Akurasi = 0.7500 Precision = 0.7650 Recall = 0.7500 F1-Score = 0.7445\n",
            "perfold= 0.9552469135802472 0.7314814814814815 0.7687243312243311\n",
            "Fold ke- 10 Akurasi = 0.7315 Precision = 0.7687 Recall = 0.7315 F1-Score = 0.7220\n",
            "TP: [68, 76, 66, 76, 82, 91, 88, 81, 81, 79] TOTAL: 788\n",
            "FP: [40, 32, 42, 32, 26, 17, 20, 27, 27, 29] TOTAL: 292\n",
            "FN: [40, 32, 42, 32, 26, 17, 20, 27, 27, 29] TOTAL: 292\n",
            "TN: [1148, 1156, 1146, 1156, 1162, 1171, 1168, 1161, 1161, 1159] TOTAL: 11588\n",
            "0.7296296296296297 0.7296296296296296 0.7296296296296296 0.7296296296296296\n",
            "Avg accuracyTP = 0.7296 Avg accuracy = 0.7296\n",
            "Avg precisionTP= 0.7296 Avg precision= 0.7483\n",
            "Avg recallTP= 0.7296 Avg recall= 0.7296\n",
            "Avg f1TP= 0.7296 Avg f1= 0.7228\n",
            "------------------------------------\n",
            "Tanpa Stemming\n",
            "Nama distance= cosine\n",
            "Jumlah K tetangga= 3\n",
            "perfold= 0.9521604938271603 0.7129629629629629 0.7162457912457914\n",
            "Fold ke- 1 Akurasi = 0.7130 Precision = 0.7162 Recall = 0.7130 F1-Score = 0.7036\n",
            "perfold= 0.9537037037037038 0.7222222222222222 0.7255291005291005\n",
            "Fold ke- 2 Akurasi = 0.7222 Precision = 0.7255 Recall = 0.7222 F1-Score = 0.7168\n",
            "perfold= 0.9429012345679012 0.6574074074074073 0.6585983460983461\n",
            "Fold ke- 3 Akurasi = 0.6574 Precision = 0.6586 Recall = 0.6574 F1-Score = 0.6446\n",
            "perfold= 0.9598765432098766 0.7592592592592591 0.7754479316979316\n",
            "Fold ke- 4 Akurasi = 0.7593 Precision = 0.7754 Recall = 0.7593 F1-Score = 0.7602\n",
            "perfold= 0.9552469135802469 0.7314814814814814 0.7468829781329781\n",
            "Fold ke- 5 Akurasi = 0.7315 Precision = 0.7469 Recall = 0.7315 F1-Score = 0.7294\n",
            "perfold= 0.9768518518518517 0.8611111111111113 0.8717592592592593\n",
            "Fold ke- 6 Akurasi = 0.8611 Precision = 0.8718 Recall = 0.8611 F1-Score = 0.8628\n",
            "perfold= 0.9691358024691357 0.8148148148148149 0.8328703703703703\n",
            "Fold ke- 7 Akurasi = 0.8148 Precision = 0.8329 Recall = 0.8148 F1-Score = 0.8083\n",
            "perfold= 0.9706790123456791 0.8240740740740741 0.8333183020683022\n",
            "Fold ke- 8 Akurasi = 0.8241 Precision = 0.8333 Recall = 0.8241 F1-Score = 0.8157\n",
            "perfold= 0.9614197530864198 0.7685185185185185 0.7961182336182336\n",
            "Fold ke- 9 Akurasi = 0.7685 Precision = 0.7961 Recall = 0.7685 F1-Score = 0.7665\n",
            "perfold= 0.9645061728395062 0.7870370370370371 0.8321456321456321\n",
            "Fold ke- 10 Akurasi = 0.7870 Precision = 0.8321 Recall = 0.7870 F1-Score = 0.7790\n",
            "TP: [77, 78, 71, 82, 79, 93, 88, 89, 83, 85] TOTAL: 825\n",
            "FP: [31, 30, 37, 26, 29, 15, 20, 19, 25, 23] TOTAL: 255\n",
            "FN: [31, 30, 37, 26, 29, 15, 20, 19, 25, 23] TOTAL: 255\n",
            "TN: [1157, 1158, 1151, 1162, 1159, 1173, 1168, 1169, 1163, 1165] TOTAL: 11625\n",
            "0.7638888888888888 0.763888888888889 0.763888888888889 0.763888888888889\n",
            "Avg accuracyTP = 0.7639 Avg accuracy = 0.7639\n",
            "Avg precisionTP= 0.7639 Avg precision= 0.7789\n",
            "Avg recallTP= 0.7639 Avg recall= 0.7639\n",
            "Avg f1TP= 0.7639 Avg f1= 0.7587\n",
            "------------------------------------\n",
            "Tanpa Stemming\n",
            "Nama distance= cosine\n",
            "Jumlah K tetangga= 5\n",
            "perfold= 0.95679012345679 0.7407407407407408 0.7556711806711807\n",
            "Fold ke- 1 Akurasi = 0.7407 Precision = 0.7557 Recall = 0.7407 F1-Score = 0.7302\n",
            "perfold= 0.9521604938271605 0.7129629629629629 0.7149318274318274\n",
            "Fold ke- 2 Akurasi = 0.7130 Precision = 0.7149 Recall = 0.7130 F1-Score = 0.7049\n",
            "perfold= 0.9382716049382718 0.6296296296296297 0.6205172142672143\n",
            "Fold ke- 3 Akurasi = 0.6296 Precision = 0.6205 Recall = 0.6296 F1-Score = 0.6118\n",
            "perfold= 0.9614197530864197 0.7685185185185185 0.78250407000407\n",
            "Fold ke- 4 Akurasi = 0.7685 Precision = 0.7825 Recall = 0.7685 F1-Score = 0.7680\n",
            "perfold= 0.9629629629629629 0.7777777777777778 0.8020502645502646\n",
            "Fold ke- 5 Akurasi = 0.7778 Precision = 0.8021 Recall = 0.7778 F1-Score = 0.7784\n",
            "perfold= 0.9845679012345679 0.9074074074074076 0.9140782828282829\n",
            "Fold ke- 6 Akurasi = 0.9074 Precision = 0.9141 Recall = 0.9074 F1-Score = 0.9075\n",
            "perfold= 0.9691358024691358 0.8148148148148149 0.8368055555555555\n",
            "Fold ke- 7 Akurasi = 0.8148 Precision = 0.8368 Recall = 0.8148 F1-Score = 0.8092\n",
            "perfold= 0.9675925925925926 0.8055555555555555 0.8131854256854257\n",
            "Fold ke- 8 Akurasi = 0.8056 Precision = 0.8132 Recall = 0.8056 F1-Score = 0.7993\n",
            "perfold= 0.9660493827160491 0.7962962962962963 0.8202565952565952\n",
            "Fold ke- 9 Akurasi = 0.7963 Precision = 0.8203 Recall = 0.7963 F1-Score = 0.7934\n",
            "perfold= 0.9691358024691358 0.8148148148148148 0.8569264069264069\n",
            "Fold ke- 10 Akurasi = 0.8148 Precision = 0.8569 Recall = 0.8148 F1-Score = 0.8067\n",
            "TP: [80, 77, 68, 83, 84, 98, 88, 87, 86, 88] TOTAL: 839\n",
            "FP: [28, 31, 40, 25, 24, 10, 20, 21, 22, 20] TOTAL: 241\n",
            "FN: [28, 31, 40, 25, 24, 10, 20, 21, 22, 20] TOTAL: 241\n",
            "TN: [1160, 1157, 1148, 1163, 1164, 1178, 1168, 1167, 1166, 1168] TOTAL: 11639\n",
            "0.7768518518518519 0.7768518518518519 0.7768518518518519 0.7768518518518519\n",
            "Avg accuracyTP = 0.7769 Avg accuracy = 0.7769\n",
            "Avg precisionTP= 0.7769 Avg precision= 0.7917\n",
            "Avg recallTP= 0.7769 Avg recall= 0.7769\n",
            "Avg f1TP= 0.7769 Avg f1= 0.7709\n",
            "------------------------------------\n",
            "Tanpa Stemming\n",
            "Nama distance= cosine\n",
            "Jumlah K tetangga= 7\n",
            "perfold= 0.9583333333333331 0.75 0.793344155844156\n",
            "Fold ke- 1 Akurasi = 0.7500 Precision = 0.7933 Recall = 0.7500 F1-Score = 0.7337\n",
            "perfold= 0.9537037037037037 0.7222222222222222 0.7318697506197506\n",
            "Fold ke- 2 Akurasi = 0.7222 Precision = 0.7319 Recall = 0.7222 F1-Score = 0.7147\n",
            "perfold= 0.9398148148148149 0.638888888888889 0.6295029045029045\n",
            "Fold ke- 3 Akurasi = 0.6389 Precision = 0.6295 Recall = 0.6389 F1-Score = 0.6203\n",
            "perfold= 0.9645061728395062 0.7870370370370369 0.810639591889592\n",
            "Fold ke- 4 Akurasi = 0.7870 Precision = 0.8106 Recall = 0.7870 F1-Score = 0.7910\n",
            "perfold= 0.9629629629629629 0.7777777777777778 0.8117431179931179\n",
            "Fold ke- 5 Akurasi = 0.7778 Precision = 0.8117 Recall = 0.7778 F1-Score = 0.7758\n",
            "perfold= 0.9876543209876543 0.925925925925926 0.9326388888888889\n",
            "Fold ke- 6 Akurasi = 0.9259 Precision = 0.9326 Recall = 0.9259 F1-Score = 0.9259\n",
            "perfold= 0.9706790123456789 0.8240740740740741 0.8309132996632996\n",
            "Fold ke- 7 Akurasi = 0.8241 Precision = 0.8309 Recall = 0.8241 F1-Score = 0.8167\n",
            "perfold= 0.9675925925925927 0.8055555555555555 0.8147028897028897\n",
            "Fold ke- 8 Akurasi = 0.8056 Precision = 0.8147 Recall = 0.8056 F1-Score = 0.7962\n",
            "perfold= 0.964506172839506 0.7870370370370369 0.8163808413808412\n",
            "Fold ke- 9 Akurasi = 0.7870 Precision = 0.8164 Recall = 0.7870 F1-Score = 0.7848\n",
            "perfold= 0.9753086419753086 0.851851851851852 0.8726814851814853\n",
            "Fold ke- 10 Akurasi = 0.8519 Precision = 0.8727 Recall = 0.8519 F1-Score = 0.8497\n",
            "TP: [81, 78, 69, 85, 84, 100, 89, 87, 85, 92] TOTAL: 850\n",
            "FP: [27, 30, 39, 23, 24, 8, 19, 21, 23, 16] TOTAL: 230\n",
            "FN: [27, 30, 39, 23, 24, 8, 19, 21, 23, 16] TOTAL: 230\n",
            "TN: [1161, 1158, 1149, 1165, 1164, 1180, 1169, 1167, 1165, 1172] TOTAL: 11650\n",
            "0.7870370370370371 0.7870370370370371 0.7870370370370371 0.7870370370370371\n",
            "Avg accuracyTP = 0.7870 Avg accuracy = 0.7870\n",
            "Avg precisionTP= 0.7870 Avg precision= 0.8044\n",
            "Avg recallTP= 0.7870 Avg recall= 0.7870\n",
            "Avg f1TP= 0.7870 Avg f1= 0.7809\n",
            "------------------------------------\n",
            "Tanpa Stemming\n",
            "Nama distance= cosine\n",
            "Jumlah K tetangga= 9\n",
            "perfold= 0.9583333333333331 0.75 0.797403984903985\n",
            "Fold ke- 1 Akurasi = 0.7500 Precision = 0.7974 Recall = 0.7500 F1-Score = 0.7366\n",
            "perfold= 0.9567901234567903 0.7407407407407406 0.76625111000111\n",
            "Fold ke- 2 Akurasi = 0.7407 Precision = 0.7663 Recall = 0.7407 F1-Score = 0.7319\n",
            "perfold= 0.9444444444444445 0.6666666666666669 0.6718253968253968\n",
            "Fold ke- 3 Akurasi = 0.6667 Precision = 0.6718 Recall = 0.6667 F1-Score = 0.6553\n",
            "perfold= 0.9675925925925927 0.8055555555555555 0.832967032967033\n",
            "Fold ke- 4 Akurasi = 0.8056 Precision = 0.8330 Recall = 0.8056 F1-Score = 0.8117\n",
            "perfold= 0.9675925925925924 0.8055555555555557 0.8370911495911496\n",
            "Fold ke- 5 Akurasi = 0.8056 Precision = 0.8371 Recall = 0.8056 F1-Score = 0.8035\n",
            "perfold= 0.9845679012345677 0.9074074074074076 0.914436026936027\n",
            "Fold ke- 6 Akurasi = 0.9074 Precision = 0.9144 Recall = 0.9074 F1-Score = 0.9074\n",
            "perfold= 0.9722222222222223 0.8333333333333334 0.8743365022776789\n",
            "Fold ke- 7 Akurasi = 0.8333 Precision = 0.8743 Recall = 0.8333 F1-Score = 0.8245\n",
            "perfold= 0.9691358024691358 0.8148148148148148 0.8197894697894698\n",
            "Fold ke- 8 Akurasi = 0.8148 Precision = 0.8198 Recall = 0.8148 F1-Score = 0.8075\n",
            "perfold= 0.9629629629629628 0.7777777777777777 0.8049270174270173\n",
            "Fold ke- 9 Akurasi = 0.7778 Precision = 0.8049 Recall = 0.7778 F1-Score = 0.7760\n",
            "perfold= 0.9753086419753086 0.851851851851852 0.8711663336663338\n",
            "Fold ke- 10 Akurasi = 0.8519 Precision = 0.8712 Recall = 0.8519 F1-Score = 0.8511\n",
            "TP: [81, 80, 72, 87, 87, 98, 90, 88, 84, 92] TOTAL: 859\n",
            "FP: [27, 28, 36, 21, 21, 10, 18, 20, 24, 16] TOTAL: 221\n",
            "FN: [27, 28, 36, 21, 21, 10, 18, 20, 24, 16] TOTAL: 221\n",
            "TN: [1161, 1160, 1152, 1167, 1167, 1178, 1170, 1168, 1164, 1172] TOTAL: 11659\n",
            "0.7953703703703704 0.7953703703703703 0.7953703703703703 0.7953703703703703\n",
            "Avg accuracyTP = 0.7954 Avg accuracy = 0.7954\n",
            "Avg precisionTP= 0.7954 Avg precision= 0.8190\n",
            "Avg recallTP= 0.7954 Avg recall= 0.7954\n",
            "Avg f1TP= 0.7954 Avg f1= 0.7906\n",
            "------------------------------------\n",
            "Tanpa Stemming\n",
            "Nama distance= cosine\n",
            "Jumlah K tetangga= 11\n",
            "perfold= 0.95679012345679 0.7407407407407408 0.7905205905205905\n",
            "Fold ke- 1 Akurasi = 0.7407 Precision = 0.7905 Recall = 0.7407 F1-Score = 0.7274\n",
            "perfold= 0.9614197530864198 0.7685185185185186 0.7909902597402597\n",
            "Fold ke- 2 Akurasi = 0.7685 Precision = 0.7910 Recall = 0.7685 F1-Score = 0.7602\n",
            "perfold= 0.9475308641975309 0.6851851851851852 0.7126086876086876\n",
            "Fold ke- 3 Akurasi = 0.6852 Precision = 0.7126 Recall = 0.6852 F1-Score = 0.6726\n",
            "perfold= 0.9706790123456791 0.824074074074074 0.8509319384319385\n",
            "Fold ke- 4 Akurasi = 0.8241 Precision = 0.8509 Recall = 0.8241 F1-Score = 0.8277\n",
            "perfold= 0.9691358024691358 0.8148148148148148 0.8313341750841751\n",
            "Fold ke- 5 Akurasi = 0.8148 Precision = 0.8313 Recall = 0.8148 F1-Score = 0.8119\n",
            "perfold= 0.9799382716049383 0.8796296296296298 0.8859006734006735\n",
            "Fold ke- 6 Akurasi = 0.8796 Precision = 0.8859 Recall = 0.8796 F1-Score = 0.8791\n",
            "perfold= 0.9737654320987654 0.8425925925925926 0.8835957615369381\n",
            "Fold ke- 7 Akurasi = 0.8426 Precision = 0.8836 Recall = 0.8426 F1-Score = 0.8338\n",
            "perfold= 0.9706790123456791 0.8240740740740741 0.8355031542531542\n",
            "Fold ke- 8 Akurasi = 0.8241 Precision = 0.8355 Recall = 0.8241 F1-Score = 0.8164\n",
            "perfold= 0.9660493827160495 0.7962962962962963 0.8163052225552225\n",
            "Fold ke- 9 Akurasi = 0.7963 Precision = 0.8163 Recall = 0.7963 F1-Score = 0.7944\n",
            "perfold= 0.9768518518518517 0.8611111111111112 0.8732954545454547\n",
            "Fold ke- 10 Akurasi = 0.8611 Precision = 0.8733 Recall = 0.8611 F1-Score = 0.8593\n",
            "TP: [80, 83, 74, 89, 88, 95, 91, 89, 86, 93] TOTAL: 868\n",
            "FP: [28, 25, 34, 19, 20, 13, 17, 19, 22, 15] TOTAL: 212\n",
            "FN: [28, 25, 34, 19, 20, 13, 17, 19, 22, 15] TOTAL: 212\n",
            "TN: [1160, 1163, 1154, 1169, 1168, 1175, 1171, 1169, 1166, 1173] TOTAL: 11668\n",
            "0.8037037037037037 0.8037037037037036 0.8037037037037036 0.8037037037037036\n",
            "Avg accuracyTP = 0.8037 Avg accuracy = 0.8037\n",
            "Avg precisionTP= 0.8037 Avg precision= 0.8271\n",
            "Avg recallTP= 0.8037 Avg recall= 0.8037\n",
            "Avg f1TP= 0.8037 Avg f1= 0.7983\n",
            "------------------------------------\n",
            "Tanpa Stemming\n",
            "Nama distance= cosine\n",
            "Jumlah K tetangga= 13\n",
            "perfold= 0.9583333333333331 0.7500000000000001 0.8049881831131831\n",
            "Fold ke- 1 Akurasi = 0.7500 Precision = 0.8050 Recall = 0.7500 F1-Score = 0.7363\n",
            "perfold= 0.95679012345679 0.7407407407407406 0.7660119972619973\n",
            "Fold ke- 2 Akurasi = 0.7407 Precision = 0.7660 Recall = 0.7407 F1-Score = 0.7272\n",
            "perfold= 0.9506172839506172 0.7037037037037037 0.7362949550449551\n",
            "Fold ke- 3 Akurasi = 0.7037 Precision = 0.7363 Recall = 0.7037 F1-Score = 0.6905\n",
            "perfold= 0.9675925925925926 0.8055555555555557 0.8475378787878789\n",
            "Fold ke- 4 Akurasi = 0.8056 Precision = 0.8475 Recall = 0.8056 F1-Score = 0.8121\n",
            "perfold= 0.9660493827160491 0.7962962962962962 0.8205500518000517\n",
            "Fold ke- 5 Akurasi = 0.7963 Precision = 0.8206 Recall = 0.7963 F1-Score = 0.7941\n",
            "perfold= 0.9814814814814814 0.8888888888888892 0.8975799663299663\n",
            "Fold ke- 6 Akurasi = 0.8889 Precision = 0.8976 Recall = 0.8889 F1-Score = 0.8895\n",
            "perfold= 0.9722222222222223 0.8333333333333334 0.8743365022776789\n",
            "Fold ke- 7 Akurasi = 0.8333 Precision = 0.8743 Recall = 0.8333 F1-Score = 0.8245\n",
            "perfold= 0.9691358024691358 0.8148148148148149 0.8278108465608466\n",
            "Fold ke- 8 Akurasi = 0.8148 Precision = 0.8278 Recall = 0.8148 F1-Score = 0.8083\n",
            "perfold= 0.9629629629629629 0.7777777777777777 0.7957519332519332\n",
            "Fold ke- 9 Akurasi = 0.7778 Precision = 0.7958 Recall = 0.7778 F1-Score = 0.7730\n",
            "perfold= 0.9768518518518517 0.8611111111111112 0.8731962481962482\n",
            "Fold ke- 10 Akurasi = 0.8611 Precision = 0.8732 Recall = 0.8611 F1-Score = 0.8614\n",
            "TP: [81, 80, 76, 87, 86, 96, 90, 88, 84, 93] TOTAL: 861\n",
            "FP: [27, 28, 32, 21, 22, 12, 18, 20, 24, 15] TOTAL: 219\n",
            "FN: [27, 28, 32, 21, 22, 12, 18, 20, 24, 15] TOTAL: 219\n",
            "TN: [1161, 1160, 1156, 1167, 1166, 1176, 1170, 1168, 1164, 1173] TOTAL: 11661\n",
            "0.7972222222222222 0.7972222222222222 0.7972222222222222 0.7972222222222222\n",
            "Avg accuracyTP = 0.7972 Avg accuracy = 0.7972\n",
            "Avg precisionTP= 0.7972 Avg precision= 0.8244\n",
            "Avg recallTP= 0.7972 Avg recall= 0.7972\n",
            "Avg f1TP= 0.7972 Avg f1= 0.7917\n",
            "------------------------------------\n",
            "Tanpa Stemming\n",
            "Nama distance= cosine\n",
            "Jumlah K tetangga= 15\n",
            "perfold= 0.9552469135802468 0.7314814814814815 0.7902680652680653\n",
            "Fold ke- 1 Akurasi = 0.7315 Precision = 0.7903 Recall = 0.7315 F1-Score = 0.7219\n",
            "perfold= 0.9537037037037037 0.7222222222222222 0.7622204184704184\n",
            "Fold ke- 2 Akurasi = 0.7222 Precision = 0.7622 Recall = 0.7222 F1-Score = 0.7097\n",
            "perfold= 0.9506172839506172 0.7037037037037037 0.743494930994931\n",
            "Fold ke- 3 Akurasi = 0.7037 Precision = 0.7435 Recall = 0.7037 F1-Score = 0.6950\n",
            "perfold= 0.9629629629629629 0.7777777777777777 0.8236416361416362\n",
            "Fold ke- 4 Akurasi = 0.7778 Precision = 0.8236 Recall = 0.7778 F1-Score = 0.7791\n",
            "perfold= 0.9675925925925926 0.8055555555555554 0.828198653198653\n",
            "Fold ke- 5 Akurasi = 0.8056 Precision = 0.8282 Recall = 0.8056 F1-Score = 0.8030\n",
            "perfold= 0.9799382716049383 0.8796296296296298 0.8853114478114478\n",
            "Fold ke- 6 Akurasi = 0.8796 Precision = 0.8853 Recall = 0.8796 F1-Score = 0.8792\n",
            "perfold= 0.9722222222222223 0.8333333333333334 0.867834595959596\n",
            "Fold ke- 7 Akurasi = 0.8333 Precision = 0.8678 Recall = 0.8333 F1-Score = 0.8225\n",
            "perfold= 0.9675925925925926 0.8055555555555555 0.8230031542531543\n",
            "Fold ke- 8 Akurasi = 0.8056 Precision = 0.8230 Recall = 0.8056 F1-Score = 0.7979\n",
            "perfold= 0.9629629629629629 0.7777777777777777 0.7969243719243718\n",
            "Fold ke- 9 Akurasi = 0.7778 Precision = 0.7969 Recall = 0.7778 F1-Score = 0.7724\n",
            "perfold= 0.9768518518518517 0.8611111111111112 0.8706228956228957\n",
            "Fold ke- 10 Akurasi = 0.8611 Precision = 0.8706 Recall = 0.8611 F1-Score = 0.8585\n",
            "TP: [79, 78, 76, 84, 87, 95, 90, 87, 84, 93] TOTAL: 853\n",
            "FP: [29, 30, 32, 24, 21, 13, 18, 21, 24, 15] TOTAL: 227\n",
            "FN: [29, 30, 32, 24, 21, 13, 18, 21, 24, 15] TOTAL: 227\n",
            "TN: [1159, 1158, 1156, 1164, 1167, 1175, 1170, 1167, 1164, 1173] TOTAL: 11653\n",
            "0.7898148148148149 0.7898148148148147 0.7898148148148147 0.7898148148148147\n",
            "Avg accuracyTP = 0.7898 Avg accuracy = 0.7898\n",
            "Avg precisionTP= 0.7898 Avg precision= 0.8192\n",
            "Avg recallTP= 0.7898 Avg recall= 0.7898\n",
            "Avg f1TP= 0.7898 Avg f1= 0.7839\n",
            "------------------------------------\n"
          ],
          "name": "stdout"
        },
        {
          "output_type": "display_data",
          "data": {
            "image/png": "[encoded data removed]",
            "text/plain": [
              "<Figure size 432x288 with 1 Axes>"
            ]
          },
          "metadata": {
            "tags": []
          }
        },
        {
          "output_type": "stream",
          "text": [
            "Lama Proses 141.36977338790894 seconds\n",
            "CPU times: user 3min 26s, sys: 1.73 s, total: 3min 28s\n",
            "Wall time: 2min 21s\n"
          ],
          "name": "stdout"
        }
      ]
    },
    {
      "cell_type": "markdown",
      "metadata": {
        "id": "4_mcO5zRkpxH"
      },
      "source": [
        "## coba"
      ]
    },
    {
      "cell_type": "code",
      "metadata": {
        "id": "3_BJF3mG6dPP"
      },
      "source": [
        "X = df['text']\n",
        "y = df['label'].astype('int')\n",
        "# X = dfNo['text']\n",
        "# y = dfNo['label'].astype('int')"
      ],
      "execution_count": null,
      "outputs": []
    },
    {
      "cell_type": "code",
      "metadata": {
        "id": "cwC7FBvN6fbP"
      },
      "source": [
        "vectorizer = TfidfVectorizer(min_df=3, dtype=np.double, norm='l2', sublinear_tf=True)\n",
        "# vectorizer = TfidfVectorizer()\n",
        "X = vectorizer.fit_transform(X)"
      ],
      "execution_count": null,
      "outputs": []
    },
    {
      "cell_type": "code",
      "metadata": {
        "colab": {
          "background_save": true
        },
        "id": "P4G9j29hfahO"
      },
      "source": [
        "from sklearn.model_selection import GridSearchCV\n",
        "#List Hyperparameters that we want to tune.\n",
        "leaf_size = list(range(1,50))\n",
        "n_neighbors = list(range(1,30))\n",
        "p=[1,2]\n",
        "#Convert to dictionary\n",
        "hyperparameters = dict(leaf_size=leaf_size, n_neighbors=n_neighbors, p=p)\n",
        "#Create new KNN object\n",
        "knn_2 = KNeighborsClassifier()\n",
        "#Use GridSearch\n",
        "clf = GridSearchCV(knn_2, hyperparameters, cv=10)\n",
        "#Fit the model\n",
        "best_model = clf.fit(X,y)\n",
        "#Print The value of best Hyperparameters\n",
        "print('Best leaf_size:', best_model.best_estimator_.get_params()['leaf_size'])\n",
        "print('Best p:', best_model.best_estimator_.get_params()['p'])\n",
        "print('Best n_neighbors:', best_model.best_estimator_.get_params()['n_neighbors'])"
      ],
      "execution_count": null,
      "outputs": []
    },
    {
      "cell_type": "code",
      "metadata": {
        "id": "S_cPwr7Gkut-"
      },
      "source": [
        "df.head()"
      ],
      "execution_count": null,
      "outputs": []
    },
    {
      "cell_type": "code",
      "metadata": {
        "id": "etPjRWyEkwKy"
      },
      "source": [
        "# df['label'].head(216).unique()\n",
        "df2 = df['label'].loc[:215]\n",
        "df2"
      ],
      "execution_count": null,
      "outputs": []
    },
    {
      "cell_type": "code",
      "metadata": {
        "id": "IrrntXhyn8YU"
      },
      "source": [
        "item_counts = df2.value_counts()\n",
        "print(item_counts)"
      ],
      "execution_count": null,
      "outputs": []
    },
    {
      "cell_type": "code",
      "metadata": {
        "id": "YlsRLL8OqxSB"
      },
      "source": [
        ""
      ],
      "execution_count": null,
      "outputs": []
    }
  ]
}