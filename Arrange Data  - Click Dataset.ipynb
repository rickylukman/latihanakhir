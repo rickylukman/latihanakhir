{
 "cells": [
  {
   "cell_type": "code",
   "execution_count": 2,
   "metadata": {},
   "outputs": [],
   "source": [
    "import pandas as pd\n",
    "import os\n",
    "import re\n",
    "import glob"
   ]
  },
  {
   "cell_type": "markdown",
   "metadata": {},
   "source": [
    "## Manual Budaya"
   ]
  },
  {
   "cell_type": "code",
   "execution_count": 11,
   "metadata": {},
   "outputs": [
    {
     "data": {
      "text/plain": [
       "(50, 2)"
      ]
     },
     "execution_count": 11,
     "metadata": {},
     "output_type": "execute_result"
    }
   ],
   "source": [
    "df = pd.read_csv(r'D:\\JupyterNotebook\\Dataset\\clickNewArrange\\budaya50.csv')\n",
    "df.shape"
   ]
  },
  {
   "cell_type": "code",
   "execution_count": 20,
   "metadata": {},
   "outputs": [
    {
     "data": {
      "text/html": [
       "<div>\n",
       "<style scoped>\n",
       "    .dataframe tbody tr th:only-of-type {\n",
       "        vertical-align: middle;\n",
       "    }\n",
       "\n",
       "    .dataframe tbody tr th {\n",
       "        vertical-align: top;\n",
       "    }\n",
       "\n",
       "    .dataframe thead th {\n",
       "        text-align: right;\n",
       "    }\n",
       "</style>\n",
       "<table border=\"1\" class=\"dataframe\">\n",
       "  <thead>\n",
       "    <tr style=\"text-align: right;\">\n",
       "      <th></th>\n",
       "      <th>title</th>\n",
       "      <th>source</th>\n",
       "      <th>date</th>\n",
       "      <th>time</th>\n",
       "      <th>category</th>\n",
       "      <th>sub-category</th>\n",
       "      <th>content</th>\n",
       "      <th>url</th>\n",
       "    </tr>\n",
       "  </thead>\n",
       "  <tbody>\n",
       "    <tr>\n",
       "      <td>0</td>\n",
       "      <td>Krisis Air Bersih di Lebak Meluas Hingga 16 Ke...</td>\n",
       "      <td>republika.co.id</td>\n",
       "      <td>10 Sep 2019</td>\n",
       "      <td>23:56 WIB</td>\n",
       "      <td>News</td>\n",
       "      <td>Nasional</td>\n",
       "      <td>REPUBLIKA.CO.ID, LEBAK -- Kepala Pelaksana Bad...</td>\n",
       "      <td>https://nasional.republika.co.id/berita/pxmkeg...</td>\n",
       "    </tr>\n",
       "    <tr>\n",
       "      <td>1</td>\n",
       "      <td>Disbudpar Kota Malang Panggil Manajemen Museum...</td>\n",
       "      <td>republika.co.id</td>\n",
       "      <td>10 Sep 2019</td>\n",
       "      <td>22:16 WIB</td>\n",
       "      <td>News</td>\n",
       "      <td>Nasional</td>\n",
       "      <td>REPUBLIKA.CO.ID, MALANG -- Dinas Kebudayaan da...</td>\n",
       "      <td>https://nasional.republika.co.id/berita/pxmfr4...</td>\n",
       "    </tr>\n",
       "    <tr>\n",
       "      <td>2</td>\n",
       "      <td>Puskeshaji Layani 471.946 Kunjungan Jamaah Haji</td>\n",
       "      <td>republika.co.id</td>\n",
       "      <td>10 Sep 2019</td>\n",
       "      <td>22:21 WIB</td>\n",
       "      <td>Ihram</td>\n",
       "      <td>IHRAM.CO.ID</td>\n",
       "      <td>IHRAM.CO.ID, JAKARTA -- Kementerian Kesehatan ...</td>\n",
       "      <td>https://www.republika.co.id/berita/pxmeoh313/p...</td>\n",
       "    </tr>\n",
       "    <tr>\n",
       "      <td>3</td>\n",
       "      <td>Bottas tak Menyerah Incar Gelar Juara F1</td>\n",
       "      <td>republika.co.id</td>\n",
       "      <td>10 Sep 2019</td>\n",
       "      <td>22:13 WIB</td>\n",
       "      <td>Sepak Bola</td>\n",
       "      <td>Sepak Bola</td>\n",
       "      <td>REPUBLIKA.CO.ID, MONZA -- Pembalap Formula Sat...</td>\n",
       "      <td>https://bola.republika.co.id/berita/pxmfmo354/...</td>\n",
       "    </tr>\n",
       "    <tr>\n",
       "      <td>4</td>\n",
       "      <td>Capim KPK, Calon Komisioner yang Wajib Teken K...</td>\n",
       "      <td>republika.co.id</td>\n",
       "      <td>10 Sep 2019</td>\n",
       "      <td>22:21 WIB</td>\n",
       "      <td>News</td>\n",
       "      <td>Nasional</td>\n",
       "      <td>REPUBLIKA.CO.ID, oleh ,Ada yang berbeda dari p...</td>\n",
       "      <td>https://nasional.republika.co.id/berita/pxmfzp...</td>\n",
       "    </tr>\n",
       "  </tbody>\n",
       "</table>\n",
       "</div>"
      ],
      "text/plain": [
       "                                               title           source  \\\n",
       "0  Krisis Air Bersih di Lebak Meluas Hingga 16 Ke...  republika.co.id   \n",
       "1  Disbudpar Kota Malang Panggil Manajemen Museum...  republika.co.id   \n",
       "2   Puskeshaji Layani 471.946 Kunjungan Jamaah Haji   republika.co.id   \n",
       "3           Bottas tak Menyerah Incar Gelar Juara F1  republika.co.id   \n",
       "4  Capim KPK, Calon Komisioner yang Wajib Teken K...  republika.co.id   \n",
       "\n",
       "          date       time    category sub-category  \\\n",
       "0  10 Sep 2019  23:56 WIB        News     Nasional   \n",
       "1  10 Sep 2019  22:16 WIB        News     Nasional   \n",
       "2  10 Sep 2019  22:21 WIB       Ihram  IHRAM.CO.ID   \n",
       "3  10 Sep 2019  22:13 WIB  Sepak Bola   Sepak Bola   \n",
       "4  10 Sep 2019  22:21 WIB        News     Nasional   \n",
       "\n",
       "                                             content  \\\n",
       "0  REPUBLIKA.CO.ID, LEBAK -- Kepala Pelaksana Bad...   \n",
       "1  REPUBLIKA.CO.ID, MALANG -- Dinas Kebudayaan da...   \n",
       "2  IHRAM.CO.ID, JAKARTA -- Kementerian Kesehatan ...   \n",
       "3  REPUBLIKA.CO.ID, MONZA -- Pembalap Formula Sat...   \n",
       "4  REPUBLIKA.CO.ID, oleh ,Ada yang berbeda dari p...   \n",
       "\n",
       "                                                 url  \n",
       "0  https://nasional.republika.co.id/berita/pxmkeg...  \n",
       "1  https://nasional.republika.co.id/berita/pxmfr4...  \n",
       "2  https://www.republika.co.id/berita/pxmeoh313/p...  \n",
       "3  https://bola.republika.co.id/berita/pxmfmo354/...  \n",
       "4  https://nasional.republika.co.id/berita/pxmfzp...  "
      ]
     },
     "execution_count": 20,
     "metadata": {},
     "output_type": "execute_result"
    }
   ],
   "source": [
    "coba = pd.read_csv(r'D:\\JupyterNotebook\\Dataset\\click\\republika.csv')\n",
    "coba.head()"
   ]
  },
  {
   "cell_type": "code",
   "execution_count": 21,
   "metadata": {},
   "outputs": [
    {
     "data": {
      "text/plain": [
       "(2576, 2)"
      ]
     },
     "execution_count": 21,
     "metadata": {},
     "output_type": "execute_result"
    }
   ],
   "source": [
    "x = pd.DataFrame(data = coba[coba['sub-category'] == 'Nasional'].values\n",
    "                   ,columns = ['title','source','date','time','category','sub-category','content','url'])\n",
    "x = x[['content', 'sub-category']]\n",
    "x.shape"
   ]
  },
  {
   "cell_type": "code",
   "execution_count": 43,
   "metadata": {},
   "outputs": [
    {
     "data": {
      "text/html": [
       "<div>\n",
       "<style scoped>\n",
       "    .dataframe tbody tr th:only-of-type {\n",
       "        vertical-align: middle;\n",
       "    }\n",
       "\n",
       "    .dataframe tbody tr th {\n",
       "        vertical-align: top;\n",
       "    }\n",
       "\n",
       "    .dataframe thead th {\n",
       "        text-align: right;\n",
       "    }\n",
       "</style>\n",
       "<table border=\"1\" class=\"dataframe\">\n",
       "  <thead>\n",
       "    <tr style=\"text-align: right;\">\n",
       "      <th></th>\n",
       "      <th>text</th>\n",
       "      <th>label</th>\n",
       "    </tr>\n",
       "  </thead>\n",
       "  <tbody>\n",
       "    <tr>\n",
       "      <td>0</td>\n",
       "      <td>REPUBLIKA.CO.ID, JAKARTA -- Pemerintah Provins...</td>\n",
       "      <td>0</td>\n",
       "    </tr>\n",
       "  </tbody>\n",
       "</table>\n",
       "</div>"
      ],
      "text/plain": [
       "                                                text label\n",
       "0  REPUBLIKA.CO.ID, JAKARTA -- Pemerintah Provins...     0"
      ]
     },
     "execution_count": 43,
     "metadata": {},
     "output_type": "execute_result"
    }
   ],
   "source": [
    "temp_df = pd.DataFrame(columns=['text','label'])\n",
    "text = x['content'].loc[863]\n",
    "label = 0\n",
    "temp_df.loc[0] = [text,label]\n",
    "temp_df"
   ]
  },
  {
   "cell_type": "code",
   "execution_count": 44,
   "metadata": {},
   "outputs": [],
   "source": [
    "gab_temp = [df, temp_df] \n",
    "df = pd.concat(gab_temp).drop_duplicates().reset_index(drop=True)"
   ]
  },
  {
   "cell_type": "code",
   "execution_count": 45,
   "metadata": {},
   "outputs": [
    {
     "data": {
      "text/plain": [
       "(60, 2)"
      ]
     },
     "execution_count": 45,
     "metadata": {},
     "output_type": "execute_result"
    }
   ],
   "source": [
    "df.shape"
   ]
  },
  {
   "cell_type": "code",
   "execution_count": 46,
   "metadata": {},
   "outputs": [
    {
     "name": "stdout",
     "output_type": "stream",
     "text": [
      "                                                 text label\n",
      "0   nampak jelas di daratan yang panas, Kota Djene...     0\n",
      "1   pendakwah hebat berperan penting dalam masukny...     0\n",
      "2   atau Walisanga dikenal sebagai penyebar agama ...     0\n",
      "3   Ajaran Islam menegaskan bahwa Nabi Adam adalah...     0\n",
      "4   Tumbuh sebagai remaja muslim di Amerika tidakl...     0\n",
      "5   REPUBLIKA.CO.ID, KUNINGAN -- Program Gerakan M...     0\n",
      "6   REPUBLIKA.CO.ID, PURWAKARTA -- Wakil Presiden ...     0\n",
      "7   REPUBLIKA.CO.ID, JAKARTA -- Ketua Pengurus Bes...     0\n",
      "8   REPUBLIKA.CO.ID, JAKARTA -- Kementerian Agama ...     0\n",
      "9   REPUBLIKA.CO.ID, DOHA -- Setidaknya 33 gambar ...     0\n",
      "10  REPUBLIKA.CO.ID,MANDALAY -- Penduduk Muslim di...     0\n",
      "11  REPUBLIKA.CO.ID, JAKARTA— Pengurus Besar Nahdl...     0\n",
      "12  REPUBLIKA.CO.ID, PALU— Majelis Ulama Indonesia...     0\n",
      "13  REPUBLIKA.CO.ID, Masjid Agung Paris adalah des...     0\n",
      "14  REPUBLIKA.CO.ID, PURWOREJO -- Ahad (8/9) lalu,...     0\n",
      "15  REPUBLIKA.CO.ID, JAKARTA — “Produksi kertas ta...     0\n",
      "16  REPUBLIKA.CO.ID, JAKARTA -- Kerajaan ini berke...     0\n",
      "17  Beberapa hari lalu ramai pemberitaan tentang w...     0\n",
      "18  REPUBLIKA.CO.ID,  JAKARTA -- Sastra Arab memas...     0\n",
      "19  REPUBLIKA.CO.ID, JAKARTA – Musyawarah Nasional...     0\n",
      "20  REPUBLIKA.CO.ID, Oleh: Nur Farida,Manusia adal...     0\n",
      "21  REPUBLIKA.CO.ID, JAKARTA – Budaya damai menjad...     0\n",
      "22  REPUBLIKA.CO.ID, JAKARTA – Utusan Khusus Presi...     0\n",
      "23  REPUBLIKA.CO.ID, JAKARTA – Musyawarah Nasional...     0\n",
      "24  REPUBLIKA.CO.ID, JAKARTA -- Utusan Khusus Pres...     0\n",
      "25  REPUBLIKA.CO.ID, MOSUL -- Badan kebudayaan PBB...     0\n",
      "26  REPUBLIKA.CO.ID, JAKARTA -- Dunia Islam berkon...     0\n",
      "27  REPUBLIKA.CO.ID, PALU— Institut Agama Islam Ne...     0\n",
      "28  REPUBLIKA.CO.ID, BANDUNG- Aksi Cepat Tanggap (...     0\n",
      "29  REPUBLIKA.CO.ID, PALU -- Sederetan bencana di ...     0\n",
      "30  – Seorang warga Pati, Jawa Tengah menjalani ri...     0\n",
      "31  - Nama Tan Ie Hok alias Afuk mendadak menjadi ...     0\n",
      "32  - Keris milik Presiden Joko Widodo (Jokowi) ya...     0\n",
      "33  - MNC Peduli melalui Yayasan Jalinan Kasih mel...     0\n",
      "34   Ini kisah dari ,. Andini, perempuan muda beru...     0\n",
      "35  REPUBLIKA.CO.ID, TEMANGGUNG -- Budaya membaca ...     0\n",
      "36  REPUBLIKA.CO.ID, KUNINGAN --- Jika anda melint...     0\n",
      "37  REPUBLIKA.CO.ID, BANYUWNAGI -- Sendratari Mera...     0\n",
      "38  REPUBLIKA.CO.ID, GIANYAR -- Bupati Gianyar Mad...     0\n",
      "39  REPUBLIKA.CO.ID, BENGKULU --  Setelah persiapa...     0\n",
      "40  Probolinggo - Para santri di Kabupaten Proboli...     0\n",
      "41  Banyuwangi - Kabupaten Banyuwangi kembali mene...     0\n",
      "42  Banyuwangi - 50 penari Gandrung Banyuwangi ber...     0\n",
      "43  Surabaya - Ribuan masyarakat dari berbagai kab...     0\n",
      "44  Tulungagung - Pemkab Tulungagung menggelar tra...     0\n",
      "45  Surabaya - Gubernur Khofifah Indar Parawansa m...     0\n",
      "46  Jombang - Para arkeolog juga menemukan benda-b...     0\n",
      "47  Jombang - Selama 10 hari ekskavasi, tim arkeol...     0\n",
      "48  Banyuwangi - Memperingati Tahun Baru Islam 144...     0\n",
      "49  IHRAM.CO.ID, TASIKMALAYA -- Pemerintah Kota (P...     0\n",
      "50  - Keanekaragaman budaya Indonesia mewarnai Kan...     0\n",
      "51  – Bunda Literasi Provinsi Jawa Barat Atalia Pr...     0\n",
      "52  REPUBLIKA.CO.ID, MALANG, JAWA TIMUR -- Puluhan...     0\n",
      "53  REPUBLIKA.CO.ID, JAKARTA - Suku Dinas (Sudin) ...     0\n",
      "54  Dinas Kepemudaan Olahraga Kebudayaan dan Pariw...     0\n",
      "55  REPUBLIKA.CO.ID, SUKABUMI -- Acara adat seren ...     0\n",
      "56  --Warga Desa Hegarmukti, Kecamatan Cikarang Pu...     0\n",
      "57   Ada tradisi yang menarik di Dukuh Tambak, Des...     0\n",
      "58  REPUBLIKA.CO.ID, SLEMAN -- Dinas Kebudayaan Ka...     0\n",
      "59  REPUBLIKA.CO.ID, JAKARTA -- Pemerintah Provins...     0\n"
     ]
    }
   ],
   "source": [
    "# Simpan data ke csv\n",
    "df.to_csv (r'D:\\JupyterNotebook\\Dataset\\clickNewArrange\\budaya60.csv', index = False, header=True)\n",
    "print(df)"
   ]
  },
  {
   "cell_type": "markdown",
   "metadata": {},
   "source": [
    "## All click dataset"
   ]
  },
  {
   "cell_type": "code",
   "execution_count": 2,
   "metadata": {},
   "outputs": [],
   "source": [
    "path = r'D:\\JupyterNotebook\\Dataset\\click' # use your path\n",
    "all_files = glob.glob(path + \"/*.csv\")\n",
    "\n",
    "li = []\n",
    "\n",
    "for filename in all_files:\n",
    "    df = pd.read_csv(filename, index_col=None, header=0)\n",
    "    li.append(df)\n",
    "\n",
    "frame = pd.concat(li, axis=0, ignore_index=True)"
   ]
  },
  {
   "cell_type": "code",
   "execution_count": 3,
   "metadata": {},
   "outputs": [
    {
     "data": {
      "text/plain": [
       "array(['detikNews', 'category', 'Parenting', 'Lifestyle',\n",
       "       'News & Entertainment', 'Beauty', 'SELEBRITI', 'KOREA',\n",
       "       'FILM INTERNASIONAL', 'FILM INDONESIA', 'SINETRON', 'HOLLYWOOD',\n",
       "       'TELEVISI', 'News', 'Bola', 'Entertainment', 'Money', 'Tekno',\n",
       "       'Otomotif', 'Sains', 'Properti', 'Travel', 'Bisnis', 'ShowBiz',\n",
       "       'Citizen6', 'Global', 'Regional', 'Health', 'Haji', 'Celebrity',\n",
       "       'Sports', 'Economy', 'Muslim', 'Techno', 'Berita Viral',\n",
       "       'nasional', 'Teknologi', 'Berita Utama', 'Berita Sumut',\n",
       "       'Medan Bung', 'Kriminal', 'Pendidikan', 'Internasional',\n",
       "       'Kesehatan', 'Dahlan Iskan', 'Medan Update', 'Ekonomi', 'hiburan',\n",
       "       'pariwisata', 'Kisah Nyata', 'Acit Nai', 'Ragam', 'Humor Medan',\n",
       "       'Ihram', 'Sepak Bola', 'Telko Highlight', 'Khazanah', 'Beacukai',\n",
       "       'Leisure', 'Oto Tek', 'Inpicture', 'Video', 'Retizen', 'Kolom',\n",
       "       'English', 'Infografis', 'Mpr Ri', 'Konsultasi', 'Sastra',\n",
       "       'Daerah', 'Nasional', 'Metro', 'Autotekno', 'International',\n",
       "       'Ekbis', nan, 'bisnis', 'sport', 'metro', 'cantik', 'dunia',\n",
       "       'bola', 'travel', 'gaya', 'tekno', 'seleb', 'otomotif', 'event',\n",
       "       'difabel', 'creativelab', 'fokus', 'newsletter', 'Super Skor',\n",
       "       'Seleb', 'Pertamina', 'Sport', 'Metropolitan', 'Tribunners',\n",
       "       'DPD RI', 'DPR RI', 'Australia Plus', 'Kilas Kementerian',\n",
       "       'Bea Cukai', 'Kalbe Health Corner', 'Selebriti', 'Film', 'TV',\n",
       "       'SerbaSerbi', 'Musik', 'Dunia', 'Kuliner'], dtype=object)"
      ]
     },
     "execution_count": 3,
     "metadata": {},
     "output_type": "execute_result"
    }
   ],
   "source": [
    "frame['category'].unique()"
   ]
  },
  {
   "cell_type": "code",
   "execution_count": 5,
   "metadata": {},
   "outputs": [
    {
     "data": {
      "text/html": [
       "<div>\n",
       "<style scoped>\n",
       "    .dataframe tbody tr th:only-of-type {\n",
       "        vertical-align: middle;\n",
       "    }\n",
       "\n",
       "    .dataframe tbody tr th {\n",
       "        vertical-align: top;\n",
       "    }\n",
       "\n",
       "    .dataframe thead th {\n",
       "        text-align: right;\n",
       "    }\n",
       "</style>\n",
       "<table border=\"1\" class=\"dataframe\">\n",
       "  <thead>\n",
       "    <tr style=\"text-align: right;\">\n",
       "      <th></th>\n",
       "      <th>title</th>\n",
       "      <th>source</th>\n",
       "      <th>date</th>\n",
       "      <th>time</th>\n",
       "      <th>category</th>\n",
       "      <th>sub-category</th>\n",
       "      <th>content</th>\n",
       "      <th>url</th>\n",
       "    </tr>\n",
       "  </thead>\n",
       "  <tbody>\n",
       "    <tr>\n",
       "      <td>0</td>\n",
       "      <td>Masuk Radar Pilwalkot Medan, Menantu Jokowi Be...</td>\n",
       "      <td>detik.com</td>\n",
       "      <td>10 September 2019</td>\n",
       "      <td>23:40</td>\n",
       "      <td>detikNews</td>\n",
       "      <td>Berita</td>\n",
       "      <td>Medan - Menantu Jokowi, Bobby Afif Nasution, m...</td>\n",
       "      <td>https://news.detik.com/berita/d-4701171/masuk-...</td>\n",
       "    </tr>\n",
       "    <tr>\n",
       "      <td>1</td>\n",
       "      <td>Malaysia Sudutkan RI: Isu Kabut Asap hingga In...</td>\n",
       "      <td>detik.com</td>\n",
       "      <td>10 September 2019</td>\n",
       "      <td>21:32</td>\n",
       "      <td>detikNews</td>\n",
       "      <td>Berita</td>\n",
       "      <td>Jakarta - Malaysia kembali menyerang pemerinta...</td>\n",
       "      <td>https://news.detik.com/berita/d-4701078/malays...</td>\n",
       "    </tr>\n",
       "    <tr>\n",
       "      <td>2</td>\n",
       "      <td>Viral! Driver Ojol di Bekasi Antar Pesanan Mak...</td>\n",
       "      <td>detik.com</td>\n",
       "      <td>10 September 2019</td>\n",
       "      <td>21:20</td>\n",
       "      <td>detikNews</td>\n",
       "      <td>Berita</td>\n",
       "      <td>Bekasi - Seorang driver ojek online di Bekasi ...</td>\n",
       "      <td>https://news.detik.com/berita/d-4701077/viral-...</td>\n",
       "    </tr>\n",
       "    <tr>\n",
       "      <td>3</td>\n",
       "      <td>Kemensos Salurkan Rp 7,3 M bagi Korban Kerusuh...</td>\n",
       "      <td>detik.com</td>\n",
       "      <td>10 September 2019</td>\n",
       "      <td>21:39</td>\n",
       "      <td>detikNews</td>\n",
       "      <td>Berita</td>\n",
       "      <td>Jakarta - Kementerian Sosial (Kemensos) menyal...</td>\n",
       "      <td>https://news.detik.com/berita/d-4701086/kemens...</td>\n",
       "    </tr>\n",
       "    <tr>\n",
       "      <td>4</td>\n",
       "      <td>Terkait Mayat Bayi Mengenaskan di Tangerang, S...</td>\n",
       "      <td>detik.com</td>\n",
       "      <td>10 September 2019</td>\n",
       "      <td>21:02</td>\n",
       "      <td>detikNews</td>\n",
       "      <td>Berita</td>\n",
       "      <td>Tangerang - Polisi menangkap pria berinisial J...</td>\n",
       "      <td>https://news.detik.com/berita/d-4701054/terkai...</td>\n",
       "    </tr>\n",
       "  </tbody>\n",
       "</table>\n",
       "</div>"
      ],
      "text/plain": [
       "                                               title     source  \\\n",
       "0  Masuk Radar Pilwalkot Medan, Menantu Jokowi Be...  detik.com   \n",
       "1  Malaysia Sudutkan RI: Isu Kabut Asap hingga In...  detik.com   \n",
       "2  Viral! Driver Ojol di Bekasi Antar Pesanan Mak...  detik.com   \n",
       "3  Kemensos Salurkan Rp 7,3 M bagi Korban Kerusuh...  detik.com   \n",
       "4  Terkait Mayat Bayi Mengenaskan di Tangerang, S...  detik.com   \n",
       "\n",
       "                date   time   category sub-category  \\\n",
       "0  10 September 2019  23:40  detikNews       Berita   \n",
       "1  10 September 2019  21:32  detikNews       Berita   \n",
       "2  10 September 2019  21:20  detikNews       Berita   \n",
       "3  10 September 2019  21:39  detikNews       Berita   \n",
       "4  10 September 2019  21:02  detikNews       Berita   \n",
       "\n",
       "                                             content  \\\n",
       "0  Medan - Menantu Jokowi, Bobby Afif Nasution, m...   \n",
       "1  Jakarta - Malaysia kembali menyerang pemerinta...   \n",
       "2  Bekasi - Seorang driver ojek online di Bekasi ...   \n",
       "3  Jakarta - Kementerian Sosial (Kemensos) menyal...   \n",
       "4  Tangerang - Polisi menangkap pria berinisial J...   \n",
       "\n",
       "                                                 url  \n",
       "0  https://news.detik.com/berita/d-4701171/masuk-...  \n",
       "1  https://news.detik.com/berita/d-4701078/malays...  \n",
       "2  https://news.detik.com/berita/d-4701077/viral-...  \n",
       "3  https://news.detik.com/berita/d-4701086/kemens...  \n",
       "4  https://news.detik.com/berita/d-4701054/terkai...  "
      ]
     },
     "execution_count": 5,
     "metadata": {},
     "output_type": "execute_result"
    }
   ],
   "source": [
    "frame.head()"
   ]
  },
  {
   "cell_type": "code",
   "execution_count": 87,
   "metadata": {},
   "outputs": [
    {
     "data": {
      "text/plain": [
       "(149, 2)"
      ]
     },
     "execution_count": 87,
     "metadata": {},
     "output_type": "execute_result"
    }
   ],
   "source": [
    "new_df = pd.DataFrame(data = frame[frame['category'] == 'Travel'].values\n",
    "                   ,columns = ['title','source','date','time','category','sub-category','content','url'])\n",
    "new_df = new_df[['content', 'category']]\n",
    "new_df.rename(columns={'content':'text','category':'label'}, inplace=True)\n",
    "new_df[\"label\"].replace({\"Travel\": \"11\"}, inplace=True)\n",
    "new_df.shape"
   ]
  },
  {
   "cell_type": "code",
   "execution_count": 88,
   "metadata": {},
   "outputs": [
    {
     "data": {
      "text/html": [
       "<div>\n",
       "<style scoped>\n",
       "    .dataframe tbody tr th:only-of-type {\n",
       "        vertical-align: middle;\n",
       "    }\n",
       "\n",
       "    .dataframe tbody tr th {\n",
       "        vertical-align: top;\n",
       "    }\n",
       "\n",
       "    .dataframe thead th {\n",
       "        text-align: right;\n",
       "    }\n",
       "</style>\n",
       "<table border=\"1\" class=\"dataframe\">\n",
       "  <thead>\n",
       "    <tr style=\"text-align: right;\">\n",
       "      <th></th>\n",
       "      <th>text</th>\n",
       "      <th>label</th>\n",
       "    </tr>\n",
       "  </thead>\n",
       "  <tbody>\n",
       "    <tr>\n",
       "      <td>0</td>\n",
       "      <td>, berhasil mempertahankan keanggotaannya di ...</td>\n",
       "      <td>11</td>\n",
       "    </tr>\n",
       "    <tr>\n",
       "      <td>1</td>\n",
       "      <td>- Ada yang menarik di Jak Japan Matsuri 2019 ...</td>\n",
       "      <td>11</td>\n",
       "    </tr>\n",
       "    <tr>\n",
       "      <td>2</td>\n",
       "      <td>-  , Seni Rupa dan Keramik di Pagelaran Nilai...</td>\n",
       "      <td>11</td>\n",
       "    </tr>\n",
       "    <tr>\n",
       "      <td>3</td>\n",
       "      <td>-  , merupakan ibukota yang memiliki banyak n...</td>\n",
       "      <td>11</td>\n",
       "    </tr>\n",
       "    <tr>\n",
       "      <td>4</td>\n",
       "      <td>- Akhir pekan lalu,  ,digelar di Plaza Tengga...</td>\n",
       "      <td>11</td>\n",
       "    </tr>\n",
       "  </tbody>\n",
       "</table>\n",
       "</div>"
      ],
      "text/plain": [
       "                                                text label\n",
       "0    , berhasil mempertahankan keanggotaannya di ...    11\n",
       "1   - Ada yang menarik di Jak Japan Matsuri 2019 ...    11\n",
       "2   -  , Seni Rupa dan Keramik di Pagelaran Nilai...    11\n",
       "3   -  , merupakan ibukota yang memiliki banyak n...    11\n",
       "4   - Akhir pekan lalu,  ,digelar di Plaza Tengga...    11"
      ]
     },
     "execution_count": 88,
     "metadata": {},
     "output_type": "execute_result"
    }
   ],
   "source": [
    "new_df.head()"
   ]
  },
  {
   "cell_type": "code",
   "execution_count": 84,
   "metadata": {},
   "outputs": [],
   "source": [
    "# Simpan data ke csv\n",
    "new_df.to_csv (r'D:\\JupyterNotebook\\Dataset\\clickNewArrange\\travel149.csv', index = False, header=True)"
   ]
  },
  {
   "cell_type": "code",
   "execution_count": null,
   "metadata": {},
   "outputs": [],
   "source": []
  }
 ],
 "metadata": {
  "kernelspec": {
   "display_name": "Python 3",
   "language": "python",
   "name": "python3"
  },
  "language_info": {
   "codemirror_mode": {
    "name": "ipython",
    "version": 3
   },
   "file_extension": ".py",
   "mimetype": "text/x-python",
   "name": "python",
   "nbconvert_exporter": "python",
   "pygments_lexer": "ipython3",
   "version": "3.7.4"
  }
 },
 "nbformat": 4,
 "nbformat_minor": 2
}
