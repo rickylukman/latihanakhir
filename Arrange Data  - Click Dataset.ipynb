{
 "cells": [
  {
   "cell_type": "code",
   "execution_count": 1,
   "metadata": {},
   "outputs": [],
   "source": [
    "import pandas as pd\n",
    "import os\n",
    "import re\n",
    "import glob"
   ]
  },
  {
   "cell_type": "markdown",
   "metadata": {},
   "source": [
    "## Manual Budaya"
   ]
  },
  {
   "cell_type": "code",
   "execution_count": null,
   "metadata": {},
   "outputs": [],
   "source": [
    "coba = pd.read_csv(r'D:\\JupyterNotebook\\Dataset\\click\\republika.csv')\n",
    "coba.head()"
   ]
  },
  {
   "cell_type": "code",
   "execution_count": null,
   "metadata": {},
   "outputs": [],
   "source": [
    "# df = pd.DataFrame(columns = ['text','label'])"
   ]
  },
  {
   "cell_type": "code",
   "execution_count": null,
   "metadata": {},
   "outputs": [],
   "source": [
    "x = pd.DataFrame(data = coba[coba['category'] == 'Ihram'].values\n",
    "                   ,columns = ['title','source','date','time','category','sub-category','content','url'])\n",
    "x = x[['content', 'sub-category']]\n",
    "x.shape"
   ]
  },
  {
   "cell_type": "code",
   "execution_count": null,
   "metadata": {},
   "outputs": [],
   "source": [
    "temp_df = pd.DataFrame(columns=['text','label'])\n",
    "text = x['content'].loc[26]\n",
    "label = 0\n",
    "temp_df.loc[0] = [text,label]\n",
    "temp_df"
   ]
  },
  {
   "cell_type": "code",
   "execution_count": null,
   "metadata": {},
   "outputs": [],
   "source": [
    "gab_temp = [df, temp_df] \n",
    "df = pd.concat(gab_temp).drop_duplicates().reset_index(drop=True)"
   ]
  },
  {
   "cell_type": "code",
   "execution_count": null,
   "metadata": {},
   "outputs": [],
   "source": [
    "# Simpan data ke csv\n",
    "df.to_csv (r'D:\\JupyterNotebook\\Dataset\\clickNewArrange\\budaya50.csv', index = False, header=True)\n",
    "print(df)"
   ]
  },
  {
   "cell_type": "markdown",
   "metadata": {},
   "source": [
    "## All click dataset"
   ]
  },
  {
   "cell_type": "code",
   "execution_count": 6,
   "metadata": {},
   "outputs": [],
   "source": [
    "path = r'D:\\JupyterNotebook\\Dataset\\click' # use your path\n",
    "all_files = glob.glob(path + \"/*.csv\")\n",
    "\n",
    "li = []\n",
    "\n",
    "for filename in all_files:\n",
    "    df = pd.read_csv(filename, index_col=None, header=0)\n",
    "    li.append(df)\n",
    "\n",
    "frame = pd.concat(li, axis=0, ignore_index=True)"
   ]
  },
  {
   "cell_type": "code",
   "execution_count": 7,
   "metadata": {},
   "outputs": [
    {
     "data": {
      "text/plain": [
       "array(['detikNews', 'category', 'Parenting', 'Lifestyle',\n",
       "       'News & Entertainment', 'Beauty', 'SELEBRITI', 'KOREA',\n",
       "       'FILM INTERNASIONAL', 'FILM INDONESIA', 'SINETRON', 'HOLLYWOOD',\n",
       "       'TELEVISI', 'News', 'Bola', 'Entertainment', 'Money', 'Tekno',\n",
       "       'Otomotif', 'Sains', 'Properti', 'Travel', 'Bisnis', 'ShowBiz',\n",
       "       'Citizen6', 'Global', 'Regional', 'Health', 'Haji', 'Celebrity',\n",
       "       'Sports', 'Economy', 'Muslim', 'Techno', 'Berita Viral',\n",
       "       'nasional', 'Teknologi', 'Berita Utama', 'Berita Sumut',\n",
       "       'Medan Bung', 'Kriminal', 'Pendidikan', 'Internasional',\n",
       "       'Kesehatan', 'Dahlan Iskan', 'Medan Update', 'Ekonomi', 'hiburan',\n",
       "       'pariwisata', 'Kisah Nyata', 'Acit Nai', 'Ragam', 'Humor Medan',\n",
       "       'Ihram', 'Sepak Bola', 'Telko Highlight', 'Khazanah', 'Beacukai',\n",
       "       'Leisure', 'Oto Tek', 'Inpicture', 'Video', 'Retizen', 'Kolom',\n",
       "       'English', 'Infografis', 'Mpr Ri', 'Konsultasi', 'Sastra',\n",
       "       'Daerah', 'Nasional', 'Metro', 'Autotekno', 'International',\n",
       "       'Ekbis', nan, 'bisnis', 'sport', 'metro', 'cantik', 'dunia',\n",
       "       'bola', 'travel', 'gaya', 'tekno', 'seleb', 'otomotif', 'event',\n",
       "       'difabel', 'creativelab', 'fokus', 'newsletter', 'Super Skor',\n",
       "       'Seleb', 'Pertamina', 'Sport', 'Metropolitan', 'Tribunners',\n",
       "       'DPD RI', 'DPR RI', 'Australia Plus', 'Kilas Kementerian',\n",
       "       'Bea Cukai', 'Kalbe Health Corner', 'Selebriti', 'Film', 'TV',\n",
       "       'SerbaSerbi', 'Musik', 'Dunia', 'Kuliner'], dtype=object)"
      ]
     },
     "execution_count": 7,
     "metadata": {},
     "output_type": "execute_result"
    }
   ],
   "source": [
    "frame['category'].unique()"
   ]
  },
  {
   "cell_type": "code",
   "execution_count": 87,
   "metadata": {},
   "outputs": [
    {
     "data": {
      "text/plain": [
       "(149, 2)"
      ]
     },
     "execution_count": 87,
     "metadata": {},
     "output_type": "execute_result"
    }
   ],
   "source": [
    "new_df = pd.DataFrame(data = frame[frame['category'] == 'Travel'].values\n",
    "                   ,columns = ['title','source','date','time','category','sub-category','content','url'])\n",
    "new_df = new_df[['content', 'category']]\n",
    "new_df.rename(columns={'content':'text','category':'label'}, inplace=True)\n",
    "new_df[\"label\"].replace({\"Travel\": \"11\"}, inplace=True)\n",
    "new_df.shape"
   ]
  },
  {
   "cell_type": "code",
   "execution_count": 88,
   "metadata": {},
   "outputs": [
    {
     "data": {
      "text/html": [
       "<div>\n",
       "<style scoped>\n",
       "    .dataframe tbody tr th:only-of-type {\n",
       "        vertical-align: middle;\n",
       "    }\n",
       "\n",
       "    .dataframe tbody tr th {\n",
       "        vertical-align: top;\n",
       "    }\n",
       "\n",
       "    .dataframe thead th {\n",
       "        text-align: right;\n",
       "    }\n",
       "</style>\n",
       "<table border=\"1\" class=\"dataframe\">\n",
       "  <thead>\n",
       "    <tr style=\"text-align: right;\">\n",
       "      <th></th>\n",
       "      <th>text</th>\n",
       "      <th>label</th>\n",
       "    </tr>\n",
       "  </thead>\n",
       "  <tbody>\n",
       "    <tr>\n",
       "      <td>0</td>\n",
       "      <td>, berhasil mempertahankan keanggotaannya di ...</td>\n",
       "      <td>11</td>\n",
       "    </tr>\n",
       "    <tr>\n",
       "      <td>1</td>\n",
       "      <td>- Ada yang menarik di Jak Japan Matsuri 2019 ...</td>\n",
       "      <td>11</td>\n",
       "    </tr>\n",
       "    <tr>\n",
       "      <td>2</td>\n",
       "      <td>-  , Seni Rupa dan Keramik di Pagelaran Nilai...</td>\n",
       "      <td>11</td>\n",
       "    </tr>\n",
       "    <tr>\n",
       "      <td>3</td>\n",
       "      <td>-  , merupakan ibukota yang memiliki banyak n...</td>\n",
       "      <td>11</td>\n",
       "    </tr>\n",
       "    <tr>\n",
       "      <td>4</td>\n",
       "      <td>- Akhir pekan lalu,  ,digelar di Plaza Tengga...</td>\n",
       "      <td>11</td>\n",
       "    </tr>\n",
       "  </tbody>\n",
       "</table>\n",
       "</div>"
      ],
      "text/plain": [
       "                                                text label\n",
       "0    , berhasil mempertahankan keanggotaannya di ...    11\n",
       "1   - Ada yang menarik di Jak Japan Matsuri 2019 ...    11\n",
       "2   -  , Seni Rupa dan Keramik di Pagelaran Nilai...    11\n",
       "3   -  , merupakan ibukota yang memiliki banyak n...    11\n",
       "4   - Akhir pekan lalu,  ,digelar di Plaza Tengga...    11"
      ]
     },
     "execution_count": 88,
     "metadata": {},
     "output_type": "execute_result"
    }
   ],
   "source": [
    "new_df.head()"
   ]
  },
  {
   "cell_type": "code",
   "execution_count": 84,
   "metadata": {},
   "outputs": [],
   "source": [
    "# Simpan data ke csv\n",
    "new_df.to_csv (r'D:\\JupyterNotebook\\Dataset\\clickNewArrange\\travel149.csv', index = False, header=True)"
   ]
  },
  {
   "cell_type": "code",
   "execution_count": null,
   "metadata": {},
   "outputs": [],
   "source": []
  }
 ],
 "metadata": {
  "kernelspec": {
   "display_name": "Python 3",
   "language": "python",
   "name": "python3"
  },
  "language_info": {
   "codemirror_mode": {
    "name": "ipython",
    "version": 3
   },
   "file_extension": ".py",
   "mimetype": "text/x-python",
   "name": "python",
   "nbconvert_exporter": "python",
   "pygments_lexer": "ipython3",
   "version": "3.7.4"
  }
 },
 "nbformat": 4,
 "nbformat_minor": 2
}
