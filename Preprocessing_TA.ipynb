{
 "cells": [
  {
   "cell_type": "code",
   "execution_count": 1,
   "metadata": {},
   "outputs": [],
   "source": [
    "import pandas as pd\n",
    "import numpy as np\n",
    "import re\n",
    "import nltk\n",
    "from nltk.tokenize import word_tokenize\n",
    "from nltk.corpus import stopwords\n",
    "from Sastrawi.Stemmer.StemmerFactory import StemmerFactory"
   ]
  },
  {
   "cell_type": "code",
   "execution_count": 2,
   "metadata": {},
   "outputs": [
    {
     "data": {
      "text/html": [
       "<div>\n",
       "<style scoped>\n",
       "    .dataframe tbody tr th:only-of-type {\n",
       "        vertical-align: middle;\n",
       "    }\n",
       "\n",
       "    .dataframe tbody tr th {\n",
       "        vertical-align: top;\n",
       "    }\n",
       "\n",
       "    .dataframe thead th {\n",
       "        text-align: right;\n",
       "    }\n",
       "</style>\n",
       "<table border=\"1\" class=\"dataframe\">\n",
       "  <thead>\n",
       "    <tr style=\"text-align: right;\">\n",
       "      <th></th>\n",
       "      <th>text</th>\n",
       "      <th>label</th>\n",
       "    </tr>\n",
       "  </thead>\n",
       "  <tbody>\n",
       "    <tr>\n",
       "      <td>0</td>\n",
       "      <td>Menpora Dukung Pianis Cilik asal Kendal yang I...</td>\n",
       "      <td>0</td>\n",
       "    </tr>\n",
       "    <tr>\n",
       "      <td>1</td>\n",
       "      <td>10 Festival Unik dari Berbagai Belahan DuniaBe...</td>\n",
       "      <td>0</td>\n",
       "    </tr>\n",
       "    <tr>\n",
       "      <td>2</td>\n",
       "      <td>Merawat Pusaka TionghoaLie kim in. Tjia Gwan S...</td>\n",
       "      <td>0</td>\n",
       "    </tr>\n",
       "    <tr>\n",
       "      <td>3</td>\n",
       "      <td>Ziarah Riwayat Foramadiahi dan Kastela“Semanga...</td>\n",
       "      <td>0</td>\n",
       "    </tr>\n",
       "    <tr>\n",
       "      <td>4</td>\n",
       "      <td>Budaya Indonesia Pudar karena Ulah Kita Sendir...</td>\n",
       "      <td>0</td>\n",
       "    </tr>\n",
       "  </tbody>\n",
       "</table>\n",
       "</div>"
      ],
      "text/plain": [
       "                                                text  label\n",
       "0  Menpora Dukung Pianis Cilik asal Kendal yang I...      0\n",
       "1  10 Festival Unik dari Berbagai Belahan DuniaBe...      0\n",
       "2  Merawat Pusaka TionghoaLie kim in. Tjia Gwan S...      0\n",
       "3  Ziarah Riwayat Foramadiahi dan Kastela“Semanga...      0\n",
       "4  Budaya Indonesia Pudar karena Ulah Kita Sendir...      0"
      ]
     },
     "execution_count": 2,
     "metadata": {},
     "output_type": "execute_result"
    }
   ],
   "source": [
    "# Baca raw_data\n",
    "df = pd.read_csv('DataProcess/raw_data.csv') \n",
    "df.head()"
   ]
  },
  {
   "cell_type": "markdown",
   "metadata": {},
   "source": [
    "# Preproccesing"
   ]
  },
  {
   "cell_type": "code",
   "execution_count": 3,
   "metadata": {},
   "outputs": [],
   "source": [
    "def delNumber(text):\n",
    "    noNum = re.sub(r\"\\d+\", \"\", text)\n",
    "    return noNum"
   ]
  },
  {
   "cell_type": "code",
   "execution_count": 4,
   "metadata": {},
   "outputs": [],
   "source": [
    "def delSymbol(text):\n",
    "    symbols = \"!\\\"“”#$%&’'()*+-,./:;<=>?@[\\]^_`{|}~\\n\"\n",
    "    for i in symbols:\n",
    "        text = np.char.replace(text, i, ' ')\n",
    "    return text"
   ]
  },
  {
   "cell_type": "code",
   "execution_count": 5,
   "metadata": {},
   "outputs": [],
   "source": [
    "def delWhiteSpace(text):\n",
    "    text = re.sub('\\s+',' ',str(text))\n",
    "    return text"
   ]
  },
  {
   "cell_type": "code",
   "execution_count": 6,
   "metadata": {},
   "outputs": [],
   "source": [
    "def caseFolding(text):\n",
    "    text = np.char.lower(text)\n",
    "    return text"
   ]
  },
  {
   "cell_type": "code",
   "execution_count": 7,
   "metadata": {},
   "outputs": [],
   "source": [
    "def tokenize(text):\n",
    "    text = nltk.tokenize.word_tokenize(str(text))\n",
    "    return text"
   ]
  },
  {
   "cell_type": "code",
   "execution_count": 8,
   "metadata": {},
   "outputs": [],
   "source": [
    "def stopwordRemove(text, list_stopwords):\n",
    "    text = [word for word in text if not word in list_stopwords]\n",
    "    return text"
   ]
  },
  {
   "cell_type": "code",
   "execution_count": 9,
   "metadata": {},
   "outputs": [
    {
     "name": "stdout",
     "output_type": "stream",
     "text": [
      "Data Cleansing done, save in cleansing_df.pkl\n",
      "Case Folding done, save in casefolding_df.pkl\n",
      "Tokenization done, save in tokenization_df.pkl\n",
      "Stopwords Removal done, save in stopwords_df.pkl\n"
     ]
    }
   ],
   "source": [
    "# Data Cleansing\n",
    "df['text']=df.apply(lambda x: delNumber(x[0]), axis=1)\n",
    "df['text']=df.apply(lambda x: delSymbol(x[0]), axis=1)\n",
    "df['text']=df.apply(lambda x: delWhiteSpace(x[0]), axis=1)\n",
    "df.to_pickle('D:\\JupyterNotebook\\DataProcess\\cleansing_df.pkl')\n",
    "print(\"Data Cleansing done, save in cleansing_df.pkl\")\n",
    "\n",
    "# Case Folding\n",
    "df['text']=df.apply(lambda x: caseFolding(x[0]), axis=1)\n",
    "df.to_pickle('D:\\JupyterNotebook\\DataProcess\\casefolding_df.pkl')\n",
    "print(\"Case Folding done, save in casefolding_df.pkl\")\n",
    "\n",
    "# Tokenization\n",
    "df['text']=df.apply(lambda x: tokenize(x[0]), axis=1)\n",
    "df.to_pickle(r'D:\\JupyterNotebook\\DataProcess\\tokenization_df.pkl')\n",
    "print(\"Tokenization done, save in tokenization_df.pkl\")\n",
    "\n",
    "# Stopwords Removal\n",
    "list_stopwords = set(stopwords.words('indonesian')) # Set dictionary from library\n",
    "df['text']=df.apply(lambda x: stopwordRemove(x[0],list_stopwords), axis=1)\n",
    "df.to_pickle('D:\\JupyterNotebook\\DataProcess\\stopwords_df.pkl')\n",
    "print(\"Stopwords Removal done, save in stopwords_df.pkl\")"
   ]
  },
  {
   "cell_type": "code",
   "execution_count": 2,
   "metadata": {},
   "outputs": [],
   "source": [
    "def stemmingSastrawi(text):\n",
    "    newtext = []\n",
    "    for kata in text:\n",
    "        newtext.append(stemmer.stem(kata))\n",
    "    return newtext"
   ]
  },
  {
   "cell_type": "code",
   "execution_count": 3,
   "metadata": {},
   "outputs": [],
   "source": [
    "# Steeming\n",
    "factory = StemmerFactory()\n",
    "stemmer = factory.create_stemmer()"
   ]
  },
  {
   "cell_type": "code",
   "execution_count": 27,
   "metadata": {},
   "outputs": [
    {
     "data": {
      "text/html": [
       "<div>\n",
       "<style scoped>\n",
       "    .dataframe tbody tr th:only-of-type {\n",
       "        vertical-align: middle;\n",
       "    }\n",
       "\n",
       "    .dataframe tbody tr th {\n",
       "        vertical-align: top;\n",
       "    }\n",
       "\n",
       "    .dataframe thead th {\n",
       "        text-align: right;\n",
       "    }\n",
       "</style>\n",
       "<table border=\"1\" class=\"dataframe\">\n",
       "  <thead>\n",
       "    <tr style=\"text-align: right;\">\n",
       "      <th></th>\n",
       "      <th>text</th>\n",
       "      <th>label</th>\n",
       "    </tr>\n",
       "  </thead>\n",
       "  <tbody>\n",
       "    <tr>\n",
       "      <td>0</td>\n",
       "      <td>[menpora, dukung, pianis, cilik, kendal, pecah...</td>\n",
       "      <td>0</td>\n",
       "    </tr>\n",
       "    <tr>\n",
       "      <td>1</td>\n",
       "      <td>[festival, unik, bahan, duniaberbagai, negara,...</td>\n",
       "      <td>0</td>\n",
       "    </tr>\n",
       "    <tr>\n",
       "      <td>2</td>\n",
       "      <td>[rawat, pusaka, tionghoalie, kim, in, tjia, gw...</td>\n",
       "      <td>0</td>\n",
       "    </tr>\n",
       "    <tr>\n",
       "      <td>3</td>\n",
       "      <td>[ziarah, riwayat, foramadiahi, kastela, semang...</td>\n",
       "      <td>0</td>\n",
       "    </tr>\n",
       "    <tr>\n",
       "      <td>4</td>\n",
       "      <td>[budaya, indonesia, pudar, ulah, sendiribudaya...</td>\n",
       "      <td>0</td>\n",
       "    </tr>\n",
       "  </tbody>\n",
       "</table>\n",
       "</div>"
      ],
      "text/plain": [
       "                                                text  label\n",
       "0  [menpora, dukung, pianis, cilik, kendal, pecah...      0\n",
       "1  [festival, unik, bahan, duniaberbagai, negara,...      0\n",
       "2  [rawat, pusaka, tionghoalie, kim, in, tjia, gw...      0\n",
       "3  [ziarah, riwayat, foramadiahi, kastela, semang...      0\n",
       "4  [budaya, indonesia, pudar, ulah, sendiribudaya...      0"
      ]
     },
     "execution_count": 27,
     "metadata": {},
     "output_type": "execute_result"
    }
   ],
   "source": [
    "dfX = pd.read_pickle(r'D:\\JupyterNotebook\\DataProcess\\stemming_49.pkl')\n",
    "dfX.head()"
   ]
  },
  {
   "cell_type": "code",
   "execution_count": 75,
   "metadata": {},
   "outputs": [],
   "source": [
    "# 0-9 ll1 = 9\n",
    "# 10-19 ll2 = 19\n",
    "# 20-29 ll3 = 29\n",
    "# 30-39 ll4 = 39\n",
    "# 40-49 ll5 =49\n",
    "# 50-59 ll6 = 59\n",
    "# 60-69 ll7 = 69\n",
    "# 70-79 ll8 = 79\n",
    "# 80-89 ll9 = 89\n",
    "# 90-99 ll10 = 99\n",
    "# 100-119 ll11 = 119\n",
    "# 120-139 ll12 = 139\n",
    "# 140-159 ll13 = 159\n",
    "# 160-179 ll14 = 179\n",
    "# 180-199 ll15 = 199\n",
    "# 200-219 ll16 = 219\n",
    "# 220-239 ll17 = 239\n",
    "# 240-259 ll18 = 259\n",
    "# 260-279 ll19 = 279\n",
    "# 280-299 \n",
    "ll20 = 299\n",
    "# 300-319 \n",
    "ll21 = 319\n",
    "# 320-339 \n",
    "ll22 = 339\n",
    "# 340-365 \n",
    "ll23 = 365"
   ]
  },
  {
   "cell_type": "code",
   "execution_count": 69,
   "metadata": {},
   "outputs": [
    {
     "data": {
      "text/plain": [
       "(366, 2)"
      ]
     },
     "execution_count": 69,
     "metadata": {},
     "output_type": "execute_result"
    }
   ],
   "source": [
    "df3 = dfX"
   ]
  },
  {
   "cell_type": "code",
   "execution_count": 84,
   "metadata": {},
   "outputs": [
    {
     "name": "stdout",
     "output_type": "stream",
     "text": [
      "Wall time: 1min 5s\n"
     ]
    }
   ],
   "source": [
    "%%time\n",
    "# DONE\n",
    "counter = ll22\n",
    "while(counter <= ll23):\n",
    "    newData = []\n",
    "    for data in dfX['text'].loc[counter]:\n",
    "        newData.append(stemmer.stem(data))\n",
    "    df3['text'].loc[counter] = newData\n",
    "    counter += 1"
   ]
  },
  {
   "cell_type": "code",
   "execution_count": 91,
   "metadata": {},
   "outputs": [
    {
     "name": "stdout",
     "output_type": "stream",
     "text": [
      "Stemming done, save in stemming_365.pkl\n"
     ]
    }
   ],
   "source": [
    "df3.to_pickle('D:\\JupyterNotebook\\DataProcess\\stemming_365.pkl')\n",
    "print(\"Stemming done, save in stemming_365.pkl\")"
   ]
  },
  {
   "cell_type": "code",
   "execution_count": 89,
   "metadata": {},
   "outputs": [
    {
     "name": "stdout",
     "output_type": "stream",
     "text": [
      "['destinasi', 'wisata', 'mengerikan', 'berenang', 'buaya', 'kolam', 'setanguys', 'bosan', 'liburan', 'mencoba', 'beda', 'salahnya', 'mencoba', 'ekstrim', 'pengalaman', 'terlupakan', 'dibanding', 'berbaring', 'pantai', 'minggu', 'menguji', 'adrenalin', 'menemukan', 'terduga', 'destinasi', 'ekstrim', 'menunggumu', 'dilansir', 'tribuntravel', 'com', 'laman', 'herbeauty', 'com', 'rekomendasi', 'cage', 'of', 'death', 'australiapantai', 'australia', 'dikenal', 'sebagia', 'indah', 'dunia', 'bayangkan', 'bentangan', 'pasir', 'putih', 'bermil', 'mil', 'jauhnya', 'sunset', 'indah', 'ombak', 'cocok', 'berselancar', 'destinasi', 'sempurna', 'mengunjungi', 'australia', 'liburan', 'berbeda', 'coba', 'menyelam', 'menit', 'air', 'buaya', 'raksasa', 'mematikan', 'berenang', 'bebas', 'sekitarmu', 'cage', 'of', 'death', 'menawarkan', 'fasilitas', 'berenang', 'buaya', 'mencoba', 'ditempatkan', 'kandang', 'akrilik', 'tembus', 'pandang', 'dirancang', 'orang', 'derajat', 'cage', 'of', 'death', 'beroperasi', 'kali', 'tiketnya', 'usd', 'setara', 'rp', 'juta', 'perorang', 'bungee', 'jump', 'tertinggi', 'dunia', 'chinabungee', 'jum', 'menara', 'aj', 'hackett', 'macau', 'dunia', 'tingginya', 'mencapai', 'kaki', 'setara', 'meter', 'sensasi', 'melompat', 'bebas', 'gedung', 'menggoncang', 'adrenalinmu', 'mencoba', 'olahraga', 'dikenakan', 'biaya', 'mahal', 'usd', 'setara', 'rp', 'juta', 'flight', 'of', 'the', 'gibbon', 'bangkok', 'thailandjika', 'alam', 'thailand', 'mencoba', 'paket', 'permainan', 'kegiatan', 'menantang', 'adrenalin', 'diajak', 'menjelajahi', 'hutan', 'jembatan', 'tali', 'bergelantungan', 'ala', 'tarzan', 'biayanya', 'usd', 'setara', 'rp', 'juta', 'paragliding', 'elang', 'nepalparagliding', 'terbilang', 'terbang', 'sembari', 'menikmati', 'keindahan', 'alam', 'ditawarkan', 'makan', 'burung', 'elang', 'terbang', 'paket', 'khusus', 'terbang', 'paragliding', 'makan', 'siang', 'gratis', 'gelang', 'eksklusud', 'parahawking', 'tshirt', 'foto', 'video', 'terbang', 'dikenakan', 'berenang', 'kolam', 'setan', 'victoria', 'falls', 'zambiakolam', 'renang', 'setan', 'air', 'terjun', 'victoria', 'sensasi', 'berenang', 'pinggiran', 'air', 'terjun', 'sensasi', 'berbeda', 'usd', 'setara', 'rp', 'juta', 'biaya', 'dibutuhkan', 'mencoba', 'sensasi', 'berenang', 'kolam', 'setan']\n"
     ]
    }
   ],
   "source": [
    "print(dfX['text'].loc[365])"
   ]
  },
  {
   "cell_type": "code",
   "execution_count": 90,
   "metadata": {},
   "outputs": [
    {
     "name": "stdout",
     "output_type": "stream",
     "text": [
      "['destinasi', 'wisata', 'keri', 'renang', 'buaya', 'kolam', 'setanguys', 'bosan', 'libur', 'coba', 'beda', 'salah', 'coba', 'ekstrim', 'alam', 'lupa', 'banding', 'baring', 'pantai', 'minggu', 'uji', 'adrenalin', 'temu', 'duga', 'destinasi', 'ekstrim', 'tunggu', 'lansir', 'tribuntravel', 'com', 'laman', 'herbeauty', 'com', 'rekomendasi', 'cage', 'of', 'death', 'australiapantai', 'australia', 'kenal', 'sebagia', 'indah', 'dunia', 'bayang', 'bentang', 'pasir', 'putih', 'mil', 'mil', 'jauh', 'sunset', 'indah', 'ombak', 'cocok', 'selancar', 'destinasi', 'sempurna', 'unjung', 'australia', 'libur', 'beda', 'coba', 'selam', 'menit', 'air', 'buaya', 'raksasa', 'mati', 'renang', 'bebas', 'sekitar', 'cage', 'of', 'death', 'tawar', 'fasilitas', 'renang', 'buaya', 'coba', 'tempat', 'kandang', 'akrilik', 'tembus', 'pandang', 'rancang', 'orang', 'derajat', 'cage', 'of', 'death', 'operasi', 'kali', 'tiket', 'usd', 'tara', 'rp', 'juta', 'orang', 'bungee', 'jump', 'tinggi', 'dunia', 'chinabungee', 'jum', 'menara', 'aj', 'hackett', 'macau', 'dunia', 'tinggi', 'capai', 'kaki', 'tara', 'meter', 'sensasi', 'lompat', 'bebas', 'gedung', 'menggoncang', 'adrenalin', 'coba', 'olahraga', 'kena', 'biaya', 'mahal', 'usd', 'tara', 'rp', 'juta', 'flight', 'of', 'the', 'gibbon', 'bangkok', 'thailandjika', 'alam', 'thailand', 'coba', 'paket', 'main', 'giat', 'tantang', 'adrenalin', 'ajak', 'jajah', 'hutan', 'jembatan', 'tali', 'gantung', 'ala', 'tarzan', 'biaya', 'usd', 'tara', 'rp', 'juta', 'paragliding', 'elang', 'nepalparagliding', 'bilang', 'terbang', 'sembari', 'nikmat', 'indah', 'alam', 'tawar', 'makan', 'burung', 'elang', 'terbang', 'paket', 'khusus', 'terbang', 'paragliding', 'makan', 'siang', 'gratis', 'gelang', 'eksklusud', 'parahawking', 'tshirt', 'foto', 'video', 'terbang', 'kena', 'renang', 'kolam', 'setan', 'victoria', 'falls', 'zambiakolam', 'renang', 'setan', 'air', 'terjun', 'victoria', 'sensasi', 'renang', 'pinggir', 'air', 'terjun', 'sensasi', 'beda', 'usd', 'tara', 'rp', 'juta', 'biaya', 'butuh', 'coba', 'sensasi', 'renang', 'kolam', 'setan']\n"
     ]
    }
   ],
   "source": [
    "print(df3['text'].loc[365])"
   ]
  },
  {
   "cell_type": "code",
   "execution_count": null,
   "metadata": {},
   "outputs": [],
   "source": []
  }
 ],
 "metadata": {
  "kernelspec": {
   "display_name": "Python 3",
   "language": "python",
   "name": "python3"
  },
  "language_info": {
   "codemirror_mode": {
    "name": "ipython",
    "version": 3
   },
   "file_extension": ".py",
   "mimetype": "text/x-python",
   "name": "python",
   "nbconvert_exporter": "python",
   "pygments_lexer": "ipython3",
   "version": "3.7.4"
  }
 },
 "nbformat": 4,
 "nbformat_minor": 2
}
