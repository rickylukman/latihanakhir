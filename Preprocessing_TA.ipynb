{
 "cells": [
  {
   "cell_type": "code",
   "execution_count": 1,
   "metadata": {},
   "outputs": [],
   "source": [
    "import pandas as pd\n",
    "import numpy as np\n",
    "import re\n",
    "import nltk\n",
    "from nltk.tokenize import word_tokenize\n",
    "from nltk.corpus import stopwords\n",
    "from Sastrawi.Stemmer.StemmerFactory import StemmerFactory"
   ]
  },
  {
   "cell_type": "code",
   "execution_count": null,
   "metadata": {},
   "outputs": [],
   "source": [
    "# Baca raw_data\n",
    "df = pd.read_csv('DataProcess/raw_data.csv') \n",
    "df.head()"
   ]
  },
  {
   "cell_type": "markdown",
   "metadata": {},
   "source": [
    "# Preproccesing"
   ]
  },
  {
   "cell_type": "code",
   "execution_count": null,
   "metadata": {},
   "outputs": [],
   "source": [
    "def delNumber(text):\n",
    "    noNum = re.sub(r\"\\d+\", \"\", text)\n",
    "    return noNum"
   ]
  },
  {
   "cell_type": "code",
   "execution_count": null,
   "metadata": {},
   "outputs": [],
   "source": [
    "def delSymbol(text):\n",
    "    symbols = \"!\\\"“”#$%&’'()*+-,./:;<=>?@[\\]^_`{|}~\\n\"\n",
    "    for i in symbols:\n",
    "        text = np.char.replace(text, i, ' ')\n",
    "    return text"
   ]
  },
  {
   "cell_type": "code",
   "execution_count": null,
   "metadata": {},
   "outputs": [],
   "source": [
    "def delWhiteSpace(text):\n",
    "    text = re.sub('\\s+',' ',str(text))\n",
    "    return text"
   ]
  },
  {
   "cell_type": "code",
   "execution_count": null,
   "metadata": {},
   "outputs": [],
   "source": [
    "def caseFolding(text):\n",
    "    text = np.char.lower(text)\n",
    "    return text"
   ]
  },
  {
   "cell_type": "code",
   "execution_count": null,
   "metadata": {},
   "outputs": [],
   "source": [
    "def tokenize(text):\n",
    "    text = nltk.tokenize.word_tokenize(str(text))\n",
    "    return text"
   ]
  },
  {
   "cell_type": "code",
   "execution_count": null,
   "metadata": {},
   "outputs": [],
   "source": [
    "def stopwordRemove(text, list_stopwords):\n",
    "    text = [word for word in text if not word in list_stopwords]\n",
    "    return text"
   ]
  },
  {
   "cell_type": "code",
   "execution_count": null,
   "metadata": {},
   "outputs": [],
   "source": [
    "# Data Cleansing\n",
    "df['text']=df.apply(lambda x: delNumber(x[0]), axis=1)\n",
    "df['text']=df.apply(lambda x: delSymbol(x[0]), axis=1)\n",
    "df['text']=df.apply(lambda x: delWhiteSpace(x[0]), axis=1)\n",
    "df.to_pickle('D:\\JupyterNotebook\\DataProcess\\cleansing_df.pkl')\n",
    "print(\"Data Cleansing done, save in cleansing_df.pkl\")\n",
    "\n",
    "# Case Folding\n",
    "df['text']=df.apply(lambda x: caseFolding(x[0]), axis=1)\n",
    "df.to_pickle('D:\\JupyterNotebook\\DataProcess\\casefolding_df.pkl')\n",
    "print(\"Case Folding done, save in casefolding_df.pkl\")\n",
    "\n",
    "# Tokenization\n",
    "df['text']=df.apply(lambda x: tokenize(x[0]), axis=1)\n",
    "df.to_pickle(r'D:\\JupyterNotebook\\DataProcess\\tokenization_df.pkl')\n",
    "print(\"Tokenization done, save in tokenization_df.pkl\")\n",
    "\n",
    "# Stopwords Removal\n",
    "list_stopwords = set(stopwords.words('indonesian')) # Set dictionary from library\n",
    "df['text']=df.apply(lambda x: stopwordRemove(x[0],list_stopwords), axis=1)\n",
    "df.to_pickle('D:\\JupyterNotebook\\DataProcess\\stopwords_df.pkl')\n",
    "print(\"Stopwords Removal done, save in stopwords_df.pkl\")"
   ]
  },
  {
   "cell_type": "code",
   "execution_count": null,
   "metadata": {},
   "outputs": [],
   "source": [
    "def stemmingSastrawi(text):\n",
    "    newtext = []\n",
    "    for kata in text:\n",
    "        newtext.append(stemmer.stem(kata))\n",
    "    return newtext"
   ]
  },
  {
   "cell_type": "code",
   "execution_count": null,
   "metadata": {},
   "outputs": [],
   "source": [
    "# Steeming\n",
    "factory = StemmerFactory()\n",
    "stemmer = factory.create_stemmer()"
   ]
  },
  {
   "cell_type": "code",
   "execution_count": 2,
   "metadata": {},
   "outputs": [
    {
     "data": {
      "text/html": [
       "<div>\n",
       "<style scoped>\n",
       "    .dataframe tbody tr th:only-of-type {\n",
       "        vertical-align: middle;\n",
       "    }\n",
       "\n",
       "    .dataframe tbody tr th {\n",
       "        vertical-align: top;\n",
       "    }\n",
       "\n",
       "    .dataframe thead th {\n",
       "        text-align: right;\n",
       "    }\n",
       "</style>\n",
       "<table border=\"1\" class=\"dataframe\">\n",
       "  <thead>\n",
       "    <tr style=\"text-align: right;\">\n",
       "      <th></th>\n",
       "      <th>text</th>\n",
       "      <th>label</th>\n",
       "    </tr>\n",
       "  </thead>\n",
       "  <tbody>\n",
       "    <tr>\n",
       "      <td>0</td>\n",
       "      <td>[menpora, dukung, pianis, cilik, kendal, pecah...</td>\n",
       "      <td>0</td>\n",
       "    </tr>\n",
       "    <tr>\n",
       "      <td>1</td>\n",
       "      <td>[festival, unik, bahan, duniaberbagai, negara,...</td>\n",
       "      <td>0</td>\n",
       "    </tr>\n",
       "    <tr>\n",
       "      <td>2</td>\n",
       "      <td>[rawat, pusaka, tionghoalie, kim, in, tjia, gw...</td>\n",
       "      <td>0</td>\n",
       "    </tr>\n",
       "    <tr>\n",
       "      <td>3</td>\n",
       "      <td>[ziarah, riwayat, foramadiahi, kastela, semang...</td>\n",
       "      <td>0</td>\n",
       "    </tr>\n",
       "    <tr>\n",
       "      <td>4</td>\n",
       "      <td>[budaya, indonesia, pudar, ulah, sendiribudaya...</td>\n",
       "      <td>0</td>\n",
       "    </tr>\n",
       "  </tbody>\n",
       "</table>\n",
       "</div>"
      ],
      "text/plain": [
       "                                                text  label\n",
       "0  [menpora, dukung, pianis, cilik, kendal, pecah...      0\n",
       "1  [festival, unik, bahan, duniaberbagai, negara,...      0\n",
       "2  [rawat, pusaka, tionghoalie, kim, in, tjia, gw...      0\n",
       "3  [ziarah, riwayat, foramadiahi, kastela, semang...      0\n",
       "4  [budaya, indonesia, pudar, ulah, sendiribudaya...      0"
      ]
     },
     "execution_count": 2,
     "metadata": {},
     "output_type": "execute_result"
    }
   ],
   "source": [
    "dfX = pd.read_pickle(r'D:\\JupyterNotebook\\DataProcess\\stemming_365.pkl')\n",
    "dfX.head()"
   ]
  },
  {
   "cell_type": "code",
   "execution_count": null,
   "metadata": {},
   "outputs": [],
   "source": [
    "# 0-9 ll1 = 9\n",
    "# 10-19 ll2 = 19\n",
    "# 20-29 ll3 = 29\n",
    "# 30-39 ll4 = 39\n",
    "# 40-49 ll5 =49\n",
    "# 50-59 ll6 = 59\n",
    "# 60-69 ll7 = 69\n",
    "# 70-79 ll8 = 79\n",
    "# 80-89 ll9 = 89\n",
    "# 90-99 ll10 = 99\n",
    "# 100-119 ll11 = 119\n",
    "# 120-139 ll12 = 139\n",
    "# 140-159 ll13 = 159\n",
    "# 160-179 ll14 = 179\n",
    "# 180-199 ll15 = 199\n",
    "# 200-219 ll16 = 219\n",
    "# 220-239 ll17 = 239\n",
    "# 240-259 ll18 = 259\n",
    "# 260-279 ll19 = 279\n",
    "# 280-299 ll20 = 299\n",
    "# 300-319 ll21 = 319\n",
    "# 320-339 ll22 = 339\n",
    "# 340-365 ll23 = 365"
   ]
  },
  {
   "cell_type": "code",
   "execution_count": null,
   "metadata": {},
   "outputs": [],
   "source": [
    "df3 = dfX"
   ]
  },
  {
   "cell_type": "code",
   "execution_count": null,
   "metadata": {},
   "outputs": [],
   "source": [
    "%%time\n",
    "# DONE\n",
    "counter = ll22\n",
    "while(counter <= ll23):\n",
    "    newData = []\n",
    "    for data in dfX['text'].loc[counter]:\n",
    "        newData.append(stemmer.stem(data))\n",
    "    df3['text'].loc[counter] = newData\n",
    "    counter += 1"
   ]
  },
  {
   "cell_type": "code",
   "execution_count": null,
   "metadata": {},
   "outputs": [],
   "source": [
    "df3.to_pickle('D:\\JupyterNotebook\\DataProcess\\stemming_365.pkl')\n",
    "print(\"Stemming done, save in stemming_365.pkl\")"
   ]
  },
  {
   "cell_type": "code",
   "execution_count": 3,
   "metadata": {},
   "outputs": [
    {
     "data": {
      "text/plain": [
       "7     34\n",
       "6     31\n",
       "5     31\n",
       "2     31\n",
       "11    30\n",
       "10    30\n",
       "9     30\n",
       "8     30\n",
       "3     30\n",
       "1     30\n",
       "0     30\n",
       "4     29\n",
       "Name: label, dtype: int64"
      ]
     },
     "execution_count": 3,
     "metadata": {},
     "output_type": "execute_result"
    }
   ],
   "source": [
    "dfX['label'].value_counts()"
   ]
  },
  {
   "cell_type": "code",
   "execution_count": 286,
   "metadata": {},
   "outputs": [],
   "source": [
    "dict_by_label = dict(iter(dfX.groupby('label')))"
   ]
  },
  {
   "cell_type": "code",
   "execution_count": 287,
   "metadata": {},
   "outputs": [],
   "source": [
    "for i in range(len(dict_by_label)):\n",
    "    dict_by_label[i].reset_index(drop=True,inplace=True)"
   ]
  },
  {
   "cell_type": "code",
   "execution_count": 288,
   "metadata": {},
   "outputs": [
    {
     "name": "stdout",
     "output_type": "stream",
     "text": [
      "12\n"
     ]
    }
   ],
   "source": [
    "print(len(dict_by_label))"
   ]
  },
  {
   "cell_type": "code",
   "execution_count": 289,
   "metadata": {},
   "outputs": [
    {
     "data": {
      "text/html": [
       "<div>\n",
       "<style scoped>\n",
       "    .dataframe tbody tr th:only-of-type {\n",
       "        vertical-align: middle;\n",
       "    }\n",
       "\n",
       "    .dataframe tbody tr th {\n",
       "        vertical-align: top;\n",
       "    }\n",
       "\n",
       "    .dataframe thead th {\n",
       "        text-align: right;\n",
       "    }\n",
       "</style>\n",
       "<table border=\"1\" class=\"dataframe\">\n",
       "  <thead>\n",
       "    <tr style=\"text-align: right;\">\n",
       "      <th></th>\n",
       "      <th>text</th>\n",
       "      <th>label</th>\n",
       "    </tr>\n",
       "  </thead>\n",
       "  <tbody>\n",
       "    <tr>\n",
       "      <td>0</td>\n",
       "      <td>[menpora, dukung, pianis, cilik, kendal, pecah...</td>\n",
       "      <td>0</td>\n",
       "    </tr>\n",
       "    <tr>\n",
       "      <td>1</td>\n",
       "      <td>[festival, unik, bahan, duniaberbagai, negara,...</td>\n",
       "      <td>0</td>\n",
       "    </tr>\n",
       "    <tr>\n",
       "      <td>2</td>\n",
       "      <td>[rawat, pusaka, tionghoalie, kim, in, tjia, gw...</td>\n",
       "      <td>0</td>\n",
       "    </tr>\n",
       "    <tr>\n",
       "      <td>3</td>\n",
       "      <td>[ziarah, riwayat, foramadiahi, kastela, semang...</td>\n",
       "      <td>0</td>\n",
       "    </tr>\n",
       "    <tr>\n",
       "      <td>4</td>\n",
       "      <td>[budaya, indonesia, pudar, ulah, sendiribudaya...</td>\n",
       "      <td>0</td>\n",
       "    </tr>\n",
       "  </tbody>\n",
       "</table>\n",
       "</div>"
      ],
      "text/plain": [
       "                                                text  label\n",
       "0  [menpora, dukung, pianis, cilik, kendal, pecah...      0\n",
       "1  [festival, unik, bahan, duniaberbagai, negara,...      0\n",
       "2  [rawat, pusaka, tionghoalie, kim, in, tjia, gw...      0\n",
       "3  [ziarah, riwayat, foramadiahi, kastela, semang...      0\n",
       "4  [budaya, indonesia, pudar, ulah, sendiribudaya...      0"
      ]
     },
     "execution_count": 289,
     "metadata": {},
     "output_type": "execute_result"
    }
   ],
   "source": [
    "dict_by_label[0].head()"
   ]
  },
  {
   "cell_type": "code",
   "execution_count": 296,
   "metadata": {},
   "outputs": [
    {
     "name": "stdout",
     "output_type": "stream",
     "text": [
      "Wall time: 895 ms\n"
     ]
    }
   ],
   "source": [
    "%%time\n",
    "final_df = pd.DataFrame(columns=['text','label'])\n",
    "counter = 0\n",
    "while (counter<=28):\n",
    "    temp_final = pd.DataFrame(columns=['text','label'])\n",
    "    for i in range(len(dict_by_label)):\n",
    "        temp_text = dict_by_label[i].text[counter]\n",
    "        temp_label = dict_by_label[i].label[counter]\n",
    "        data_temp = pd.DataFrame({'text':[temp_text],'label':temp_label}, columns=['text','label'])\n",
    "        temp_final = pd.concat([temp_final, data_temp], axis=0)\n",
    "    final_df = pd.concat([final_df, temp_final], axis=0)\n",
    "    counter += 1\n",
    "final_df.reset_index(drop=True, inplace=True)\n",
    "# final_df"
   ]
  },
  {
   "cell_type": "code",
   "execution_count": 297,
   "metadata": {},
   "outputs": [
    {
     "data": {
      "text/html": [
       "<div>\n",
       "<style scoped>\n",
       "    .dataframe tbody tr th:only-of-type {\n",
       "        vertical-align: middle;\n",
       "    }\n",
       "\n",
       "    .dataframe tbody tr th {\n",
       "        vertical-align: top;\n",
       "    }\n",
       "\n",
       "    .dataframe thead th {\n",
       "        text-align: right;\n",
       "    }\n",
       "</style>\n",
       "<table border=\"1\" class=\"dataframe\">\n",
       "  <thead>\n",
       "    <tr style=\"text-align: right;\">\n",
       "      <th></th>\n",
       "      <th>text</th>\n",
       "      <th>label</th>\n",
       "    </tr>\n",
       "  </thead>\n",
       "  <tbody>\n",
       "    <tr>\n",
       "      <td>0</td>\n",
       "      <td>[menpora, dukung, pianis, cilik, kendal, pecah...</td>\n",
       "      <td>0</td>\n",
       "    </tr>\n",
       "    <tr>\n",
       "      <td>1</td>\n",
       "      <td>[survei, bi, inflasi, februari, persenbank, in...</td>\n",
       "      <td>1</td>\n",
       "    </tr>\n",
       "    <tr>\n",
       "      <td>2</td>\n",
       "      <td>[vicky, shu, sih, gak, nikah, cepatvicky, shu,...</td>\n",
       "      <td>2</td>\n",
       "    </tr>\n",
       "    <tr>\n",
       "      <td>3</td>\n",
       "      <td>[kritis, laku, bom, panci, bandung, tewaskabid...</td>\n",
       "      <td>3</td>\n",
       "    </tr>\n",
       "    <tr>\n",
       "      <td>4</td>\n",
       "      <td>[mudah, atas, bau, badanbagi, orang, bau, tubu...</td>\n",
       "      <td>4</td>\n",
       "    </tr>\n",
       "    <tr>\n",
       "      <td>...</td>\n",
       "      <td>...</td>\n",
       "      <td>...</td>\n",
       "    </tr>\n",
       "    <tr>\n",
       "      <td>343</td>\n",
       "      <td>[emakku, kartini, cerita, juang, perempuan, pe...</td>\n",
       "      <td>7</td>\n",
       "    </tr>\n",
       "    <tr>\n",
       "      <td>344</td>\n",
       "      <td>[sby, klarifikasi, kuasa, antasarirumah, gera,...</td>\n",
       "      <td>8</td>\n",
       "    </tr>\n",
       "    <tr>\n",
       "      <td>345</td>\n",
       "      <td>[djohar, manik, tajir, juara, pacu, kuda, jate...</td>\n",
       "      <td>9</td>\n",
       "    </tr>\n",
       "    <tr>\n",
       "      <td>346</td>\n",
       "      <td>[bukti, bahaya, pltn, robot, bersih, rusakpada...</td>\n",
       "      <td>10</td>\n",
       "    </tr>\n",
       "    <tr>\n",
       "      <td>347</td>\n",
       "      <td>[lokasi, wisata, pantai, cocok, libur, tahunak...</td>\n",
       "      <td>11</td>\n",
       "    </tr>\n",
       "  </tbody>\n",
       "</table>\n",
       "<p>348 rows × 2 columns</p>\n",
       "</div>"
      ],
      "text/plain": [
       "                                                  text label\n",
       "0    [menpora, dukung, pianis, cilik, kendal, pecah...     0\n",
       "1    [survei, bi, inflasi, februari, persenbank, in...     1\n",
       "2    [vicky, shu, sih, gak, nikah, cepatvicky, shu,...     2\n",
       "3    [kritis, laku, bom, panci, bandung, tewaskabid...     3\n",
       "4    [mudah, atas, bau, badanbagi, orang, bau, tubu...     4\n",
       "..                                                 ...   ...\n",
       "343  [emakku, kartini, cerita, juang, perempuan, pe...     7\n",
       "344  [sby, klarifikasi, kuasa, antasarirumah, gera,...     8\n",
       "345  [djohar, manik, tajir, juara, pacu, kuda, jate...     9\n",
       "346  [bukti, bahaya, pltn, robot, bersih, rusakpada...    10\n",
       "347  [lokasi, wisata, pantai, cocok, libur, tahunak...    11\n",
       "\n",
       "[348 rows x 2 columns]"
      ]
     },
     "execution_count": 297,
     "metadata": {},
     "output_type": "execute_result"
    }
   ],
   "source": [
    "final_df\n",
    "# Berarti kurang sisanya, karena counter cuman sampe 28"
   ]
  },
  {
   "cell_type": "code",
   "execution_count": 51,
   "metadata": {},
   "outputs": [],
   "source": [
    "# Mengubah dictionary per-label menjadi dataframe\n",
    "var_counter = 0\n",
    "\n",
    "for usr in range(len(dict_by_label)):\n",
    "    tempVar = \"df_\"+str(var_counter)\n",
    "    globals()[tempVar] = pd.DataFrame.from_dict(dict_by_label[usr])\n",
    "    globals()[tempVar].reset_index(drop=True,inplace=True)\n",
    "    var_counter +=1"
   ]
  },
  {
   "cell_type": "code",
   "execution_count": 71,
   "metadata": {},
   "outputs": [],
   "source": [
    "# for i in range(0,len(dict_by_label)):\n",
    "#     tempdf = eval(\"df_\"+str(i))\n",
    "#     print(i,\":\",tempdf.loc[0])\n",
    "#     ex0 = df_0.head(1)\n",
    "#     ex1 = df_1.head(1)\n",
    "#     vertical_stack = pd.concat([ex0, ex1], axis=0)"
   ]
  },
  {
   "cell_type": "code",
   "execution_count": null,
   "metadata": {},
   "outputs": [],
   "source": []
  }
 ],
 "metadata": {
  "kernelspec": {
   "display_name": "Python 3",
   "language": "python",
   "name": "python3"
  },
  "language_info": {
   "codemirror_mode": {
    "name": "ipython",
    "version": 3
   },
   "file_extension": ".py",
   "mimetype": "text/x-python",
   "name": "python",
   "nbconvert_exporter": "python",
   "pygments_lexer": "ipython3",
   "version": "3.7.4"
  }
 },
 "nbformat": 4,
 "nbformat_minor": 2
}
