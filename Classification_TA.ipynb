{
 "cells": [
  {
   "cell_type": "code",
   "execution_count": 1,
   "metadata": {},
   "outputs": [],
   "source": [
    "import pandas as pd\n",
    "import time\n",
    "import joblib\n",
    "import matplotlib.pyplot as plt\n",
    "import numpy as np\n",
    "from sklearn.feature_extraction.text import TfidfVectorizer, CountVectorizer, TfidfTransformer\n",
    "from sklearn.feature_selection import SelectKBest, chi2\n",
    "from sklearn.model_selection import train_test_split\n",
    "from sklearn.model_selection import KFold\n",
    "from sklearn.neighbors import KNeighborsClassifier\n",
    "from sklearn.neighbors import DistanceMetric\n",
    "from sklearn.metrics import classification_report, confusion_matrix"
   ]
  },
  {
   "cell_type": "code",
   "execution_count": 2,
   "metadata": {},
   "outputs": [],
   "source": [
    "df = pd.read_pickle(r'D:\\JupyterNotebook\\DataProcess\\preprocess_SWsastrawi_stemming.pkl')\n",
    "dfNo = pd.read_pickle(r'D:\\JupyterNotebook\\DataProcess\\preprocess_SWsastrawi_nostemming.pkl')"
   ]
  },
  {
   "cell_type": "code",
   "execution_count": null,
   "metadata": {},
   "outputs": [],
   "source": [
    "kf = KFold(n_splits=5)\n",
    "i = 1\n",
    "for train_index, test_index in kf.split(df):\n",
    "#     print(test_index)\n",
    "#     print(train_index[0],\"-\",train_index[len(train_index)-1])\n",
    "    print(test_index[0],\"+\",test_index[len(test_index)-1])\n",
    "    X_train = df['text'].iloc[train_index[0]:train_index[len(train_index)-1]]\n",
    "    X_test = df['text'].iloc[test_index[0]:test_index[len(test_index)-1]]\n",
    "    y_train = df['label'].iloc[train_index[0]:train_index[len(train_index)-1]].astype('int')\n",
    "    y_test = df['label'].iloc[test_index[0]:test_index[len(test_index)-1]].astype('int')\n",
    "    \n",
    "#     vectorizer = TfidfVectorizer()\n",
    "#     X_train = vectorizer.fit_transform(X_train)\n",
    "#     X_test = vectorizer.transform(X_test)\n",
    "    counter = CountVectorizer(min_df=3,\n",
    "                              dtype=np.double)\n",
    "    counter.fit(X_train)\n",
    "    X_train = counter.transform(X_train)\n",
    "    X_test = counter.transform(X_test)\n",
    "    \n",
    "    transformer = TfidfTransformer(norm='l2', sublinear_tf=True)\n",
    "    X_train = transformer.fit_transform(X_train)\n",
    "    X_test = transformer.transform(X_test)\n",
    "    \n",
    "    X_train,X_test = select_features(X_train, y_train, X_test)\n",
    "    \n",
    "    modelknn2 = KNeighborsClassifier(n_neighbors=13, weights='uniform', metric='euclidean')\n",
    "    modelknn2.fit(X_train,y_train)\n",
    "    y_pred = modelknn2.predict(X_test)\n",
    "#     print(classification_report(y_test,y_pred))\n",
    "    result = modelknn2.score(X_test, y_test)\n",
    "    print(\"Fold ke-\",i,\"=\",result)\n",
    "    print(\"----------------\")\n",
    "    i+=1"
   ]
  },
  {
   "cell_type": "code",
   "execution_count": 3,
   "metadata": {},
   "outputs": [],
   "source": [
    "def split(strt,fnsh,df):\n",
    "    X_test = df['text'].iloc[strt:fnsh]\n",
    "    y_test = df['label'].iloc[strt:fnsh].astype('int')\n",
    "    df.drop(df.index[strt:fnsh])\n",
    "    X_train = df['text']\n",
    "    y_train = df['label'].astype('int')    \n",
    "    return X_train, X_test, y_train, y_test"
   ]
  },
  {
   "cell_type": "code",
   "execution_count": 21,
   "metadata": {},
   "outputs": [],
   "source": [
    "def select_features(train_X, train_y, test_X):\n",
    "#     total fitur 7343\n",
    "# 2004\n",
    "# 1802 nltk\n",
    "# 2599 sastrawi 1967\n",
    "    selector = SelectKBest(chi2, k=1967)\n",
    "    selector.fit(train_X, train_y)\n",
    "#     new = selector.fit_transform(train_X, train_y)\n",
    "#     print(new.shape)\n",
    "    train_X = selector.transform(train_X)\n",
    "    test_X = selector.transform(test_X)\n",
    "    return train_X, test_X"
   ]
  },
  {
   "cell_type": "code",
   "execution_count": 30,
   "metadata": {},
   "outputs": [],
   "source": [
    "def classifier(df,distance_name,k_neighbor):\n",
    "    print(\"Nama distance=\",distance_name)\n",
    "    print(\"Jumlah K tetangga=\",k_neighbor)\n",
    "    spl = [0,36,72,108,144,180,216,252,288,324,360]\n",
    "    tempspl = []\n",
    "    i = 0\n",
    "    akurasimax=0\n",
    "    while (i<len(spl)-1):\n",
    "        if len(spl)-2 != len(tempspl):\n",
    "            X_train, X_test, y_train, y_test = split(spl[i],spl[i+2],df)\n",
    "            tempspl.append(spl[i])\n",
    "    #   ketika array[i+2] == null (looping terakhir)\n",
    "        elif (len(spl)-len(tempspl)) == 2:\n",
    "    #       split last and first\n",
    "            X_test1 = df['text'].iloc[spl[i]:spl[i+1]]\n",
    "            y_test1 = df['label'].iloc[spl[i]:spl[i+1]].astype('int')\n",
    "            X_test2 = df['text'].iloc[tempspl[0]:tempspl[1]]\n",
    "            y_test2 = df['label'].iloc[tempspl[0]:tempspl[1]].astype('int')\n",
    "    #       concat last and first\n",
    "            X_test = pd.concat([X_test1, X_test2], axis=0)\n",
    "            y_test = pd.concat([y_test1, y_test2], axis=0)\n",
    "    #       split except last and first\n",
    "            X_train = df['text'].iloc[tempspl[1]:tempspl[len(tempspl)-1]]\n",
    "            y_train = df['label'].iloc[tempspl[1]:tempspl[len(tempspl)-1]].astype('int')\n",
    "        \n",
    "#         vectorizer = TfidfVectorizer()\n",
    "#         X_train = vectorizer.fit_transform(X_train)\n",
    "#         X_test = vectorizer.transform(X_test)\n",
    "        counter = CountVectorizer(min_df=3,\n",
    "                              dtype=np.double)\n",
    "        counter.fit(X_train)\n",
    "        X_train = counter.transform(X_train)\n",
    "        X_test = counter.transform(X_test)\n",
    "\n",
    "        transformer = TfidfTransformer(norm='l2', sublinear_tf=True)\n",
    "        X_train = transformer.fit_transform(X_train)\n",
    "        X_test = transformer.transform(X_test)\n",
    "        \n",
    "        X_train,X_test = select_features(X_train, y_train, X_test)\n",
    "\n",
    "        modelknn = KNeighborsClassifier(n_neighbors=k_neighbor, weights='uniform', metric=distance_name)\n",
    "        modelknn.fit(X_train,y_train)\n",
    "        y_pred = modelknn.predict(X_test)\n",
    "#         print(classification_report(y_test,y_pred))\n",
    "        result = modelknn.score(X_test, y_test)\n",
    "        print(\"Fold ke-\",i+1,\"=\",result)\n",
    "        if (result >= akurasimax):\n",
    "            akurasimax = result\n",
    "            foldke = i+1\n",
    "        i+=1\n",
    "    print(\"Akurasi terbaik adalah\",akurasimax,\"pada fold ke-\",foldke)\n",
    "    print(\"------------------------------------\")\n",
    "    return akurasimax"
   ]
  },
  {
   "cell_type": "code",
   "execution_count": 31,
   "metadata": {
    "scrolled": true
   },
   "outputs": [
    {
     "name": "stdout",
     "output_type": "stream",
     "text": [
      "Dengan Stemming\n",
      "Nama distance= euclidean\n",
      "Jumlah K tetangga= 1\n",
      "survei bi inflasi februari persenbank indonesia bi kira inflasi indeks harga konsumen ihk februari capai persen dasar survei pantau harga sph laku bank sentral pekan dua februari  minggu dua februari dasar survei inflasi kisar persen  kata gubernur bi agus dw martowardojo kantor di jakarta jumat agus tutur angka inflasi sebut cenderung lebih baik pasal januari lalu inflasi ihk catat besar persen bulan month to month mtm agus sumber sumber sumbang inflasi kait komponen harga atur perintah administered prices kait sesuai tarif listrik perintah itu sumber inflasi asal beberapa komponen harga pangan gejolak volatile food ini kait gejolak harga cabai merah cabai rawit bawang merah beri kontribusi inflasi volatileadapun komponen daging ayam pantau alami deflasi demikian bank sentral pantau inflasi tahun hingga pekan dua februari capai persen year on year yoy\n",
      "Fold ke- 1 = 1.0\n",
      "survei bi inflasi februari persenbank indonesia bi kira inflasi indeks harga konsumen ihk februari capai persen dasar survei pantau harga sph laku bank sentral pekan dua februari  minggu dua februari dasar survei inflasi kisar persen  kata gubernur bi agus dw martowardojo kantor di jakarta jumat agus tutur angka inflasi sebut cenderung lebih baik pasal januari lalu inflasi ihk catat besar persen bulan month to month mtm agus sumber sumber sumbang inflasi kait komponen harga atur perintah administered prices kait sesuai tarif listrik perintah itu sumber inflasi asal beberapa komponen harga pangan gejolak volatile food ini kait gejolak harga cabai merah cabai rawit bawang merah beri kontribusi inflasi volatileadapun komponen daging ayam pantau alami deflasi demikian bank sentral pantau inflasi tahun hingga pekan dua februari capai persen year on year yoy\n",
      "Fold ke- 2 = 1.0\n",
      "survei bi inflasi februari persenbank indonesia bi kira inflasi indeks harga konsumen ihk februari capai persen dasar survei pantau harga sph laku bank sentral pekan dua februari  minggu dua februari dasar survei inflasi kisar persen  kata gubernur bi agus dw martowardojo kantor di jakarta jumat agus tutur angka inflasi sebut cenderung lebih baik pasal januari lalu inflasi ihk catat besar persen bulan month to month mtm agus sumber sumber sumbang inflasi kait komponen harga atur perintah administered prices kait sesuai tarif listrik perintah itu sumber inflasi asal beberapa komponen harga pangan gejolak volatile food ini kait gejolak harga cabai merah cabai rawit bawang merah beri kontribusi inflasi volatileadapun komponen daging ayam pantau alami deflasi demikian bank sentral pantau inflasi tahun hingga pekan dua februari capai persen year on year yoy\n",
      "Fold ke- 3 = 1.0\n",
      "survei bi inflasi februari persenbank indonesia bi kira inflasi indeks harga konsumen ihk februari capai persen dasar survei pantau harga sph laku bank sentral pekan dua februari  minggu dua februari dasar survei inflasi kisar persen  kata gubernur bi agus dw martowardojo kantor di jakarta jumat agus tutur angka inflasi sebut cenderung lebih baik pasal januari lalu inflasi ihk catat besar persen bulan month to month mtm agus sumber sumber sumbang inflasi kait komponen harga atur perintah administered prices kait sesuai tarif listrik perintah itu sumber inflasi asal beberapa komponen harga pangan gejolak volatile food ini kait gejolak harga cabai merah cabai rawit bawang merah beri kontribusi inflasi volatileadapun komponen daging ayam pantau alami deflasi demikian bank sentral pantau inflasi tahun hingga pekan dua februari capai persen year on year yoy\n",
      "Fold ke- 4 = 1.0\n",
      "survei bi inflasi februari persenbank indonesia bi kira inflasi indeks harga konsumen ihk februari capai persen dasar survei pantau harga sph laku bank sentral pekan dua februari  minggu dua februari dasar survei inflasi kisar persen  kata gubernur bi agus dw martowardojo kantor di jakarta jumat agus tutur angka inflasi sebut cenderung lebih baik pasal januari lalu inflasi ihk catat besar persen bulan month to month mtm agus sumber sumber sumbang inflasi kait komponen harga atur perintah administered prices kait sesuai tarif listrik perintah itu sumber inflasi asal beberapa komponen harga pangan gejolak volatile food ini kait gejolak harga cabai merah cabai rawit bawang merah beri kontribusi inflasi volatileadapun komponen daging ayam pantau alami deflasi demikian bank sentral pantau inflasi tahun hingga pekan dua februari capai persen year on year yoy\n",
      "Fold ke- 5 = 1.0\n",
      "survei bi inflasi februari persenbank indonesia bi kira inflasi indeks harga konsumen ihk februari capai persen dasar survei pantau harga sph laku bank sentral pekan dua februari  minggu dua februari dasar survei inflasi kisar persen  kata gubernur bi agus dw martowardojo kantor di jakarta jumat agus tutur angka inflasi sebut cenderung lebih baik pasal januari lalu inflasi ihk catat besar persen bulan month to month mtm agus sumber sumber sumbang inflasi kait komponen harga atur perintah administered prices kait sesuai tarif listrik perintah itu sumber inflasi asal beberapa komponen harga pangan gejolak volatile food ini kait gejolak harga cabai merah cabai rawit bawang merah beri kontribusi inflasi volatileadapun komponen daging ayam pantau alami deflasi demikian bank sentral pantau inflasi tahun hingga pekan dua februari capai persen year on year yoy\n",
      "Fold ke- 6 = 1.0\n",
      "survei bi inflasi februari persenbank indonesia bi kira inflasi indeks harga konsumen ihk februari capai persen dasar survei pantau harga sph laku bank sentral pekan dua februari  minggu dua februari dasar survei inflasi kisar persen  kata gubernur bi agus dw martowardojo kantor di jakarta jumat agus tutur angka inflasi sebut cenderung lebih baik pasal januari lalu inflasi ihk catat besar persen bulan month to month mtm agus sumber sumber sumbang inflasi kait komponen harga atur perintah administered prices kait sesuai tarif listrik perintah itu sumber inflasi asal beberapa komponen harga pangan gejolak volatile food ini kait gejolak harga cabai merah cabai rawit bawang merah beri kontribusi inflasi volatileadapun komponen daging ayam pantau alami deflasi demikian bank sentral pantau inflasi tahun hingga pekan dua februari capai persen year on year yoy\n",
      "Fold ke- 7 = 1.0\n",
      "survei bi inflasi februari persenbank indonesia bi kira inflasi indeks harga konsumen ihk februari capai persen dasar survei pantau harga sph laku bank sentral pekan dua februari  minggu dua februari dasar survei inflasi kisar persen  kata gubernur bi agus dw martowardojo kantor di jakarta jumat agus tutur angka inflasi sebut cenderung lebih baik pasal januari lalu inflasi ihk catat besar persen bulan month to month mtm agus sumber sumber sumbang inflasi kait komponen harga atur perintah administered prices kait sesuai tarif listrik perintah itu sumber inflasi asal beberapa komponen harga pangan gejolak volatile food ini kait gejolak harga cabai merah cabai rawit bawang merah beri kontribusi inflasi volatileadapun komponen daging ayam pantau alami deflasi demikian bank sentral pantau inflasi tahun hingga pekan dua februari capai persen year on year yoy\n",
      "Fold ke- 8 = 1.0\n",
      "survei bi inflasi februari persenbank indonesia bi kira inflasi indeks harga konsumen ihk februari capai persen dasar survei pantau harga sph laku bank sentral pekan dua februari  minggu dua februari dasar survei inflasi kisar persen  kata gubernur bi agus dw martowardojo kantor di jakarta jumat agus tutur angka inflasi sebut cenderung lebih baik pasal januari lalu inflasi ihk catat besar persen bulan month to month mtm agus sumber sumber sumbang inflasi kait komponen harga atur perintah administered prices kait sesuai tarif listrik perintah itu sumber inflasi asal beberapa komponen harga pangan gejolak volatile food ini kait gejolak harga cabai merah cabai rawit bawang merah beri kontribusi inflasi volatileadapun komponen daging ayam pantau alami deflasi demikian bank sentral pantau inflasi tahun hingga pekan dua februari capai persen year on year yoy\n",
      "Fold ke- 9 = 1.0\n"
     ]
    },
    {
     "ename": "KeyError",
     "evalue": "1",
     "output_type": "error",
     "traceback": [
      "\u001b[1;31m---------------------------------------------------------------------------\u001b[0m",
      "\u001b[1;31mKeyError\u001b[0m                                  Traceback (most recent call last)",
      "\u001b[1;32m<timed exec>\u001b[0m in \u001b[0;36m<module>\u001b[1;34m\u001b[0m\n",
      "\u001b[1;32m<ipython-input-30-acac722b41a7>\u001b[0m in \u001b[0;36mclassifier\u001b[1;34m(df, distance_name, k_neighbor)\u001b[0m\n\u001b[0;32m     27\u001b[0m \u001b[1;31m#         X_train = vectorizer.fit_transform(X_train)\u001b[0m\u001b[1;33m\u001b[0m\u001b[1;33m\u001b[0m\u001b[1;33m\u001b[0m\u001b[0m\n\u001b[0;32m     28\u001b[0m \u001b[1;31m#         X_test = vectorizer.transform(X_test)\u001b[0m\u001b[1;33m\u001b[0m\u001b[1;33m\u001b[0m\u001b[1;33m\u001b[0m\u001b[0m\n\u001b[1;32m---> 29\u001b[1;33m         \u001b[0mprint\u001b[0m\u001b[1;33m(\u001b[0m\u001b[0mX_train\u001b[0m\u001b[1;33m[\u001b[0m\u001b[1;36m1\u001b[0m\u001b[1;33m]\u001b[0m\u001b[1;33m)\u001b[0m\u001b[1;33m\u001b[0m\u001b[1;33m\u001b[0m\u001b[0m\n\u001b[0m\u001b[0;32m     30\u001b[0m         counter = CountVectorizer(min_df=3,\n\u001b[0;32m     31\u001b[0m                               dtype=np.double)\n",
      "\u001b[1;32m~\\Anaconda3\\lib\\site-packages\\pandas\\core\\series.py\u001b[0m in \u001b[0;36m__getitem__\u001b[1;34m(self, key)\u001b[0m\n\u001b[0;32m   1066\u001b[0m         \u001b[0mkey\u001b[0m \u001b[1;33m=\u001b[0m \u001b[0mcom\u001b[0m\u001b[1;33m.\u001b[0m\u001b[0mapply_if_callable\u001b[0m\u001b[1;33m(\u001b[0m\u001b[0mkey\u001b[0m\u001b[1;33m,\u001b[0m \u001b[0mself\u001b[0m\u001b[1;33m)\u001b[0m\u001b[1;33m\u001b[0m\u001b[1;33m\u001b[0m\u001b[0m\n\u001b[0;32m   1067\u001b[0m         \u001b[1;32mtry\u001b[0m\u001b[1;33m:\u001b[0m\u001b[1;33m\u001b[0m\u001b[1;33m\u001b[0m\u001b[0m\n\u001b[1;32m-> 1068\u001b[1;33m             \u001b[0mresult\u001b[0m \u001b[1;33m=\u001b[0m \u001b[0mself\u001b[0m\u001b[1;33m.\u001b[0m\u001b[0mindex\u001b[0m\u001b[1;33m.\u001b[0m\u001b[0mget_value\u001b[0m\u001b[1;33m(\u001b[0m\u001b[0mself\u001b[0m\u001b[1;33m,\u001b[0m \u001b[0mkey\u001b[0m\u001b[1;33m)\u001b[0m\u001b[1;33m\u001b[0m\u001b[1;33m\u001b[0m\u001b[0m\n\u001b[0m\u001b[0;32m   1069\u001b[0m \u001b[1;33m\u001b[0m\u001b[0m\n\u001b[0;32m   1070\u001b[0m             \u001b[1;32mif\u001b[0m \u001b[1;32mnot\u001b[0m \u001b[0mis_scalar\u001b[0m\u001b[1;33m(\u001b[0m\u001b[0mresult\u001b[0m\u001b[1;33m)\u001b[0m\u001b[1;33m:\u001b[0m\u001b[1;33m\u001b[0m\u001b[1;33m\u001b[0m\u001b[0m\n",
      "\u001b[1;32m~\\Anaconda3\\lib\\site-packages\\pandas\\core\\indexes\\base.py\u001b[0m in \u001b[0;36mget_value\u001b[1;34m(self, series, key)\u001b[0m\n\u001b[0;32m   4728\u001b[0m         \u001b[0mk\u001b[0m \u001b[1;33m=\u001b[0m \u001b[0mself\u001b[0m\u001b[1;33m.\u001b[0m\u001b[0m_convert_scalar_indexer\u001b[0m\u001b[1;33m(\u001b[0m\u001b[0mk\u001b[0m\u001b[1;33m,\u001b[0m \u001b[0mkind\u001b[0m\u001b[1;33m=\u001b[0m\u001b[1;34m\"getitem\"\u001b[0m\u001b[1;33m)\u001b[0m\u001b[1;33m\u001b[0m\u001b[1;33m\u001b[0m\u001b[0m\n\u001b[0;32m   4729\u001b[0m         \u001b[1;32mtry\u001b[0m\u001b[1;33m:\u001b[0m\u001b[1;33m\u001b[0m\u001b[1;33m\u001b[0m\u001b[0m\n\u001b[1;32m-> 4730\u001b[1;33m             \u001b[1;32mreturn\u001b[0m \u001b[0mself\u001b[0m\u001b[1;33m.\u001b[0m\u001b[0m_engine\u001b[0m\u001b[1;33m.\u001b[0m\u001b[0mget_value\u001b[0m\u001b[1;33m(\u001b[0m\u001b[0ms\u001b[0m\u001b[1;33m,\u001b[0m \u001b[0mk\u001b[0m\u001b[1;33m,\u001b[0m \u001b[0mtz\u001b[0m\u001b[1;33m=\u001b[0m\u001b[0mgetattr\u001b[0m\u001b[1;33m(\u001b[0m\u001b[0mseries\u001b[0m\u001b[1;33m.\u001b[0m\u001b[0mdtype\u001b[0m\u001b[1;33m,\u001b[0m \u001b[1;34m\"tz\"\u001b[0m\u001b[1;33m,\u001b[0m \u001b[1;32mNone\u001b[0m\u001b[1;33m)\u001b[0m\u001b[1;33m)\u001b[0m\u001b[1;33m\u001b[0m\u001b[1;33m\u001b[0m\u001b[0m\n\u001b[0m\u001b[0;32m   4731\u001b[0m         \u001b[1;32mexcept\u001b[0m \u001b[0mKeyError\u001b[0m \u001b[1;32mas\u001b[0m \u001b[0me1\u001b[0m\u001b[1;33m:\u001b[0m\u001b[1;33m\u001b[0m\u001b[1;33m\u001b[0m\u001b[0m\n\u001b[0;32m   4732\u001b[0m             \u001b[1;32mif\u001b[0m \u001b[0mlen\u001b[0m\u001b[1;33m(\u001b[0m\u001b[0mself\u001b[0m\u001b[1;33m)\u001b[0m \u001b[1;33m>\u001b[0m \u001b[1;36m0\u001b[0m \u001b[1;32mand\u001b[0m \u001b[1;33m(\u001b[0m\u001b[0mself\u001b[0m\u001b[1;33m.\u001b[0m\u001b[0mholds_integer\u001b[0m\u001b[1;33m(\u001b[0m\u001b[1;33m)\u001b[0m \u001b[1;32mor\u001b[0m \u001b[0mself\u001b[0m\u001b[1;33m.\u001b[0m\u001b[0mis_boolean\u001b[0m\u001b[1;33m(\u001b[0m\u001b[1;33m)\u001b[0m\u001b[1;33m)\u001b[0m\u001b[1;33m:\u001b[0m\u001b[1;33m\u001b[0m\u001b[1;33m\u001b[0m\u001b[0m\n",
      "\u001b[1;32mpandas\\_libs\\index.pyx\u001b[0m in \u001b[0;36mpandas._libs.index.IndexEngine.get_value\u001b[1;34m()\u001b[0m\n",
      "\u001b[1;32mpandas\\_libs\\index.pyx\u001b[0m in \u001b[0;36mpandas._libs.index.IndexEngine.get_value\u001b[1;34m()\u001b[0m\n",
      "\u001b[1;32mpandas\\_libs\\index.pyx\u001b[0m in \u001b[0;36mpandas._libs.index.IndexEngine.get_loc\u001b[1;34m()\u001b[0m\n",
      "\u001b[1;32mpandas\\_libs\\hashtable_class_helper.pxi\u001b[0m in \u001b[0;36mpandas._libs.hashtable.Int64HashTable.get_item\u001b[1;34m()\u001b[0m\n",
      "\u001b[1;32mpandas\\_libs\\hashtable_class_helper.pxi\u001b[0m in \u001b[0;36mpandas._libs.hashtable.Int64HashTable.get_item\u001b[1;34m()\u001b[0m\n",
      "\u001b[1;31mKeyError\u001b[0m: 1"
     ]
    }
   ],
   "source": [
    "%%time\n",
    "# %%capture cap --no-stderr\n",
    "start_time = time.time()\n",
    "dfcount = [df,dfNo]\n",
    "distancecount = ['euclidean','manhattan','minkowski']\n",
    "kcount = [1,3,5,7,9,11,13,15]\n",
    "for x in range(2):\n",
    "    arrd1 = []\n",
    "    arrd2 = []\n",
    "    arrd3 = []\n",
    "    for y in range(len(distancecount)):\n",
    "        maxresult = []\n",
    "        for z in range(len(kcount)):\n",
    "            if x==0:\n",
    "                print('Dengan Stemming')\n",
    "            else:\n",
    "                print('Tanpa Stemming')\n",
    "            tempmax = classifier(dfcount[x],distancecount[y],kcount[z])\n",
    "            maxresult.append(tempmax)\n",
    "            if y==0:\n",
    "                arrd1.append(tempmax)\n",
    "            elif y==1:\n",
    "                arrd2.append(tempmax)\n",
    "            elif y==2:\n",
    "                arrd3.append(tempmax)\n",
    "#         tapi fold yang dipakai beda beda\n",
    "    plt.plot(kcount, arrd1, label = \"euclidean\")\n",
    "    plt.plot(kcount, arrd2, label = \"manhattan\")\n",
    "    plt.plot(kcount, arrd3, label = \"minkowski\")\n",
    "    plt.xticks(kcount)\n",
    "    if x==0:\n",
    "        plt.title(\"Stemming\")\n",
    "    else:\n",
    "        plt.title(\"Tidak Stemming\")\n",
    "    plt.xlabel('Fold')\n",
    "    plt.ylabel('Akurasi')\n",
    "    plt.legend()\n",
    "    plt.pause(0.05)\n",
    "plt.show\n",
    "print(\"Lama Proses %s seconds\" % (time.time() - start_time))\n",
    "# with open('5000_fitur_SWnltkv2.txt', 'w') as f:\n",
    "#     f.write(cap.stdout)"
   ]
  },
  {
   "cell_type": "markdown",
   "metadata": {},
   "source": [
    "# try--"
   ]
  },
  {
   "cell_type": "code",
   "execution_count": null,
   "metadata": {},
   "outputs": [],
   "source": [
    "X_train = df['text'].iloc[72:]\n",
    "X_test = df['text'].iloc[:72]\n",
    "y_train = df['label'].iloc[72:].astype('int')\n",
    "y_test = df['label'].iloc[:72].astype('int')"
   ]
  },
  {
   "cell_type": "code",
   "execution_count": null,
   "metadata": {},
   "outputs": [],
   "source": [
    "X = df['text']\n",
    "y = df['label'].astype('int')\n",
    "# X = dfNo['text']\n",
    "# y = dfNo['label'].astype('int')"
   ]
  },
  {
   "cell_type": "code",
   "execution_count": null,
   "metadata": {},
   "outputs": [],
   "source": [
    "# Pembentukan tf-idf untuk pembobotan\n",
    "vectorizer = TfidfVectorizer()\n",
    "# X = vectorizer.fit_transform(X)\n",
    "\n",
    "X_train = vectorizer.fit_transform(X_train)\n",
    "X_test = vectorizer.transform(X_test)"
   ]
  },
  {
   "cell_type": "code",
   "execution_count": null,
   "metadata": {},
   "outputs": [],
   "source": [
    "print(X_train.shape)"
   ]
  },
  {
   "cell_type": "code",
   "execution_count": null,
   "metadata": {},
   "outputs": [],
   "source": [
    "print(vectorizer.vocabulary_)\n",
    "# print(len(vectorizer.get_feature_names()))"
   ]
  },
  {
   "cell_type": "code",
   "execution_count": null,
   "metadata": {},
   "outputs": [],
   "source": [
    "X_train, X_test, y_train, y_test = train_test_split(X, y, test_size=0.3, shuffle=False)"
   ]
  },
  {
   "cell_type": "code",
   "execution_count": null,
   "metadata": {},
   "outputs": [],
   "source": [
    "%%time\n",
    "modelknn2 = KNeighborsClassifier(n_neighbors=13, weights='uniform', metric='euclidean')\n",
    "modelknn2.fit(X_train,y_train)"
   ]
  },
  {
   "cell_type": "code",
   "execution_count": null,
   "metadata": {},
   "outputs": [],
   "source": [
    "filename = 'D:\\JupyterNotebook\\Model\\model_nostemming_173_splitmanual.sav'\n",
    "joblib.dump(modelknn2, filename)"
   ]
  },
  {
   "cell_type": "code",
   "execution_count": null,
   "metadata": {},
   "outputs": [],
   "source": [
    "filename = 'D:\\JupyterNotebook\\Model\\model_stemming.sav'\n",
    "loaded_model = joblib.load(filename)\n",
    "# result = loaded_model.score(X_test, y_test)\n",
    "# print(result)"
   ]
  },
  {
   "cell_type": "code",
   "execution_count": null,
   "metadata": {},
   "outputs": [],
   "source": [
    "y_pred = modelknn2.predict(X_test)\n",
    "y_pred"
   ]
  },
  {
   "cell_type": "code",
   "execution_count": null,
   "metadata": {},
   "outputs": [],
   "source": [
    "y_pred = loaded_model.predict(X_test)\n",
    "y_pred"
   ]
  },
  {
   "cell_type": "code",
   "execution_count": null,
   "metadata": {
    "scrolled": true
   },
   "outputs": [],
   "source": [
    "modelknn2.predict_proba(X_test)"
   ]
  },
  {
   "cell_type": "code",
   "execution_count": null,
   "metadata": {},
   "outputs": [],
   "source": [
    "print(confusion_matrix(y_test, y_pred))"
   ]
  },
  {
   "cell_type": "code",
   "execution_count": null,
   "metadata": {},
   "outputs": [],
   "source": [
    "print(classification_report(y_test,y_pred))"
   ]
  },
  {
   "cell_type": "code",
   "execution_count": null,
   "metadata": {},
   "outputs": [],
   "source": [
    "result = modelknn2.score(X_test, y_test)\n",
    "print(result)"
   ]
  },
  {
   "cell_type": "code",
   "execution_count": null,
   "metadata": {},
   "outputs": [],
   "source": [
    "result_class = pd.DataFrame({'Actual Result':y_test, 'Predicted Result':y_pred})\n",
    "result_class"
   ]
  },
  {
   "cell_type": "code",
   "execution_count": null,
   "metadata": {},
   "outputs": [],
   "source": [
    "with pd.option_context('display.max_rows', None, 'display.max_columns', None):\n",
    "    print(result_class)"
   ]
  },
  {
   "cell_type": "code",
   "execution_count": null,
   "metadata": {},
   "outputs": [],
   "source": []
  }
 ],
 "metadata": {
  "kernelspec": {
   "display_name": "Python 3",
   "language": "python",
   "name": "python3"
  },
  "language_info": {
   "codemirror_mode": {
    "name": "ipython",
    "version": 3
   },
   "file_extension": ".py",
   "mimetype": "text/x-python",
   "name": "python",
   "nbconvert_exporter": "python",
   "pygments_lexer": "ipython3",
   "version": "3.7.4"
  }
 },
 "nbformat": 4,
 "nbformat_minor": 2
}
