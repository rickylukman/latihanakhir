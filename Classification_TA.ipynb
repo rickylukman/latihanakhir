{
 "cells": [
  {
   "cell_type": "code",
   "execution_count": 2,
   "metadata": {},
   "outputs": [],
   "source": [
    "import pandas as pd\n",
    "import joblib\n",
    "import matplotlib.pyplot as plt\n",
    "import numpy as np\n",
    "from sklearn.feature_extraction.text import TfidfVectorizer\n",
    "from sklearn.model_selection import train_test_split\n",
    "from sklearn.neighbors import KNeighborsClassifier\n",
    "from sklearn.neighbors import DistanceMetric\n",
    "from sklearn.metrics import classification_report, confusion_matrix\n",
    "from sklearn.model_selection import KFold\n",
    "from sklearn.feature_selection import SelectKBest, chi2"
   ]
  },
  {
   "cell_type": "code",
   "execution_count": 3,
   "metadata": {},
   "outputs": [],
   "source": [
    "df = pd.read_pickle(r'D:\\JupyterNotebook\\DataProcess\\preprocess_result_stemming.pkl')\n",
    "dfNo = pd.read_pickle(r'D:\\JupyterNotebook\\DataProcess\\preprocess_result_nostemming.pkl')"
   ]
  },
  {
   "cell_type": "code",
   "execution_count": null,
   "metadata": {},
   "outputs": [],
   "source": [
    "kf = KFold(n_splits=5)\n",
    "i = 1\n",
    "for train_index, test_index in kf.split(df):\n",
    "#     print(test_index)\n",
    "#     print(train_index[0],\"-\",train_index[len(train_index)-1])\n",
    "    print(test_index[0],\"+\",test_index[len(test_index)-1])\n",
    "    X_train = df['text'].iloc[train_index[0]:train_index[len(train_index)-1]]\n",
    "    X_test = df['text'].iloc[test_index[0]:test_index[len(test_index)-1]]\n",
    "    y_train = df['label'].iloc[train_index[0]:train_index[len(train_index)-1]].astype('int')\n",
    "    y_test = df['label'].iloc[test_index[0]:test_index[len(test_index)-1]].astype('int')\n",
    "    \n",
    "    vectorizer = TfidfVectorizer()\n",
    "    X_train = vectorizer.fit_transform(X_train)\n",
    "    X_test = vectorizer.transform(X_test)\n",
    "    \n",
    "    modelknn2 = KNeighborsClassifier(n_neighbors=13, weights='uniform', metric='euclidean')\n",
    "    modelknn2.fit(X_train,y_train)\n",
    "    y_pred = modelknn2.predict(X_test)\n",
    "    result = modelknn2.score(X_test, y_test)\n",
    "    print(\"Fold ke-\",i,\"=\",result)\n",
    "    i+=1"
   ]
  },
  {
   "cell_type": "code",
   "execution_count": 4,
   "metadata": {},
   "outputs": [],
   "source": [
    "def split(strt,fnsh,df):\n",
    "    X_test = df['text'].iloc[strt:fnsh]\n",
    "    y_test = df['label'].iloc[strt:fnsh].astype('int')\n",
    "    df.drop(df.index[strt:fnsh])\n",
    "    X_train = df['text']\n",
    "    y_train = df['label'].astype('int')    \n",
    "    return X_train, X_test, y_train, y_test"
   ]
  },
  {
   "cell_type": "code",
   "execution_count": 23,
   "metadata": {},
   "outputs": [],
   "source": [
    "def select_features(train_X, train_y, test_X):\n",
    "    selector = SelectKBest(chi2, k=7343)\n",
    "    selector.fit(train_X, train_y)\n",
    "    train_X = selector.transform(train_X)\n",
    "    test_X = selector.transform(test_X)\n",
    "    return train_X, test_X"
   ]
  },
  {
   "cell_type": "code",
   "execution_count": 24,
   "metadata": {},
   "outputs": [],
   "source": [
    "def classifier(df,distance_name,k_neighbor):\n",
    "    print(\"Nama distance=\",distance_name)\n",
    "    print(\"Jumlah K tetangga=\",k_neighbor)\n",
    "    spl = [0,36,72,108,144,180,216,252,288,324,360]\n",
    "    tempspl = []\n",
    "    i = 0\n",
    "    akurasimax=0\n",
    "    while (i<len(spl)-1):\n",
    "        if len(spl)-2 != len(tempspl):\n",
    "            X_train, X_test, y_train, y_test = split(spl[i],spl[i+2],df)\n",
    "            tempspl.append(spl[i])\n",
    "    #   ketika array[i+2] == null (looping terakhir)\n",
    "        elif (len(spl)-len(tempspl)) == 2:\n",
    "    #       split last and first\n",
    "            X_test1 = df['text'].iloc[spl[i]:spl[i+1]]\n",
    "            y_test1 = df['label'].iloc[spl[i]:spl[i+1]].astype('int')\n",
    "            X_test2 = df['text'].iloc[tempspl[0]:tempspl[1]]\n",
    "            y_test2 = df['label'].iloc[tempspl[0]:tempspl[1]].astype('int')\n",
    "    #       concat last and first\n",
    "            X_test = pd.concat([X_test1, X_test2], axis=0)\n",
    "            y_test = pd.concat([y_test1, y_test2], axis=0)\n",
    "    #       split except last and first\n",
    "            X_train = df['text'].iloc[tempspl[1]:tempspl[len(tempspl)-1]]\n",
    "            y_train = df['label'].iloc[tempspl[1]:tempspl[len(tempspl)-1]].astype('int')\n",
    "        \n",
    "        vectorizer = TfidfVectorizer()\n",
    "        X_train = vectorizer.fit_transform(X_train)\n",
    "        X_test = vectorizer.transform(X_test)\n",
    "        \n",
    "        X_train,X_test = select_features(X_train, y_train, X_test)\n",
    "\n",
    "        modelknn = KNeighborsClassifier(n_neighbors=k_neighbor, weights='uniform', metric=distance_name)\n",
    "        modelknn.fit(X_train,y_train)\n",
    "        y_pred = modelknn.predict(X_test)\n",
    "        result = modelknn.score(X_test, y_test)\n",
    "        print(\"Fold ke-\",i+1,\"=\",result)\n",
    "        if (result >= akurasimax):\n",
    "            akurasimax = result\n",
    "            foldke = i+1\n",
    "        i+=1\n",
    "    print(\"Akurasi terbaik adalah\",akurasimax,\"pada fold ke-\",foldke)\n",
    "    print(\"------------------------------------\")\n",
    "    return akurasimax"
   ]
  },
  {
   "cell_type": "code",
   "execution_count": 25,
   "metadata": {},
   "outputs": [
    {
     "name": "stdout",
     "output_type": "stream",
     "text": [
      "Dengan Stemming\n",
      "Nama distance= euclidean\n",
      "Jumlah K tetangga= 1\n",
      "Fold ke- 1 = 1.0\n",
      "Fold ke- 2 = 1.0\n",
      "Fold ke- 3 = 1.0\n",
      "Fold ke- 4 = 1.0\n",
      "Fold ke- 5 = 1.0\n",
      "Fold ke- 6 = 1.0\n",
      "Fold ke- 7 = 1.0\n",
      "Fold ke- 8 = 1.0\n",
      "Fold ke- 9 = 1.0\n",
      "Fold ke- 10 = 0.5555555555555556\n",
      "Akurasi terbaik adalah 1.0 pada fold ke- 9\n",
      "------------------------------------\n",
      "Dengan Stemming\n",
      "Nama distance= euclidean\n",
      "Jumlah K tetangga= 3\n",
      "Fold ke- 1 = 0.8888888888888888\n",
      "Fold ke- 2 = 0.8611111111111112\n",
      "Fold ke- 3 = 0.7777777777777778\n",
      "Fold ke- 4 = 0.7361111111111112\n",
      "Fold ke- 5 = 0.7361111111111112\n",
      "Fold ke- 6 = 0.7777777777777778\n",
      "Fold ke- 7 = 0.8333333333333334\n",
      "Fold ke- 8 = 0.8055555555555556\n",
      "Fold ke- 9 = 0.8333333333333334\n",
      "Fold ke- 10 = 0.5277777777777778\n",
      "Akurasi terbaik adalah 0.8888888888888888 pada fold ke- 1\n",
      "------------------------------------\n",
      "Dengan Stemming\n",
      "Nama distance= euclidean\n",
      "Jumlah K tetangga= 5\n",
      "Fold ke- 1 = 0.8055555555555556\n",
      "Fold ke- 2 = 0.8472222222222222\n",
      "Fold ke- 3 = 0.8333333333333334\n",
      "Fold ke- 4 = 0.7777777777777778\n",
      "Fold ke- 5 = 0.7638888888888888\n",
      "Fold ke- 6 = 0.7916666666666666\n",
      "Fold ke- 7 = 0.7777777777777778\n",
      "Fold ke- 8 = 0.7222222222222222\n",
      "Fold ke- 9 = 0.7638888888888888\n",
      "Fold ke- 10 = 0.625\n",
      "Akurasi terbaik adalah 0.8472222222222222 pada fold ke- 2\n",
      "------------------------------------\n",
      "Dengan Stemming\n",
      "Nama distance= euclidean\n",
      "Jumlah K tetangga= 7\n",
      "Fold ke- 1 = 0.8611111111111112\n",
      "Fold ke- 2 = 0.8472222222222222\n",
      "Fold ke- 3 = 0.8055555555555556\n",
      "Fold ke- 4 = 0.8055555555555556\n",
      "Fold ke- 5 = 0.7777777777777778\n",
      "Fold ke- 6 = 0.7777777777777778\n",
      "Fold ke- 7 = 0.7638888888888888\n",
      "Fold ke- 8 = 0.7222222222222222\n",
      "Fold ke- 9 = 0.7083333333333334\n",
      "Fold ke- 10 = 0.5416666666666666\n",
      "Akurasi terbaik adalah 0.8611111111111112 pada fold ke- 1\n",
      "------------------------------------\n",
      "Dengan Stemming\n",
      "Nama distance= euclidean\n",
      "Jumlah K tetangga= 9\n",
      "Fold ke- 1 = 0.8194444444444444\n",
      "Fold ke- 2 = 0.8055555555555556\n",
      "Fold ke- 3 = 0.7916666666666666\n",
      "Fold ke- 4 = 0.8194444444444444\n",
      "Fold ke- 5 = 0.7638888888888888\n",
      "Fold ke- 6 = 0.75\n",
      "Fold ke- 7 = 0.7361111111111112\n",
      "Fold ke- 8 = 0.6527777777777778\n",
      "Fold ke- 9 = 0.6805555555555556\n",
      "Fold ke- 10 = 0.6111111111111112\n",
      "Akurasi terbaik adalah 0.8194444444444444 pada fold ke- 4\n",
      "------------------------------------\n",
      "Dengan Stemming\n",
      "Nama distance= euclidean\n",
      "Jumlah K tetangga= 11\n",
      "Fold ke- 1 = 0.7916666666666666\n",
      "Fold ke- 2 = 0.8194444444444444\n",
      "Fold ke- 3 = 0.8194444444444444\n",
      "Fold ke- 4 = 0.8194444444444444\n",
      "Fold ke- 5 = 0.7638888888888888\n",
      "Fold ke- 6 = 0.7222222222222222\n",
      "Fold ke- 7 = 0.6666666666666666\n",
      "Fold ke- 8 = 0.625\n",
      "Fold ke- 9 = 0.6527777777777778\n",
      "Fold ke- 10 = 0.5972222222222222\n",
      "Akurasi terbaik adalah 0.8194444444444444 pada fold ke- 4\n",
      "------------------------------------\n",
      "Dengan Stemming\n",
      "Nama distance= euclidean\n",
      "Jumlah K tetangga= 13\n",
      "Fold ke- 1 = 0.75\n",
      "Fold ke- 2 = 0.8055555555555556\n",
      "Fold ke- 3 = 0.8055555555555556\n",
      "Fold ke- 4 = 0.7777777777777778\n",
      "Fold ke- 5 = 0.7361111111111112\n",
      "Fold ke- 6 = 0.7222222222222222\n",
      "Fold ke- 7 = 0.7083333333333334\n",
      "Fold ke- 8 = 0.6527777777777778\n",
      "Fold ke- 9 = 0.625\n",
      "Fold ke- 10 = 0.5972222222222222\n",
      "Akurasi terbaik adalah 0.8055555555555556 pada fold ke- 3\n",
      "------------------------------------\n",
      "Dengan Stemming\n",
      "Nama distance= euclidean\n",
      "Jumlah K tetangga= 15\n",
      "Fold ke- 1 = 0.7083333333333334\n",
      "Fold ke- 2 = 0.7222222222222222\n",
      "Fold ke- 3 = 0.7777777777777778\n",
      "Fold ke- 4 = 0.7916666666666666\n",
      "Fold ke- 5 = 0.75\n",
      "Fold ke- 6 = 0.7361111111111112\n",
      "Fold ke- 7 = 0.7083333333333334\n",
      "Fold ke- 8 = 0.6666666666666666\n",
      "Fold ke- 9 = 0.6805555555555556\n",
      "Fold ke- 10 = 0.6666666666666666\n",
      "Akurasi terbaik adalah 0.7916666666666666 pada fold ke- 4\n",
      "------------------------------------\n",
      "Dengan Stemming\n",
      "Nama distance= manhattan\n",
      "Jumlah K tetangga= 1\n",
      "Fold ke- 1 = 1.0\n",
      "Fold ke- 2 = 1.0\n",
      "Fold ke- 3 = 1.0\n",
      "Fold ke- 4 = 1.0\n",
      "Fold ke- 5 = 1.0\n",
      "Fold ke- 6 = 1.0\n",
      "Fold ke- 7 = 1.0\n",
      "Fold ke- 8 = 1.0\n",
      "Fold ke- 9 = 1.0\n",
      "Fold ke- 10 = 0.1111111111111111\n",
      "Akurasi terbaik adalah 1.0 pada fold ke- 9\n",
      "------------------------------------\n",
      "Dengan Stemming\n",
      "Nama distance= manhattan\n",
      "Jumlah K tetangga= 3\n"
     ]
    },
    {
     "ename": "KeyboardInterrupt",
     "evalue": "",
     "output_type": "error",
     "traceback": [
      "\u001b[1;31m---------------------------------------------------------------------------\u001b[0m",
      "\u001b[1;31mKeyboardInterrupt\u001b[0m                         Traceback (most recent call last)",
      "\u001b[1;32m<timed exec>\u001b[0m in \u001b[0;36m<module>\u001b[1;34m\u001b[0m\n",
      "\u001b[1;32m<ipython-input-24-dffa6062cdc5>\u001b[0m in \u001b[0;36mclassifier\u001b[1;34m(df, distance_name, k_neighbor)\u001b[0m\n\u001b[0;32m     33\u001b[0m         \u001b[0mmodelknn\u001b[0m\u001b[1;33m.\u001b[0m\u001b[0mfit\u001b[0m\u001b[1;33m(\u001b[0m\u001b[0mX_train\u001b[0m\u001b[1;33m,\u001b[0m\u001b[0my_train\u001b[0m\u001b[1;33m)\u001b[0m\u001b[1;33m\u001b[0m\u001b[1;33m\u001b[0m\u001b[0m\n\u001b[0;32m     34\u001b[0m         \u001b[0my_pred\u001b[0m \u001b[1;33m=\u001b[0m \u001b[0mmodelknn\u001b[0m\u001b[1;33m.\u001b[0m\u001b[0mpredict\u001b[0m\u001b[1;33m(\u001b[0m\u001b[0mX_test\u001b[0m\u001b[1;33m)\u001b[0m\u001b[1;33m\u001b[0m\u001b[1;33m\u001b[0m\u001b[0m\n\u001b[1;32m---> 35\u001b[1;33m         \u001b[0mresult\u001b[0m \u001b[1;33m=\u001b[0m \u001b[0mmodelknn\u001b[0m\u001b[1;33m.\u001b[0m\u001b[0mscore\u001b[0m\u001b[1;33m(\u001b[0m\u001b[0mX_test\u001b[0m\u001b[1;33m,\u001b[0m \u001b[0my_test\u001b[0m\u001b[1;33m)\u001b[0m\u001b[1;33m\u001b[0m\u001b[1;33m\u001b[0m\u001b[0m\n\u001b[0m\u001b[0;32m     36\u001b[0m         \u001b[0mprint\u001b[0m\u001b[1;33m(\u001b[0m\u001b[1;34m\"Fold ke-\"\u001b[0m\u001b[1;33m,\u001b[0m\u001b[0mi\u001b[0m\u001b[1;33m+\u001b[0m\u001b[1;36m1\u001b[0m\u001b[1;33m,\u001b[0m\u001b[1;34m\"=\"\u001b[0m\u001b[1;33m,\u001b[0m\u001b[0mresult\u001b[0m\u001b[1;33m)\u001b[0m\u001b[1;33m\u001b[0m\u001b[1;33m\u001b[0m\u001b[0m\n\u001b[0;32m     37\u001b[0m         \u001b[1;32mif\u001b[0m \u001b[1;33m(\u001b[0m\u001b[0mresult\u001b[0m \u001b[1;33m>=\u001b[0m \u001b[0makurasimax\u001b[0m\u001b[1;33m)\u001b[0m\u001b[1;33m:\u001b[0m\u001b[1;33m\u001b[0m\u001b[1;33m\u001b[0m\u001b[0m\n",
      "\u001b[1;32m~\\Anaconda3\\lib\\site-packages\\sklearn\\base.py\u001b[0m in \u001b[0;36mscore\u001b[1;34m(self, X, y, sample_weight)\u001b[0m\n\u001b[0;32m    355\u001b[0m         \"\"\"\n\u001b[0;32m    356\u001b[0m         \u001b[1;32mfrom\u001b[0m \u001b[1;33m.\u001b[0m\u001b[0mmetrics\u001b[0m \u001b[1;32mimport\u001b[0m \u001b[0maccuracy_score\u001b[0m\u001b[1;33m\u001b[0m\u001b[1;33m\u001b[0m\u001b[0m\n\u001b[1;32m--> 357\u001b[1;33m         \u001b[1;32mreturn\u001b[0m \u001b[0maccuracy_score\u001b[0m\u001b[1;33m(\u001b[0m\u001b[0my\u001b[0m\u001b[1;33m,\u001b[0m \u001b[0mself\u001b[0m\u001b[1;33m.\u001b[0m\u001b[0mpredict\u001b[0m\u001b[1;33m(\u001b[0m\u001b[0mX\u001b[0m\u001b[1;33m)\u001b[0m\u001b[1;33m,\u001b[0m \u001b[0msample_weight\u001b[0m\u001b[1;33m=\u001b[0m\u001b[0msample_weight\u001b[0m\u001b[1;33m)\u001b[0m\u001b[1;33m\u001b[0m\u001b[1;33m\u001b[0m\u001b[0m\n\u001b[0m\u001b[0;32m    358\u001b[0m \u001b[1;33m\u001b[0m\u001b[0m\n\u001b[0;32m    359\u001b[0m \u001b[1;33m\u001b[0m\u001b[0m\n",
      "\u001b[1;32m~\\Anaconda3\\lib\\site-packages\\sklearn\\neighbors\\classification.py\u001b[0m in \u001b[0;36mpredict\u001b[1;34m(self, X)\u001b[0m\n\u001b[0;32m    147\u001b[0m         \u001b[0mX\u001b[0m \u001b[1;33m=\u001b[0m \u001b[0mcheck_array\u001b[0m\u001b[1;33m(\u001b[0m\u001b[0mX\u001b[0m\u001b[1;33m,\u001b[0m \u001b[0maccept_sparse\u001b[0m\u001b[1;33m=\u001b[0m\u001b[1;34m'csr'\u001b[0m\u001b[1;33m)\u001b[0m\u001b[1;33m\u001b[0m\u001b[1;33m\u001b[0m\u001b[0m\n\u001b[0;32m    148\u001b[0m \u001b[1;33m\u001b[0m\u001b[0m\n\u001b[1;32m--> 149\u001b[1;33m         \u001b[0mneigh_dist\u001b[0m\u001b[1;33m,\u001b[0m \u001b[0mneigh_ind\u001b[0m \u001b[1;33m=\u001b[0m \u001b[0mself\u001b[0m\u001b[1;33m.\u001b[0m\u001b[0mkneighbors\u001b[0m\u001b[1;33m(\u001b[0m\u001b[0mX\u001b[0m\u001b[1;33m)\u001b[0m\u001b[1;33m\u001b[0m\u001b[1;33m\u001b[0m\u001b[0m\n\u001b[0m\u001b[0;32m    150\u001b[0m         \u001b[0mclasses_\u001b[0m \u001b[1;33m=\u001b[0m \u001b[0mself\u001b[0m\u001b[1;33m.\u001b[0m\u001b[0mclasses_\u001b[0m\u001b[1;33m\u001b[0m\u001b[1;33m\u001b[0m\u001b[0m\n\u001b[0;32m    151\u001b[0m         \u001b[0m_y\u001b[0m \u001b[1;33m=\u001b[0m \u001b[0mself\u001b[0m\u001b[1;33m.\u001b[0m\u001b[0m_y\u001b[0m\u001b[1;33m\u001b[0m\u001b[1;33m\u001b[0m\u001b[0m\n",
      "\u001b[1;32m~\\Anaconda3\\lib\\site-packages\\sklearn\\neighbors\\base.py\u001b[0m in \u001b[0;36mkneighbors\u001b[1;34m(self, X, n_neighbors, return_distance)\u001b[0m\n\u001b[0;32m    432\u001b[0m                 \u001b[0mX\u001b[0m\u001b[1;33m,\u001b[0m \u001b[0mself\u001b[0m\u001b[1;33m.\u001b[0m\u001b[0m_fit_X\u001b[0m\u001b[1;33m,\u001b[0m \u001b[0mreduce_func\u001b[0m\u001b[1;33m=\u001b[0m\u001b[0mreduce_func\u001b[0m\u001b[1;33m,\u001b[0m\u001b[1;33m\u001b[0m\u001b[1;33m\u001b[0m\u001b[0m\n\u001b[0;32m    433\u001b[0m                 \u001b[0mmetric\u001b[0m\u001b[1;33m=\u001b[0m\u001b[0mself\u001b[0m\u001b[1;33m.\u001b[0m\u001b[0meffective_metric_\u001b[0m\u001b[1;33m,\u001b[0m \u001b[0mn_jobs\u001b[0m\u001b[1;33m=\u001b[0m\u001b[0mn_jobs\u001b[0m\u001b[1;33m,\u001b[0m\u001b[1;33m\u001b[0m\u001b[1;33m\u001b[0m\u001b[0m\n\u001b[1;32m--> 434\u001b[1;33m                 **kwds))\n\u001b[0m\u001b[0;32m    435\u001b[0m \u001b[1;33m\u001b[0m\u001b[0m\n\u001b[0;32m    436\u001b[0m         \u001b[1;32melif\u001b[0m \u001b[0mself\u001b[0m\u001b[1;33m.\u001b[0m\u001b[0m_fit_method\u001b[0m \u001b[1;32min\u001b[0m \u001b[1;33m[\u001b[0m\u001b[1;34m'ball_tree'\u001b[0m\u001b[1;33m,\u001b[0m \u001b[1;34m'kd_tree'\u001b[0m\u001b[1;33m]\u001b[0m\u001b[1;33m:\u001b[0m\u001b[1;33m\u001b[0m\u001b[1;33m\u001b[0m\u001b[0m\n",
      "\u001b[1;32m~\\Anaconda3\\lib\\site-packages\\sklearn\\metrics\\pairwise.py\u001b[0m in \u001b[0;36mpairwise_distances_chunked\u001b[1;34m(X, Y, reduce_func, metric, n_jobs, working_memory, **kwds)\u001b[0m\n\u001b[0;32m   1446\u001b[0m             \u001b[0mX_chunk\u001b[0m \u001b[1;33m=\u001b[0m \u001b[0mX\u001b[0m\u001b[1;33m[\u001b[0m\u001b[0msl\u001b[0m\u001b[1;33m]\u001b[0m\u001b[1;33m\u001b[0m\u001b[1;33m\u001b[0m\u001b[0m\n\u001b[0;32m   1447\u001b[0m         D_chunk = pairwise_distances(X_chunk, Y, metric=metric,\n\u001b[1;32m-> 1448\u001b[1;33m                                      n_jobs=n_jobs, **kwds)\n\u001b[0m\u001b[0;32m   1449\u001b[0m         if ((X is Y or Y is None)\n\u001b[0;32m   1450\u001b[0m                 \u001b[1;32mand\u001b[0m \u001b[0mPAIRWISE_DISTANCE_FUNCTIONS\u001b[0m\u001b[1;33m.\u001b[0m\u001b[0mget\u001b[0m\u001b[1;33m(\u001b[0m\u001b[0mmetric\u001b[0m\u001b[1;33m,\u001b[0m \u001b[1;32mNone\u001b[0m\u001b[1;33m)\u001b[0m\u001b[1;33m\u001b[0m\u001b[1;33m\u001b[0m\u001b[0m\n",
      "\u001b[1;32m~\\Anaconda3\\lib\\site-packages\\sklearn\\metrics\\pairwise.py\u001b[0m in \u001b[0;36mpairwise_distances\u001b[1;34m(X, Y, metric, n_jobs, **kwds)\u001b[0m\n\u001b[0;32m   1586\u001b[0m         \u001b[0mfunc\u001b[0m \u001b[1;33m=\u001b[0m \u001b[0mpartial\u001b[0m\u001b[1;33m(\u001b[0m\u001b[0mdistance\u001b[0m\u001b[1;33m.\u001b[0m\u001b[0mcdist\u001b[0m\u001b[1;33m,\u001b[0m \u001b[0mmetric\u001b[0m\u001b[1;33m=\u001b[0m\u001b[0mmetric\u001b[0m\u001b[1;33m,\u001b[0m \u001b[1;33m**\u001b[0m\u001b[0mkwds\u001b[0m\u001b[1;33m)\u001b[0m\u001b[1;33m\u001b[0m\u001b[1;33m\u001b[0m\u001b[0m\n\u001b[0;32m   1587\u001b[0m \u001b[1;33m\u001b[0m\u001b[0m\n\u001b[1;32m-> 1588\u001b[1;33m     \u001b[1;32mreturn\u001b[0m \u001b[0m_parallel_pairwise\u001b[0m\u001b[1;33m(\u001b[0m\u001b[0mX\u001b[0m\u001b[1;33m,\u001b[0m \u001b[0mY\u001b[0m\u001b[1;33m,\u001b[0m \u001b[0mfunc\u001b[0m\u001b[1;33m,\u001b[0m \u001b[0mn_jobs\u001b[0m\u001b[1;33m,\u001b[0m \u001b[1;33m**\u001b[0m\u001b[0mkwds\u001b[0m\u001b[1;33m)\u001b[0m\u001b[1;33m\u001b[0m\u001b[1;33m\u001b[0m\u001b[0m\n\u001b[0m\u001b[0;32m   1589\u001b[0m \u001b[1;33m\u001b[0m\u001b[0m\n\u001b[0;32m   1590\u001b[0m \u001b[1;33m\u001b[0m\u001b[0m\n",
      "\u001b[1;32m~\\Anaconda3\\lib\\site-packages\\sklearn\\metrics\\pairwise.py\u001b[0m in \u001b[0;36m_parallel_pairwise\u001b[1;34m(X, Y, func, n_jobs, **kwds)\u001b[0m\n\u001b[0;32m   1204\u001b[0m \u001b[1;33m\u001b[0m\u001b[0m\n\u001b[0;32m   1205\u001b[0m     \u001b[1;32mif\u001b[0m \u001b[0meffective_n_jobs\u001b[0m\u001b[1;33m(\u001b[0m\u001b[0mn_jobs\u001b[0m\u001b[1;33m)\u001b[0m \u001b[1;33m==\u001b[0m \u001b[1;36m1\u001b[0m\u001b[1;33m:\u001b[0m\u001b[1;33m\u001b[0m\u001b[1;33m\u001b[0m\u001b[0m\n\u001b[1;32m-> 1206\u001b[1;33m         \u001b[1;32mreturn\u001b[0m \u001b[0mfunc\u001b[0m\u001b[1;33m(\u001b[0m\u001b[0mX\u001b[0m\u001b[1;33m,\u001b[0m \u001b[0mY\u001b[0m\u001b[1;33m,\u001b[0m \u001b[1;33m**\u001b[0m\u001b[0mkwds\u001b[0m\u001b[1;33m)\u001b[0m\u001b[1;33m\u001b[0m\u001b[1;33m\u001b[0m\u001b[0m\n\u001b[0m\u001b[0;32m   1207\u001b[0m \u001b[1;33m\u001b[0m\u001b[0m\n\u001b[0;32m   1208\u001b[0m     \u001b[1;31m# enforce a threading backend to prevent data communication overhead\u001b[0m\u001b[1;33m\u001b[0m\u001b[1;33m\u001b[0m\u001b[1;33m\u001b[0m\u001b[0m\n",
      "\u001b[1;32m~\\Anaconda3\\lib\\site-packages\\sklearn\\metrics\\pairwise.py\u001b[0m in \u001b[0;36mmanhattan_distances\u001b[1;34m(X, Y, sum_over_features)\u001b[0m\n\u001b[0;32m    642\u001b[0m         _sparse_manhattan(X.data, X.indices, X.indptr,\n\u001b[0;32m    643\u001b[0m                           \u001b[0mY\u001b[0m\u001b[1;33m.\u001b[0m\u001b[0mdata\u001b[0m\u001b[1;33m,\u001b[0m \u001b[0mY\u001b[0m\u001b[1;33m.\u001b[0m\u001b[0mindices\u001b[0m\u001b[1;33m,\u001b[0m \u001b[0mY\u001b[0m\u001b[1;33m.\u001b[0m\u001b[0mindptr\u001b[0m\u001b[1;33m,\u001b[0m\u001b[1;33m\u001b[0m\u001b[1;33m\u001b[0m\u001b[0m\n\u001b[1;32m--> 644\u001b[1;33m                           X.shape[1], D)\n\u001b[0m\u001b[0;32m    645\u001b[0m         \u001b[1;32mreturn\u001b[0m \u001b[0mD\u001b[0m\u001b[1;33m\u001b[0m\u001b[1;33m\u001b[0m\u001b[0m\n\u001b[0;32m    646\u001b[0m \u001b[1;33m\u001b[0m\u001b[0m\n",
      "\u001b[1;31mKeyboardInterrupt\u001b[0m: "
     ]
    }
   ],
   "source": [
    "%%time\n",
    "dfcount = [df,dfNo]\n",
    "distancecount = ['euclidean','manhattan','minkowski']\n",
    "kcount = [1,3,5,7,9,11,13,15]\n",
    "for x in range(2):\n",
    "    arrd1 = []\n",
    "    arrd2 = []\n",
    "    arrd3 = []\n",
    "    for y in range(len(distancecount)):\n",
    "        maxresult = []\n",
    "        for z in range(len(kcount)):\n",
    "            if x==0:\n",
    "                print('Dengan Stemming')\n",
    "            else:\n",
    "                print('Tanpa Stemming')\n",
    "            tempmax = classifier(dfcount[x],distancecount[y],kcount[z])\n",
    "            maxresult.append(tempmax)\n",
    "            if y==0:\n",
    "                arrd1.append(tempmax)\n",
    "            elif y==1:\n",
    "                arrd2.append(tempmax)\n",
    "            elif y==2:\n",
    "                arrd3.append(tempmax)\n",
    "#         tapi fold yang dipakai beda beda\n",
    "    plt.plot(kcount, arrd1, label = \"euclidean\")\n",
    "    plt.plot(kcount, arrd2, label = \"manhattan\")\n",
    "    plt.plot(kcount, arrd3, label = \"minkowski\")\n",
    "    plt.xticks(kcount)\n",
    "    if x==0:\n",
    "        plt.title(\"Stemming\")\n",
    "    else:\n",
    "        plt.title(\"Tidak Stemming\")\n",
    "    plt.xlabel('Fold')\n",
    "    plt.ylabel('Akurasi')\n",
    "    plt.legend()\n",
    "    plt.pause(0.05)\n",
    "plt.show"
   ]
  },
  {
   "cell_type": "markdown",
   "metadata": {},
   "source": [
    "# try--"
   ]
  },
  {
   "cell_type": "code",
   "execution_count": 7,
   "metadata": {},
   "outputs": [],
   "source": [
    "X_train = df['text'].iloc[72:]\n",
    "X_test = df['text'].iloc[:72]\n",
    "y_train = df['label'].iloc[72:].astype('int')\n",
    "y_test = df['label'].iloc[:72].astype('int')"
   ]
  },
  {
   "cell_type": "code",
   "execution_count": null,
   "metadata": {},
   "outputs": [],
   "source": [
    "X = df['text']\n",
    "y = df['label'].astype('int')\n",
    "# X = dfNo['text']\n",
    "# y = dfNo['label'].astype('int')"
   ]
  },
  {
   "cell_type": "code",
   "execution_count": 21,
   "metadata": {},
   "outputs": [
    {
     "ename": "NameError",
     "evalue": "name 'X_train' is not defined",
     "output_type": "error",
     "traceback": [
      "\u001b[1;31m---------------------------------------------------------------------------\u001b[0m",
      "\u001b[1;31mNameError\u001b[0m                                 Traceback (most recent call last)",
      "\u001b[1;32m<ipython-input-21-5a59cb8ee8d3>\u001b[0m in \u001b[0;36m<module>\u001b[1;34m\u001b[0m\n\u001b[0;32m      3\u001b[0m \u001b[1;31m# X = vectorizer.fit_transform(X)\u001b[0m\u001b[1;33m\u001b[0m\u001b[1;33m\u001b[0m\u001b[1;33m\u001b[0m\u001b[0m\n\u001b[0;32m      4\u001b[0m \u001b[1;33m\u001b[0m\u001b[0m\n\u001b[1;32m----> 5\u001b[1;33m \u001b[0mX_train\u001b[0m \u001b[1;33m=\u001b[0m \u001b[0mvectorizer\u001b[0m\u001b[1;33m.\u001b[0m\u001b[0mfit_transform\u001b[0m\u001b[1;33m(\u001b[0m\u001b[0mX_train\u001b[0m\u001b[1;33m)\u001b[0m\u001b[1;33m\u001b[0m\u001b[1;33m\u001b[0m\u001b[0m\n\u001b[0m\u001b[0;32m      6\u001b[0m \u001b[0mX_test\u001b[0m \u001b[1;33m=\u001b[0m \u001b[0mvectorizer\u001b[0m\u001b[1;33m.\u001b[0m\u001b[0mtransform\u001b[0m\u001b[1;33m(\u001b[0m\u001b[0mX_test\u001b[0m\u001b[1;33m)\u001b[0m\u001b[1;33m\u001b[0m\u001b[1;33m\u001b[0m\u001b[0m\n",
      "\u001b[1;31mNameError\u001b[0m: name 'X_train' is not defined"
     ]
    }
   ],
   "source": [
    "# Pembentukan tf-idf untuk pembobotan\n",
    "vectorizer = TfidfVectorizer()\n",
    "# X = vectorizer.fit_transform(X)\n",
    "\n",
    "X_train = vectorizer.fit_transform(X_train)\n",
    "X_test = vectorizer.transform(X_test)"
   ]
  },
  {
   "cell_type": "code",
   "execution_count": 13,
   "metadata": {},
   "outputs": [
    {
     "name": "stdout",
     "output_type": "stream",
     "text": [
      "(288, 8488)\n"
     ]
    }
   ],
   "source": [
    "print(X_train.shape)"
   ]
  },
  {
   "cell_type": "code",
   "execution_count": 22,
   "metadata": {},
   "outputs": [
    {
     "ename": "NotFittedError",
     "evalue": "TfidfVectorizer - Vocabulary wasn't fitted.",
     "output_type": "error",
     "traceback": [
      "\u001b[1;31m---------------------------------------------------------------------------\u001b[0m",
      "\u001b[1;31mNotFittedError\u001b[0m                            Traceback (most recent call last)",
      "\u001b[1;32m<ipython-input-22-ae40d3348ba0>\u001b[0m in \u001b[0;36m<module>\u001b[1;34m\u001b[0m\n\u001b[1;32m----> 1\u001b[1;33m \u001b[0mprint\u001b[0m\u001b[1;33m(\u001b[0m\u001b[0mvectorizer\u001b[0m\u001b[1;33m.\u001b[0m\u001b[0mget_feature_names\u001b[0m\u001b[1;33m(\u001b[0m\u001b[1;33m)\u001b[0m\u001b[1;33m)\u001b[0m\u001b[1;33m\u001b[0m\u001b[1;33m\u001b[0m\u001b[0m\n\u001b[0m",
      "\u001b[1;32m~\\Anaconda3\\lib\\site-packages\\sklearn\\feature_extraction\\text.py\u001b[0m in \u001b[0;36mget_feature_names\u001b[1;34m(self)\u001b[0m\n\u001b[0;32m   1150\u001b[0m             \u001b[0mself\u001b[0m\u001b[1;33m.\u001b[0m\u001b[0m_validate_vocabulary\u001b[0m\u001b[1;33m(\u001b[0m\u001b[1;33m)\u001b[0m\u001b[1;33m\u001b[0m\u001b[1;33m\u001b[0m\u001b[0m\n\u001b[0;32m   1151\u001b[0m \u001b[1;33m\u001b[0m\u001b[0m\n\u001b[1;32m-> 1152\u001b[1;33m         \u001b[0mself\u001b[0m\u001b[1;33m.\u001b[0m\u001b[0m_check_vocabulary\u001b[0m\u001b[1;33m(\u001b[0m\u001b[1;33m)\u001b[0m\u001b[1;33m\u001b[0m\u001b[1;33m\u001b[0m\u001b[0m\n\u001b[0m\u001b[0;32m   1153\u001b[0m \u001b[1;33m\u001b[0m\u001b[0m\n\u001b[0;32m   1154\u001b[0m         return [t for t, i in sorted(self.vocabulary_.items(),\n",
      "\u001b[1;32m~\\Anaconda3\\lib\\site-packages\\sklearn\\feature_extraction\\text.py\u001b[0m in \u001b[0;36m_check_vocabulary\u001b[1;34m(self)\u001b[0m\n\u001b[0;32m    387\u001b[0m         \u001b[1;34m\"\"\"Check if vocabulary is empty or missing (not fit-ed)\"\"\"\u001b[0m\u001b[1;33m\u001b[0m\u001b[1;33m\u001b[0m\u001b[0m\n\u001b[0;32m    388\u001b[0m         \u001b[0mmsg\u001b[0m \u001b[1;33m=\u001b[0m \u001b[1;34m\"%(name)s - Vocabulary wasn't fitted.\"\u001b[0m\u001b[1;33m\u001b[0m\u001b[1;33m\u001b[0m\u001b[0m\n\u001b[1;32m--> 389\u001b[1;33m         \u001b[0mcheck_is_fitted\u001b[0m\u001b[1;33m(\u001b[0m\u001b[0mself\u001b[0m\u001b[1;33m,\u001b[0m \u001b[1;34m'vocabulary_'\u001b[0m\u001b[1;33m,\u001b[0m \u001b[0mmsg\u001b[0m\u001b[1;33m=\u001b[0m\u001b[0mmsg\u001b[0m\u001b[1;33m)\u001b[0m\u001b[1;33m,\u001b[0m\u001b[1;33m\u001b[0m\u001b[1;33m\u001b[0m\u001b[0m\n\u001b[0m\u001b[0;32m    390\u001b[0m \u001b[1;33m\u001b[0m\u001b[0m\n\u001b[0;32m    391\u001b[0m         \u001b[1;32mif\u001b[0m \u001b[0mlen\u001b[0m\u001b[1;33m(\u001b[0m\u001b[0mself\u001b[0m\u001b[1;33m.\u001b[0m\u001b[0mvocabulary_\u001b[0m\u001b[1;33m)\u001b[0m \u001b[1;33m==\u001b[0m \u001b[1;36m0\u001b[0m\u001b[1;33m:\u001b[0m\u001b[1;33m\u001b[0m\u001b[1;33m\u001b[0m\u001b[0m\n",
      "\u001b[1;32m~\\Anaconda3\\lib\\site-packages\\sklearn\\utils\\validation.py\u001b[0m in \u001b[0;36mcheck_is_fitted\u001b[1;34m(estimator, attributes, msg, all_or_any)\u001b[0m\n\u001b[0;32m    912\u001b[0m \u001b[1;33m\u001b[0m\u001b[0m\n\u001b[0;32m    913\u001b[0m     \u001b[1;32mif\u001b[0m \u001b[1;32mnot\u001b[0m \u001b[0mall_or_any\u001b[0m\u001b[1;33m(\u001b[0m\u001b[1;33m[\u001b[0m\u001b[0mhasattr\u001b[0m\u001b[1;33m(\u001b[0m\u001b[0mestimator\u001b[0m\u001b[1;33m,\u001b[0m \u001b[0mattr\u001b[0m\u001b[1;33m)\u001b[0m \u001b[1;32mfor\u001b[0m \u001b[0mattr\u001b[0m \u001b[1;32min\u001b[0m \u001b[0mattributes\u001b[0m\u001b[1;33m]\u001b[0m\u001b[1;33m)\u001b[0m\u001b[1;33m:\u001b[0m\u001b[1;33m\u001b[0m\u001b[1;33m\u001b[0m\u001b[0m\n\u001b[1;32m--> 914\u001b[1;33m         \u001b[1;32mraise\u001b[0m \u001b[0mNotFittedError\u001b[0m\u001b[1;33m(\u001b[0m\u001b[0mmsg\u001b[0m \u001b[1;33m%\u001b[0m \u001b[1;33m{\u001b[0m\u001b[1;34m'name'\u001b[0m\u001b[1;33m:\u001b[0m \u001b[0mtype\u001b[0m\u001b[1;33m(\u001b[0m\u001b[0mestimator\u001b[0m\u001b[1;33m)\u001b[0m\u001b[1;33m.\u001b[0m\u001b[0m__name__\u001b[0m\u001b[1;33m}\u001b[0m\u001b[1;33m)\u001b[0m\u001b[1;33m\u001b[0m\u001b[1;33m\u001b[0m\u001b[0m\n\u001b[0m\u001b[0;32m    915\u001b[0m \u001b[1;33m\u001b[0m\u001b[0m\n\u001b[0;32m    916\u001b[0m \u001b[1;33m\u001b[0m\u001b[0m\n",
      "\u001b[1;31mNotFittedError\u001b[0m: TfidfVectorizer - Vocabulary wasn't fitted."
     ]
    }
   ],
   "source": [
    "print(vectorizer.get_feature_names())"
   ]
  },
  {
   "cell_type": "code",
   "execution_count": null,
   "metadata": {},
   "outputs": [],
   "source": [
    "X_train, X_test, y_train, y_test = train_test_split(X, y, test_size=0.3, shuffle=False)"
   ]
  },
  {
   "cell_type": "code",
   "execution_count": null,
   "metadata": {},
   "outputs": [],
   "source": [
    "%%time\n",
    "modelknn2 = KNeighborsClassifier(n_neighbors=5, weights='uniform', metric='manhattan')\n",
    "modelknn2.fit(X_train,y_train)"
   ]
  },
  {
   "cell_type": "code",
   "execution_count": null,
   "metadata": {},
   "outputs": [],
   "source": [
    "filename = 'D:\\JupyterNotebook\\Model\\model_nostemming_173_splitmanual.sav'\n",
    "joblib.dump(modelknn2, filename)"
   ]
  },
  {
   "cell_type": "code",
   "execution_count": null,
   "metadata": {},
   "outputs": [],
   "source": [
    "filename = 'D:\\JupyterNotebook\\Model\\model_stemming.sav'\n",
    "loaded_model = joblib.load(filename)\n",
    "# result = loaded_model.score(X_test, y_test)\n",
    "# print(result)"
   ]
  },
  {
   "cell_type": "code",
   "execution_count": null,
   "metadata": {},
   "outputs": [],
   "source": [
    "y_pred = modelknn2.predict(X_test)\n",
    "y_pred"
   ]
  },
  {
   "cell_type": "code",
   "execution_count": null,
   "metadata": {},
   "outputs": [],
   "source": [
    "y_pred = loaded_model.predict(X_test)\n",
    "y_pred"
   ]
  },
  {
   "cell_type": "code",
   "execution_count": null,
   "metadata": {
    "scrolled": true
   },
   "outputs": [],
   "source": [
    "modelknn2.predict_proba(X_test)"
   ]
  },
  {
   "cell_type": "code",
   "execution_count": null,
   "metadata": {},
   "outputs": [],
   "source": [
    "print(confusion_matrix(y_test, y_pred))"
   ]
  },
  {
   "cell_type": "code",
   "execution_count": null,
   "metadata": {},
   "outputs": [],
   "source": [
    "print(classification_report(y_test,y_pred))"
   ]
  },
  {
   "cell_type": "code",
   "execution_count": null,
   "metadata": {},
   "outputs": [],
   "source": [
    "result = modelknn2.score(X_test, y_test)\n",
    "print(result)"
   ]
  },
  {
   "cell_type": "code",
   "execution_count": null,
   "metadata": {},
   "outputs": [],
   "source": [
    "result_class = pd.DataFrame({'Actual Result':y_test, 'Predicted Result':y_pred})\n",
    "result_class"
   ]
  },
  {
   "cell_type": "code",
   "execution_count": null,
   "metadata": {},
   "outputs": [],
   "source": [
    "with pd.option_context('display.max_rows', None, 'display.max_columns', None):\n",
    "    print(result_class)"
   ]
  },
  {
   "cell_type": "code",
   "execution_count": null,
   "metadata": {},
   "outputs": [],
   "source": []
  }
 ],
 "metadata": {
  "kernelspec": {
   "display_name": "Python 3",
   "language": "python",
   "name": "python3"
  },
  "language_info": {
   "codemirror_mode": {
    "name": "ipython",
    "version": 3
   },
   "file_extension": ".py",
   "mimetype": "text/x-python",
   "name": "python",
   "nbconvert_exporter": "python",
   "pygments_lexer": "ipython3",
   "version": "3.7.4"
  }
 },
 "nbformat": 4,
 "nbformat_minor": 2
}
