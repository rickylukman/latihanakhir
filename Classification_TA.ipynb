{
 "cells": [
  {
   "cell_type": "code",
   "execution_count": 90,
   "metadata": {},
   "outputs": [],
   "source": [
    "import pandas as pd\n",
    "import joblib\n",
    "from sklearn.feature_extraction.text import TfidfVectorizer\n",
    "from sklearn.model_selection import train_test_split\n",
    "from sklearn.neighbors import KNeighborsClassifier\n",
    "from sklearn.neighbors import DistanceMetric\n",
    "from sklearn.metrics import classification_report, confusion_matrix\n",
    "from sklearn.model_selection import KFold"
   ]
  },
  {
   "cell_type": "code",
   "execution_count": 96,
   "metadata": {},
   "outputs": [],
   "source": [
    "df = pd.read_pickle(r'D:\\JupyterNotebook\\DataProcess\\preprocess_result_stemming.pkl')\n",
    "dfNo = pd.read_pickle(r'D:\\JupyterNotebook\\DataProcess\\preprocess_result_nostemming.pkl')"
   ]
  },
  {
   "cell_type": "code",
   "execution_count": 93,
   "metadata": {},
   "outputs": [
    {
     "name": "stdout",
     "output_type": "stream",
     "text": [
      "Fold ke- 1 = 0.6901408450704225\n",
      "Fold ke- 2 = 0.8450704225352113\n",
      "Fold ke- 3 = 0.7746478873239436\n",
      "Fold ke- 4 = 0.8028169014084507\n",
      "Fold ke- 5 = 0.5492957746478874\n"
     ]
    }
   ],
   "source": [
    "kf = KFold(n_splits=5)\n",
    "i = 1\n",
    "for train_index, test_index in kf.split(df):\n",
    "#     print(train_index[0],\"-\",train_index[len(train_index)-1])\n",
    "#     print(test_index[0],\"+\",test_index[len(test_index)-1])\n",
    "    X_train = df['text'].iloc[train_index[0]:train_index[len(train_index)-1]]\n",
    "    X_test = df['text'].iloc[test_index[0]:test_index[len(test_index)-1]]\n",
    "    y_train = df['label'].iloc[train_index[0]:train_index[len(train_index)-1]].astype('int')\n",
    "    y_test = dfNo['label'].iloc[test_index[0]:test_index[len(test_index)-1]].astype('int')\n",
    "    \n",
    "    vectorizer = TfidfVectorizer()\n",
    "    X_train = vectorizer.fit_transform(X_train)\n",
    "    X_test = vectorizer.transform(X_test)\n",
    "    \n",
    "    modelknn2 = KNeighborsClassifier(n_neighbors=5, weights='uniform', metric='euclidean')\n",
    "    modelknn2.fit(X_train,y_train)\n",
    "    y_pred = modelknn2.predict(X_test)\n",
    "    result = modelknn2.score(X_test, y_test)\n",
    "    print(\"Fold ke-\",i,\"=\",result)\n",
    "    i+=1"
   ]
  },
  {
   "cell_type": "code",
   "execution_count": 42,
   "metadata": {},
   "outputs": [],
   "source": [
    "def split(strt,fnsh,df):\n",
    "    X_test = df['text'].iloc[strt:fnsh]\n",
    "    y_test = df['label'].iloc[strt:fnsh].astype('int')\n",
    "    df.drop(df.index[strt:fnsh])\n",
    "    X_train = df['text']\n",
    "    y_train = df['label'].astype('int')    \n",
    "    return X_train, X_test, y_train, y_test"
   ]
  },
  {
   "cell_type": "code",
   "execution_count": 95,
   "metadata": {},
   "outputs": [
    {
     "name": "stdout",
     "output_type": "stream",
     "text": [
      "Fold ke- 1 = 0.8055555555555556\n",
      "-----------------------------\n",
      "Fold ke- 2 = 0.8333333333333334\n",
      "-----------------------------\n",
      "Fold ke- 3 = 0.8055555555555556\n",
      "-----------------------------\n",
      "Fold ke- 4 = 0.7777777777777778\n",
      "-----------------------------\n",
      "Fold ke- 5 = 0.7638888888888888\n",
      "-----------------------------\n",
      "Fold ke- 6 = 0.7916666666666666\n",
      "-----------------------------\n",
      "Fold ke- 7 = 0.7777777777777778\n",
      "-----------------------------\n",
      "Fold ke- 8 = 0.7361111111111112\n",
      "-----------------------------\n",
      "Fold ke- 9 = 0.7361111111111112\n",
      "-----------------------------\n",
      "Fold ke- 10 = 0.5694444444444444\n",
      "-----------------------------\n",
      "Wall time: 1.02 s\n"
     ]
    }
   ],
   "source": [
    "%%time\n",
    "spl = [0,36,72,108,144,180,216,252,288,324,360]\n",
    "tempspl = []\n",
    "i = 0\n",
    "while (i<len(spl)-1):\n",
    "    if len(spl)-2 != len(tempspl):\n",
    "        X_train, X_test, y_train, y_test = split(spl[i],spl[i+2],df)\n",
    "        tempspl.append(spl[i])\n",
    "#   ketika array[i+2] == null (looping terakhir)\n",
    "    elif (len(spl)-len(tempspl)) == 2:\n",
    "#       split last and first\n",
    "        X_test1 = df['text'].iloc[spl[i]:spl[i+1]]\n",
    "        y_test1 = df['label'].iloc[spl[i]:spl[i+1]].astype('int')\n",
    "        X_test2 = df['text'].iloc[tempspl[0]:tempspl[1]]\n",
    "        y_test2 = df['label'].iloc[tempspl[0]:tempspl[1]].astype('int')\n",
    "#       concat last and first\n",
    "        X_test = pd.concat([X_test1, X_test2], axis=0)\n",
    "        y_test = pd.concat([y_test1, y_test2], axis=0)\n",
    "#       split except last and first\n",
    "        X_train = df['text'].iloc[tempspl[1]:tempspl[len(tempspl)-1]]\n",
    "        y_train = df['label'].iloc[tempspl[1]:tempspl[len(tempspl)-1]].astype('int')\n",
    "    vectorizer = TfidfVectorizer()\n",
    "    X_train = vectorizer.fit_transform(X_train)\n",
    "    X_test = vectorizer.transform(X_test)\n",
    "    \n",
    "    modelknn2 = KNeighborsClassifier(n_neighbors=5, weights='uniform', metric='euclidean')\n",
    "    modelknn2.fit(X_train,y_train)\n",
    "    y_pred = modelknn2.predict(X_test)\n",
    "    result = modelknn2.score(X_test, y_test)\n",
    "    print(\"Fold ke-\",i+1,\"=\",result)\n",
    "    print(\"-----------------------------\")\n",
    "    i+=1"
   ]
  },
  {
   "cell_type": "code",
   "execution_count": null,
   "metadata": {},
   "outputs": [],
   "source": [
    "X_train = df['text'].iloc[72:]\n",
    "X_test = df['text'].iloc[:72]\n",
    "y_train = df['label'].iloc[72:].astype('int')\n",
    "y_test = df['label'].iloc[:72].astype('int')"
   ]
  },
  {
   "cell_type": "code",
   "execution_count": null,
   "metadata": {},
   "outputs": [],
   "source": [
    "X = df['text']\n",
    "y = df['label'].astype('int')\n",
    "# X = dfNo['text']\n",
    "# y = dfNo['label'].astype('int')"
   ]
  },
  {
   "cell_type": "code",
   "execution_count": null,
   "metadata": {},
   "outputs": [],
   "source": [
    "# Pembentukan tf-idf untuk pembobotan\n",
    "vectorizer = TfidfVectorizer()\n",
    "X = vectorizer.fit_transform(X)\n",
    "\n",
    "# X_train = vectorizer.fit_transform(X_train)\n",
    "# X_test = vectorizer.transform(X_test)"
   ]
  },
  {
   "cell_type": "code",
   "execution_count": null,
   "metadata": {},
   "outputs": [],
   "source": [
    "X_train, X_test, y_train, y_test = train_test_split(X, y, test_size=0.3, shuffle=False)"
   ]
  },
  {
   "cell_type": "code",
   "execution_count": null,
   "metadata": {},
   "outputs": [],
   "source": [
    "%%time\n",
    "modelknn2 = KNeighborsClassifier(n_neighbors=5, weights='uniform', metric='euclidean')\n",
    "modelknn2.fit(X_train,y_train)"
   ]
  },
  {
   "cell_type": "code",
   "execution_count": null,
   "metadata": {},
   "outputs": [],
   "source": [
    "filename = 'D:\\JupyterNotebook\\Model\\model_nostemming_173_splitmanual.sav'\n",
    "joblib.dump(modelknn2, filename)"
   ]
  },
  {
   "cell_type": "code",
   "execution_count": null,
   "metadata": {},
   "outputs": [],
   "source": [
    "filename = 'D:\\JupyterNotebook\\Model\\model_stemming.sav'\n",
    "loaded_model = joblib.load(filename)\n",
    "# result = loaded_model.score(X_test, y_test)\n",
    "# print(result)"
   ]
  },
  {
   "cell_type": "code",
   "execution_count": null,
   "metadata": {},
   "outputs": [],
   "source": [
    "y_pred = modelknn2.predict(X_test)\n",
    "y_pred"
   ]
  },
  {
   "cell_type": "code",
   "execution_count": null,
   "metadata": {},
   "outputs": [],
   "source": [
    "y_pred = loaded_model.predict(X_test)\n",
    "y_pred"
   ]
  },
  {
   "cell_type": "code",
   "execution_count": null,
   "metadata": {
    "scrolled": true
   },
   "outputs": [],
   "source": [
    "modelknn2.predict_proba(X_test)"
   ]
  },
  {
   "cell_type": "code",
   "execution_count": null,
   "metadata": {},
   "outputs": [],
   "source": [
    "print(confusion_matrix(y_test, y_pred))"
   ]
  },
  {
   "cell_type": "code",
   "execution_count": null,
   "metadata": {},
   "outputs": [],
   "source": [
    "print(classification_report(y_test,y_pred))"
   ]
  },
  {
   "cell_type": "code",
   "execution_count": null,
   "metadata": {},
   "outputs": [],
   "source": [
    "result = modelknn2.score(X_test, y_test)\n",
    "print(result)"
   ]
  },
  {
   "cell_type": "code",
   "execution_count": null,
   "metadata": {},
   "outputs": [],
   "source": [
    "result_class = pd.DataFrame({'Actual Result':y_test, 'Predicted Result':y_pred})\n",
    "result_class"
   ]
  },
  {
   "cell_type": "code",
   "execution_count": null,
   "metadata": {},
   "outputs": [],
   "source": [
    "with pd.option_context('display.max_rows', None, 'display.max_columns', None):\n",
    "    print(result_class)"
   ]
  },
  {
   "cell_type": "code",
   "execution_count": null,
   "metadata": {},
   "outputs": [],
   "source": []
  }
 ],
 "metadata": {
  "kernelspec": {
   "display_name": "Python 3",
   "language": "python",
   "name": "python3"
  },
  "language_info": {
   "codemirror_mode": {
    "name": "ipython",
    "version": 3
   },
   "file_extension": ".py",
   "mimetype": "text/x-python",
   "name": "python",
   "nbconvert_exporter": "python",
   "pygments_lexer": "ipython3",
   "version": "3.7.4"
  }
 },
 "nbformat": 4,
 "nbformat_minor": 2
}
