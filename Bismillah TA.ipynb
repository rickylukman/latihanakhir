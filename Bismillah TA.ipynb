{
 "cells": [
  {
   "cell_type": "code",
   "execution_count": 1,
   "metadata": {},
   "outputs": [],
   "source": [
    "import pandas as pd\n",
    "import numpy as np\n",
    "import os\n",
    "import re"
   ]
  },
  {
   "cell_type": "code",
   "execution_count": 2,
   "metadata": {},
   "outputs": [],
   "source": [
    "df = pd.DataFrame(columns=['text','label'])\n",
    "folder = ['Budaya','Ekonomi','Entertaiment','Hukum','Kesehatan','Lifestyle',\n",
    "          'Otomotif','Pendidikan','Politik','Sport','Tekno','Wisata']"
   ]
  },
  {
   "cell_type": "code",
   "execution_count": 3,
   "metadata": {},
   "outputs": [],
   "source": [
    "# Fungsi membaca file dari folder\n",
    "def savetodf(all_files,folder,label):\n",
    "  dfn = pd.DataFrame(columns=['text','label'])\n",
    "  for i in range(len(all_files)):\n",
    "    path_txt_file = 'Dataset/'+folder+'/'+all_files[i]\n",
    "    text = pd.read_fwf(path_txt_file, sep='\\n', header=None)[0].str.cat()\n",
    "    dfn.loc[i] = [text,label]\n",
    "  return dfn"
   ]
  },
  {
   "cell_type": "code",
   "execution_count": 4,
   "metadata": {},
   "outputs": [],
   "source": [
    "# Membaca semua data dari semua folder\n",
    "for i in range(len(folder)):\n",
    "  all_files = os.listdir(\"Dataset/\"+folder[i]+\"/\")\n",
    "  label = int(i)\n",
    "  dfX = savetodf(all_files,folder[i],label)\n",
    "  frames = [df, dfX] \n",
    "  df = pd.concat(frames).drop_duplicates().reset_index(drop=True)"
   ]
  },
  {
   "cell_type": "code",
   "execution_count": 5,
   "metadata": {},
   "outputs": [
    {
     "data": {
      "text/html": [
       "<div>\n",
       "<style scoped>\n",
       "    .dataframe tbody tr th:only-of-type {\n",
       "        vertical-align: middle;\n",
       "    }\n",
       "\n",
       "    .dataframe tbody tr th {\n",
       "        vertical-align: top;\n",
       "    }\n",
       "\n",
       "    .dataframe thead th {\n",
       "        text-align: right;\n",
       "    }\n",
       "</style>\n",
       "<table border=\"1\" class=\"dataframe\">\n",
       "  <thead>\n",
       "    <tr style=\"text-align: right;\">\n",
       "      <th></th>\n",
       "      <th>text</th>\n",
       "      <th>label</th>\n",
       "    </tr>\n",
       "  </thead>\n",
       "  <tbody>\n",
       "    <tr>\n",
       "      <td>0</td>\n",
       "      <td>Menpora Dukung Pianis Cilik asal Kendal yang I...</td>\n",
       "      <td>0</td>\n",
       "    </tr>\n",
       "    <tr>\n",
       "      <td>1</td>\n",
       "      <td>10 Festival Unik dari Berbagai Belahan DuniaBe...</td>\n",
       "      <td>0</td>\n",
       "    </tr>\n",
       "    <tr>\n",
       "      <td>2</td>\n",
       "      <td>Merawat Pusaka TionghoaLie kim in. Tjia Gwan S...</td>\n",
       "      <td>0</td>\n",
       "    </tr>\n",
       "    <tr>\n",
       "      <td>3</td>\n",
       "      <td>Ziarah Riwayat Foramadiahi dan Kastela“Semanga...</td>\n",
       "      <td>0</td>\n",
       "    </tr>\n",
       "    <tr>\n",
       "      <td>4</td>\n",
       "      <td>Budaya Indonesia Pudar karena Ulah Kita Sendir...</td>\n",
       "      <td>0</td>\n",
       "    </tr>\n",
       "    <tr>\n",
       "      <td>...</td>\n",
       "      <td>...</td>\n",
       "      <td>...</td>\n",
       "    </tr>\n",
       "    <tr>\n",
       "      <td>361</td>\n",
       "      <td>Wisata AsiaFakta Unik Tentang Gunung Fuji Jepa...</td>\n",
       "      <td>11</td>\n",
       "    </tr>\n",
       "    <tr>\n",
       "      <td>362</td>\n",
       "      <td>Pantai Mengiat Surga Tersembunyi di Nusa DuaBi...</td>\n",
       "      <td>11</td>\n",
       "    </tr>\n",
       "    <tr>\n",
       "      <td>363</td>\n",
       "      <td>Telkom Bangun Sarana MCK dan Air Bersih di 10 ...</td>\n",
       "      <td>11</td>\n",
       "    </tr>\n",
       "    <tr>\n",
       "      <td>364</td>\n",
       "      <td>Lokasi Wisata Pantai yang Cocok untuk Libur Ak...</td>\n",
       "      <td>11</td>\n",
       "    </tr>\n",
       "    <tr>\n",
       "      <td>365</td>\n",
       "      <td>5 Destinasi Wisata yang Mengerikan: Berenang B...</td>\n",
       "      <td>11</td>\n",
       "    </tr>\n",
       "  </tbody>\n",
       "</table>\n",
       "<p>366 rows × 2 columns</p>\n",
       "</div>"
      ],
      "text/plain": [
       "                                                  text label\n",
       "0    Menpora Dukung Pianis Cilik asal Kendal yang I...     0\n",
       "1    10 Festival Unik dari Berbagai Belahan DuniaBe...     0\n",
       "2    Merawat Pusaka TionghoaLie kim in. Tjia Gwan S...     0\n",
       "3    Ziarah Riwayat Foramadiahi dan Kastela“Semanga...     0\n",
       "4    Budaya Indonesia Pudar karena Ulah Kita Sendir...     0\n",
       "..                                                 ...   ...\n",
       "361  Wisata AsiaFakta Unik Tentang Gunung Fuji Jepa...    11\n",
       "362  Pantai Mengiat Surga Tersembunyi di Nusa DuaBi...    11\n",
       "363  Telkom Bangun Sarana MCK dan Air Bersih di 10 ...    11\n",
       "364  Lokasi Wisata Pantai yang Cocok untuk Libur Ak...    11\n",
       "365  5 Destinasi Wisata yang Mengerikan: Berenang B...    11\n",
       "\n",
       "[366 rows x 2 columns]"
      ]
     },
     "execution_count": 5,
     "metadata": {},
     "output_type": "execute_result"
    }
   ],
   "source": [
    "df"
   ]
  },
  {
   "cell_type": "markdown",
   "metadata": {},
   "source": [
    "# Preproccesing"
   ]
  },
  {
   "cell_type": "markdown",
   "metadata": {},
   "source": [
    "## Data Cleansing"
   ]
  },
  {
   "cell_type": "code",
   "execution_count": 6,
   "metadata": {},
   "outputs": [],
   "source": [
    "def delNumber(text):\n",
    "    noNum = re.sub(r\"\\d+\", \"\", text)\n",
    "    return noNum"
   ]
  },
  {
   "cell_type": "code",
   "execution_count": 7,
   "metadata": {},
   "outputs": [],
   "source": [
    "def delSymbol(text):\n",
    "    symbols = \"!\\\"“”#$%&’'()*+-,./:;<=>?@[\\]^_`{|}~\\n\"\n",
    "    for i in symbols:\n",
    "        text = np.char.replace(text, i, ' ')\n",
    "    return text"
   ]
  },
  {
   "cell_type": "code",
   "execution_count": 8,
   "metadata": {},
   "outputs": [],
   "source": [
    "def delWhiteSpace(text):\n",
    "    text = np.core.defchararray.strip(text, chars=None)\n",
    "    return text"
   ]
  },
  {
   "cell_type": "code",
   "execution_count": 9,
   "metadata": {},
   "outputs": [],
   "source": [
    "df['text']=df.apply(lambda x: delNumber(x[0]), axis=1)\n",
    "df['text']=df.apply(lambda x: delSymbol(x[0]), axis=1)\n",
    "df['text']=df.apply(lambda x: delWhiteSpace(x[0]), axis=1)"
   ]
  },
  {
   "cell_type": "code",
   "execution_count": 10,
   "metadata": {},
   "outputs": [
    {
     "data": {
      "text/html": [
       "<div>\n",
       "<style scoped>\n",
       "    .dataframe tbody tr th:only-of-type {\n",
       "        vertical-align: middle;\n",
       "    }\n",
       "\n",
       "    .dataframe tbody tr th {\n",
       "        vertical-align: top;\n",
       "    }\n",
       "\n",
       "    .dataframe thead th {\n",
       "        text-align: right;\n",
       "    }\n",
       "</style>\n",
       "<table border=\"1\" class=\"dataframe\">\n",
       "  <thead>\n",
       "    <tr style=\"text-align: right;\">\n",
       "      <th></th>\n",
       "      <th>text</th>\n",
       "      <th>label</th>\n",
       "    </tr>\n",
       "  </thead>\n",
       "  <tbody>\n",
       "    <tr>\n",
       "      <td>0</td>\n",
       "      <td>Menpora Dukung Pianis Cilik asal Kendal yang I...</td>\n",
       "      <td>0</td>\n",
       "    </tr>\n",
       "    <tr>\n",
       "      <td>1</td>\n",
       "      <td>Festival Unik dari Berbagai Belahan DuniaBerba...</td>\n",
       "      <td>0</td>\n",
       "    </tr>\n",
       "    <tr>\n",
       "      <td>2</td>\n",
       "      <td>Merawat Pusaka TionghoaLie kim in  Tjia Gwan S...</td>\n",
       "      <td>0</td>\n",
       "    </tr>\n",
       "    <tr>\n",
       "      <td>3</td>\n",
       "      <td>Ziarah Riwayat Foramadiahi dan Kastela Semanga...</td>\n",
       "      <td>0</td>\n",
       "    </tr>\n",
       "    <tr>\n",
       "      <td>4</td>\n",
       "      <td>Budaya Indonesia Pudar karena Ulah Kita Sendir...</td>\n",
       "      <td>0</td>\n",
       "    </tr>\n",
       "    <tr>\n",
       "      <td>...</td>\n",
       "      <td>...</td>\n",
       "      <td>...</td>\n",
       "    </tr>\n",
       "    <tr>\n",
       "      <td>361</td>\n",
       "      <td>Wisata AsiaFakta Unik Tentang Gunung Fuji Jepa...</td>\n",
       "      <td>11</td>\n",
       "    </tr>\n",
       "    <tr>\n",
       "      <td>362</td>\n",
       "      <td>Pantai Mengiat Surga Tersembunyi di Nusa DuaBi...</td>\n",
       "      <td>11</td>\n",
       "    </tr>\n",
       "    <tr>\n",
       "      <td>363</td>\n",
       "      <td>Telkom Bangun Sarana MCK dan Air Bersih di  Ar...</td>\n",
       "      <td>11</td>\n",
       "    </tr>\n",
       "    <tr>\n",
       "      <td>364</td>\n",
       "      <td>Lokasi Wisata Pantai yang Cocok untuk Libur Ak...</td>\n",
       "      <td>11</td>\n",
       "    </tr>\n",
       "    <tr>\n",
       "      <td>365</td>\n",
       "      <td>Destinasi Wisata yang Mengerikan  Berenang Ber...</td>\n",
       "      <td>11</td>\n",
       "    </tr>\n",
       "  </tbody>\n",
       "</table>\n",
       "<p>366 rows × 2 columns</p>\n",
       "</div>"
      ],
      "text/plain": [
       "                                                  text label\n",
       "0    Menpora Dukung Pianis Cilik asal Kendal yang I...     0\n",
       "1    Festival Unik dari Berbagai Belahan DuniaBerba...     0\n",
       "2    Merawat Pusaka TionghoaLie kim in  Tjia Gwan S...     0\n",
       "3    Ziarah Riwayat Foramadiahi dan Kastela Semanga...     0\n",
       "4    Budaya Indonesia Pudar karena Ulah Kita Sendir...     0\n",
       "..                                                 ...   ...\n",
       "361  Wisata AsiaFakta Unik Tentang Gunung Fuji Jepa...    11\n",
       "362  Pantai Mengiat Surga Tersembunyi di Nusa DuaBi...    11\n",
       "363  Telkom Bangun Sarana MCK dan Air Bersih di  Ar...    11\n",
       "364  Lokasi Wisata Pantai yang Cocok untuk Libur Ak...    11\n",
       "365  Destinasi Wisata yang Mengerikan  Berenang Ber...    11\n",
       "\n",
       "[366 rows x 2 columns]"
      ]
     },
     "execution_count": 10,
     "metadata": {},
     "output_type": "execute_result"
    }
   ],
   "source": [
    "df"
   ]
  },
  {
   "cell_type": "code",
   "execution_count": null,
   "metadata": {},
   "outputs": [],
   "source": []
  }
 ],
 "metadata": {
  "kernelspec": {
   "display_name": "Python 3",
   "language": "python",
   "name": "python3"
  },
  "language_info": {
   "codemirror_mode": {
    "name": "ipython",
    "version": 3
   },
   "file_extension": ".py",
   "mimetype": "text/x-python",
   "name": "python",
   "nbconvert_exporter": "python",
   "pygments_lexer": "ipython3",
   "version": "3.7.4"
  }
 },
 "nbformat": 4,
 "nbformat_minor": 2
}
