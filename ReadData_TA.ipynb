{
 "cells": [
  {
   "cell_type": "code",
   "execution_count": 1,
   "metadata": {},
   "outputs": [],
   "source": [
    "import pandas as pd\n",
    "import os\n",
    "import re\n",
    "import pickle\n",
    "import glob"
   ]
  },
  {
   "cell_type": "markdown",
   "metadata": {},
   "source": [
    "# Click-ID"
   ]
  },
  {
   "cell_type": "code",
   "execution_count": 7,
   "metadata": {},
   "outputs": [
    {
     "data": {
      "text/html": [
       "<div>\n",
       "<style scoped>\n",
       "    .dataframe tbody tr th:only-of-type {\n",
       "        vertical-align: middle;\n",
       "    }\n",
       "\n",
       "    .dataframe tbody tr th {\n",
       "        vertical-align: top;\n",
       "    }\n",
       "\n",
       "    .dataframe thead th {\n",
       "        text-align: right;\n",
       "    }\n",
       "</style>\n",
       "<table border=\"1\" class=\"dataframe\">\n",
       "  <thead>\n",
       "    <tr style=\"text-align: right;\">\n",
       "      <th></th>\n",
       "      <th>title</th>\n",
       "      <th>source</th>\n",
       "      <th>date</th>\n",
       "      <th>time</th>\n",
       "      <th>category</th>\n",
       "      <th>sub-category</th>\n",
       "      <th>content</th>\n",
       "      <th>url</th>\n",
       "    </tr>\n",
       "  </thead>\n",
       "  <tbody>\n",
       "    <tr>\n",
       "      <td>0</td>\n",
       "      <td>Diduga Pasok Sabu di Anambas, Adik Wali Kota T...</td>\n",
       "      <td>Kompas.com</td>\n",
       "      <td>10/09/2019</td>\n",
       "      <td>21:48 WIB</td>\n",
       "      <td>News</td>\n",
       "      <td>Regional</td>\n",
       "      <td>- Satresnarkoba Polres Anambas bersama Polres...</td>\n",
       "      <td>https://regional.kompas.com/read/2019/09/10/21...</td>\n",
       "    </tr>\n",
       "    <tr>\n",
       "      <td>1</td>\n",
       "      <td>Wanita dengan Tubuh Berisi Terbukti Bikin Pria...</td>\n",
       "      <td>Kompas.com</td>\n",
       "      <td>16/09/2019</td>\n",
       "      <td>22:58 WIB</td>\n",
       "      <td>Lifestyle</td>\n",
       "      <td>Feel Good</td>\n",
       "      <td>- Berbagai usaha dilakukan, mulai dari olahra...</td>\n",
       "      <td>https://lifestyle.kompas.com/read/2019/09/16/2...</td>\n",
       "    </tr>\n",
       "    <tr>\n",
       "      <td>2</td>\n",
       "      <td>Kronologi Lengkap Pemuda di Bandung Tusuk Gadi...</td>\n",
       "      <td>Kompas.com</td>\n",
       "      <td>10/09/2019</td>\n",
       "      <td>23:09 WIB</td>\n",
       "      <td>News</td>\n",
       "      <td>Regional</td>\n",
       "      <td>- RG (22), pemuda yang nekat menusuk Z (16), ...</td>\n",
       "      <td>https://regional.kompas.com/read/2019/09/10/23...</td>\n",
       "    </tr>\n",
       "    <tr>\n",
       "      <td>3</td>\n",
       "      <td>Pemain Thailand Beri Hormat ke Suporter Indone...</td>\n",
       "      <td>Kompas.com</td>\n",
       "      <td>10/09/2019</td>\n",
       "      <td>23:23 WIB</td>\n",
       "      <td>Bola</td>\n",
       "      <td>Liga Indonesia</td>\n",
       "      <td>- Para suporter Thailand sempat menyapa dan m...</td>\n",
       "      <td>https://bola.kompas.com/read/2019/09/10/232348...</td>\n",
       "    </tr>\n",
       "    <tr>\n",
       "      <td>4</td>\n",
       "      <td>Link Live Streaming Inggris Vs Kosovo, Kickoff...</td>\n",
       "      <td>Kompas.com</td>\n",
       "      <td>10/09/2019</td>\n",
       "      <td>23:59 WIB</td>\n",
       "      <td>Bola</td>\n",
       "      <td>Internasional</td>\n",
       "      <td>- , keenam Kualifikasi Piala Eropa 2020 mempe...</td>\n",
       "      <td>https://bola.kompas.com/read/2019/09/10/235900...</td>\n",
       "    </tr>\n",
       "  </tbody>\n",
       "</table>\n",
       "</div>"
      ],
      "text/plain": [
       "                                               title      source        date  \\\n",
       "0  Diduga Pasok Sabu di Anambas, Adik Wali Kota T...  Kompas.com  10/09/2019   \n",
       "1  Wanita dengan Tubuh Berisi Terbukti Bikin Pria...  Kompas.com  16/09/2019   \n",
       "2  Kronologi Lengkap Pemuda di Bandung Tusuk Gadi...  Kompas.com  10/09/2019   \n",
       "3  Pemain Thailand Beri Hormat ke Suporter Indone...  Kompas.com  10/09/2019   \n",
       "4  Link Live Streaming Inggris Vs Kosovo, Kickoff...  Kompas.com  10/09/2019   \n",
       "\n",
       "        time   category    sub-category  \\\n",
       "0  21:48 WIB       News        Regional   \n",
       "1  22:58 WIB  Lifestyle       Feel Good   \n",
       "2  23:09 WIB       News        Regional   \n",
       "3  23:23 WIB       Bola  Liga Indonesia   \n",
       "4  23:59 WIB       Bola   Internasional   \n",
       "\n",
       "                                             content  \\\n",
       "0   - Satresnarkoba Polres Anambas bersama Polres...   \n",
       "1   - Berbagai usaha dilakukan, mulai dari olahra...   \n",
       "2   - RG (22), pemuda yang nekat menusuk Z (16), ...   \n",
       "3   - Para suporter Thailand sempat menyapa dan m...   \n",
       "4   - , keenam Kualifikasi Piala Eropa 2020 mempe...   \n",
       "\n",
       "                                                 url  \n",
       "0  https://regional.kompas.com/read/2019/09/10/21...  \n",
       "1  https://lifestyle.kompas.com/read/2019/09/16/2...  \n",
       "2  https://regional.kompas.com/read/2019/09/10/23...  \n",
       "3  https://bola.kompas.com/read/2019/09/10/232348...  \n",
       "4  https://bola.kompas.com/read/2019/09/10/235900...  "
      ]
     },
     "execution_count": 7,
     "metadata": {},
     "output_type": "execute_result"
    }
   ],
   "source": [
    "from sklearn.preprocessing import LabelEncoder\n",
    "encoder = LabelEncoder()\n",
    "df = pd.read_csv(r'D:\\JupyterNotebook\\Dataset\\click\\kompas.csv')\n",
    "df.head()"
   ]
  },
  {
   "cell_type": "code",
   "execution_count": 8,
   "metadata": {},
   "outputs": [
    {
     "data": {
      "text/html": [
       "<div>\n",
       "<style scoped>\n",
       "    .dataframe tbody tr th:only-of-type {\n",
       "        vertical-align: middle;\n",
       "    }\n",
       "\n",
       "    .dataframe tbody tr th {\n",
       "        vertical-align: top;\n",
       "    }\n",
       "\n",
       "    .dataframe thead th {\n",
       "        text-align: right;\n",
       "    }\n",
       "</style>\n",
       "<table border=\"1\" class=\"dataframe\">\n",
       "  <thead>\n",
       "    <tr style=\"text-align: right;\">\n",
       "      <th></th>\n",
       "      <th>text</th>\n",
       "      <th>label</th>\n",
       "    </tr>\n",
       "  </thead>\n",
       "  <tbody>\n",
       "    <tr>\n",
       "      <td>0</td>\n",
       "      <td>- Satresnarkoba Polres Anambas bersama Polres...</td>\n",
       "      <td>4</td>\n",
       "    </tr>\n",
       "    <tr>\n",
       "      <td>1</td>\n",
       "      <td>- Berbagai usaha dilakukan, mulai dari olahra...</td>\n",
       "      <td>2</td>\n",
       "    </tr>\n",
       "    <tr>\n",
       "      <td>2</td>\n",
       "      <td>- RG (22), pemuda yang nekat menusuk Z (16), ...</td>\n",
       "      <td>4</td>\n",
       "    </tr>\n",
       "    <tr>\n",
       "      <td>3</td>\n",
       "      <td>- Para suporter Thailand sempat menyapa dan m...</td>\n",
       "      <td>0</td>\n",
       "    </tr>\n",
       "    <tr>\n",
       "      <td>4</td>\n",
       "      <td>- , keenam Kualifikasi Piala Eropa 2020 mempe...</td>\n",
       "      <td>0</td>\n",
       "    </tr>\n",
       "  </tbody>\n",
       "</table>\n",
       "</div>"
      ],
      "text/plain": [
       "                                                text  label\n",
       "0   - Satresnarkoba Polres Anambas bersama Polres...      4\n",
       "1   - Berbagai usaha dilakukan, mulai dari olahra...      2\n",
       "2   - RG (22), pemuda yang nekat menusuk Z (16), ...      4\n",
       "3   - Para suporter Thailand sempat menyapa dan m...      0\n",
       "4   - , keenam Kualifikasi Piala Eropa 2020 mempe...      0"
      ]
     },
     "execution_count": 8,
     "metadata": {},
     "output_type": "execute_result"
    }
   ],
   "source": [
    "df = df[['content','category']]\n",
    "df.columns = ['text', 'label']\n",
    "df['label'] = encoder.fit_transform(df['label'])\n",
    "df.head()"
   ]
  },
  {
   "cell_type": "code",
   "execution_count": 9,
   "metadata": {},
   "outputs": [
    {
     "data": {
      "text/plain": [
       "array([4, 2, 0, 1, 3, 8, 5, 7, 6, 9], dtype=int64)"
      ]
     },
     "execution_count": 9,
     "metadata": {},
     "output_type": "execute_result"
    }
   ],
   "source": [
    "df['label'].unique()"
   ]
  },
  {
   "cell_type": "code",
   "execution_count": 10,
   "metadata": {},
   "outputs": [],
   "source": [
    "# Simpan data ke csv\n",
    "df.to_csv (r'D:\\JupyterNotebook\\DataProcess\\new_raw_data.csv', index = False, header=True)"
   ]
  },
  {
   "cell_type": "markdown",
   "metadata": {},
   "source": [
    "## Json"
   ]
  },
  {
   "cell_type": "code",
   "execution_count": 10,
   "metadata": {},
   "outputs": [
    {
     "data": {
      "text/html": [
       "<div>\n",
       "<style scoped>\n",
       "    .dataframe tbody tr th:only-of-type {\n",
       "        vertical-align: middle;\n",
       "    }\n",
       "\n",
       "    .dataframe tbody tr th {\n",
       "        vertical-align: top;\n",
       "    }\n",
       "\n",
       "    .dataframe thead th {\n",
       "        text-align: right;\n",
       "    }\n",
       "</style>\n",
       "<table border=\"1\" class=\"dataframe\">\n",
       "  <thead>\n",
       "    <tr style=\"text-align: right;\">\n",
       "      <th></th>\n",
       "      <th>sumber</th>\n",
       "      <th>tanggal</th>\n",
       "      <th>kategori</th>\n",
       "      <th>judul</th>\n",
       "      <th>isi</th>\n",
       "      <th>link</th>\n",
       "      <th>jumlahkata</th>\n",
       "    </tr>\n",
       "  </thead>\n",
       "  <tbody>\n",
       "    <tr>\n",
       "      <td>0</td>\n",
       "      <td>kompas.com</td>\n",
       "      <td>2015/07/01</td>\n",
       "      <td>Teknologi</td>\n",
       "      <td>Ponsel Huawei Honor 4C Dibanderol Rp 2,2 Juta</td>\n",
       "      <td>JAKARTA, KOMPAS.com  Ponsel Android Huawei Hon...</td>\n",
       "      <td>http://tekno.kompas.com/read/xml/2015/07/01/18...</td>\n",
       "      <td>315</td>\n",
       "    </tr>\n",
       "    <tr>\n",
       "      <td>1</td>\n",
       "      <td>kompas.com</td>\n",
       "      <td>2015/07/01</td>\n",
       "      <td>Teknologi</td>\n",
       "      <td>Asosiasi: RPP E-commerce Tidak Sesuai Hasil Di...</td>\n",
       "      <td>JAKARTA, KOMPAS.com - Sejak 2013, wacana tenta...</td>\n",
       "      <td>http://tekno.kompas.com/read/xml/2015/07/01/16...</td>\n",
       "      <td>419</td>\n",
       "    </tr>\n",
       "    <tr>\n",
       "      <td>2</td>\n",
       "      <td>kompas.com</td>\n",
       "      <td>2015/07/01</td>\n",
       "      <td>Teknologi</td>\n",
       "      <td>Pemesan \"iPhone Jadi Sabun\" Karyawan Pesaing L...</td>\n",
       "      <td>JAKARTA, KOMPAS.com Danis Darusman, pelanggan ...</td>\n",
       "      <td>http://tekno.kompas.com/read/xml/2015/07/01/15...</td>\n",
       "      <td>265</td>\n",
       "    </tr>\n",
       "    <tr>\n",
       "      <td>3</td>\n",
       "      <td>kompas.com</td>\n",
       "      <td>2015/07/01</td>\n",
       "      <td>Teknologi</td>\n",
       "      <td>\"Autofeather Failure\", Momok bagi Pesawat Bali...</td>\n",
       "      <td>KOMPAS.com Salah satu momok yang dihadapi dala...</td>\n",
       "      <td>http://tekno.kompas.com/read/xml/2015/07/01/14...</td>\n",
       "      <td>481</td>\n",
       "    </tr>\n",
       "    <tr>\n",
       "      <td>4</td>\n",
       "      <td>kompas.com</td>\n",
       "      <td>2015/07/01</td>\n",
       "      <td>Teknologi</td>\n",
       "      <td>Laptop Bezel Tertipis di Dunia Masuk Indonesia</td>\n",
       "      <td>JAKARTA, KOMPAS.com - Resmi diperkenalkan pada...</td>\n",
       "      <td>http://tekno.kompas.com/read/xml/2015/07/01/14...</td>\n",
       "      <td>227</td>\n",
       "    </tr>\n",
       "    <tr>\n",
       "      <td>...</td>\n",
       "      <td>...</td>\n",
       "      <td>...</td>\n",
       "      <td>...</td>\n",
       "      <td>...</td>\n",
       "      <td>...</td>\n",
       "      <td>...</td>\n",
       "      <td>...</td>\n",
       "    </tr>\n",
       "    <tr>\n",
       "      <td>1086</td>\n",
       "      <td>tribunnews.com</td>\n",
       "      <td>2015/07/01</td>\n",
       "      <td>Travel</td>\n",
       "      <td>Kuliner Medan Sedap Harga Murah Meriah: Bubur ...</td>\n",
       "      <td>TRIBUNNEWS.COM - Selain Bika Ambon, tiga kulin...</td>\n",
       "      <td>http://www.tribunnews.com/travel/2015/07/01/ku...</td>\n",
       "      <td>101</td>\n",
       "    </tr>\n",
       "    <tr>\n",
       "      <td>1087</td>\n",
       "      <td>tribunnews.com</td>\n",
       "      <td>2015/07/01</td>\n",
       "      <td>Travel</td>\n",
       "      <td>Seribu Delegasi 60 Negara Akan Ikuti Pameran W...</td>\n",
       "      <td>TRIBUNNEWS.COM - Asosiasi nirlaba internasiona...</td>\n",
       "      <td>http://www.tribunnews.com/travel/2015/07/01/se...</td>\n",
       "      <td>197</td>\n",
       "    </tr>\n",
       "    <tr>\n",
       "      <td>1088</td>\n",
       "      <td>tribunnews.com</td>\n",
       "      <td>2015/07/01</td>\n",
       "      <td>Travel</td>\n",
       "      <td>Bebek Goreng Gurihnya Mantap Saat Disantap Den...</td>\n",
       "      <td>Laporan wartawan Tribun Medan, Silfa Humairah ...</td>\n",
       "      <td>http://www.tribunnews.com/travel/2015/07/01/be...</td>\n",
       "      <td>125</td>\n",
       "    </tr>\n",
       "    <tr>\n",
       "      <td>1089</td>\n",
       "      <td>tribunnews.com</td>\n",
       "      <td>2015/07/01</td>\n",
       "      <td>Travel</td>\n",
       "      <td>Kisah Haru Penjual Siomay Pink setelah Berulan...</td>\n",
       "      <td>Laporan Wartawan Tribunnews, Reynas Abdila TRI...</td>\n",
       "      <td>http://www.tribunnews.com/travel/2015/07/01/ki...</td>\n",
       "      <td>95</td>\n",
       "    </tr>\n",
       "    <tr>\n",
       "      <td>1090</td>\n",
       "      <td>tribunnews.com</td>\n",
       "      <td>2015/07/01</td>\n",
       "      <td>Travel</td>\n",
       "      <td>Nanang Tolak Tawaran Rp 2,5 Miliar untuk Fosil...</td>\n",
       "      <td>Laporan Wartawan Pos Kupang, Muhlis Al Alawi T...</td>\n",
       "      <td>http://www.tribunnews.com/travel/2015/07/01/na...</td>\n",
       "      <td>148</td>\n",
       "    </tr>\n",
       "  </tbody>\n",
       "</table>\n",
       "<p>1091 rows × 7 columns</p>\n",
       "</div>"
      ],
      "text/plain": [
       "              sumber     tanggal   kategori  \\\n",
       "0         kompas.com  2015/07/01  Teknologi   \n",
       "1         kompas.com  2015/07/01  Teknologi   \n",
       "2         kompas.com  2015/07/01  Teknologi   \n",
       "3         kompas.com  2015/07/01  Teknologi   \n",
       "4         kompas.com  2015/07/01  Teknologi   \n",
       "...              ...         ...        ...   \n",
       "1086  tribunnews.com  2015/07/01     Travel   \n",
       "1087  tribunnews.com  2015/07/01     Travel   \n",
       "1088  tribunnews.com  2015/07/01     Travel   \n",
       "1089  tribunnews.com  2015/07/01     Travel   \n",
       "1090  tribunnews.com  2015/07/01     Travel   \n",
       "\n",
       "                                                  judul  \\\n",
       "0         Ponsel Huawei Honor 4C Dibanderol Rp 2,2 Juta   \n",
       "1     Asosiasi: RPP E-commerce Tidak Sesuai Hasil Di...   \n",
       "2     Pemesan \"iPhone Jadi Sabun\" Karyawan Pesaing L...   \n",
       "3     \"Autofeather Failure\", Momok bagi Pesawat Bali...   \n",
       "4        Laptop Bezel Tertipis di Dunia Masuk Indonesia   \n",
       "...                                                 ...   \n",
       "1086  Kuliner Medan Sedap Harga Murah Meriah: Bubur ...   \n",
       "1087  Seribu Delegasi 60 Negara Akan Ikuti Pameran W...   \n",
       "1088  Bebek Goreng Gurihnya Mantap Saat Disantap Den...   \n",
       "1089  Kisah Haru Penjual Siomay Pink setelah Berulan...   \n",
       "1090  Nanang Tolak Tawaran Rp 2,5 Miliar untuk Fosil...   \n",
       "\n",
       "                                                    isi  \\\n",
       "0     JAKARTA, KOMPAS.com  Ponsel Android Huawei Hon...   \n",
       "1     JAKARTA, KOMPAS.com - Sejak 2013, wacana tenta...   \n",
       "2     JAKARTA, KOMPAS.com Danis Darusman, pelanggan ...   \n",
       "3     KOMPAS.com Salah satu momok yang dihadapi dala...   \n",
       "4     JAKARTA, KOMPAS.com - Resmi diperkenalkan pada...   \n",
       "...                                                 ...   \n",
       "1086  TRIBUNNEWS.COM - Selain Bika Ambon, tiga kulin...   \n",
       "1087  TRIBUNNEWS.COM - Asosiasi nirlaba internasiona...   \n",
       "1088  Laporan wartawan Tribun Medan, Silfa Humairah ...   \n",
       "1089  Laporan Wartawan Tribunnews, Reynas Abdila TRI...   \n",
       "1090  Laporan Wartawan Pos Kupang, Muhlis Al Alawi T...   \n",
       "\n",
       "                                                   link  jumlahkata  \n",
       "0     http://tekno.kompas.com/read/xml/2015/07/01/18...         315  \n",
       "1     http://tekno.kompas.com/read/xml/2015/07/01/16...         419  \n",
       "2     http://tekno.kompas.com/read/xml/2015/07/01/15...         265  \n",
       "3     http://tekno.kompas.com/read/xml/2015/07/01/14...         481  \n",
       "4     http://tekno.kompas.com/read/xml/2015/07/01/14...         227  \n",
       "...                                                 ...         ...  \n",
       "1086  http://www.tribunnews.com/travel/2015/07/01/ku...         101  \n",
       "1087  http://www.tribunnews.com/travel/2015/07/01/se...         197  \n",
       "1088  http://www.tribunnews.com/travel/2015/07/01/be...         125  \n",
       "1089  http://www.tribunnews.com/travel/2015/07/01/ki...          95  \n",
       "1090  http://www.tribunnews.com/travel/2015/07/01/na...         148  \n",
       "\n",
       "[1091 rows x 7 columns]"
      ]
     },
     "execution_count": 10,
     "metadata": {},
     "output_type": "execute_result"
    }
   ],
   "source": [
    "df = pd.read_json (r'D:\\JupyterNotebook\\Dataset\\json\\export-json-2015-07-01.json')\n",
    "df"
   ]
  },
  {
   "cell_type": "code",
   "execution_count": 24,
   "metadata": {},
   "outputs": [
    {
     "data": {
      "text/html": [
       "<div>\n",
       "<style scoped>\n",
       "    .dataframe tbody tr th:only-of-type {\n",
       "        vertical-align: middle;\n",
       "    }\n",
       "\n",
       "    .dataframe tbody tr th {\n",
       "        vertical-align: top;\n",
       "    }\n",
       "\n",
       "    .dataframe thead th {\n",
       "        text-align: right;\n",
       "    }\n",
       "</style>\n",
       "<table border=\"1\" class=\"dataframe\">\n",
       "  <thead>\n",
       "    <tr style=\"text-align: right;\">\n",
       "      <th></th>\n",
       "      <th>isi</th>\n",
       "      <th>kategori</th>\n",
       "    </tr>\n",
       "  </thead>\n",
       "  <tbody>\n",
       "    <tr>\n",
       "      <td>0</td>\n",
       "      <td>KOMPAS.com - Barangkali kita tidak mengira bah...</td>\n",
       "      <td>Travel</td>\n",
       "    </tr>\n",
       "    <tr>\n",
       "      <td>1</td>\n",
       "      <td>JAKARTA, KOMPAS.com - Dalam rangka pengembanga...</td>\n",
       "      <td>Travel</td>\n",
       "    </tr>\n",
       "    <tr>\n",
       "      <td>2</td>\n",
       "      <td>MAKASSAR, KOMPAS.com - Es Pisang Ijo merupakan...</td>\n",
       "      <td>Travel</td>\n",
       "    </tr>\n",
       "    <tr>\n",
       "      <td>3</td>\n",
       "      <td>KOMPAS.com - Setelah beberapa bulan dalam masa...</td>\n",
       "      <td>Travel</td>\n",
       "    </tr>\n",
       "    <tr>\n",
       "      <td>4</td>\n",
       "      <td>BANDUNG, KOMPAS.com - Jangan heran bila meliha...</td>\n",
       "      <td>Travel</td>\n",
       "    </tr>\n",
       "  </tbody>\n",
       "</table>\n",
       "</div>"
      ],
      "text/plain": [
       "                                                 isi kategori\n",
       "0  KOMPAS.com - Barangkali kita tidak mengira bah...   Travel\n",
       "1  JAKARTA, KOMPAS.com - Dalam rangka pengembanga...   Travel\n",
       "2  MAKASSAR, KOMPAS.com - Es Pisang Ijo merupakan...   Travel\n",
       "3  KOMPAS.com - Setelah beberapa bulan dalam masa...   Travel\n",
       "4  BANDUNG, KOMPAS.com - Jangan heran bila meliha...   Travel"
      ]
     },
     "execution_count": 24,
     "metadata": {},
     "output_type": "execute_result"
    }
   ],
   "source": [
    "Travel = pd.DataFrame(data = df[df['kategori'] == 'Travel'].values\n",
    "                   ,columns = ['sumber','tanggal','kategori','judul','isi','link','jumlahkata'])\n",
    "Travel = Travel[['isi', 'kategori']]\n",
    "Travel.head()\n",
    "# df['kategori'].unique()"
   ]
  },
  {
   "cell_type": "code",
   "execution_count": 21,
   "metadata": {},
   "outputs": [
    {
     "data": {
      "text/plain": [
       "'JAKARTA, KOMPAS.com - Dua hari menjelang ditutupnya pendaftaran, panitia seleksi calon pimpinan Komisi Pemberantasan Korupsi (KPK) telah menerima 523 orang pendaftar. Namun, tidak sampai setengah dari pendaftar itu sudah melengkapi dokumen persyaratan. \"Sampai sore ini yang mendaftar jadi capim KPK adalah 523 orang, 43 di antaranya perempuan. Yang dokumennya lengkap ada 247, hampir lengkap 62 orang,\" kata Juru Bicara Pansel KPK Betti S Alisjahbana dalam pesan singkat, Rabu (1/7/2015). Betti memaparkan profesi terbanyak yang mendaftar calon pimpinan KPK adalah pegawai negeri sipil (PNS) berjumlah 84 orang. Lainnya yaitu dosen (76 orang), advokat (79 orang), pegawai swasta (62 orang), pensiunan (46 orang), wiraswasta (31 orang), wartawan (4 orang). Sementara mereka yang berlatar belakang penegak hukum juga turut mendaftar untuk menjadi pimpinan KPK 2015-2020 yakni Polri 20 orang di mana 7 orang di antaranya purnawirawan, TNI 4 orang (2 purnawirawan), Jaksa 3 orang, Hakim 3 orang, KPK 3 orang. Pansel akan menutup pendaftaran pada 3 Juli pukul 12.00. Pengumuman nama-nama yang lolos seleksi administrasi akan dilaksanakan pada tanggal 4 Juli melalui press conference dan di situs www.setneg.go.id.  Tanggapan masyarakat terhadap nama-nama yang lolos seleksi administrasi dibuka selama satu bulan dari tanggal 4 Juli hingga 3 Agustus 2015. Pansel akan menyediakan halaman khusus di situs www.setneg.go.id untuk memberikan tanggapan.'"
      ]
     },
     "execution_count": 21,
     "metadata": {},
     "output_type": "execute_result"
    }
   ],
   "source": [
    "nasional['isi'].loc[0]"
   ]
  },
  {
   "cell_type": "markdown",
   "metadata": {},
   "source": [
    "## NewData"
   ]
  },
  {
   "cell_type": "code",
   "execution_count": 2,
   "metadata": {},
   "outputs": [
    {
     "data": {
      "text/html": [
       "<div>\n",
       "<style scoped>\n",
       "    .dataframe tbody tr th:only-of-type {\n",
       "        vertical-align: middle;\n",
       "    }\n",
       "\n",
       "    .dataframe tbody tr th {\n",
       "        vertical-align: top;\n",
       "    }\n",
       "\n",
       "    .dataframe thead th {\n",
       "        text-align: right;\n",
       "    }\n",
       "</style>\n",
       "<table border=\"1\" class=\"dataframe\">\n",
       "  <thead>\n",
       "    <tr style=\"text-align: right;\">\n",
       "      <th></th>\n",
       "      <th>content</th>\n",
       "      <th>label</th>\n",
       "    </tr>\n",
       "  </thead>\n",
       "  <tbody>\n",
       "    <tr>\n",
       "      <td>0</td>\n",
       "      <td>Liputan6.com, London - Lee Dixon khawatir Arse...</td>\n",
       "      <td>bola</td>\n",
       "    </tr>\n",
       "    <tr>\n",
       "      <td>1</td>\n",
       "      <td>Liputan6.com, Jakarta - Kasus dugaan penganiay...</td>\n",
       "      <td>news</td>\n",
       "    </tr>\n",
       "    <tr>\n",
       "      <td>2</td>\n",
       "      <td>Liputan6.com, Jakarta Menanggapi aksi eks peke...</td>\n",
       "      <td>bisnis</td>\n",
       "    </tr>\n",
       "    <tr>\n",
       "      <td>3</td>\n",
       "      <td>Liputan6.com, Medan - Sebanyak 81 kendaraan 4x...</td>\n",
       "      <td>bola</td>\n",
       "    </tr>\n",
       "    <tr>\n",
       "      <td>4</td>\n",
       "      <td>Liputan6.com, Jakarta Indonesia akan melawan T...</td>\n",
       "      <td>bola</td>\n",
       "    </tr>\n",
       "  </tbody>\n",
       "</table>\n",
       "</div>"
      ],
      "text/plain": [
       "                                             content   label\n",
       "0  Liputan6.com, London - Lee Dixon khawatir Arse...    bola\n",
       "1  Liputan6.com, Jakarta - Kasus dugaan penganiay...    news\n",
       "2  Liputan6.com, Jakarta Menanggapi aksi eks peke...  bisnis\n",
       "3  Liputan6.com, Medan - Sebanyak 81 kendaraan 4x...    bola\n",
       "4  Liputan6.com, Jakarta Indonesia akan melawan T...    bola"
      ]
     },
     "execution_count": 2,
     "metadata": {},
     "output_type": "execute_result"
    }
   ],
   "source": [
    "data_path = 'Dataset/NewData/'\n",
    "files = glob.glob(data_path + '/*')\n",
    "train = pickle.load(open(files[1], 'rb'))\n",
    "test = pickle.load(open(files[0], 'rb'))\n",
    "d_train = pd.DataFrame({'content': train[0], 'label': train[1]})\n",
    "d_test = pd.DataFrame({'content': test[0], 'label': test[1]})\n",
    "d_train.head()"
   ]
  },
  {
   "cell_type": "code",
   "execution_count": 3,
   "metadata": {},
   "outputs": [
    {
     "data": {
      "text/html": [
       "<div>\n",
       "<style scoped>\n",
       "    .dataframe tbody tr th:only-of-type {\n",
       "        vertical-align: middle;\n",
       "    }\n",
       "\n",
       "    .dataframe tbody tr th {\n",
       "        vertical-align: top;\n",
       "    }\n",
       "\n",
       "    .dataframe thead th {\n",
       "        text-align: right;\n",
       "    }\n",
       "</style>\n",
       "<table border=\"1\" class=\"dataframe\">\n",
       "  <thead>\n",
       "    <tr style=\"text-align: right;\">\n",
       "      <th></th>\n",
       "      <th>text</th>\n",
       "      <th>label</th>\n",
       "    </tr>\n",
       "  </thead>\n",
       "  <tbody>\n",
       "    <tr>\n",
       "      <td>0</td>\n",
       "      <td>Liputan6.com, London - Lee Dixon khawatir Arse...</td>\n",
       "      <td>bola</td>\n",
       "    </tr>\n",
       "    <tr>\n",
       "      <td>1</td>\n",
       "      <td>Liputan6.com, Medan - Sebanyak 81 kendaraan 4x...</td>\n",
       "      <td>bola</td>\n",
       "    </tr>\n",
       "    <tr>\n",
       "      <td>2</td>\n",
       "      <td>Liputan6.com, Jakarta Indonesia akan melawan T...</td>\n",
       "      <td>bola</td>\n",
       "    </tr>\n",
       "    <tr>\n",
       "      <td>3</td>\n",
       "      <td>Liputan6.com, Jakarta Persela Lamongan sudah m...</td>\n",
       "      <td>bola</td>\n",
       "    </tr>\n",
       "    <tr>\n",
       "      <td>4</td>\n",
       "      <td>Gattuso mengatakan bahwa Piatek dan Cutrone bi...</td>\n",
       "      <td>bola</td>\n",
       "    </tr>\n",
       "  </tbody>\n",
       "</table>\n",
       "</div>"
      ],
      "text/plain": [
       "                                                text label\n",
       "0  Liputan6.com, London - Lee Dixon khawatir Arse...  bola\n",
       "1  Liputan6.com, Medan - Sebanyak 81 kendaraan 4x...  bola\n",
       "2  Liputan6.com, Jakarta Indonesia akan melawan T...  bola\n",
       "3  Liputan6.com, Jakarta Persela Lamongan sudah m...  bola\n",
       "4  Gattuso mengatakan bahwa Piatek dan Cutrone bi...  bola"
      ]
     },
     "execution_count": 3,
     "metadata": {},
     "output_type": "execute_result"
    }
   ],
   "source": [
    "bola = pd.DataFrame(data = d_train[d_train['label'] == 'bola'].values\n",
    "                   ,columns = ['text','label'])\n",
    "oto = pd.DataFrame(data = d_train[d_train['label'] == 'otomotif'].values\n",
    "                   ,columns = ['text','label'])\n",
    "tekno = pd.DataFrame(data = d_train[d_train['label'] == 'tekno'].values\n",
    "                   ,columns = ['text','label'])\n",
    "bola.head()"
   ]
  },
  {
   "cell_type": "code",
   "execution_count": 6,
   "metadata": {},
   "outputs": [
    {
     "name": "stdout",
     "output_type": "stream",
     "text": [
      "(2063, 2) (130, 2) (578, 2)\n"
     ]
    }
   ],
   "source": [
    "print(bola.shape,oto.shape,tekno.shape)"
   ]
  },
  {
   "cell_type": "markdown",
   "metadata": {},
   "source": [
    "# CODE"
   ]
  },
  {
   "cell_type": "code",
   "execution_count": 2,
   "metadata": {},
   "outputs": [],
   "source": [
    "df = pd.DataFrame(columns=['text','label'])\n",
    "folder = ['Budaya','Ekonomi','Entertaiment','Hukum','Kesehatan','Lifestyle',\n",
    "          'Otomotif','Pendidikan','Politik','Sport','Tekno','Wisata']"
   ]
  },
  {
   "cell_type": "code",
   "execution_count": 3,
   "metadata": {},
   "outputs": [],
   "source": [
    "# Fungsi membaca file dari folder\n",
    "def savetodf(all_files,folder,label):\n",
    "  dfn = pd.DataFrame(columns=['text','label'])\n",
    "  for i in range(len(all_files)):\n",
    "    path_txt_file = 'Dataset/'+folder+'/'+all_files[i]\n",
    "    text = pd.read_fwf(path_txt_file, sep='\\n', header=None)[0].str.cat()\n",
    "    dfn.loc[i] = [text,label]\n",
    "  return dfn"
   ]
  },
  {
   "cell_type": "code",
   "execution_count": 4,
   "metadata": {},
   "outputs": [
    {
     "name": "stdout",
     "output_type": "stream",
     "text": [
      "Wall time: 10.5 s\n"
     ]
    }
   ],
   "source": [
    "%%time\n",
    "# Membaca semua data dari semua folder\n",
    "for i in range(len(folder)):\n",
    "  all_files = os.listdir(\"Dataset/\"+folder[i]+\"/\")\n",
    "  label = int(i)\n",
    "  dfX = savetodf(all_files,folder[i],label)\n",
    "  frames = [df, dfX] \n",
    "  df = pd.concat(frames).drop_duplicates().reset_index(drop=True)"
   ]
  },
  {
   "cell_type": "code",
   "execution_count": 8,
   "metadata": {},
   "outputs": [
    {
     "data": {
      "text/html": [
       "<div>\n",
       "<style scoped>\n",
       "    .dataframe tbody tr th:only-of-type {\n",
       "        vertical-align: middle;\n",
       "    }\n",
       "\n",
       "    .dataframe tbody tr th {\n",
       "        vertical-align: top;\n",
       "    }\n",
       "\n",
       "    .dataframe thead th {\n",
       "        text-align: right;\n",
       "    }\n",
       "</style>\n",
       "<table border=\"1\" class=\"dataframe\">\n",
       "  <thead>\n",
       "    <tr style=\"text-align: right;\">\n",
       "      <th></th>\n",
       "      <th>text</th>\n",
       "      <th>label</th>\n",
       "    </tr>\n",
       "  </thead>\n",
       "  <tbody>\n",
       "    <tr>\n",
       "      <td>0</td>\n",
       "      <td>Menpora Dukung Pianis Cilik asal Kendal yang I...</td>\n",
       "      <td>0</td>\n",
       "    </tr>\n",
       "    <tr>\n",
       "      <td>1</td>\n",
       "      <td>10 Festival Unik dari Berbagai Belahan DuniaBe...</td>\n",
       "      <td>0</td>\n",
       "    </tr>\n",
       "    <tr>\n",
       "      <td>2</td>\n",
       "      <td>Merawat Pusaka TionghoaLie kim in. Tjia Gwan S...</td>\n",
       "      <td>0</td>\n",
       "    </tr>\n",
       "    <tr>\n",
       "      <td>3</td>\n",
       "      <td>Ziarah Riwayat Foramadiahi dan Kastela“Semanga...</td>\n",
       "      <td>0</td>\n",
       "    </tr>\n",
       "    <tr>\n",
       "      <td>4</td>\n",
       "      <td>Budaya Indonesia Pudar karena Ulah Kita Sendir...</td>\n",
       "      <td>0</td>\n",
       "    </tr>\n",
       "  </tbody>\n",
       "</table>\n",
       "</div>"
      ],
      "text/plain": [
       "                                                text label\n",
       "0  Menpora Dukung Pianis Cilik asal Kendal yang I...     0\n",
       "1  10 Festival Unik dari Berbagai Belahan DuniaBe...     0\n",
       "2  Merawat Pusaka TionghoaLie kim in. Tjia Gwan S...     0\n",
       "3  Ziarah Riwayat Foramadiahi dan Kastela“Semanga...     0\n",
       "4  Budaya Indonesia Pudar karena Ulah Kita Sendir...     0"
      ]
     },
     "execution_count": 8,
     "metadata": {},
     "output_type": "execute_result"
    }
   ],
   "source": [
    "df.head()"
   ]
  },
  {
   "cell_type": "code",
   "execution_count": null,
   "metadata": {},
   "outputs": [],
   "source": [
    "# Simpan data ke csv\n",
    "df.to_csv (r'D:\\JupyterNotebook\\DataProcess\\raw_data.csv', index = False, header=True)"
   ]
  },
  {
   "cell_type": "code",
   "execution_count": null,
   "metadata": {},
   "outputs": [],
   "source": []
  }
 ],
 "metadata": {
  "kernelspec": {
   "display_name": "Python 3",
   "language": "python",
   "name": "python3"
  },
  "language_info": {
   "codemirror_mode": {
    "name": "ipython",
    "version": 3
   },
   "file_extension": ".py",
   "mimetype": "text/x-python",
   "name": "python",
   "nbconvert_exporter": "python",
   "pygments_lexer": "ipython3",
   "version": "3.7.4"
  }
 },
 "nbformat": 4,
 "nbformat_minor": 2
}
