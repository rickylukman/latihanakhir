{
 "cells": [
  {
   "cell_type": "code",
   "execution_count": 3,
   "metadata": {},
   "outputs": [],
   "source": [
    "import pandas as pd\n",
    "import os\n",
    "import re\n",
    "import pickle\n",
    "import glob"
   ]
  },
  {
   "cell_type": "code",
   "execution_count": 4,
   "metadata": {},
   "outputs": [
    {
     "data": {
      "text/html": [
       "<div>\n",
       "<style scoped>\n",
       "    .dataframe tbody tr th:only-of-type {\n",
       "        vertical-align: middle;\n",
       "    }\n",
       "\n",
       "    .dataframe tbody tr th {\n",
       "        vertical-align: top;\n",
       "    }\n",
       "\n",
       "    .dataframe thead th {\n",
       "        text-align: right;\n",
       "    }\n",
       "</style>\n",
       "<table border=\"1\" class=\"dataframe\">\n",
       "  <thead>\n",
       "    <tr style=\"text-align: right;\">\n",
       "      <th></th>\n",
       "      <th>content</th>\n",
       "      <th>label</th>\n",
       "    </tr>\n",
       "  </thead>\n",
       "  <tbody>\n",
       "    <tr>\n",
       "      <td>0</td>\n",
       "      <td>Liputan6.com, London - Lee Dixon khawatir Arse...</td>\n",
       "      <td>bola</td>\n",
       "    </tr>\n",
       "    <tr>\n",
       "      <td>1</td>\n",
       "      <td>Liputan6.com, Jakarta - Kasus dugaan penganiay...</td>\n",
       "      <td>news</td>\n",
       "    </tr>\n",
       "    <tr>\n",
       "      <td>2</td>\n",
       "      <td>Liputan6.com, Jakarta Menanggapi aksi eks peke...</td>\n",
       "      <td>bisnis</td>\n",
       "    </tr>\n",
       "    <tr>\n",
       "      <td>3</td>\n",
       "      <td>Liputan6.com, Medan - Sebanyak 81 kendaraan 4x...</td>\n",
       "      <td>bola</td>\n",
       "    </tr>\n",
       "    <tr>\n",
       "      <td>4</td>\n",
       "      <td>Liputan6.com, Jakarta Indonesia akan melawan T...</td>\n",
       "      <td>bola</td>\n",
       "    </tr>\n",
       "  </tbody>\n",
       "</table>\n",
       "</div>"
      ],
      "text/plain": [
       "                                             content   label\n",
       "0  Liputan6.com, London - Lee Dixon khawatir Arse...    bola\n",
       "1  Liputan6.com, Jakarta - Kasus dugaan penganiay...    news\n",
       "2  Liputan6.com, Jakarta Menanggapi aksi eks peke...  bisnis\n",
       "3  Liputan6.com, Medan - Sebanyak 81 kendaraan 4x...    bola\n",
       "4  Liputan6.com, Jakarta Indonesia akan melawan T...    bola"
      ]
     },
     "execution_count": 4,
     "metadata": {},
     "output_type": "execute_result"
    }
   ],
   "source": [
    "data_path = 'Dataset/NewData/'\n",
    "files = glob.glob(data_path + '/*')\n",
    "train = pickle.load(open(files[1], 'rb'))\n",
    "test = pickle.load(open(files[0], 'rb'))\n",
    "d_train = pd.DataFrame({'content': train[0], 'label': train[1]})\n",
    "d_test = pd.DataFrame({'content': test[0], 'label': test[1]})\n",
    "d_train.head()"
   ]
  },
  {
   "cell_type": "code",
   "execution_count": 5,
   "metadata": {},
   "outputs": [],
   "source": [
    "bola = pd.DataFrame(data = d_train[d_train['label'] == 'bola'].values\n",
    "                   ,columns = ['text','label'])\n",
    "oto = pd.DataFrame(data = d_train[d_train['label'] == 'otomotif'].values\n",
    "                   ,columns = ['text','label'])\n",
    "tekno = pd.DataFrame(data = d_train[d_train['label'] == 'tekno'].values\n",
    "                   ,columns = ['text','label'])"
   ]
  },
  {
   "cell_type": "code",
   "execution_count": 6,
   "metadata": {},
   "outputs": [
    {
     "name": "stdout",
     "output_type": "stream",
     "text": [
      "(2063, 2) (130, 2) (578, 2)\n"
     ]
    }
   ],
   "source": [
    "print(bola.shape,oto.shape,tekno.shape)"
   ]
  },
  {
   "cell_type": "markdown",
   "metadata": {},
   "source": [
    "# CODE"
   ]
  },
  {
   "cell_type": "code",
   "execution_count": null,
   "metadata": {},
   "outputs": [],
   "source": [
    "df = pd.DataFrame(columns=['text','label'])\n",
    "folder = ['Budaya','Ekonomi','Entertaiment','Hukum','Kesehatan','Lifestyle',\n",
    "          'Otomotif','Pendidikan','Politik','Sport','Tekno','Wisata']"
   ]
  },
  {
   "cell_type": "code",
   "execution_count": null,
   "metadata": {},
   "outputs": [],
   "source": [
    "# Fungsi membaca file dari folder\n",
    "def savetodf(all_files,folder,label):\n",
    "  dfn = pd.DataFrame(columns=['text','label'])\n",
    "  for i in range(len(all_files)):\n",
    "    path_txt_file = 'Dataset/'+folder+'/'+all_files[i]\n",
    "    text = pd.read_fwf(path_txt_file, sep='\\n', header=None)[0].str.cat()\n",
    "    dfn.loc[i] = [text,label]\n",
    "  return dfn"
   ]
  },
  {
   "cell_type": "code",
   "execution_count": null,
   "metadata": {},
   "outputs": [],
   "source": [
    "%%time\n",
    "# Membaca semua data dari semua folder\n",
    "for i in range(len(folder)):\n",
    "  all_files = os.listdir(\"Dataset/\"+folder[i]+\"/\")\n",
    "  label = int(i)\n",
    "  dfX = savetodf(all_files,folder[i],label)\n",
    "  frames = [df, dfX] \n",
    "  df = pd.concat(frames).drop_duplicates().reset_index(drop=True)"
   ]
  },
  {
   "cell_type": "code",
   "execution_count": null,
   "metadata": {},
   "outputs": [],
   "source": [
    "df.head()"
   ]
  },
  {
   "cell_type": "code",
   "execution_count": null,
   "metadata": {},
   "outputs": [],
   "source": [
    "# Simpan data ke csv\n",
    "df.to_csv (r'D:\\JupyterNotebook\\DataProcess\\raw_data.csv', index = False, header=True)"
   ]
  },
  {
   "cell_type": "code",
   "execution_count": null,
   "metadata": {},
   "outputs": [],
   "source": []
  }
 ],
 "metadata": {
  "kernelspec": {
   "display_name": "Python 3",
   "language": "python",
   "name": "python3"
  },
  "language_info": {
   "codemirror_mode": {
    "name": "ipython",
    "version": 3
   },
   "file_extension": ".py",
   "mimetype": "text/x-python",
   "name": "python",
   "nbconvert_exporter": "python",
   "pygments_lexer": "ipython3",
   "version": "3.7.4"
  }
 },
 "nbformat": 4,
 "nbformat_minor": 2
}
